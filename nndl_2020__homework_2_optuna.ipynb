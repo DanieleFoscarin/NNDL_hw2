{
  "nbformat": 4,
  "nbformat_minor": 0,
  "metadata": {
    "colab": {
      "name": "nndl_2020__homework_2.ipynb",
      "provenance": [],
      "collapsed_sections": [],
      "include_colab_link": true
    },
    "kernelspec": {
      "name": "python3",
      "display_name": "Python 3"
    },
    "accelerator": "GPU"
  },
  "cells": [
    {
      "cell_type": "markdown",
      "metadata": {
        "id": "view-in-github",
        "colab_type": "text"
      },
      "source": [
        "<a href=\"https://colab.research.google.com/github/DanieleFoscarin/NNDL_hw2/blob/main/nndl_2020__homework_2_optuna.ipynb\" target=\"_parent\"><img src=\"https://colab.research.google.com/assets/colab-badge.svg\" alt=\"Open In Colab\"/></a>"
      ]
    },
    {
      "cell_type": "markdown",
      "metadata": {
        "id": "zYncZVOyF8Rb"
      },
      "source": [
        "#NEURAL NETWORKS AND DEEP LEARNING\n",
        "> M.Sc. ICT FOR LIFE AND HEALTH\n",
        "> \n",
        "> Department of Information Engineering\n",
        "\n",
        "> M.Sc. COMPUTER ENGINEERING\n",
        ">\n",
        "> Department of Information Engineering\n",
        "\n",
        "> M.Sc. AUTOMATION ENGINEERING\n",
        ">\n",
        "> Department of Information Engineering\n",
        " \n",
        "> M.Sc. PHYSICS OF DATA\n",
        ">\n",
        "> Department of Physics and Astronomy\n",
        " \n",
        "> M.Sc. COGNITIVE NEUROSCIENCE AND CLINICAL NEUROPSYCHOLOGY\n",
        ">\n",
        "> Department of General Psychology\n",
        "\n",
        "---\n",
        "A.A. 2020/21 (6 CFU) - Dr. Alberto Testolin, Dr. Matteo Gadaleta\n",
        "---\n"
      ]
    },
    {
      "cell_type": "markdown",
      "metadata": {
        "id": "AgHJFDwYvgHg"
      },
      "source": [
        "# Homework 2 - Unsupervised Deep Learning"
      ]
    },
    {
      "cell_type": "markdown",
      "metadata": {
        "id": "bNENm7RHGFMd"
      },
      "source": [
        "## General overview\n",
        "In this homework you will learn how to implement and test neural network models for solving unsupervised problems. For simplicity and to allow continuity with the kind of data you have seen before, the homework will be based on images of handwritten digits (MNIST). However, you can optionally explore different image collections (e.g., [Caltech](http://www.vision.caltech.edu/Image_Datasets/Caltech101/) or [Cifar](https://www.cs.toronto.edu/~kriz/cifar.html)) or other datasets based on your interests. The basic tasks for the homework will require to test and analyze the convolutional autoencoder implemented during the Lab practice. If you prefer, you can opt for a fully-connected autoencoder, which should achieve similar performance considering the relatively small size of the MNIST images. As for the previous homework, you should explore the use of advanced optimizers and regularization methods. Learning hyperparameters should be tuned using appropriate search procedures, and final accuracy should be evaluated using a cross-validation setup. More advanced tasks will require the exploration of denoising and variational architectures.\n"
      ]
    },
    {
      "cell_type": "markdown",
      "metadata": {
        "id": "bZGjMokMvk2h"
      },
      "source": [
        "\n",
        "## Technical notes\n",
        "The homework should be implemented in Python using the PyTorch framework. The student can explore additional libraries and tools to implement the models; however, please make sure you understand the code you are writing because during the exam you might receive specific questions related to your implementation. The entire source code required to run the homework must be uploaded as a compressed archive in a Moodle section dedicated to the homework. If your code will be entirely included in a single Python notebook, just upload the notebook file.\n",
        "\n"
      ]
    },
    {
      "cell_type": "markdown",
      "metadata": {
        "id": "UYZUBEMCvlpB"
      },
      "source": [
        "\n",
        "## Final report\n",
        "Along with the source code, you must separately upload a PDF file containing a brief report of your homework. The report should include a brief Introduction on which you explain the homework goals and the main implementation strategies you choose, a brief Method section where you describe your model architectures and hyperparameters, and a Result section where you present the simulation results. Total length must not exceed 6 pages, though you can include additional tables and figures in a final Appendix (optional).\n",
        "\n"
      ]
    },
    {
      "cell_type": "markdown",
      "metadata": {
        "id": "RchPc7G6vmRB"
      },
      "source": [
        "\n",
        "## Grade\n",
        "The maximum grade for this homework will be **8 points**. Points will be assigned based on the correct implementation of the following items:\n",
        "*\t1 pt: implement and test (convolutional) autoencoder, reporting the trend of reconstruction loss and some examples of image reconstruction\n",
        "*\t1 pt: explore advanced optimizers and regularization methods \n",
        "*\t1 pt: optimize hyperparameters using grid/random search and cross-validation\n",
        "*\t1 pt: implement and test denoising (convolutional) autoencoder\n",
        "*\t1 pt: fine-tune the (convolutional) autoencoder using a supervised classification task (you can compare classification accuracy and learning speed with results achieved in homework 1)\n",
        "*\t1 pt: explore the latent space structure (e.g., PCA, t-SNE) and generate new samples from latent codes\n",
        "*\t2 pt: implement variational (convolutional) autoencoder or GAN\n",
        "\n"
      ]
    },
    {
      "cell_type": "markdown",
      "metadata": {
        "id": "LYE6Cjhgvm3B"
      },
      "source": [
        "\n",
        "## Deadline\n",
        "The complete homework (source code + report) must be submitted through Moodle at least 10 days before the chosen exam date."
      ]
    },
    {
      "cell_type": "markdown",
      "metadata": {
        "id": "UCH18n_rC4X9"
      },
      "source": [
        "#################################################################"
      ]
    },
    {
      "cell_type": "code",
      "metadata": {
        "id": "8IxUXikMzEKE"
      },
      "source": [
        "!pip install --quiet optuna\r\n"
      ],
      "execution_count": 46,
      "outputs": []
    },
    {
      "cell_type": "code",
      "metadata": {
        "colab": {
          "base_uri": "https://localhost:8080/"
        },
        "id": "nSqUbbfJC3gG",
        "outputId": "4bc6bfeb-cdd4-4f3a-e19b-badd5a886601"
      },
      "source": [
        "import matplotlib.pyplot as plt # plotting library\r\n",
        "import numpy as np # this module is useful to work with numerical arrays\r\n",
        "import pandas as pd # this module is useful to work with tabular data\r\n",
        "import random # this module will be used to select random samples from a collection\r\n",
        "import os # this module will be used just to create directories in the local filesystem\r\n",
        "from tqdm import tqdm # this module is useful to plot progress bars\r\n",
        "from sklearn.decomposition import PCA\r\n",
        "\r\n",
        "import torch\r\n",
        "import torchvision\r\n",
        "from torchvision import transforms\r\n",
        "from torch.utils.data import Dataset, DataLoader\r\n",
        "from torch import nn\r\n",
        "from torchvision import transforms\r\n",
        "import torchvision\r\n",
        "import optuna\r\n",
        "\r\n",
        "device = torch.device(\"cuda\") if torch.cuda.is_available() else torch.device(\"cpu\")\r\n",
        "print(f\"Training device: {device}\")\r\n",
        "torch.manual_seed(0)"
      ],
      "execution_count": 47,
      "outputs": [
        {
          "output_type": "stream",
          "text": [
            "Training device: cuda\n"
          ],
          "name": "stdout"
        },
        {
          "output_type": "execute_result",
          "data": {
            "text/plain": [
              "<torch._C.Generator at 0x7fc77fafdd68>"
            ]
          },
          "metadata": {
            "tags": []
          },
          "execution_count": 47
        }
      ]
    },
    {
      "cell_type": "markdown",
      "metadata": {
        "id": "pvrUpH2TAXro"
      },
      "source": [
        "\r\n",
        "# PART 0 Preparing the dataset\r\n",
        "\r\n",
        "\r\n",
        "\r\n",
        "\r\n"
      ]
    },
    {
      "cell_type": "markdown",
      "metadata": {
        "id": "cxHnXmGwAzHZ"
      },
      "source": [
        "get notMNIST dataset from repo\r\n",
        "It is the small version"
      ]
    },
    {
      "cell_type": "code",
      "metadata": {
        "colab": {
          "base_uri": "https://localhost:8080/"
        },
        "id": "I1CDXwDpA6rg",
        "outputId": "97746d35-4c2e-4599-bdfd-2581cabc36ce"
      },
      "source": [
        "! git clone https://github.com/DanieleFoscarin/NNDL_hw2.git"
      ],
      "execution_count": 50,
      "outputs": [
        {
          "output_type": "stream",
          "text": [
            "fatal: destination path 'NNDL_hw2' already exists and is not an empty directory.\n"
          ],
          "name": "stdout"
        }
      ]
    },
    {
      "cell_type": "code",
      "metadata": {
        "id": "G6knS0bSBdMu"
      },
      "source": [
        "! tar xzf  /content/NNDL_hw2/notMNIST_small.tar.gz"
      ],
      "execution_count": 49,
      "outputs": []
    },
    {
      "cell_type": "markdown",
      "metadata": {
        "id": "EsZmbj_z0y_2"
      },
      "source": [
        "Read the folders"
      ]
    },
    {
      "cell_type": "code",
      "metadata": {
        "colab": {
          "base_uri": "https://localhost:8080/"
        },
        "id": "D1-8FGfPDdg9",
        "outputId": "2e34ffb0-e871-41b4-fff4-e8f94ad8b9b7"
      },
      "source": [
        "ROOT = '/content/notMNIST_small' \r\n",
        "from pathlib import Path\r\n",
        "from PIL import Image\r\n",
        "import numpy as np\r\n",
        "from sklearn.model_selection import train_test_split\r\n",
        "\r\n",
        "images = []\r\n",
        "labels = []\r\n",
        "\r\n",
        "#there are few broken files that cannot be read\r\n",
        "#not a big problem since they are 5 over 500k\r\n",
        "num_label = 0\r\n",
        "for folder in sorted(Path(ROOT).iterdir()):\r\n",
        "  print(folder)\r\n",
        "  for f in folder.iterdir():\r\n",
        "    try:     \r\n",
        "      img = Image.open(f)\r\n",
        "      img_array = np.asarray(img)\r\n",
        "      images.append(img_array)\r\n",
        "      labels.append(num_label)\r\n",
        "    except:\r\n",
        "      print(\"a file was not recognized\")\r\n",
        "  num_label+=1\r\n",
        "\r\n",
        "\r\n",
        "images_arr = np.float32(np.array(images))\r\n",
        "labels_arr = np.float32(np.array(labels))\r\n",
        "\r\n",
        "#normalize images range\r\n",
        "images_arr = images_arr/255\r\n",
        "\r\n",
        "#free up some memory\r\n",
        "del images"
      ],
      "execution_count": 52,
      "outputs": [
        {
          "output_type": "stream",
          "text": [
            "/content/notMNIST_small/A\n",
            "a file was not recognized\n",
            "/content/notMNIST_small/B\n",
            "/content/notMNIST_small/C\n",
            "/content/notMNIST_small/D\n",
            "/content/notMNIST_small/E\n",
            "/content/notMNIST_small/F\n",
            "a file was not recognized\n",
            "/content/notMNIST_small/G\n",
            "/content/notMNIST_small/H\n",
            "/content/notMNIST_small/I\n",
            "/content/notMNIST_small/J\n"
          ],
          "name": "stdout"
        }
      ]
    },
    {
      "cell_type": "markdown",
      "metadata": {
        "id": "NPxGrzg8fiW8"
      },
      "source": [
        "Dictionary for easy interpreation of the labels"
      ]
    },
    {
      "cell_type": "code",
      "metadata": {
        "id": "kSRwqa25PdT7"
      },
      "source": [
        "letter = {0: 'A', 1:'B', 2:'C', 3:'D', 4:'E', 5:'F', 6:'G', 7:'H', 8:'I', 9:'J'}\r\n",
        "# print(letter[6])"
      ],
      "execution_count": 53,
      "outputs": []
    },
    {
      "cell_type": "code",
      "metadata": {
        "colab": {
          "base_uri": "https://localhost:8080/"
        },
        "id": "AMZxI7zAnYfV",
        "outputId": "ea84c7da-b21c-4b2e-edc9-f3175346aa64"
      },
      "source": [
        "### Set the random seed for reproducible results\r\n",
        "torch.manual_seed(0)"
      ],
      "execution_count": 54,
      "outputs": [
        {
          "output_type": "execute_result",
          "data": {
            "text/plain": [
              "<torch._C.Generator at 0x7fc77fafdd68>"
            ]
          },
          "metadata": {
            "tags": []
          },
          "execution_count": 54
        }
      ]
    },
    {
      "cell_type": "markdown",
      "metadata": {
        "id": "MUU0ZvfE03GC"
      },
      "source": [
        "Extend class Dataset"
      ]
    },
    {
      "cell_type": "code",
      "metadata": {
        "id": "f-XaJMG6NCDB",
        "colab": {
          "base_uri": "https://localhost:8080/"
        },
        "outputId": "61ee18c4-17ba-4df8-908c-b21d076ed213"
      },
      "source": [
        "class NMDataset(Dataset):\r\n",
        "\r\n",
        "    def __init__(self, image, label, transform=None):\r\n",
        "        self.transform = transform\r\n",
        "        self.image = image\r\n",
        "        self.label = label\r\n",
        "\r\n",
        "    def __len__(self):\r\n",
        "        return len(self.image)\r\n",
        "\r\n",
        "    def __getitem__(self, idx):\r\n",
        "        #return a nparray from the dataframe\r\n",
        "        this_image = self.image[idx]\r\n",
        "        this_label = self.label[idx]\r\n",
        "        sample = [this_image, this_label]\r\n",
        "        if self.transform:\r\n",
        "            sample[0] = self.transform(sample[0])\r\n",
        "        return sample\r\n",
        "\r\n",
        "\r\n",
        "    class ToTensor(object):\r\n",
        "        \"\"\"Convert sample to Tensors.\"\"\"\r\n",
        "\r\n",
        "        def __call__(self, sample):\r\n",
        "            x, y = sample\r\n",
        "            return (torch.tensor([x]).float(),\r\n",
        "                    torch.tensor([y]).float())\r\n",
        "\r\n",
        "to_tensor = torchvision.transforms.ToTensor()   \r\n",
        "# composed_transform = transforms.Compose([ToTensor()])\r\n",
        "dataset = NMDataset(images_arr, labels_arr, transform=to_tensor)\r\n",
        "\r\n",
        "#check correctness\r\n",
        "out = dataset.__getitem__(0)\r\n",
        "print(labels_arr[0])\r\n"
      ],
      "execution_count": 55,
      "outputs": [
        {
          "output_type": "stream",
          "text": [
            "0.0\n"
          ],
          "name": "stdout"
        }
      ]
    },
    {
      "cell_type": "markdown",
      "metadata": {
        "id": "ygKFewCWX7eS"
      },
      "source": [
        "Split dataset in train, validation, test"
      ]
    },
    {
      "cell_type": "code",
      "metadata": {
        "colab": {
          "base_uri": "https://localhost:8080/"
        },
        "id": "1AiWkPiRYCsT",
        "outputId": "9fb4bba6-83b2-43a5-8dab-69d77561a073"
      },
      "source": [
        "length = dataset.__len__()\r\n",
        "testval_size = int(np.ceil(length*0.4))\r\n",
        "train_size = int(length-testval_size)\r\n",
        "train_dataset, test_dataset = torch.utils.data.random_split(dataset, [train_size, testval_size])\r\n",
        "\r\n",
        "test_size = int(np.ceil(test_dataset.__len__()*0.5))\r\n",
        "val_size = int(test_dataset.__len__()-test_size)\r\n",
        "test_dataset, val_dataset = torch.utils.data.random_split(test_dataset, [test_size, val_size])\r\n",
        "\r\n",
        "print(f\"train_dataset length {train_dataset.__len__()}\")\r\n",
        "print(f\"val_dataset length {val_dataset.__len__()}\")\r\n",
        "print(f\"test_dataset length {test_dataset.__len__()}\")\r\n",
        "# train_dataset, val_dataset, test_dataset = torch.utils.data.random_split(dataset, [train_size, val_size, test_size])"
      ],
      "execution_count": 56,
      "outputs": [
        {
          "output_type": "stream",
          "text": [
            "train_dataset length 11234\n",
            "val_dataset length 3745\n",
            "test_dataset length 3745\n"
          ],
          "name": "stdout"
        }
      ]
    },
    {
      "cell_type": "markdown",
      "metadata": {
        "id": "hCgWqC4Vhdkt"
      },
      "source": [
        "Show example of the dataset"
      ]
    },
    {
      "cell_type": "code",
      "metadata": {
        "colab": {
          "base_uri": "https://localhost:8080/",
          "height": 585
        },
        "id": "JLBLLpOvgwPy",
        "outputId": "b46766ce-7b09-4763-92ca-5899c3c9e673"
      },
      "source": [
        "fig, axs = plt.subplots(5, 5, figsize=(8,8))\r\n",
        "for ax in axs.flatten():\r\n",
        "    img, label = random.choice(test_dataset)\r\n",
        "    img = img.numpy().squeeze()\r\n",
        "    ax.imshow(np.array(img), cmap='gray_r')\r\n",
        "    ax.set_title(f'Label:{letter[label]}' )\r\n",
        "    ax.set_xticks([])\r\n",
        "    ax.set_yticks([])\r\n",
        "plt.tight_layout()"
      ],
      "execution_count": 58,
      "outputs": [
        {
          "output_type": "display_data",
          "data": {
            "image/png": "[encoded data removed]",
            "text/plain": [
              "<Figure size 576x576 with 25 Axes>"
            ]
          },
          "metadata": {
            "tags": []
          }
        }
      ]
    },
    {
      "cell_type": "markdown",
      "metadata": {
        "id": "hR-CT5F5hrw6"
      },
      "source": [
        "# Autoencoder Model Classes"
      ]
    },
    {
      "cell_type": "code",
      "metadata": {
        "id": "y1KtmbFYQC8V"
      },
      "source": [
        "# train_dataloader = DataLoader(train_dataset, batch_size=batch_size, shuffle=True)\r\n",
        "# val_dataloader = DataLoader(val_dataset, batch_size=batch_size, shuffle=True)\r\n",
        "# test_dataloader = DataLoader(test_dataset, batch_size=batch_size, shuffle=False)"
      ],
      "execution_count": 59,
      "outputs": []
    },
    {
      "cell_type": "markdown",
      "metadata": {
        "id": "WXz2LyfsiCF6"
      },
      "source": [
        "same as the lab for now"
      ]
    },
    {
      "cell_type": "code",
      "metadata": {
        "id": "eya1AL_dhv3C"
      },
      "source": [
        "class Encoder(nn.Module):\r\n",
        "    \r\n",
        "    def __init__(self, encoded_space_dim):\r\n",
        "        super().__init__()\r\n",
        "        \r\n",
        "        ### Convolutional section\r\n",
        "        self.encoder_cnn = nn.Sequential(\r\n",
        "            # First convolutional layer\r\n",
        "            nn.Conv2d(1, 8, 3, stride=2, padding=1),\r\n",
        "            nn.ReLU(True),\r\n",
        "            # Second convolutional layer\r\n",
        "            nn.Conv2d(8, 16, 3, stride=2, padding=1),\r\n",
        "            nn.ReLU(True),\r\n",
        "            # Third convolutional layer\r\n",
        "            nn.Conv2d(16, 32, 3, stride=2, padding=0),\r\n",
        "            nn.ReLU(True)\r\n",
        "        )\r\n",
        "        \r\n",
        "        ### Flatten layer\r\n",
        "        self.flatten = nn.Flatten(start_dim=1)\r\n",
        "\r\n",
        "        ### Linear section\r\n",
        "        self.encoder_lin = nn.Sequential(\r\n",
        "            # First linear layer\r\n",
        "            nn.Linear(3 * 3 * 32, 64),\r\n",
        "            nn.ReLU(True),\r\n",
        "            # Second linear layer\r\n",
        "            nn.Linear(64, encoded_space_dim)\r\n",
        "        )\r\n",
        "        \r\n",
        "    def forward(self, x):\r\n",
        "        # Apply convolutions\r\n",
        "        x = self.encoder_cnn(x)\r\n",
        "        # Flatten\r\n",
        "        x = self.flatten(x)\r\n",
        "        # # Apply linear layers\r\n",
        "        x = self.encoder_lin(x)\r\n",
        "        return x"
      ],
      "execution_count": 60,
      "outputs": []
    },
    {
      "cell_type": "code",
      "metadata": {
        "id": "va2ppZQJh-sr"
      },
      "source": [
        "class Decoder(nn.Module):\r\n",
        "    \r\n",
        "    def __init__(self, encoded_space_dim):\r\n",
        "        super().__init__()\r\n",
        "\r\n",
        "        ### Linear section\r\n",
        "        self.decoder_lin = nn.Sequential(\r\n",
        "            # First linear layer\r\n",
        "            nn.Linear(encoded_space_dim, 64),\r\n",
        "            nn.ReLU(True),\r\n",
        "            # Second linear layer\r\n",
        "            nn.Linear(64, 3 * 3 * 32),\r\n",
        "            nn.ReLU(True)\r\n",
        "        )\r\n",
        "\r\n",
        "        ### Unflatten\r\n",
        "        self.unflatten = nn.Unflatten(dim=1, unflattened_size=(32, 3, 3))\r\n",
        "\r\n",
        "        ### Convolutional section\r\n",
        "        self.decoder_conv = nn.Sequential(\r\n",
        "            # First transposed convolution\r\n",
        "            nn.ConvTranspose2d(32, 16, 3, stride=2, output_padding=0),\r\n",
        "            nn.ReLU(True),\r\n",
        "            # Second transposed convolution\r\n",
        "            nn.ConvTranspose2d(16, 8, 3, stride=2, padding=1, output_padding=1),\r\n",
        "            nn.ReLU(True),\r\n",
        "            # Third transposed convolution\r\n",
        "            nn.ConvTranspose2d(8, 1, 3, stride=2, padding=1, output_padding=1)\r\n",
        "        )\r\n",
        "        \r\n",
        "    def forward(self, x):\r\n",
        "        # Apply linear layers\r\n",
        "        x = self.decoder_lin(x)\r\n",
        "        # Unflatten\r\n",
        "        x = self.unflatten(x)\r\n",
        "        # Apply transposed convolutions\r\n",
        "        x = self.decoder_conv(x)\r\n",
        "        # Apply a sigmoid to force the output to be between 0 and 1 (valid pixel values)\r\n",
        "        x = torch.sigmoid(x)\r\n",
        "        return x"
      ],
      "execution_count": 61,
      "outputs": []
    },
    {
      "cell_type": "markdown",
      "metadata": {
        "id": "qvvWro5dlFK9"
      },
      "source": [
        "# Training preparation"
      ]
    },
    {
      "cell_type": "markdown",
      "metadata": {
        "id": "nZdQT8d0j5j-"
      },
      "source": [
        "function for a single epoch training"
      ]
    },
    {
      "cell_type": "code",
      "metadata": {
        "id": "9AKSJlh6j033"
      },
      "source": [
        "### Training function\r\n",
        "def train_epoch(encoder, decoder, device, dataloader, loss_fn, optimizer):\r\n",
        "    # Set train mode for both the encoder and the decoder\r\n",
        "    encoder.train()\r\n",
        "    decoder.train()\r\n",
        "    # Iterate the dataloader (we do not need the label values, this is unsupervised learning)\r\n",
        "    for image_batch, _ in dataloader: # with \"_\" we just ignore the labels (the second element of the dataloader tuple)\r\n",
        "        # Move tensor to the proper device\r\n",
        "        image_batch = image_batch.to(device)\r\n",
        "        # Encode data\r\n",
        "        encoded_data = encoder(image_batch)\r\n",
        "        # Decode data\r\n",
        "        decoded_data = decoder(encoded_data)\r\n",
        "        # Evaluate loss\r\n",
        "        loss = loss_fn(decoded_data, image_batch)\r\n",
        "        # Backward pass\r\n",
        "        optimizer.zero_grad()\r\n",
        "        loss.backward()\r\n",
        "        optimizer.step()\r\n",
        "        # Print batch loss\r\n",
        "        # print('\\t partial train loss (single batch): %f' % (loss.data))\r\n",
        "    \r\n",
        "    return loss.data"
      ],
      "execution_count": 62,
      "outputs": []
    },
    {
      "cell_type": "markdown",
      "metadata": {
        "id": "t-GgdXL8j-CF"
      },
      "source": [
        "function for a single epoch inference"
      ]
    },
    {
      "cell_type": "code",
      "metadata": {
        "id": "23dwWwx8kA9l"
      },
      "source": [
        "### Testing function\r\n",
        "def test_epoch(encoder, decoder, device, dataloader, loss_fn):\r\n",
        "    # Set evaluation mode for encoder and decoder\r\n",
        "    encoder.eval()\r\n",
        "    decoder.eval()\r\n",
        "    with torch.no_grad(): # No need to track the gradients\r\n",
        "        # Define the lists to store the outputs for each batch\r\n",
        "        conc_out = []\r\n",
        "        conc_label = []\r\n",
        "        for image_batch, _ in dataloader:\r\n",
        "            # Move tensor to the proper device\r\n",
        "            image_batch = image_batch.to(device)\r\n",
        "            # Encode data\r\n",
        "            encoded_data = encoder(image_batch)\r\n",
        "            # Decode data\r\n",
        "            decoded_data = decoder(encoded_data)\r\n",
        "            # Append the network output and the original image to the lists\r\n",
        "            conc_out.append(decoded_data.cpu())\r\n",
        "            conc_label.append(image_batch.cpu())\r\n",
        "        # Create a single tensor with all the values in the lists\r\n",
        "        conc_out = torch.cat(conc_out)\r\n",
        "        conc_label = torch.cat(conc_label) \r\n",
        "        # Evaluate global loss\r\n",
        "        val_loss = loss_fn(conc_out, conc_label)\r\n",
        "    return val_loss.data"
      ],
      "execution_count": 63,
      "outputs": []
    },
    {
      "cell_type": "code",
      "metadata": {
        "id": "KYSAZjEgREAn"
      },
      "source": [
        "\r\n",
        "# img, label = test_dataset[0]\r\n",
        "# print(np.shape(img))\r\n",
        "# print(letter[label])"
      ],
      "execution_count": 64,
      "outputs": []
    },
    {
      "cell_type": "markdown",
      "metadata": {
        "id": "BEivTwa_OvR_"
      },
      "source": [
        "# Optimized Search with Optuna"
      ]
    },
    {
      "cell_type": "markdown",
      "metadata": {
        "id": "RUJJG8lr1Zpl"
      },
      "source": [
        "Optuna objective function\r\n",
        "\r\n",
        "we need to put the training loop in the level of the objective function, and not as another function, in order to have a functioning trial.report used for pruning"
      ]
    },
    {
      "cell_type": "code",
      "metadata": {
        "id": "5mGS6Aix1eEO"
      },
      "source": [
        "def objective(trial):\r\n",
        "    encoded_space_dim = trial.suggest_int('encoded_space_dim', 2,4)\r\n",
        "    # batch_size = trial.suggest_categorical('batch_size', [256,512,1024])\r\n",
        "    batch_size = trial.suggest_int('batch_size', 200, 1000)\r\n",
        "    \r\n",
        "    #make dataloaders\r\n",
        "    train_dataloader = DataLoader(train_dataset, batch_size=batch_size, shuffle=True)\r\n",
        "    val_dataloader = DataLoader(val_dataset, batch_size=batch_size, shuffle=True)\r\n",
        "\r\n",
        "    # initialize models\r\n",
        "    encoder = Encoder(encoded_space_dim=encoded_space_dim)\r\n",
        "    decoder = Decoder(encoded_space_dim=encoded_space_dim)\r\n",
        "\r\n",
        "    ### Define the loss function\r\n",
        "    loss_fn = torch.nn.MSELoss()\r\n",
        "\r\n",
        "    ### Define an optimizer (both for the encoder and the decoder!)\r\n",
        "    lr = trial.suggest_loguniform('lr', 1e-4, 1e-1)\r\n",
        "    params_to_optimize = [\r\n",
        "        {'params': encoder.parameters()},\r\n",
        "        {'params': decoder.parameters()}\r\n",
        "    ]\r\n",
        "    optim = torch.optim.Adam(params_to_optimize, lr=lr, weight_decay=1e-5)\r\n",
        "\r\n",
        "\r\n",
        "    # Move both the encoder and the decoder to the selected device\r\n",
        "    encoder.to(device)\r\n",
        "    decoder.to(device)\r\n",
        "\r\n",
        "\r\n",
        "    # Training Loop\r\n",
        "    display = False\r\n",
        "    num_epochs = 50\r\n",
        "\r\n",
        "    train_loss_record = []\r\n",
        "    val_loss_record = []\r\n",
        "    for epoch in range(num_epochs):\r\n",
        "        \r\n",
        "        print('EPOCH: %d/%d' % (epoch + 1, num_epochs))\r\n",
        "\r\n",
        "        train_loss_batch_record = []\r\n",
        "        val_loss_batch_record = []\r\n",
        "        ### Training (use the training function)\r\n",
        "        train_loss_batch = train_epoch(\r\n",
        "            encoder=encoder, \r\n",
        "            decoder=decoder, \r\n",
        "            device=device, \r\n",
        "            dataloader=train_dataloader, \r\n",
        "            loss_fn=loss_fn, \r\n",
        "            optimizer=optim)\r\n",
        "        train_loss_batch_record.append(train_loss_batch)\r\n",
        "        ### Validation  (use the testing function)\r\n",
        "        val_loss_batch = test_epoch(\r\n",
        "            encoder=encoder, \r\n",
        "            decoder=decoder, \r\n",
        "            device=device, \r\n",
        "            dataloader=val_dataloader, \r\n",
        "            loss_fn=loss_fn)\r\n",
        "        val_loss_batch_record.append(val_loss_batch)\r\n",
        "        if display:\r\n",
        "        # Print Validationloss\r\n",
        "            print('\\n\\n\\t TRAINING - EPOCH %d/%d - loss: %f\\n\\n' % (epoch + 1, num_epochs, \r\n",
        "                                                                    sum(train_loss_batch_record)/len(train_loss_batch_record)))\r\n",
        "            print('\\n\\n\\t VALIDATION - EPOCH %d/%d - loss: %f\\n\\n' % (epoch + 1, num_epochs, val_loss_batch))\r\n",
        "\r\n",
        "        #store losses for this epoch\r\n",
        "        train_loss_record.append(sum(train_loss_batch_record)/len(train_loss_batch_record))\r\n",
        "        val_loss_record.append(sum(val_loss_batch_record)/len(val_loss_batch_record))\r\n",
        "\r\n",
        "        if display:\r\n",
        "            ### Plot progress\r\n",
        "            # Get the output of a specific image (the test image at index 0 in this case)\r\n",
        "            img = test_dataset[0][0].unsqueeze(0).to(device)\r\n",
        "            encoder.eval()\r\n",
        "            decoder.eval()\r\n",
        "            with torch.no_grad():\r\n",
        "                rec_img  = decoder(encoder(img))\r\n",
        "            # Plot the reconstructed image\r\n",
        "            fig, axs = plt.subplots(1, 2, figsize=(6,3))\r\n",
        "            axs[0].imshow(img.cpu().squeeze().numpy(), cmap='gray_r')\r\n",
        "            axs[0].set_title('Original image')\r\n",
        "            axs[1].imshow(rec_img.cpu().squeeze().numpy(), cmap='gray_r')\r\n",
        "            axs[1].set_title('Reconstructed image (EPOCH %d)' % (epoch + 1))\r\n",
        "            plt.tight_layout()\r\n",
        "            plt.pause(0.1)\r\n",
        "\r\n",
        "\r\n",
        "        # call back optuna for pruning\r\n",
        "        trial.report(sum(val_loss_batch_record)/len(val_loss_batch_record), epoch)\r\n",
        "        if trial.should_prune():\r\n",
        "            raise optuna.TrialPruned()\r\n",
        "        #end of training loop\r\n",
        "    \r\n",
        "    final_val_loss = val_loss_record[-1]\r\n",
        "    \r\n",
        "\r\n",
        "    \r\n",
        "    return final_val_loss"
      ],
      "execution_count": 101,
      "outputs": []
    },
    {
      "cell_type": "code",
      "metadata": {
        "colab": {
          "base_uri": "https://localhost:8080/"
        },
        "id": "Ki0ZfMrm3rZz",
        "outputId": "86999094-ebb5-4fda-9f2f-cc4d2750948c"
      },
      "source": [
        "study = optuna.create_study(direction='minimize', \r\n",
        "                            pruner=optuna.pruners.MedianPruner(\r\n",
        "                                n_startup_trials=5, n_warmup_steps=5, interval_steps=1))\r\n",
        "study.optimize(objective, n_trials=40)\r\n",
        "\r\n",
        "trial = study.best_trial\r\n",
        "print('val Loss: {}'.format(trial.value))\r\n",
        "print(f\"Best hyperparameters: {trial.params}\")"
      ],
      "execution_count": 102,
      "outputs": [
        {
          "output_type": "stream",
          "text": [
            "\u001b[32m[I 2020-12-17 21:33:42,042]\u001b[0m A new study created in memory with name: no-name-4bf0a8ee-0241-43de-b077-51487c93bec0\u001b[0m\n"
          ],
          "name": "stderr"
        },
        {
          "output_type": "stream",
          "text": [
            "EPOCH: 1/50\n",
            "EPOCH: 2/50\n",
            "EPOCH: 3/50\n",
            "EPOCH: 4/50\n",
            "EPOCH: 5/50\n",
            "EPOCH: 6/50\n",
            "EPOCH: 7/50\n",
            "EPOCH: 8/50\n",
            "EPOCH: 9/50\n",
            "EPOCH: 10/50\n",
            "EPOCH: 11/50\n",
            "EPOCH: 12/50\n",
            "EPOCH: 13/50\n",
            "EPOCH: 14/50\n",
            "EPOCH: 15/50\n",
            "EPOCH: 16/50\n",
            "EPOCH: 17/50\n",
            "EPOCH: 18/50\n",
            "EPOCH: 19/50\n",
            "EPOCH: 20/50\n",
            "EPOCH: 21/50\n",
            "EPOCH: 22/50\n",
            "EPOCH: 23/50\n",
            "EPOCH: 24/50\n",
            "EPOCH: 25/50\n",
            "EPOCH: 26/50\n",
            "EPOCH: 27/50\n",
            "EPOCH: 28/50\n",
            "EPOCH: 29/50\n",
            "EPOCH: 30/50\n",
            "EPOCH: 31/50\n",
            "EPOCH: 32/50\n",
            "EPOCH: 33/50\n",
            "EPOCH: 34/50\n",
            "EPOCH: 35/50\n",
            "EPOCH: 36/50\n",
            "EPOCH: 37/50\n",
            "EPOCH: 38/50\n",
            "EPOCH: 39/50\n",
            "EPOCH: 40/50\n",
            "EPOCH: 41/50\n",
            "EPOCH: 42/50\n",
            "EPOCH: 43/50\n",
            "EPOCH: 44/50\n",
            "EPOCH: 45/50\n",
            "EPOCH: 46/50\n",
            "EPOCH: 47/50\n",
            "EPOCH: 48/50\n",
            "EPOCH: 49/50\n",
            "EPOCH: 50/50\n"
          ],
          "name": "stdout"
        },
        {
          "output_type": "stream",
          "text": [
            "\u001b[32m[I 2020-12-17 21:34:50,413]\u001b[0m Trial 0 finished with value: 0.060396406799554825 and parameters: {'encoded_space_dim': 4, 'batch_size': 915, 'lr': 0.02753233629863962}. Best is trial 0 with value: 0.060396406799554825.\u001b[0m\n"
          ],
          "name": "stderr"
        },
        {
          "output_type": "stream",
          "text": [
            "EPOCH: 1/50\n",
            "EPOCH: 2/50\n",
            "EPOCH: 3/50\n",
            "EPOCH: 4/50\n",
            "EPOCH: 5/50\n",
            "EPOCH: 6/50\n",
            "EPOCH: 7/50\n",
            "EPOCH: 8/50\n",
            "EPOCH: 9/50\n",
            "EPOCH: 10/50\n",
            "EPOCH: 11/50\n",
            "EPOCH: 12/50\n",
            "EPOCH: 13/50\n",
            "EPOCH: 14/50\n",
            "EPOCH: 15/50\n",
            "EPOCH: 16/50\n",
            "EPOCH: 17/50\n",
            "EPOCH: 18/50\n",
            "EPOCH: 19/50\n",
            "EPOCH: 20/50\n",
            "EPOCH: 21/50\n",
            "EPOCH: 22/50\n",
            "EPOCH: 23/50\n",
            "EPOCH: 24/50\n",
            "EPOCH: 25/50\n",
            "EPOCH: 26/50\n",
            "EPOCH: 27/50\n",
            "EPOCH: 28/50\n",
            "EPOCH: 29/50\n",
            "EPOCH: 30/50\n",
            "EPOCH: 31/50\n",
            "EPOCH: 32/50\n",
            "EPOCH: 33/50\n",
            "EPOCH: 34/50\n",
            "EPOCH: 35/50\n",
            "EPOCH: 36/50\n",
            "EPOCH: 37/50\n",
            "EPOCH: 38/50\n",
            "EPOCH: 39/50\n",
            "EPOCH: 40/50\n",
            "EPOCH: 41/50\n",
            "EPOCH: 42/50\n",
            "EPOCH: 43/50\n",
            "EPOCH: 44/50\n",
            "EPOCH: 45/50\n",
            "EPOCH: 46/50\n",
            "EPOCH: 47/50\n",
            "EPOCH: 48/50\n",
            "EPOCH: 49/50\n",
            "EPOCH: 50/50\n"
          ],
          "name": "stdout"
        },
        {
          "output_type": "stream",
          "text": [
            "\u001b[32m[I 2020-12-17 21:36:03,582]\u001b[0m Trial 1 finished with value: 0.05813058093190193 and parameters: {'encoded_space_dim': 4, 'batch_size': 344, 'lr': 0.0033968441218981556}. Best is trial 1 with value: 0.05813058093190193.\u001b[0m\n"
          ],
          "name": "stderr"
        },
        {
          "output_type": "stream",
          "text": [
            "EPOCH: 1/50\n",
            "EPOCH: 2/50\n",
            "EPOCH: 3/50\n",
            "EPOCH: 4/50\n",
            "EPOCH: 5/50\n",
            "EPOCH: 6/50\n",
            "EPOCH: 7/50\n",
            "EPOCH: 8/50\n",
            "EPOCH: 9/50\n",
            "EPOCH: 10/50\n",
            "EPOCH: 11/50\n",
            "EPOCH: 12/50\n",
            "EPOCH: 13/50\n",
            "EPOCH: 14/50\n",
            "EPOCH: 15/50\n",
            "EPOCH: 16/50\n",
            "EPOCH: 17/50\n",
            "EPOCH: 18/50\n",
            "EPOCH: 19/50\n",
            "EPOCH: 20/50\n",
            "EPOCH: 21/50\n",
            "EPOCH: 22/50\n",
            "EPOCH: 23/50\n",
            "EPOCH: 24/50\n",
            "EPOCH: 25/50\n",
            "EPOCH: 26/50\n",
            "EPOCH: 27/50\n",
            "EPOCH: 28/50\n",
            "EPOCH: 29/50\n",
            "EPOCH: 30/50\n",
            "EPOCH: 31/50\n",
            "EPOCH: 32/50\n",
            "EPOCH: 33/50\n",
            "EPOCH: 34/50\n",
            "EPOCH: 35/50\n",
            "EPOCH: 36/50\n",
            "EPOCH: 37/50\n",
            "EPOCH: 38/50\n",
            "EPOCH: 39/50\n",
            "EPOCH: 40/50\n",
            "EPOCH: 41/50\n",
            "EPOCH: 42/50\n",
            "EPOCH: 43/50\n",
            "EPOCH: 44/50\n",
            "EPOCH: 45/50\n",
            "EPOCH: 46/50\n",
            "EPOCH: 47/50\n",
            "EPOCH: 48/50\n",
            "EPOCH: 49/50\n",
            "EPOCH: 50/50\n"
          ],
          "name": "stdout"
        },
        {
          "output_type": "stream",
          "text": [
            "\u001b[32m[I 2020-12-17 21:37:11,069]\u001b[0m Trial 2 finished with value: 0.19574564695358276 and parameters: {'encoded_space_dim': 2, 'batch_size': 827, 'lr': 0.0752829982290068}. Best is trial 1 with value: 0.05813058093190193.\u001b[0m\n"
          ],
          "name": "stderr"
        },
        {
          "output_type": "stream",
          "text": [
            "EPOCH: 1/50\n",
            "EPOCH: 2/50\n",
            "EPOCH: 3/50\n",
            "EPOCH: 4/50\n",
            "EPOCH: 5/50\n",
            "EPOCH: 6/50\n",
            "EPOCH: 7/50\n",
            "EPOCH: 8/50\n",
            "EPOCH: 9/50\n",
            "EPOCH: 10/50\n",
            "EPOCH: 11/50\n",
            "EPOCH: 12/50\n",
            "EPOCH: 13/50\n",
            "EPOCH: 14/50\n",
            "EPOCH: 15/50\n",
            "EPOCH: 16/50\n",
            "EPOCH: 17/50\n",
            "EPOCH: 18/50\n",
            "EPOCH: 19/50\n",
            "EPOCH: 20/50\n",
            "EPOCH: 21/50\n",
            "EPOCH: 22/50\n",
            "EPOCH: 23/50\n",
            "EPOCH: 24/50\n",
            "EPOCH: 25/50\n",
            "EPOCH: 26/50\n",
            "EPOCH: 27/50\n",
            "EPOCH: 28/50\n",
            "EPOCH: 29/50\n",
            "EPOCH: 30/50\n",
            "EPOCH: 31/50\n",
            "EPOCH: 32/50\n",
            "EPOCH: 33/50\n",
            "EPOCH: 34/50\n",
            "EPOCH: 35/50\n",
            "EPOCH: 36/50\n",
            "EPOCH: 37/50\n",
            "EPOCH: 38/50\n",
            "EPOCH: 39/50\n",
            "EPOCH: 40/50\n",
            "EPOCH: 41/50\n",
            "EPOCH: 42/50\n",
            "EPOCH: 43/50\n",
            "EPOCH: 44/50\n",
            "EPOCH: 45/50\n",
            "EPOCH: 46/50\n",
            "EPOCH: 47/50\n",
            "EPOCH: 48/50\n",
            "EPOCH: 49/50\n",
            "EPOCH: 50/50\n"
          ],
          "name": "stdout"
        },
        {
          "output_type": "stream",
          "text": [
            "\u001b[32m[I 2020-12-17 21:38:18,135]\u001b[0m Trial 3 finished with value: 0.09840115159749985 and parameters: {'encoded_space_dim': 4, 'batch_size': 995, 'lr': 0.00019691144380747428}. Best is trial 1 with value: 0.05813058093190193.\u001b[0m\n"
          ],
          "name": "stderr"
        },
        {
          "output_type": "stream",
          "text": [
            "EPOCH: 1/50\n",
            "EPOCH: 2/50\n",
            "EPOCH: 3/50\n",
            "EPOCH: 4/50\n",
            "EPOCH: 5/50\n",
            "EPOCH: 6/50\n",
            "EPOCH: 7/50\n",
            "EPOCH: 8/50\n",
            "EPOCH: 9/50\n",
            "EPOCH: 10/50\n",
            "EPOCH: 11/50\n",
            "EPOCH: 12/50\n",
            "EPOCH: 13/50\n",
            "EPOCH: 14/50\n",
            "EPOCH: 15/50\n",
            "EPOCH: 16/50\n",
            "EPOCH: 17/50\n",
            "EPOCH: 18/50\n",
            "EPOCH: 19/50\n",
            "EPOCH: 20/50\n",
            "EPOCH: 21/50\n",
            "EPOCH: 22/50\n",
            "EPOCH: 23/50\n",
            "EPOCH: 24/50\n",
            "EPOCH: 25/50\n",
            "EPOCH: 26/50\n",
            "EPOCH: 27/50\n",
            "EPOCH: 28/50\n",
            "EPOCH: 29/50\n",
            "EPOCH: 30/50\n",
            "EPOCH: 31/50\n",
            "EPOCH: 32/50\n",
            "EPOCH: 33/50\n",
            "EPOCH: 34/50\n",
            "EPOCH: 35/50\n",
            "EPOCH: 36/50\n",
            "EPOCH: 37/50\n",
            "EPOCH: 38/50\n",
            "EPOCH: 39/50\n",
            "EPOCH: 40/50\n",
            "EPOCH: 41/50\n",
            "EPOCH: 42/50\n",
            "EPOCH: 43/50\n",
            "EPOCH: 44/50\n",
            "EPOCH: 45/50\n",
            "EPOCH: 46/50\n",
            "EPOCH: 47/50\n",
            "EPOCH: 48/50\n",
            "EPOCH: 49/50\n",
            "EPOCH: 50/50\n"
          ],
          "name": "stdout"
        },
        {
          "output_type": "stream",
          "text": [
            "\u001b[32m[I 2020-12-17 21:39:27,112]\u001b[0m Trial 4 finished with value: 0.06870316714048386 and parameters: {'encoded_space_dim': 3, 'batch_size': 589, 'lr': 0.007358623211282942}. Best is trial 1 with value: 0.05813058093190193.\u001b[0m\n"
          ],
          "name": "stderr"
        },
        {
          "output_type": "stream",
          "text": [
            "EPOCH: 1/50\n",
            "EPOCH: 2/50\n",
            "EPOCH: 3/50\n",
            "EPOCH: 4/50\n",
            "EPOCH: 5/50\n",
            "EPOCH: 6/50\n",
            "EPOCH: 7/50\n",
            "EPOCH: 8/50\n",
            "EPOCH: 9/50\n",
            "EPOCH: 10/50\n",
            "EPOCH: 11/50\n",
            "EPOCH: 12/50\n",
            "EPOCH: 13/50\n",
            "EPOCH: 14/50\n",
            "EPOCH: 15/50\n",
            "EPOCH: 16/50\n",
            "EPOCH: 17/50\n",
            "EPOCH: 18/50\n",
            "EPOCH: 19/50\n",
            "EPOCH: 20/50\n",
            "EPOCH: 21/50\n",
            "EPOCH: 22/50\n",
            "EPOCH: 23/50\n",
            "EPOCH: 24/50\n",
            "EPOCH: 25/50\n",
            "EPOCH: 26/50\n",
            "EPOCH: 27/50\n",
            "EPOCH: 28/50\n",
            "EPOCH: 29/50\n",
            "EPOCH: 30/50\n",
            "EPOCH: 31/50\n",
            "EPOCH: 32/50\n",
            "EPOCH: 33/50\n",
            "EPOCH: 34/50\n",
            "EPOCH: 35/50\n",
            "EPOCH: 36/50\n",
            "EPOCH: 37/50\n",
            "EPOCH: 38/50\n",
            "EPOCH: 39/50\n",
            "EPOCH: 40/50\n",
            "EPOCH: 41/50\n",
            "EPOCH: 42/50\n",
            "EPOCH: 43/50\n",
            "EPOCH: 44/50\n",
            "EPOCH: 45/50\n",
            "EPOCH: 46/50\n",
            "EPOCH: 47/50\n",
            "EPOCH: 48/50\n",
            "EPOCH: 49/50\n",
            "EPOCH: 50/50\n"
          ],
          "name": "stdout"
        },
        {
          "output_type": "stream",
          "text": [
            "\u001b[32m[I 2020-12-17 21:40:34,527]\u001b[0m Trial 5 finished with value: 0.058285053819417953 and parameters: {'encoded_space_dim': 4, 'batch_size': 704, 'lr': 0.007907106259525643}. Best is trial 1 with value: 0.05813058093190193.\u001b[0m\n"
          ],
          "name": "stderr"
        },
        {
          "output_type": "stream",
          "text": [
            "EPOCH: 1/50\n",
            "EPOCH: 2/50\n",
            "EPOCH: 3/50\n",
            "EPOCH: 4/50\n",
            "EPOCH: 5/50\n",
            "EPOCH: 6/50\n",
            "EPOCH: 7/50\n",
            "EPOCH: 8/50\n"
          ],
          "name": "stdout"
        },
        {
          "output_type": "stream",
          "text": [
            "\u001b[32m[I 2020-12-17 21:40:46,607]\u001b[0m Trial 6 pruned. \u001b[0m\n"
          ],
          "name": "stderr"
        },
        {
          "output_type": "stream",
          "text": [
            "EPOCH: 1/50\n",
            "EPOCH: 2/50\n",
            "EPOCH: 3/50\n",
            "EPOCH: 4/50\n",
            "EPOCH: 5/50\n",
            "EPOCH: 6/50\n",
            "EPOCH: 7/50\n",
            "EPOCH: 8/50\n",
            "EPOCH: 9/50\n",
            "EPOCH: 10/50\n",
            "EPOCH: 11/50\n",
            "EPOCH: 12/50\n",
            "EPOCH: 13/50\n",
            "EPOCH: 14/50\n",
            "EPOCH: 15/50\n",
            "EPOCH: 16/50\n",
            "EPOCH: 17/50\n"
          ],
          "name": "stdout"
        },
        {
          "output_type": "stream",
          "text": [
            "\u001b[32m[I 2020-12-17 21:41:09,928]\u001b[0m Trial 7 pruned. \u001b[0m\n"
          ],
          "name": "stderr"
        },
        {
          "output_type": "stream",
          "text": [
            "EPOCH: 1/50\n",
            "EPOCH: 2/50\n",
            "EPOCH: 3/50\n",
            "EPOCH: 4/50\n",
            "EPOCH: 5/50\n",
            "EPOCH: 6/50\n"
          ],
          "name": "stdout"
        },
        {
          "output_type": "stream",
          "text": [
            "\u001b[32m[I 2020-12-17 21:41:17,996]\u001b[0m Trial 8 pruned. \u001b[0m\n"
          ],
          "name": "stderr"
        },
        {
          "output_type": "stream",
          "text": [
            "EPOCH: 1/50\n",
            "EPOCH: 2/50\n",
            "EPOCH: 3/50\n",
            "EPOCH: 4/50\n",
            "EPOCH: 5/50\n",
            "EPOCH: 6/50\n",
            "EPOCH: 7/50\n",
            "EPOCH: 8/50\n"
          ],
          "name": "stdout"
        },
        {
          "output_type": "stream",
          "text": [
            "\u001b[32m[I 2020-12-17 21:41:28,920]\u001b[0m Trial 9 pruned. \u001b[0m\n"
          ],
          "name": "stderr"
        },
        {
          "output_type": "stream",
          "text": [
            "EPOCH: 1/50\n",
            "EPOCH: 2/50\n",
            "EPOCH: 3/50\n",
            "EPOCH: 4/50\n",
            "EPOCH: 5/50\n",
            "EPOCH: 6/50\n",
            "EPOCH: 7/50\n",
            "EPOCH: 8/50\n"
          ],
          "name": "stdout"
        },
        {
          "output_type": "stream",
          "text": [
            "\u001b[32m[I 2020-12-17 21:41:41,498]\u001b[0m Trial 10 pruned. \u001b[0m\n"
          ],
          "name": "stderr"
        },
        {
          "output_type": "stream",
          "text": [
            "EPOCH: 1/50\n",
            "EPOCH: 2/50\n",
            "EPOCH: 3/50\n",
            "EPOCH: 4/50\n",
            "EPOCH: 5/50\n",
            "EPOCH: 6/50\n",
            "EPOCH: 7/50\n",
            "EPOCH: 8/50\n",
            "EPOCH: 9/50\n",
            "EPOCH: 10/50\n",
            "EPOCH: 11/50\n",
            "EPOCH: 12/50\n",
            "EPOCH: 13/50\n",
            "EPOCH: 14/50\n",
            "EPOCH: 15/50\n",
            "EPOCH: 16/50\n",
            "EPOCH: 17/50\n",
            "EPOCH: 18/50\n",
            "EPOCH: 19/50\n",
            "EPOCH: 20/50\n",
            "EPOCH: 21/50\n",
            "EPOCH: 22/50\n",
            "EPOCH: 23/50\n",
            "EPOCH: 24/50\n",
            "EPOCH: 25/50\n",
            "EPOCH: 26/50\n",
            "EPOCH: 27/50\n",
            "EPOCH: 28/50\n",
            "EPOCH: 29/50\n",
            "EPOCH: 30/50\n",
            "EPOCH: 31/50\n",
            "EPOCH: 32/50\n",
            "EPOCH: 33/50\n",
            "EPOCH: 34/50\n",
            "EPOCH: 35/50\n",
            "EPOCH: 36/50\n",
            "EPOCH: 37/50\n",
            "EPOCH: 38/50\n",
            "EPOCH: 39/50\n",
            "EPOCH: 40/50\n",
            "EPOCH: 41/50\n",
            "EPOCH: 42/50\n",
            "EPOCH: 43/50\n",
            "EPOCH: 44/50\n",
            "EPOCH: 45/50\n",
            "EPOCH: 46/50\n",
            "EPOCH: 47/50\n",
            "EPOCH: 48/50\n",
            "EPOCH: 49/50\n",
            "EPOCH: 50/50\n"
          ],
          "name": "stdout"
        },
        {
          "output_type": "stream",
          "text": [
            "\u001b[32m[I 2020-12-17 21:42:54,236]\u001b[0m Trial 11 finished with value: 0.05724121257662773 and parameters: {'encoded_space_dim': 4, 'batch_size': 413, 'lr': 0.006439061020449375}. Best is trial 11 with value: 0.05724121257662773.\u001b[0m\n"
          ],
          "name": "stderr"
        },
        {
          "output_type": "stream",
          "text": [
            "EPOCH: 1/50\n",
            "EPOCH: 2/50\n",
            "EPOCH: 3/50\n",
            "EPOCH: 4/50\n",
            "EPOCH: 5/50\n",
            "EPOCH: 6/50\n",
            "EPOCH: 7/50\n",
            "EPOCH: 8/50\n",
            "EPOCH: 9/50\n",
            "EPOCH: 10/50\n",
            "EPOCH: 11/50\n",
            "EPOCH: 12/50\n",
            "EPOCH: 13/50\n",
            "EPOCH: 14/50\n",
            "EPOCH: 15/50\n",
            "EPOCH: 16/50\n",
            "EPOCH: 17/50\n",
            "EPOCH: 18/50\n",
            "EPOCH: 19/50\n",
            "EPOCH: 20/50\n",
            "EPOCH: 21/50\n",
            "EPOCH: 22/50\n",
            "EPOCH: 23/50\n",
            "EPOCH: 24/50\n",
            "EPOCH: 25/50\n",
            "EPOCH: 26/50\n",
            "EPOCH: 27/50\n",
            "EPOCH: 28/50\n",
            "EPOCH: 29/50\n",
            "EPOCH: 30/50\n",
            "EPOCH: 31/50\n",
            "EPOCH: 32/50\n",
            "EPOCH: 33/50\n",
            "EPOCH: 34/50\n",
            "EPOCH: 35/50\n",
            "EPOCH: 36/50\n",
            "EPOCH: 37/50\n",
            "EPOCH: 38/50\n",
            "EPOCH: 39/50\n",
            "EPOCH: 40/50\n",
            "EPOCH: 41/50\n",
            "EPOCH: 42/50\n",
            "EPOCH: 43/50\n",
            "EPOCH: 44/50\n",
            "EPOCH: 45/50\n",
            "EPOCH: 46/50\n",
            "EPOCH: 47/50\n",
            "EPOCH: 48/50\n",
            "EPOCH: 49/50\n",
            "EPOCH: 50/50\n"
          ],
          "name": "stdout"
        },
        {
          "output_type": "stream",
          "text": [
            "\u001b[32m[I 2020-12-17 21:44:07,186]\u001b[0m Trial 12 finished with value: 0.057562824338674545 and parameters: {'encoded_space_dim': 4, 'batch_size': 401, 'lr': 0.006845489926146014}. Best is trial 11 with value: 0.05724121257662773.\u001b[0m\n"
          ],
          "name": "stderr"
        },
        {
          "output_type": "stream",
          "text": [
            "EPOCH: 1/50\n",
            "EPOCH: 2/50\n",
            "EPOCH: 3/50\n",
            "EPOCH: 4/50\n",
            "EPOCH: 5/50\n",
            "EPOCH: 6/50\n",
            "EPOCH: 7/50\n",
            "EPOCH: 8/50\n",
            "EPOCH: 9/50\n",
            "EPOCH: 10/50\n",
            "EPOCH: 11/50\n",
            "EPOCH: 12/50\n",
            "EPOCH: 13/50\n",
            "EPOCH: 14/50\n",
            "EPOCH: 15/50\n",
            "EPOCH: 16/50\n",
            "EPOCH: 17/50\n",
            "EPOCH: 18/50\n",
            "EPOCH: 19/50\n",
            "EPOCH: 20/50\n",
            "EPOCH: 21/50\n",
            "EPOCH: 22/50\n",
            "EPOCH: 23/50\n",
            "EPOCH: 24/50\n",
            "EPOCH: 25/50\n",
            "EPOCH: 26/50\n",
            "EPOCH: 27/50\n",
            "EPOCH: 28/50\n",
            "EPOCH: 29/50\n",
            "EPOCH: 30/50\n",
            "EPOCH: 31/50\n",
            "EPOCH: 32/50\n",
            "EPOCH: 33/50\n",
            "EPOCH: 34/50\n",
            "EPOCH: 35/50\n",
            "EPOCH: 36/50\n",
            "EPOCH: 37/50\n",
            "EPOCH: 38/50\n",
            "EPOCH: 39/50\n",
            "EPOCH: 40/50\n",
            "EPOCH: 41/50\n",
            "EPOCH: 42/50\n",
            "EPOCH: 43/50\n",
            "EPOCH: 44/50\n",
            "EPOCH: 45/50\n",
            "EPOCH: 46/50\n",
            "EPOCH: 47/50\n",
            "EPOCH: 48/50\n",
            "EPOCH: 49/50\n",
            "EPOCH: 50/50\n"
          ],
          "name": "stdout"
        },
        {
          "output_type": "stream",
          "text": [
            "\u001b[32m[I 2020-12-17 21:45:18,036]\u001b[0m Trial 13 finished with value: 0.058044686913490295 and parameters: {'encoded_space_dim': 4, 'batch_size': 433, 'lr': 0.009147107381596393}. Best is trial 11 with value: 0.05724121257662773.\u001b[0m\n"
          ],
          "name": "stderr"
        },
        {
          "output_type": "stream",
          "text": [
            "EPOCH: 1/50\n",
            "EPOCH: 2/50\n",
            "EPOCH: 3/50\n",
            "EPOCH: 4/50\n",
            "EPOCH: 5/50\n",
            "EPOCH: 6/50\n"
          ],
          "name": "stdout"
        },
        {
          "output_type": "stream",
          "text": [
            "\u001b[32m[I 2020-12-17 21:45:26,421]\u001b[0m Trial 14 pruned. \u001b[0m\n"
          ],
          "name": "stderr"
        },
        {
          "output_type": "stream",
          "text": [
            "EPOCH: 1/50\n",
            "EPOCH: 2/50\n",
            "EPOCH: 3/50\n",
            "EPOCH: 4/50\n",
            "EPOCH: 5/50\n",
            "EPOCH: 6/50\n"
          ],
          "name": "stdout"
        },
        {
          "output_type": "stream",
          "text": [
            "\u001b[32m[I 2020-12-17 21:45:34,957]\u001b[0m Trial 15 pruned. \u001b[0m\n"
          ],
          "name": "stderr"
        },
        {
          "output_type": "stream",
          "text": [
            "EPOCH: 1/50\n",
            "EPOCH: 2/50\n",
            "EPOCH: 3/50\n",
            "EPOCH: 4/50\n",
            "EPOCH: 5/50\n",
            "EPOCH: 6/50\n",
            "EPOCH: 7/50\n",
            "EPOCH: 8/50\n",
            "EPOCH: 9/50\n",
            "EPOCH: 10/50\n",
            "EPOCH: 11/50\n",
            "EPOCH: 12/50\n",
            "EPOCH: 13/50\n",
            "EPOCH: 14/50\n",
            "EPOCH: 15/50\n",
            "EPOCH: 16/50\n",
            "EPOCH: 17/50\n",
            "EPOCH: 18/50\n",
            "EPOCH: 19/50\n",
            "EPOCH: 20/50\n",
            "EPOCH: 21/50\n",
            "EPOCH: 22/50\n",
            "EPOCH: 23/50\n",
            "EPOCH: 24/50\n",
            "EPOCH: 25/50\n",
            "EPOCH: 26/50\n",
            "EPOCH: 27/50\n",
            "EPOCH: 28/50\n",
            "EPOCH: 29/50\n",
            "EPOCH: 30/50\n",
            "EPOCH: 31/50\n",
            "EPOCH: 32/50\n",
            "EPOCH: 33/50\n",
            "EPOCH: 34/50\n",
            "EPOCH: 35/50\n",
            "EPOCH: 36/50\n",
            "EPOCH: 37/50\n",
            "EPOCH: 38/50\n",
            "EPOCH: 39/50\n",
            "EPOCH: 40/50\n",
            "EPOCH: 41/50\n",
            "EPOCH: 42/50\n",
            "EPOCH: 43/50\n",
            "EPOCH: 44/50\n",
            "EPOCH: 45/50\n",
            "EPOCH: 46/50\n",
            "EPOCH: 47/50\n",
            "EPOCH: 48/50\n",
            "EPOCH: 49/50\n",
            "EPOCH: 50/50\n"
          ],
          "name": "stdout"
        },
        {
          "output_type": "stream",
          "text": [
            "\u001b[32m[I 2020-12-17 21:46:46,655]\u001b[0m Trial 16 finished with value: 0.057093292474746704 and parameters: {'encoded_space_dim': 4, 'batch_size': 363, 'lr': 0.004161292929719075}. Best is trial 16 with value: 0.057093292474746704.\u001b[0m\n"
          ],
          "name": "stderr"
        },
        {
          "output_type": "stream",
          "text": [
            "EPOCH: 1/50\n",
            "EPOCH: 2/50\n",
            "EPOCH: 3/50\n",
            "EPOCH: 4/50\n",
            "EPOCH: 5/50\n",
            "EPOCH: 6/50\n"
          ],
          "name": "stdout"
        },
        {
          "output_type": "stream",
          "text": [
            "\u001b[32m[I 2020-12-17 21:46:56,184]\u001b[0m Trial 17 pruned. \u001b[0m\n"
          ],
          "name": "stderr"
        },
        {
          "output_type": "stream",
          "text": [
            "EPOCH: 1/50\n",
            "EPOCH: 2/50\n",
            "EPOCH: 3/50\n",
            "EPOCH: 4/50\n",
            "EPOCH: 5/50\n",
            "EPOCH: 6/50\n"
          ],
          "name": "stdout"
        },
        {
          "output_type": "stream",
          "text": [
            "\u001b[32m[I 2020-12-17 21:47:04,607]\u001b[0m Trial 18 pruned. \u001b[0m\n"
          ],
          "name": "stderr"
        },
        {
          "output_type": "stream",
          "text": [
            "EPOCH: 1/50\n",
            "EPOCH: 2/50\n",
            "EPOCH: 3/50\n",
            "EPOCH: 4/50\n",
            "EPOCH: 5/50\n",
            "EPOCH: 6/50\n"
          ],
          "name": "stdout"
        },
        {
          "output_type": "stream",
          "text": [
            "\u001b[32m[I 2020-12-17 21:47:13,542]\u001b[0m Trial 19 pruned. \u001b[0m\n"
          ],
          "name": "stderr"
        },
        {
          "output_type": "stream",
          "text": [
            "EPOCH: 1/50\n",
            "EPOCH: 2/50\n",
            "EPOCH: 3/50\n",
            "EPOCH: 4/50\n",
            "EPOCH: 5/50\n",
            "EPOCH: 6/50\n"
          ],
          "name": "stdout"
        },
        {
          "output_type": "stream",
          "text": [
            "\u001b[32m[I 2020-12-17 21:47:22,070]\u001b[0m Trial 20 pruned. \u001b[0m\n"
          ],
          "name": "stderr"
        },
        {
          "output_type": "stream",
          "text": [
            "EPOCH: 1/50\n",
            "EPOCH: 2/50\n",
            "EPOCH: 3/50\n",
            "EPOCH: 4/50\n",
            "EPOCH: 5/50\n",
            "EPOCH: 6/50\n"
          ],
          "name": "stdout"
        },
        {
          "output_type": "stream",
          "text": [
            "\u001b[32m[I 2020-12-17 21:47:30,830]\u001b[0m Trial 21 pruned. \u001b[0m\n"
          ],
          "name": "stderr"
        },
        {
          "output_type": "stream",
          "text": [
            "EPOCH: 1/50\n",
            "EPOCH: 2/50\n",
            "EPOCH: 3/50\n",
            "EPOCH: 4/50\n",
            "EPOCH: 5/50\n",
            "EPOCH: 6/50\n",
            "EPOCH: 7/50\n",
            "EPOCH: 8/50\n",
            "EPOCH: 9/50\n",
            "EPOCH: 10/50\n",
            "EPOCH: 11/50\n",
            "EPOCH: 12/50\n",
            "EPOCH: 13/50\n",
            "EPOCH: 14/50\n",
            "EPOCH: 15/50\n",
            "EPOCH: 16/50\n",
            "EPOCH: 17/50\n",
            "EPOCH: 18/50\n",
            "EPOCH: 19/50\n",
            "EPOCH: 20/50\n",
            "EPOCH: 21/50\n",
            "EPOCH: 22/50\n",
            "EPOCH: 23/50\n",
            "EPOCH: 24/50\n",
            "EPOCH: 25/50\n",
            "EPOCH: 26/50\n",
            "EPOCH: 27/50\n",
            "EPOCH: 28/50\n",
            "EPOCH: 29/50\n",
            "EPOCH: 30/50\n",
            "EPOCH: 31/50\n",
            "EPOCH: 32/50\n",
            "EPOCH: 33/50\n",
            "EPOCH: 34/50\n",
            "EPOCH: 35/50\n",
            "EPOCH: 36/50\n",
            "EPOCH: 37/50\n",
            "EPOCH: 38/50\n",
            "EPOCH: 39/50\n",
            "EPOCH: 40/50\n",
            "EPOCH: 41/50\n",
            "EPOCH: 42/50\n",
            "EPOCH: 43/50\n",
            "EPOCH: 44/50\n",
            "EPOCH: 45/50\n",
            "EPOCH: 46/50\n",
            "EPOCH: 47/50\n",
            "EPOCH: 48/50\n",
            "EPOCH: 49/50\n",
            "EPOCH: 50/50\n"
          ],
          "name": "stdout"
        },
        {
          "output_type": "stream",
          "text": [
            "\u001b[32m[I 2020-12-17 21:48:43,512]\u001b[0m Trial 22 finished with value: 0.055782102048397064 and parameters: {'encoded_space_dim': 4, 'batch_size': 408, 'lr': 0.005950748043354869}. Best is trial 22 with value: 0.055782102048397064.\u001b[0m\n"
          ],
          "name": "stderr"
        },
        {
          "output_type": "stream",
          "text": [
            "EPOCH: 1/50\n",
            "EPOCH: 2/50\n",
            "EPOCH: 3/50\n",
            "EPOCH: 4/50\n",
            "EPOCH: 5/50\n",
            "EPOCH: 6/50\n",
            "EPOCH: 7/50\n",
            "EPOCH: 8/50\n",
            "EPOCH: 9/50\n",
            "EPOCH: 10/50\n",
            "EPOCH: 11/50\n",
            "EPOCH: 12/50\n",
            "EPOCH: 13/50\n",
            "EPOCH: 14/50\n",
            "EPOCH: 15/50\n",
            "EPOCH: 16/50\n",
            "EPOCH: 17/50\n",
            "EPOCH: 18/50\n",
            "EPOCH: 19/50\n",
            "EPOCH: 20/50\n",
            "EPOCH: 21/50\n",
            "EPOCH: 22/50\n",
            "EPOCH: 23/50\n",
            "EPOCH: 24/50\n",
            "EPOCH: 25/50\n",
            "EPOCH: 26/50\n",
            "EPOCH: 27/50\n",
            "EPOCH: 28/50\n",
            "EPOCH: 29/50\n",
            "EPOCH: 30/50\n",
            "EPOCH: 31/50\n",
            "EPOCH: 32/50\n",
            "EPOCH: 33/50\n",
            "EPOCH: 34/50\n",
            "EPOCH: 35/50\n",
            "EPOCH: 36/50\n",
            "EPOCH: 37/50\n",
            "EPOCH: 38/50\n",
            "EPOCH: 39/50\n",
            "EPOCH: 40/50\n",
            "EPOCH: 41/50\n",
            "EPOCH: 42/50\n",
            "EPOCH: 43/50\n",
            "EPOCH: 44/50\n",
            "EPOCH: 45/50\n",
            "EPOCH: 46/50\n",
            "EPOCH: 47/50\n",
            "EPOCH: 48/50\n",
            "EPOCH: 49/50\n",
            "EPOCH: 50/50\n"
          ],
          "name": "stdout"
        },
        {
          "output_type": "stream",
          "text": [
            "\u001b[32m[I 2020-12-17 21:50:00,757]\u001b[0m Trial 23 finished with value: 0.05677107721567154 and parameters: {'encoded_space_dim': 4, 'batch_size': 256, 'lr': 0.014474997653027073}. Best is trial 22 with value: 0.055782102048397064.\u001b[0m\n"
          ],
          "name": "stderr"
        },
        {
          "output_type": "stream",
          "text": [
            "EPOCH: 1/50\n",
            "EPOCH: 2/50\n",
            "EPOCH: 3/50\n",
            "EPOCH: 4/50\n",
            "EPOCH: 5/50\n",
            "EPOCH: 6/50\n"
          ],
          "name": "stdout"
        },
        {
          "output_type": "stream",
          "text": [
            "\u001b[32m[I 2020-12-17 21:50:10,047]\u001b[0m Trial 24 pruned. \u001b[0m\n"
          ],
          "name": "stderr"
        },
        {
          "output_type": "stream",
          "text": [
            "EPOCH: 1/50\n",
            "EPOCH: 2/50\n",
            "EPOCH: 3/50\n",
            "EPOCH: 4/50\n",
            "EPOCH: 5/50\n",
            "EPOCH: 6/50\n",
            "EPOCH: 7/50\n",
            "EPOCH: 8/50\n",
            "EPOCH: 9/50\n",
            "EPOCH: 10/50\n",
            "EPOCH: 11/50\n",
            "EPOCH: 12/50\n",
            "EPOCH: 13/50\n",
            "EPOCH: 14/50\n",
            "EPOCH: 15/50\n",
            "EPOCH: 16/50\n",
            "EPOCH: 17/50\n",
            "EPOCH: 18/50\n",
            "EPOCH: 19/50\n",
            "EPOCH: 20/50\n",
            "EPOCH: 21/50\n",
            "EPOCH: 22/50\n",
            "EPOCH: 23/50\n",
            "EPOCH: 24/50\n",
            "EPOCH: 25/50\n",
            "EPOCH: 26/50\n",
            "EPOCH: 27/50\n",
            "EPOCH: 28/50\n",
            "EPOCH: 29/50\n",
            "EPOCH: 30/50\n",
            "EPOCH: 31/50\n",
            "EPOCH: 32/50\n",
            "EPOCH: 33/50\n",
            "EPOCH: 34/50\n",
            "EPOCH: 35/50\n",
            "EPOCH: 36/50\n",
            "EPOCH: 37/50\n",
            "EPOCH: 38/50\n",
            "EPOCH: 39/50\n",
            "EPOCH: 40/50\n",
            "EPOCH: 41/50\n",
            "EPOCH: 42/50\n",
            "EPOCH: 43/50\n",
            "EPOCH: 44/50\n",
            "EPOCH: 45/50\n",
            "EPOCH: 46/50\n",
            "EPOCH: 47/50\n",
            "EPOCH: 48/50\n",
            "EPOCH: 49/50\n",
            "EPOCH: 50/50\n"
          ],
          "name": "stdout"
        },
        {
          "output_type": "stream",
          "text": [
            "\u001b[32m[I 2020-12-17 21:51:29,538]\u001b[0m Trial 25 finished with value: 0.05770513787865639 and parameters: {'encoded_space_dim': 4, 'batch_size': 215, 'lr': 0.013151906518355128}. Best is trial 22 with value: 0.055782102048397064.\u001b[0m\n"
          ],
          "name": "stderr"
        },
        {
          "output_type": "stream",
          "text": [
            "EPOCH: 1/50\n",
            "EPOCH: 2/50\n",
            "EPOCH: 3/50\n",
            "EPOCH: 4/50\n",
            "EPOCH: 5/50\n",
            "EPOCH: 6/50\n",
            "EPOCH: 7/50\n",
            "EPOCH: 8/50\n",
            "EPOCH: 9/50\n"
          ],
          "name": "stdout"
        },
        {
          "output_type": "stream",
          "text": [
            "\u001b[32m[I 2020-12-17 21:51:42,858]\u001b[0m Trial 26 pruned. \u001b[0m\n"
          ],
          "name": "stderr"
        },
        {
          "output_type": "stream",
          "text": [
            "EPOCH: 1/50\n",
            "EPOCH: 2/50\n",
            "EPOCH: 3/50\n",
            "EPOCH: 4/50\n",
            "EPOCH: 5/50\n",
            "EPOCH: 6/50\n",
            "EPOCH: 7/50\n",
            "EPOCH: 8/50\n",
            "EPOCH: 9/50\n",
            "EPOCH: 10/50\n",
            "EPOCH: 11/50\n",
            "EPOCH: 12/50\n",
            "EPOCH: 13/50\n",
            "EPOCH: 14/50\n",
            "EPOCH: 15/50\n"
          ],
          "name": "stdout"
        },
        {
          "output_type": "stream",
          "text": [
            "\u001b[32m[I 2020-12-17 21:52:06,047]\u001b[0m Trial 27 pruned. \u001b[0m\n"
          ],
          "name": "stderr"
        },
        {
          "output_type": "stream",
          "text": [
            "EPOCH: 1/50\n",
            "EPOCH: 2/50\n",
            "EPOCH: 3/50\n",
            "EPOCH: 4/50\n",
            "EPOCH: 5/50\n",
            "EPOCH: 6/50\n"
          ],
          "name": "stdout"
        },
        {
          "output_type": "stream",
          "text": [
            "\u001b[32m[I 2020-12-17 21:52:14,426]\u001b[0m Trial 28 pruned. \u001b[0m\n"
          ],
          "name": "stderr"
        },
        {
          "output_type": "stream",
          "text": [
            "EPOCH: 1/50\n",
            "EPOCH: 2/50\n",
            "EPOCH: 3/50\n",
            "EPOCH: 4/50\n",
            "EPOCH: 5/50\n",
            "EPOCH: 6/50\n"
          ],
          "name": "stdout"
        },
        {
          "output_type": "stream",
          "text": [
            "\u001b[32m[I 2020-12-17 21:52:23,206]\u001b[0m Trial 29 pruned. \u001b[0m\n"
          ],
          "name": "stderr"
        },
        {
          "output_type": "stream",
          "text": [
            "EPOCH: 1/50\n",
            "EPOCH: 2/50\n",
            "EPOCH: 3/50\n",
            "EPOCH: 4/50\n",
            "EPOCH: 5/50\n",
            "EPOCH: 6/50\n",
            "EPOCH: 7/50\n",
            "EPOCH: 8/50\n",
            "EPOCH: 9/50\n",
            "EPOCH: 10/50\n",
            "EPOCH: 11/50\n",
            "EPOCH: 12/50\n",
            "EPOCH: 13/50\n",
            "EPOCH: 14/50\n",
            "EPOCH: 15/50\n",
            "EPOCH: 16/50\n",
            "EPOCH: 17/50\n",
            "EPOCH: 18/50\n",
            "EPOCH: 19/50\n",
            "EPOCH: 20/50\n",
            "EPOCH: 21/50\n",
            "EPOCH: 22/50\n",
            "EPOCH: 23/50\n",
            "EPOCH: 24/50\n",
            "EPOCH: 25/50\n",
            "EPOCH: 26/50\n",
            "EPOCH: 27/50\n",
            "EPOCH: 28/50\n",
            "EPOCH: 29/50\n",
            "EPOCH: 30/50\n",
            "EPOCH: 31/50\n",
            "EPOCH: 32/50\n",
            "EPOCH: 33/50\n",
            "EPOCH: 34/50\n",
            "EPOCH: 35/50\n",
            "EPOCH: 36/50\n",
            "EPOCH: 37/50\n",
            "EPOCH: 38/50\n",
            "EPOCH: 39/50\n",
            "EPOCH: 40/50\n",
            "EPOCH: 41/50\n",
            "EPOCH: 42/50\n",
            "EPOCH: 43/50\n",
            "EPOCH: 44/50\n",
            "EPOCH: 45/50\n",
            "EPOCH: 46/50\n",
            "EPOCH: 47/50\n",
            "EPOCH: 48/50\n",
            "EPOCH: 49/50\n",
            "EPOCH: 50/50\n"
          ],
          "name": "stdout"
        },
        {
          "output_type": "stream",
          "text": [
            "\u001b[32m[I 2020-12-17 21:53:39,378]\u001b[0m Trial 30 finished with value: 0.056908827275037766 and parameters: {'encoded_space_dim': 4, 'batch_size': 283, 'lr': 0.004378912180824545}. Best is trial 22 with value: 0.055782102048397064.\u001b[0m\n"
          ],
          "name": "stderr"
        },
        {
          "output_type": "stream",
          "text": [
            "EPOCH: 1/50\n",
            "EPOCH: 2/50\n",
            "EPOCH: 3/50\n",
            "EPOCH: 4/50\n",
            "EPOCH: 5/50\n",
            "EPOCH: 6/50\n",
            "EPOCH: 7/50\n",
            "EPOCH: 8/50\n",
            "EPOCH: 9/50\n",
            "EPOCH: 10/50\n",
            "EPOCH: 11/50\n",
            "EPOCH: 12/50\n",
            "EPOCH: 13/50\n",
            "EPOCH: 14/50\n",
            "EPOCH: 15/50\n",
            "EPOCH: 16/50\n",
            "EPOCH: 17/50\n",
            "EPOCH: 18/50\n",
            "EPOCH: 19/50\n",
            "EPOCH: 20/50\n",
            "EPOCH: 21/50\n",
            "EPOCH: 22/50\n",
            "EPOCH: 23/50\n",
            "EPOCH: 24/50\n",
            "EPOCH: 25/50\n",
            "EPOCH: 26/50\n",
            "EPOCH: 27/50\n",
            "EPOCH: 28/50\n",
            "EPOCH: 29/50\n",
            "EPOCH: 30/50\n",
            "EPOCH: 31/50\n",
            "EPOCH: 32/50\n",
            "EPOCH: 33/50\n",
            "EPOCH: 34/50\n",
            "EPOCH: 35/50\n",
            "EPOCH: 36/50\n",
            "EPOCH: 37/50\n",
            "EPOCH: 38/50\n",
            "EPOCH: 39/50\n",
            "EPOCH: 40/50\n",
            "EPOCH: 41/50\n",
            "EPOCH: 42/50\n",
            "EPOCH: 43/50\n",
            "EPOCH: 44/50\n",
            "EPOCH: 45/50\n",
            "EPOCH: 46/50\n",
            "EPOCH: 47/50\n",
            "EPOCH: 48/50\n",
            "EPOCH: 49/50\n",
            "EPOCH: 50/50\n"
          ],
          "name": "stdout"
        },
        {
          "output_type": "stream",
          "text": [
            "\u001b[32m[I 2020-12-17 21:54:55,413]\u001b[0m Trial 31 finished with value: 0.05693284049630165 and parameters: {'encoded_space_dim': 4, 'batch_size': 292, 'lr': 0.011403062782993668}. Best is trial 22 with value: 0.055782102048397064.\u001b[0m\n"
          ],
          "name": "stderr"
        },
        {
          "output_type": "stream",
          "text": [
            "EPOCH: 1/50\n",
            "EPOCH: 2/50\n",
            "EPOCH: 3/50\n",
            "EPOCH: 4/50\n",
            "EPOCH: 5/50\n",
            "EPOCH: 6/50\n",
            "EPOCH: 7/50\n",
            "EPOCH: 8/50\n",
            "EPOCH: 9/50\n",
            "EPOCH: 10/50\n",
            "EPOCH: 11/50\n",
            "EPOCH: 12/50\n",
            "EPOCH: 13/50\n",
            "EPOCH: 14/50\n",
            "EPOCH: 15/50\n",
            "EPOCH: 16/50\n",
            "EPOCH: 17/50\n",
            "EPOCH: 18/50\n",
            "EPOCH: 19/50\n",
            "EPOCH: 20/50\n",
            "EPOCH: 21/50\n",
            "EPOCH: 22/50\n",
            "EPOCH: 23/50\n",
            "EPOCH: 24/50\n",
            "EPOCH: 25/50\n",
            "EPOCH: 26/50\n",
            "EPOCH: 27/50\n",
            "EPOCH: 28/50\n",
            "EPOCH: 29/50\n",
            "EPOCH: 30/50\n",
            "EPOCH: 31/50\n",
            "EPOCH: 32/50\n",
            "EPOCH: 33/50\n",
            "EPOCH: 34/50\n",
            "EPOCH: 35/50\n",
            "EPOCH: 36/50\n",
            "EPOCH: 37/50\n",
            "EPOCH: 38/50\n",
            "EPOCH: 39/50\n",
            "EPOCH: 40/50\n",
            "EPOCH: 41/50\n",
            "EPOCH: 42/50\n",
            "EPOCH: 43/50\n",
            "EPOCH: 44/50\n",
            "EPOCH: 45/50\n",
            "EPOCH: 46/50\n",
            "EPOCH: 47/50\n",
            "EPOCH: 48/50\n",
            "EPOCH: 49/50\n",
            "EPOCH: 50/50\n"
          ],
          "name": "stdout"
        },
        {
          "output_type": "stream",
          "text": [
            "\u001b[32m[I 2020-12-17 21:56:11,835]\u001b[0m Trial 32 finished with value: 0.05746982991695404 and parameters: {'encoded_space_dim': 4, 'batch_size': 280, 'lr': 0.011356694185586146}. Best is trial 22 with value: 0.055782102048397064.\u001b[0m\n"
          ],
          "name": "stderr"
        },
        {
          "output_type": "stream",
          "text": [
            "EPOCH: 1/50\n",
            "EPOCH: 2/50\n",
            "EPOCH: 3/50\n",
            "EPOCH: 4/50\n",
            "EPOCH: 5/50\n",
            "EPOCH: 6/50\n",
            "EPOCH: 7/50\n",
            "EPOCH: 8/50\n",
            "EPOCH: 9/50\n",
            "EPOCH: 10/50\n",
            "EPOCH: 11/50\n",
            "EPOCH: 12/50\n",
            "EPOCH: 13/50\n",
            "EPOCH: 14/50\n",
            "EPOCH: 15/50\n",
            "EPOCH: 16/50\n",
            "EPOCH: 17/50\n",
            "EPOCH: 18/50\n",
            "EPOCH: 19/50\n",
            "EPOCH: 20/50\n",
            "EPOCH: 21/50\n",
            "EPOCH: 22/50\n",
            "EPOCH: 23/50\n",
            "EPOCH: 24/50\n",
            "EPOCH: 25/50\n",
            "EPOCH: 26/50\n",
            "EPOCH: 27/50\n",
            "EPOCH: 28/50\n",
            "EPOCH: 29/50\n",
            "EPOCH: 30/50\n",
            "EPOCH: 31/50\n",
            "EPOCH: 32/50\n",
            "EPOCH: 33/50\n",
            "EPOCH: 34/50\n",
            "EPOCH: 35/50\n",
            "EPOCH: 36/50\n",
            "EPOCH: 37/50\n",
            "EPOCH: 38/50\n",
            "EPOCH: 39/50\n",
            "EPOCH: 40/50\n",
            "EPOCH: 41/50\n",
            "EPOCH: 42/50\n",
            "EPOCH: 43/50\n",
            "EPOCH: 44/50\n",
            "EPOCH: 45/50\n",
            "EPOCH: 46/50\n",
            "EPOCH: 47/50\n",
            "EPOCH: 48/50\n",
            "EPOCH: 49/50\n",
            "EPOCH: 50/50\n"
          ],
          "name": "stdout"
        },
        {
          "output_type": "stream",
          "text": [
            "\u001b[32m[I 2020-12-17 21:57:26,817]\u001b[0m Trial 33 pruned. \u001b[0m\n"
          ],
          "name": "stderr"
        },
        {
          "output_type": "stream",
          "text": [
            "EPOCH: 1/50\n",
            "EPOCH: 2/50\n",
            "EPOCH: 3/50\n",
            "EPOCH: 4/50\n",
            "EPOCH: 5/50\n",
            "EPOCH: 6/50\n",
            "EPOCH: 7/50\n",
            "EPOCH: 8/50\n",
            "EPOCH: 9/50\n",
            "EPOCH: 10/50\n",
            "EPOCH: 11/50\n",
            "EPOCH: 12/50\n",
            "EPOCH: 13/50\n",
            "EPOCH: 14/50\n",
            "EPOCH: 15/50\n",
            "EPOCH: 16/50\n",
            "EPOCH: 17/50\n",
            "EPOCH: 18/50\n",
            "EPOCH: 19/50\n",
            "EPOCH: 20/50\n",
            "EPOCH: 21/50\n",
            "EPOCH: 22/50\n",
            "EPOCH: 23/50\n",
            "EPOCH: 24/50\n",
            "EPOCH: 25/50\n",
            "EPOCH: 26/50\n",
            "EPOCH: 27/50\n",
            "EPOCH: 28/50\n",
            "EPOCH: 29/50\n",
            "EPOCH: 30/50\n",
            "EPOCH: 31/50\n",
            "EPOCH: 32/50\n",
            "EPOCH: 33/50\n",
            "EPOCH: 34/50\n",
            "EPOCH: 35/50\n",
            "EPOCH: 36/50\n",
            "EPOCH: 37/50\n",
            "EPOCH: 38/50\n",
            "EPOCH: 39/50\n",
            "EPOCH: 40/50\n",
            "EPOCH: 41/50\n",
            "EPOCH: 42/50\n",
            "EPOCH: 43/50\n",
            "EPOCH: 44/50\n",
            "EPOCH: 45/50\n",
            "EPOCH: 46/50\n",
            "EPOCH: 47/50\n",
            "EPOCH: 48/50\n",
            "EPOCH: 49/50\n",
            "EPOCH: 50/50\n"
          ],
          "name": "stdout"
        },
        {
          "output_type": "stream",
          "text": [
            "\u001b[32m[I 2020-12-17 21:58:44,860]\u001b[0m Trial 34 finished with value: 0.05521928891539574 and parameters: {'encoded_space_dim': 4, 'batch_size': 223, 'lr': 0.0048300570827042475}. Best is trial 34 with value: 0.05521928891539574.\u001b[0m\n"
          ],
          "name": "stderr"
        },
        {
          "output_type": "stream",
          "text": [
            "EPOCH: 1/50\n",
            "EPOCH: 2/50\n",
            "EPOCH: 3/50\n",
            "EPOCH: 4/50\n",
            "EPOCH: 5/50\n",
            "EPOCH: 6/50\n",
            "EPOCH: 7/50\n",
            "EPOCH: 8/50\n",
            "EPOCH: 9/50\n",
            "EPOCH: 10/50\n",
            "EPOCH: 11/50\n",
            "EPOCH: 12/50\n",
            "EPOCH: 13/50\n",
            "EPOCH: 14/50\n",
            "EPOCH: 15/50\n",
            "EPOCH: 16/50\n",
            "EPOCH: 17/50\n",
            "EPOCH: 18/50\n",
            "EPOCH: 19/50\n",
            "EPOCH: 20/50\n",
            "EPOCH: 21/50\n",
            "EPOCH: 22/50\n",
            "EPOCH: 23/50\n",
            "EPOCH: 24/50\n",
            "EPOCH: 25/50\n",
            "EPOCH: 26/50\n",
            "EPOCH: 27/50\n",
            "EPOCH: 28/50\n",
            "EPOCH: 29/50\n",
            "EPOCH: 30/50\n",
            "EPOCH: 31/50\n",
            "EPOCH: 32/50\n",
            "EPOCH: 33/50\n",
            "EPOCH: 34/50\n",
            "EPOCH: 35/50\n",
            "EPOCH: 36/50\n",
            "EPOCH: 37/50\n",
            "EPOCH: 38/50\n",
            "EPOCH: 39/50\n",
            "EPOCH: 40/50\n",
            "EPOCH: 41/50\n",
            "EPOCH: 42/50\n",
            "EPOCH: 43/50\n",
            "EPOCH: 44/50\n",
            "EPOCH: 45/50\n",
            "EPOCH: 46/50\n",
            "EPOCH: 47/50\n",
            "EPOCH: 48/50\n",
            "EPOCH: 49/50\n",
            "EPOCH: 50/50\n"
          ],
          "name": "stdout"
        },
        {
          "output_type": "stream",
          "text": [
            "\u001b[32m[I 2020-12-17 22:00:01,819]\u001b[0m Trial 35 finished with value: 0.055354535579681396 and parameters: {'encoded_space_dim': 4, 'batch_size': 233, 'lr': 0.005655750339008501}. Best is trial 34 with value: 0.05521928891539574.\u001b[0m\n"
          ],
          "name": "stderr"
        },
        {
          "output_type": "stream",
          "text": [
            "EPOCH: 1/50\n",
            "EPOCH: 2/50\n",
            "EPOCH: 3/50\n",
            "EPOCH: 4/50\n",
            "EPOCH: 5/50\n",
            "EPOCH: 6/50\n",
            "EPOCH: 7/50\n",
            "EPOCH: 8/50\n",
            "EPOCH: 9/50\n",
            "EPOCH: 10/50\n",
            "EPOCH: 11/50\n",
            "EPOCH: 12/50\n",
            "EPOCH: 13/50\n",
            "EPOCH: 14/50\n",
            "EPOCH: 15/50\n",
            "EPOCH: 16/50\n",
            "EPOCH: 17/50\n",
            "EPOCH: 18/50\n",
            "EPOCH: 19/50\n",
            "EPOCH: 20/50\n",
            "EPOCH: 21/50\n",
            "EPOCH: 22/50\n",
            "EPOCH: 23/50\n",
            "EPOCH: 24/50\n",
            "EPOCH: 25/50\n",
            "EPOCH: 26/50\n",
            "EPOCH: 27/50\n",
            "EPOCH: 28/50\n",
            "EPOCH: 29/50\n",
            "EPOCH: 30/50\n",
            "EPOCH: 31/50\n",
            "EPOCH: 32/50\n",
            "EPOCH: 33/50\n",
            "EPOCH: 34/50\n",
            "EPOCH: 35/50\n",
            "EPOCH: 36/50\n",
            "EPOCH: 37/50\n",
            "EPOCH: 38/50\n",
            "EPOCH: 39/50\n",
            "EPOCH: 40/50\n",
            "EPOCH: 41/50\n",
            "EPOCH: 42/50\n",
            "EPOCH: 43/50\n",
            "EPOCH: 44/50\n",
            "EPOCH: 45/50\n",
            "EPOCH: 46/50\n",
            "EPOCH: 47/50\n",
            "EPOCH: 48/50\n",
            "EPOCH: 49/50\n",
            "EPOCH: 50/50\n"
          ],
          "name": "stdout"
        },
        {
          "output_type": "stream",
          "text": [
            "\u001b[32m[I 2020-12-17 22:01:18,866]\u001b[0m Trial 36 finished with value: 0.05586761236190796 and parameters: {'encoded_space_dim': 4, 'batch_size': 228, 'lr': 0.005964418676704228}. Best is trial 34 with value: 0.05521928891539574.\u001b[0m\n"
          ],
          "name": "stderr"
        },
        {
          "output_type": "stream",
          "text": [
            "EPOCH: 1/50\n",
            "EPOCH: 2/50\n",
            "EPOCH: 3/50\n",
            "EPOCH: 4/50\n",
            "EPOCH: 5/50\n",
            "EPOCH: 6/50\n"
          ],
          "name": "stdout"
        },
        {
          "output_type": "stream",
          "text": [
            "\u001b[32m[I 2020-12-17 22:01:28,438]\u001b[0m Trial 37 pruned. \u001b[0m\n"
          ],
          "name": "stderr"
        },
        {
          "output_type": "stream",
          "text": [
            "EPOCH: 1/50\n",
            "EPOCH: 2/50\n",
            "EPOCH: 3/50\n",
            "EPOCH: 4/50\n",
            "EPOCH: 5/50\n",
            "EPOCH: 6/50\n"
          ],
          "name": "stdout"
        },
        {
          "output_type": "stream",
          "text": [
            "\u001b[32m[I 2020-12-17 22:01:36,706]\u001b[0m Trial 38 pruned. \u001b[0m\n"
          ],
          "name": "stderr"
        },
        {
          "output_type": "stream",
          "text": [
            "EPOCH: 1/50\n",
            "EPOCH: 2/50\n",
            "EPOCH: 3/50\n",
            "EPOCH: 4/50\n",
            "EPOCH: 5/50\n",
            "EPOCH: 6/50\n"
          ],
          "name": "stdout"
        },
        {
          "output_type": "stream",
          "text": [
            "\u001b[32m[I 2020-12-17 22:01:46,064]\u001b[0m Trial 39 pruned. \u001b[0m\n"
          ],
          "name": "stderr"
        },
        {
          "output_type": "stream",
          "text": [
            "val Loss: 0.05521928891539574\n",
            "Best hyperparameters: {'encoded_space_dim': 4, 'batch_size': 223, 'lr': 0.0048300570827042475}\n"
          ],
          "name": "stdout"
        }
      ]
    },
    {
      "cell_type": "code",
      "metadata": {
        "id": "ORPJ_bBjxhjL",
        "outputId": "7b5ac044-ce42-4405-815d-8e361868540a",
        "colab": {
          "base_uri": "https://localhost:8080/"
        }
      },
      "source": [
        "best_params = trial.params\r\n",
        "print(best_params)"
      ],
      "execution_count": 107,
      "outputs": [
        {
          "output_type": "stream",
          "text": [
            "{'encoded_space_dim': 4, 'batch_size': 223, 'lr': 0.0048300570827042475}\n"
          ],
          "name": "stdout"
        }
      ]
    },
    {
      "cell_type": "markdown",
      "metadata": {
        "id": "pCRhMWf03-qM"
      },
      "source": [
        "visualization optuna"
      ]
    },
    {
      "cell_type": "code",
      "metadata": {
        "colab": {
          "base_uri": "https://localhost:8080/",
          "height": 542
        },
        "id": "C8qAa7sL4Aou",
        "outputId": "8af4a390-714c-499c-b00f-7c77685c2e9e"
      },
      "source": [
        "optuna.visualization.plot_optimization_history(study)"
      ],
      "execution_count": 103,
      "outputs": [
        {
          "output_type": "display_data",
          "data": {
            "text/html": [
              "<html>\n",
              "<head><meta charset=\"utf-8\" /></head>\n",
              "<body>\n",
              "    <div>\n",
              "            <script src=\"https://cdnjs.cloudflare.com/ajax/libs/mathjax/2.7.5/MathJax.js?config=TeX-AMS-MML_SVG\"></script><script type=\"text/javascript\">if (window.MathJax) {MathJax.Hub.Config({SVG: {font: \"STIX-Web\"}});}</script>\n",
              "                <script type=\"text/javascript\">window.PlotlyConfig = {MathJaxConfig: 'local'};</script>\n",
              "        <script src=\"https://cdn.plot.ly/plotly-latest.min.js\"></script>    \n",
              "            <div id=\"9c3733c0-62d6-46e2-9d9a-ba7fc7005aaf\" class=\"plotly-graph-div\" style=\"height:525px; width:100%;\"></div>\n",
              "            <script type=\"text/javascript\">\n",
              "                \n",
              "                    window.PLOTLYENV=window.PLOTLYENV || {};\n",
              "                    \n",
              "                if (document.getElementById(\"9c3733c0-62d6-46e2-9d9a-ba7fc7005aaf\")) {\n",
              "                    Plotly.newPlot(\n",
              "                        '9c3733c0-62d6-46e2-9d9a-ba7fc7005aaf',\n",
              "                        [{\"mode\": \"markers\", \"name\": \"Objective Value\", \"type\": \"scatter\", \"x\": [0, 1, 2, 3, 4, 5, 11, 12, 13, 16, 22, 23, 25, 30, 31, 32, 34, 35, 36], \"y\": [0.060396406799554825, 0.05813058093190193, 0.19574564695358276, 0.09840115159749985, 0.06870316714048386, 0.058285053819417953, 0.05724121257662773, 0.057562824338674545, 0.058044686913490295, 0.057093292474746704, 0.055782102048397064, 0.05677107721567154, 0.05770513787865639, 0.056908827275037766, 0.05693284049630165, 0.05746982991695404, 0.05521928891539574, 0.055354535579681396, 0.05586761236190796]}, {\"name\": \"Best Value\", \"type\": \"scatter\", \"x\": [0, 1, 2, 3, 4, 5, 11, 12, 13, 16, 22, 23, 25, 30, 31, 32, 34, 35, 36], \"y\": [0.060396406799554825, 0.05813058093190193, 0.05813058093190193, 0.05813058093190193, 0.05813058093190193, 0.05813058093190193, 0.05724121257662773, 0.05724121257662773, 0.05724121257662773, 0.057093292474746704, 0.055782102048397064, 0.055782102048397064, 0.055782102048397064, 0.055782102048397064, 0.055782102048397064, 0.055782102048397064, 0.05521928891539574, 0.05521928891539574, 0.05521928891539574]}],\n",
              "                        {\"template\": {\"data\": {\"bar\": [{\"error_x\": {\"color\": \"#2a3f5f\"}, \"error_y\": {\"color\": \"#2a3f5f\"}, \"marker\": {\"line\": {\"color\": \"#E5ECF6\", \"width\": 0.5}}, \"type\": \"bar\"}], \"barpolar\": [{\"marker\": {\"line\": {\"color\": \"#E5ECF6\", \"width\": 0.5}}, \"type\": \"barpolar\"}], \"carpet\": [{\"aaxis\": {\"endlinecolor\": \"#2a3f5f\", \"gridcolor\": \"white\", \"linecolor\": \"white\", \"minorgridcolor\": \"white\", \"startlinecolor\": \"#2a3f5f\"}, \"baxis\": {\"endlinecolor\": \"#2a3f5f\", \"gridcolor\": \"white\", \"linecolor\": \"white\", \"minorgridcolor\": \"white\", \"startlinecolor\": \"#2a3f5f\"}, \"type\": \"carpet\"}], \"choropleth\": [{\"colorbar\": {\"outlinewidth\": 0, \"ticks\": \"\"}, \"type\": \"choropleth\"}], \"contour\": [{\"colorbar\": {\"outlinewidth\": 0, \"ticks\": \"\"}, \"colorscale\": [[0.0, \"#0d0887\"], [0.1111111111111111, \"#46039f\"], [0.2222222222222222, \"#7201a8\"], [0.3333333333333333, \"#9c179e\"], [0.4444444444444444, \"#bd3786\"], [0.5555555555555556, \"#d8576b\"], [0.6666666666666666, \"#ed7953\"], [0.7777777777777778, \"#fb9f3a\"], [0.8888888888888888, \"#fdca26\"], [1.0, \"#f0f921\"]], \"type\": \"contour\"}], \"contourcarpet\": [{\"colorbar\": {\"outlinewidth\": 0, \"ticks\": \"\"}, \"type\": \"contourcarpet\"}], \"heatmap\": [{\"colorbar\": {\"outlinewidth\": 0, \"ticks\": \"\"}, \"colorscale\": [[0.0, \"#0d0887\"], [0.1111111111111111, \"#46039f\"], [0.2222222222222222, \"#7201a8\"], [0.3333333333333333, \"#9c179e\"], [0.4444444444444444, \"#bd3786\"], [0.5555555555555556, \"#d8576b\"], [0.6666666666666666, \"#ed7953\"], [0.7777777777777778, \"#fb9f3a\"], [0.8888888888888888, \"#fdca26\"], [1.0, \"#f0f921\"]], \"type\": \"heatmap\"}], \"heatmapgl\": [{\"colorbar\": {\"outlinewidth\": 0, \"ticks\": \"\"}, \"colorscale\": [[0.0, \"#0d0887\"], [0.1111111111111111, \"#46039f\"], [0.2222222222222222, \"#7201a8\"], [0.3333333333333333, \"#9c179e\"], [0.4444444444444444, \"#bd3786\"], [0.5555555555555556, \"#d8576b\"], [0.6666666666666666, \"#ed7953\"], [0.7777777777777778, \"#fb9f3a\"], [0.8888888888888888, \"#fdca26\"], [1.0, \"#f0f921\"]], \"type\": \"heatmapgl\"}], \"histogram\": [{\"marker\": {\"colorbar\": {\"outlinewidth\": 0, \"ticks\": \"\"}}, \"type\": \"histogram\"}], \"histogram2d\": [{\"colorbar\": {\"outlinewidth\": 0, \"ticks\": \"\"}, \"colorscale\": [[0.0, \"#0d0887\"], [0.1111111111111111, \"#46039f\"], [0.2222222222222222, \"#7201a8\"], [0.3333333333333333, \"#9c179e\"], [0.4444444444444444, \"#bd3786\"], [0.5555555555555556, \"#d8576b\"], [0.6666666666666666, \"#ed7953\"], [0.7777777777777778, \"#fb9f3a\"], [0.8888888888888888, \"#fdca26\"], [1.0, \"#f0f921\"]], \"type\": \"histogram2d\"}], \"histogram2dcontour\": [{\"colorbar\": {\"outlinewidth\": 0, \"ticks\": \"\"}, \"colorscale\": [[0.0, \"#0d0887\"], [0.1111111111111111, \"#46039f\"], [0.2222222222222222, \"#7201a8\"], [0.3333333333333333, \"#9c179e\"], [0.4444444444444444, \"#bd3786\"], [0.5555555555555556, \"#d8576b\"], [0.6666666666666666, \"#ed7953\"], [0.7777777777777778, \"#fb9f3a\"], [0.8888888888888888, \"#fdca26\"], [1.0, \"#f0f921\"]], \"type\": \"histogram2dcontour\"}], \"mesh3d\": [{\"colorbar\": {\"outlinewidth\": 0, \"ticks\": \"\"}, \"type\": \"mesh3d\"}], \"parcoords\": [{\"line\": {\"colorbar\": {\"outlinewidth\": 0, \"ticks\": \"\"}}, \"type\": \"parcoords\"}], \"pie\": [{\"automargin\": true, \"type\": \"pie\"}], \"scatter\": [{\"marker\": {\"colorbar\": {\"outlinewidth\": 0, \"ticks\": \"\"}}, \"type\": \"scatter\"}], \"scatter3d\": [{\"line\": {\"colorbar\": {\"outlinewidth\": 0, \"ticks\": \"\"}}, \"marker\": {\"colorbar\": {\"outlinewidth\": 0, \"ticks\": \"\"}}, \"type\": \"scatter3d\"}], \"scattercarpet\": [{\"marker\": {\"colorbar\": {\"outlinewidth\": 0, \"ticks\": \"\"}}, \"type\": \"scattercarpet\"}], \"scattergeo\": [{\"marker\": {\"colorbar\": {\"outlinewidth\": 0, \"ticks\": \"\"}}, \"type\": \"scattergeo\"}], \"scattergl\": [{\"marker\": {\"colorbar\": {\"outlinewidth\": 0, \"ticks\": \"\"}}, \"type\": \"scattergl\"}], \"scattermapbox\": [{\"marker\": {\"colorbar\": {\"outlinewidth\": 0, \"ticks\": \"\"}}, \"type\": \"scattermapbox\"}], \"scatterpolar\": [{\"marker\": {\"colorbar\": {\"outlinewidth\": 0, \"ticks\": \"\"}}, \"type\": \"scatterpolar\"}], \"scatterpolargl\": [{\"marker\": {\"colorbar\": {\"outlinewidth\": 0, \"ticks\": \"\"}}, \"type\": \"scatterpolargl\"}], \"scatterternary\": [{\"marker\": {\"colorbar\": {\"outlinewidth\": 0, \"ticks\": \"\"}}, \"type\": \"scatterternary\"}], \"surface\": [{\"colorbar\": {\"outlinewidth\": 0, \"ticks\": \"\"}, \"colorscale\": [[0.0, \"#0d0887\"], [0.1111111111111111, \"#46039f\"], [0.2222222222222222, \"#7201a8\"], [0.3333333333333333, \"#9c179e\"], [0.4444444444444444, \"#bd3786\"], [0.5555555555555556, \"#d8576b\"], [0.6666666666666666, \"#ed7953\"], [0.7777777777777778, \"#fb9f3a\"], [0.8888888888888888, \"#fdca26\"], [1.0, \"#f0f921\"]], \"type\": \"surface\"}], \"table\": [{\"cells\": {\"fill\": {\"color\": \"#EBF0F8\"}, \"line\": {\"color\": \"white\"}}, \"header\": {\"fill\": {\"color\": \"#C8D4E3\"}, \"line\": {\"color\": \"white\"}}, \"type\": \"table\"}]}, \"layout\": {\"annotationdefaults\": {\"arrowcolor\": \"#2a3f5f\", \"arrowhead\": 0, \"arrowwidth\": 1}, \"coloraxis\": {\"colorbar\": {\"outlinewidth\": 0, \"ticks\": \"\"}}, \"colorscale\": {\"diverging\": [[0, \"#8e0152\"], [0.1, \"#c51b7d\"], [0.2, \"#de77ae\"], [0.3, \"#f1b6da\"], [0.4, \"#fde0ef\"], [0.5, \"#f7f7f7\"], [0.6, \"#e6f5d0\"], [0.7, \"#b8e186\"], [0.8, \"#7fbc41\"], [0.9, \"#4d9221\"], [1, \"#276419\"]], \"sequential\": [[0.0, \"#0d0887\"], [0.1111111111111111, \"#46039f\"], [0.2222222222222222, \"#7201a8\"], [0.3333333333333333, \"#9c179e\"], [0.4444444444444444, \"#bd3786\"], [0.5555555555555556, \"#d8576b\"], [0.6666666666666666, \"#ed7953\"], [0.7777777777777778, \"#fb9f3a\"], [0.8888888888888888, \"#fdca26\"], [1.0, \"#f0f921\"]], \"sequentialminus\": [[0.0, \"#0d0887\"], [0.1111111111111111, \"#46039f\"], [0.2222222222222222, \"#7201a8\"], [0.3333333333333333, \"#9c179e\"], [0.4444444444444444, \"#bd3786\"], [0.5555555555555556, \"#d8576b\"], [0.6666666666666666, \"#ed7953\"], [0.7777777777777778, \"#fb9f3a\"], [0.8888888888888888, \"#fdca26\"], [1.0, \"#f0f921\"]]}, \"colorway\": [\"#636efa\", \"#EF553B\", \"#00cc96\", \"#ab63fa\", \"#FFA15A\", \"#19d3f3\", \"#FF6692\", \"#B6E880\", \"#FF97FF\", \"#FECB52\"], \"font\": {\"color\": \"#2a3f5f\"}, \"geo\": {\"bgcolor\": \"white\", \"lakecolor\": \"white\", \"landcolor\": \"#E5ECF6\", \"showlakes\": true, \"showland\": true, \"subunitcolor\": \"white\"}, \"hoverlabel\": {\"align\": \"left\"}, \"hovermode\": \"closest\", \"mapbox\": {\"style\": \"light\"}, \"paper_bgcolor\": \"white\", \"plot_bgcolor\": \"#E5ECF6\", \"polar\": {\"angularaxis\": {\"gridcolor\": \"white\", \"linecolor\": \"white\", \"ticks\": \"\"}, \"bgcolor\": \"#E5ECF6\", \"radialaxis\": {\"gridcolor\": \"white\", \"linecolor\": \"white\", \"ticks\": \"\"}}, \"scene\": {\"xaxis\": {\"backgroundcolor\": \"#E5ECF6\", \"gridcolor\": \"white\", \"gridwidth\": 2, \"linecolor\": \"white\", \"showbackground\": true, \"ticks\": \"\", \"zerolinecolor\": \"white\"}, \"yaxis\": {\"backgroundcolor\": \"#E5ECF6\", \"gridcolor\": \"white\", \"gridwidth\": 2, \"linecolor\": \"white\", \"showbackground\": true, \"ticks\": \"\", \"zerolinecolor\": \"white\"}, \"zaxis\": {\"backgroundcolor\": \"#E5ECF6\", \"gridcolor\": \"white\", \"gridwidth\": 2, \"linecolor\": \"white\", \"showbackground\": true, \"ticks\": \"\", \"zerolinecolor\": \"white\"}}, \"shapedefaults\": {\"line\": {\"color\": \"#2a3f5f\"}}, \"ternary\": {\"aaxis\": {\"gridcolor\": \"white\", \"linecolor\": \"white\", \"ticks\": \"\"}, \"baxis\": {\"gridcolor\": \"white\", \"linecolor\": \"white\", \"ticks\": \"\"}, \"bgcolor\": \"#E5ECF6\", \"caxis\": {\"gridcolor\": \"white\", \"linecolor\": \"white\", \"ticks\": \"\"}}, \"title\": {\"x\": 0.05}, \"xaxis\": {\"automargin\": true, \"gridcolor\": \"white\", \"linecolor\": \"white\", \"ticks\": \"\", \"title\": {\"standoff\": 15}, \"zerolinecolor\": \"white\", \"zerolinewidth\": 2}, \"yaxis\": {\"automargin\": true, \"gridcolor\": \"white\", \"linecolor\": \"white\", \"ticks\": \"\", \"title\": {\"standoff\": 15}, \"zerolinecolor\": \"white\", \"zerolinewidth\": 2}}}, \"title\": {\"text\": \"Optimization History Plot\"}, \"xaxis\": {\"title\": {\"text\": \"#Trials\"}}, \"yaxis\": {\"title\": {\"text\": \"Objective Value\"}}},\n",
              "                        {\"responsive\": true}\n",
              "                    ).then(function(){\n",
              "                            \n",
              "var gd = document.getElementById('9c3733c0-62d6-46e2-9d9a-ba7fc7005aaf');\n",
              "var x = new MutationObserver(function (mutations, observer) {{\n",
              "        var display = window.getComputedStyle(gd).display;\n",
              "        if (!display || display === 'none') {{\n",
              "            console.log([gd, 'removed!']);\n",
              "            Plotly.purge(gd);\n",
              "            observer.disconnect();\n",
              "        }}\n",
              "}});\n",
              "\n",
              "// Listen for the removal of the full notebook cells\n",
              "var notebookContainer = gd.closest('#notebook-container');\n",
              "if (notebookContainer) {{\n",
              "    x.observe(notebookContainer, {childList: true});\n",
              "}}\n",
              "\n",
              "// Listen for the clearing of the current output cell\n",
              "var outputEl = gd.closest('.output');\n",
              "if (outputEl) {{\n",
              "    x.observe(outputEl, {childList: true});\n",
              "}}\n",
              "\n",
              "                        })\n",
              "                };\n",
              "                \n",
              "            </script>\n",
              "        </div>\n",
              "</body>\n",
              "</html>"
            ]
          },
          "metadata": {
            "tags": []
          }
        }
      ]
    },
    {
      "cell_type": "code",
      "metadata": {
        "colab": {
          "base_uri": "https://localhost:8080/",
          "height": 542
        },
        "id": "4JFVEtgcX5Yh",
        "outputId": "ab2a5f33-f3c8-4e1e-f656-90a7d9d97d61"
      },
      "source": [
        "optuna.visualization.plot_slice(study)"
      ],
      "execution_count": 104,
      "outputs": [
        {
          "output_type": "display_data",
          "data": {
            "text/html": [
              "<html>\n",
              "<head><meta charset=\"utf-8\" /></head>\n",
              "<body>\n",
              "    <div>\n",
              "            <script src=\"https://cdnjs.cloudflare.com/ajax/libs/mathjax/2.7.5/MathJax.js?config=TeX-AMS-MML_SVG\"></script><script type=\"text/javascript\">if (window.MathJax) {MathJax.Hub.Config({SVG: {font: \"STIX-Web\"}});}</script>\n",
              "                <script type=\"text/javascript\">window.PlotlyConfig = {MathJaxConfig: 'local'};</script>\n",
              "        <script src=\"https://cdn.plot.ly/plotly-latest.min.js\"></script>    \n",
              "            <div id=\"ee2db92d-fd5a-470f-b292-ab1aa26a449e\" class=\"plotly-graph-div\" style=\"height:525px; width:100%;\"></div>\n",
              "            <script type=\"text/javascript\">\n",
              "                \n",
              "                    window.PLOTLYENV=window.PLOTLYENV || {};\n",
              "                    \n",
              "                if (document.getElementById(\"ee2db92d-fd5a-470f-b292-ab1aa26a449e\")) {\n",
              "                    Plotly.newPlot(\n",
              "                        'ee2db92d-fd5a-470f-b292-ab1aa26a449e',\n",
              "                        [{\"marker\": {\"color\": [0, 1, 2, 3, 4, 5, 11, 12, 13, 16, 22, 23, 25, 30, 31, 32, 34, 35, 36], \"colorbar\": {\"title\": {\"text\": \"#Trials\"}, \"x\": 1.0, \"xpad\": 40}, \"colorscale\": [[0.0, \"rgb(247,251,255)\"], [0.125, \"rgb(222,235,247)\"], [0.25, \"rgb(198,219,239)\"], [0.375, \"rgb(158,202,225)\"], [0.5, \"rgb(107,174,214)\"], [0.625, \"rgb(66,146,198)\"], [0.75, \"rgb(33,113,181)\"], [0.875, \"rgb(8,81,156)\"], [1.0, \"rgb(8,48,107)\"]], \"line\": {\"color\": \"Grey\", \"width\": 0.5}, \"showscale\": true}, \"mode\": \"markers\", \"showlegend\": false, \"type\": \"scatter\", \"x\": [915, 344, 827, 995, 589, 704, 413, 401, 433, 363, 408, 256, 215, 283, 292, 280, 223, 233, 228], \"xaxis\": \"x\", \"y\": [0.060396406799554825, 0.05813058093190193, 0.19574564695358276, 0.09840115159749985, 0.06870316714048386, 0.058285053819417953, 0.05724121257662773, 0.057562824338674545, 0.058044686913490295, 0.057093292474746704, 0.055782102048397064, 0.05677107721567154, 0.05770513787865639, 0.056908827275037766, 0.05693284049630165, 0.05746982991695404, 0.05521928891539574, 0.055354535579681396, 0.05586761236190796], \"yaxis\": \"y\"}, {\"marker\": {\"color\": [0, 1, 2, 3, 4, 5, 11, 12, 13, 16, 22, 23, 25, 30, 31, 32, 34, 35, 36], \"colorbar\": {\"title\": {\"text\": \"#Trials\"}, \"x\": 1.0, \"xpad\": 40}, \"colorscale\": [[0.0, \"rgb(247,251,255)\"], [0.125, \"rgb(222,235,247)\"], [0.25, \"rgb(198,219,239)\"], [0.375, \"rgb(158,202,225)\"], [0.5, \"rgb(107,174,214)\"], [0.625, \"rgb(66,146,198)\"], [0.75, \"rgb(33,113,181)\"], [0.875, \"rgb(8,81,156)\"], [1.0, \"rgb(8,48,107)\"]], \"line\": {\"color\": \"Grey\", \"width\": 0.5}, \"showscale\": false}, \"mode\": \"markers\", \"showlegend\": false, \"type\": \"scatter\", \"x\": [4, 4, 2, 4, 3, 4, 4, 4, 4, 4, 4, 4, 4, 4, 4, 4, 4, 4, 4], \"xaxis\": \"x2\", \"y\": [0.060396406799554825, 0.05813058093190193, 0.19574564695358276, 0.09840115159749985, 0.06870316714048386, 0.058285053819417953, 0.05724121257662773, 0.057562824338674545, 0.058044686913490295, 0.057093292474746704, 0.055782102048397064, 0.05677107721567154, 0.05770513787865639, 0.056908827275037766, 0.05693284049630165, 0.05746982991695404, 0.05521928891539574, 0.055354535579681396, 0.05586761236190796], \"yaxis\": \"y2\"}, {\"marker\": {\"color\": [0, 1, 2, 3, 4, 5, 11, 12, 13, 16, 22, 23, 25, 30, 31, 32, 34, 35, 36], \"colorbar\": {\"title\": {\"text\": \"#Trials\"}, \"x\": 1.0, \"xpad\": 40}, \"colorscale\": [[0.0, \"rgb(247,251,255)\"], [0.125, \"rgb(222,235,247)\"], [0.25, \"rgb(198,219,239)\"], [0.375, \"rgb(158,202,225)\"], [0.5, \"rgb(107,174,214)\"], [0.625, \"rgb(66,146,198)\"], [0.75, \"rgb(33,113,181)\"], [0.875, \"rgb(8,81,156)\"], [1.0, \"rgb(8,48,107)\"]], \"line\": {\"color\": \"Grey\", \"width\": 0.5}, \"showscale\": false}, \"mode\": \"markers\", \"showlegend\": false, \"type\": \"scatter\", \"x\": [0.02753233629863962, 0.0033968441218981556, 0.0752829982290068, 0.00019691144380747428, 0.007358623211282942, 0.007907106259525643, 0.006439061020449375, 0.006845489926146014, 0.009147107381596393, 0.004161292929719075, 0.005950748043354869, 0.014474997653027073, 0.013151906518355128, 0.004378912180824545, 0.011403062782993668, 0.011356694185586146, 0.0048300570827042475, 0.005655750339008501, 0.005964418676704228], \"xaxis\": \"x3\", \"y\": [0.060396406799554825, 0.05813058093190193, 0.19574564695358276, 0.09840115159749985, 0.06870316714048386, 0.058285053819417953, 0.05724121257662773, 0.057562824338674545, 0.058044686913490295, 0.057093292474746704, 0.055782102048397064, 0.05677107721567154, 0.05770513787865639, 0.056908827275037766, 0.05693284049630165, 0.05746982991695404, 0.05521928891539574, 0.055354535579681396, 0.05586761236190796], \"yaxis\": \"y3\"}],\n",
              "                        {\"template\": {\"data\": {\"bar\": [{\"error_x\": {\"color\": \"#2a3f5f\"}, \"error_y\": {\"color\": \"#2a3f5f\"}, \"marker\": {\"line\": {\"color\": \"#E5ECF6\", \"width\": 0.5}}, \"type\": \"bar\"}], \"barpolar\": [{\"marker\": {\"line\": {\"color\": \"#E5ECF6\", \"width\": 0.5}}, \"type\": \"barpolar\"}], \"carpet\": [{\"aaxis\": {\"endlinecolor\": \"#2a3f5f\", \"gridcolor\": \"white\", \"linecolor\": \"white\", \"minorgridcolor\": \"white\", \"startlinecolor\": \"#2a3f5f\"}, \"baxis\": {\"endlinecolor\": \"#2a3f5f\", \"gridcolor\": \"white\", \"linecolor\": \"white\", \"minorgridcolor\": \"white\", \"startlinecolor\": \"#2a3f5f\"}, \"type\": \"carpet\"}], \"choropleth\": [{\"colorbar\": {\"outlinewidth\": 0, \"ticks\": \"\"}, \"type\": \"choropleth\"}], \"contour\": [{\"colorbar\": {\"outlinewidth\": 0, \"ticks\": \"\"}, \"colorscale\": [[0.0, \"#0d0887\"], [0.1111111111111111, \"#46039f\"], [0.2222222222222222, \"#7201a8\"], [0.3333333333333333, \"#9c179e\"], [0.4444444444444444, \"#bd3786\"], [0.5555555555555556, \"#d8576b\"], [0.6666666666666666, \"#ed7953\"], [0.7777777777777778, \"#fb9f3a\"], [0.8888888888888888, \"#fdca26\"], [1.0, \"#f0f921\"]], \"type\": \"contour\"}], \"contourcarpet\": [{\"colorbar\": {\"outlinewidth\": 0, \"ticks\": \"\"}, \"type\": \"contourcarpet\"}], \"heatmap\": [{\"colorbar\": {\"outlinewidth\": 0, \"ticks\": \"\"}, \"colorscale\": [[0.0, \"#0d0887\"], [0.1111111111111111, \"#46039f\"], [0.2222222222222222, \"#7201a8\"], [0.3333333333333333, \"#9c179e\"], [0.4444444444444444, \"#bd3786\"], [0.5555555555555556, \"#d8576b\"], [0.6666666666666666, \"#ed7953\"], [0.7777777777777778, \"#fb9f3a\"], [0.8888888888888888, \"#fdca26\"], [1.0, \"#f0f921\"]], \"type\": \"heatmap\"}], \"heatmapgl\": [{\"colorbar\": {\"outlinewidth\": 0, \"ticks\": \"\"}, \"colorscale\": [[0.0, \"#0d0887\"], [0.1111111111111111, \"#46039f\"], [0.2222222222222222, \"#7201a8\"], [0.3333333333333333, \"#9c179e\"], [0.4444444444444444, \"#bd3786\"], [0.5555555555555556, \"#d8576b\"], [0.6666666666666666, \"#ed7953\"], [0.7777777777777778, \"#fb9f3a\"], [0.8888888888888888, \"#fdca26\"], [1.0, \"#f0f921\"]], \"type\": \"heatmapgl\"}], \"histogram\": [{\"marker\": {\"colorbar\": {\"outlinewidth\": 0, \"ticks\": \"\"}}, \"type\": \"histogram\"}], \"histogram2d\": [{\"colorbar\": {\"outlinewidth\": 0, \"ticks\": \"\"}, \"colorscale\": [[0.0, \"#0d0887\"], [0.1111111111111111, \"#46039f\"], [0.2222222222222222, \"#7201a8\"], [0.3333333333333333, \"#9c179e\"], [0.4444444444444444, \"#bd3786\"], [0.5555555555555556, \"#d8576b\"], [0.6666666666666666, \"#ed7953\"], [0.7777777777777778, \"#fb9f3a\"], [0.8888888888888888, \"#fdca26\"], [1.0, \"#f0f921\"]], \"type\": \"histogram2d\"}], \"histogram2dcontour\": [{\"colorbar\": {\"outlinewidth\": 0, \"ticks\": \"\"}, \"colorscale\": [[0.0, \"#0d0887\"], [0.1111111111111111, \"#46039f\"], [0.2222222222222222, \"#7201a8\"], [0.3333333333333333, \"#9c179e\"], [0.4444444444444444, \"#bd3786\"], [0.5555555555555556, \"#d8576b\"], [0.6666666666666666, \"#ed7953\"], [0.7777777777777778, \"#fb9f3a\"], [0.8888888888888888, \"#fdca26\"], [1.0, \"#f0f921\"]], \"type\": \"histogram2dcontour\"}], \"mesh3d\": [{\"colorbar\": {\"outlinewidth\": 0, \"ticks\": \"\"}, \"type\": \"mesh3d\"}], \"parcoords\": [{\"line\": {\"colorbar\": {\"outlinewidth\": 0, \"ticks\": \"\"}}, \"type\": \"parcoords\"}], \"pie\": [{\"automargin\": true, \"type\": \"pie\"}], \"scatter\": [{\"marker\": {\"colorbar\": {\"outlinewidth\": 0, \"ticks\": \"\"}}, \"type\": \"scatter\"}], \"scatter3d\": [{\"line\": {\"colorbar\": {\"outlinewidth\": 0, \"ticks\": \"\"}}, \"marker\": {\"colorbar\": {\"outlinewidth\": 0, \"ticks\": \"\"}}, \"type\": \"scatter3d\"}], \"scattercarpet\": [{\"marker\": {\"colorbar\": {\"outlinewidth\": 0, \"ticks\": \"\"}}, \"type\": \"scattercarpet\"}], \"scattergeo\": [{\"marker\": {\"colorbar\": {\"outlinewidth\": 0, \"ticks\": \"\"}}, \"type\": \"scattergeo\"}], \"scattergl\": [{\"marker\": {\"colorbar\": {\"outlinewidth\": 0, \"ticks\": \"\"}}, \"type\": \"scattergl\"}], \"scattermapbox\": [{\"marker\": {\"colorbar\": {\"outlinewidth\": 0, \"ticks\": \"\"}}, \"type\": \"scattermapbox\"}], \"scatterpolar\": [{\"marker\": {\"colorbar\": {\"outlinewidth\": 0, \"ticks\": \"\"}}, \"type\": \"scatterpolar\"}], \"scatterpolargl\": [{\"marker\": {\"colorbar\": {\"outlinewidth\": 0, \"ticks\": \"\"}}, \"type\": \"scatterpolargl\"}], \"scatterternary\": [{\"marker\": {\"colorbar\": {\"outlinewidth\": 0, \"ticks\": \"\"}}, \"type\": \"scatterternary\"}], \"surface\": [{\"colorbar\": {\"outlinewidth\": 0, \"ticks\": \"\"}, \"colorscale\": [[0.0, \"#0d0887\"], [0.1111111111111111, \"#46039f\"], [0.2222222222222222, \"#7201a8\"], [0.3333333333333333, \"#9c179e\"], [0.4444444444444444, \"#bd3786\"], [0.5555555555555556, \"#d8576b\"], [0.6666666666666666, \"#ed7953\"], [0.7777777777777778, \"#fb9f3a\"], [0.8888888888888888, \"#fdca26\"], [1.0, \"#f0f921\"]], \"type\": \"surface\"}], \"table\": [{\"cells\": {\"fill\": {\"color\": \"#EBF0F8\"}, \"line\": {\"color\": \"white\"}}, \"header\": {\"fill\": {\"color\": \"#C8D4E3\"}, \"line\": {\"color\": \"white\"}}, \"type\": \"table\"}]}, \"layout\": {\"annotationdefaults\": {\"arrowcolor\": \"#2a3f5f\", \"arrowhead\": 0, \"arrowwidth\": 1}, \"coloraxis\": {\"colorbar\": {\"outlinewidth\": 0, \"ticks\": \"\"}}, \"colorscale\": {\"diverging\": [[0, \"#8e0152\"], [0.1, \"#c51b7d\"], [0.2, \"#de77ae\"], [0.3, \"#f1b6da\"], [0.4, \"#fde0ef\"], [0.5, \"#f7f7f7\"], [0.6, \"#e6f5d0\"], [0.7, \"#b8e186\"], [0.8, \"#7fbc41\"], [0.9, \"#4d9221\"], [1, \"#276419\"]], \"sequential\": [[0.0, \"#0d0887\"], [0.1111111111111111, \"#46039f\"], [0.2222222222222222, \"#7201a8\"], [0.3333333333333333, \"#9c179e\"], [0.4444444444444444, \"#bd3786\"], [0.5555555555555556, \"#d8576b\"], [0.6666666666666666, \"#ed7953\"], [0.7777777777777778, \"#fb9f3a\"], [0.8888888888888888, \"#fdca26\"], [1.0, \"#f0f921\"]], \"sequentialminus\": [[0.0, \"#0d0887\"], [0.1111111111111111, \"#46039f\"], [0.2222222222222222, \"#7201a8\"], [0.3333333333333333, \"#9c179e\"], [0.4444444444444444, \"#bd3786\"], [0.5555555555555556, \"#d8576b\"], [0.6666666666666666, \"#ed7953\"], [0.7777777777777778, \"#fb9f3a\"], [0.8888888888888888, \"#fdca26\"], [1.0, \"#f0f921\"]]}, \"colorway\": [\"#636efa\", \"#EF553B\", \"#00cc96\", \"#ab63fa\", \"#FFA15A\", \"#19d3f3\", \"#FF6692\", \"#B6E880\", \"#FF97FF\", \"#FECB52\"], \"font\": {\"color\": \"#2a3f5f\"}, \"geo\": {\"bgcolor\": \"white\", \"lakecolor\": \"white\", \"landcolor\": \"#E5ECF6\", \"showlakes\": true, \"showland\": true, \"subunitcolor\": \"white\"}, \"hoverlabel\": {\"align\": \"left\"}, \"hovermode\": \"closest\", \"mapbox\": {\"style\": \"light\"}, \"paper_bgcolor\": \"white\", \"plot_bgcolor\": \"#E5ECF6\", \"polar\": {\"angularaxis\": {\"gridcolor\": \"white\", \"linecolor\": \"white\", \"ticks\": \"\"}, \"bgcolor\": \"#E5ECF6\", \"radialaxis\": {\"gridcolor\": \"white\", \"linecolor\": \"white\", \"ticks\": \"\"}}, \"scene\": {\"xaxis\": {\"backgroundcolor\": \"#E5ECF6\", \"gridcolor\": \"white\", \"gridwidth\": 2, \"linecolor\": \"white\", \"showbackground\": true, \"ticks\": \"\", \"zerolinecolor\": \"white\"}, \"yaxis\": {\"backgroundcolor\": \"#E5ECF6\", \"gridcolor\": \"white\", \"gridwidth\": 2, \"linecolor\": \"white\", \"showbackground\": true, \"ticks\": \"\", \"zerolinecolor\": \"white\"}, \"zaxis\": {\"backgroundcolor\": \"#E5ECF6\", \"gridcolor\": \"white\", \"gridwidth\": 2, \"linecolor\": \"white\", \"showbackground\": true, \"ticks\": \"\", \"zerolinecolor\": \"white\"}}, \"shapedefaults\": {\"line\": {\"color\": \"#2a3f5f\"}}, \"ternary\": {\"aaxis\": {\"gridcolor\": \"white\", \"linecolor\": \"white\", \"ticks\": \"\"}, \"baxis\": {\"gridcolor\": \"white\", \"linecolor\": \"white\", \"ticks\": \"\"}, \"bgcolor\": \"#E5ECF6\", \"caxis\": {\"gridcolor\": \"white\", \"linecolor\": \"white\", \"ticks\": \"\"}}, \"title\": {\"x\": 0.05}, \"xaxis\": {\"automargin\": true, \"gridcolor\": \"white\", \"linecolor\": \"white\", \"ticks\": \"\", \"title\": {\"standoff\": 15}, \"zerolinecolor\": \"white\", \"zerolinewidth\": 2}, \"yaxis\": {\"automargin\": true, \"gridcolor\": \"white\", \"linecolor\": \"white\", \"ticks\": \"\", \"title\": {\"standoff\": 15}, \"zerolinecolor\": \"white\", \"zerolinewidth\": 2}}}, \"title\": {\"text\": \"Slice Plot\"}, \"xaxis\": {\"anchor\": \"y\", \"domain\": [0.0, 0.2888888888888889], \"title\": {\"text\": \"batch_size\"}}, \"xaxis2\": {\"anchor\": \"y2\", \"domain\": [0.35555555555555557, 0.6444444444444445], \"title\": {\"text\": \"encoded_space_dim\"}}, \"xaxis3\": {\"anchor\": \"y3\", \"domain\": [0.7111111111111111, 1.0], \"title\": {\"text\": \"lr\"}, \"type\": \"log\"}, \"yaxis\": {\"anchor\": \"x\", \"domain\": [0.0, 1.0], \"title\": {\"text\": \"Objective Value\"}}, \"yaxis2\": {\"anchor\": \"x2\", \"domain\": [0.0, 1.0], \"matches\": \"y\", \"showticklabels\": false}, \"yaxis3\": {\"anchor\": \"x3\", \"domain\": [0.0, 1.0], \"matches\": \"y\", \"showticklabels\": false}},\n",
              "                        {\"responsive\": true}\n",
              "                    ).then(function(){\n",
              "                            \n",
              "var gd = document.getElementById('ee2db92d-fd5a-470f-b292-ab1aa26a449e');\n",
              "var x = new MutationObserver(function (mutations, observer) {{\n",
              "        var display = window.getComputedStyle(gd).display;\n",
              "        if (!display || display === 'none') {{\n",
              "            console.log([gd, 'removed!']);\n",
              "            Plotly.purge(gd);\n",
              "            observer.disconnect();\n",
              "        }}\n",
              "}});\n",
              "\n",
              "// Listen for the removal of the full notebook cells\n",
              "var notebookContainer = gd.closest('#notebook-container');\n",
              "if (notebookContainer) {{\n",
              "    x.observe(notebookContainer, {childList: true});\n",
              "}}\n",
              "\n",
              "// Listen for the clearing of the current output cell\n",
              "var outputEl = gd.closest('.output');\n",
              "if (outputEl) {{\n",
              "    x.observe(outputEl, {childList: true});\n",
              "}}\n",
              "\n",
              "                        })\n",
              "                };\n",
              "                \n",
              "            </script>\n",
              "        </div>\n",
              "</body>\n",
              "</html>"
            ]
          },
          "metadata": {
            "tags": []
          }
        }
      ]
    },
    {
      "cell_type": "markdown",
      "metadata": {
        "id": "t3_H24K-yAKv"
      },
      "source": [
        "train a model with the best parameters"
      ]
    },
    {
      "cell_type": "code",
      "metadata": {
        "id": "Z5muYK8ZySzl"
      },
      "source": [
        "encoded_space_dim = best_params['encoded_space_dim']\r\n",
        "batch_size = best_params['batch_size']\r\n",
        "lr = best_params['lr']\r\n",
        "\r\n",
        "#make dataloaders\r\n",
        "train_dataloader = DataLoader(train_dataset, batch_size=batch_size, shuffle=True)\r\n",
        "val_dataloader = DataLoader(val_dataset, batch_size=batch_size, shuffle=True)\r\n",
        "\r\n",
        "# initialize models\r\n",
        "encoder = Encoder(encoded_space_dim=encoded_space_dim)\r\n",
        "decoder = Decoder(encoded_space_dim=encoded_space_dim)\r\n",
        "\r\n",
        "### Define the loss function\r\n",
        "loss_fn = torch.nn.MSELoss()\r\n",
        "\r\n",
        "### Define an optimizer (both for the encoder and the decoder!)\r\n",
        "\r\n",
        "params_to_optimize = [\r\n",
        "    {'params': encoder.parameters()},\r\n",
        "    {'params': decoder.parameters()}\r\n",
        "]\r\n",
        "optim = torch.optim.Adam(params_to_optimize, lr=lr, weight_decay=1e-5)\r\n",
        "\r\n",
        "\r\n",
        "# Move both the encoder and the decoder to the selected device\r\n",
        "encoder.to(device)\r\n",
        "decoder.to(device)\r\n",
        "\r\n",
        "\r\n",
        "# Training Loop\r\n",
        "display = True\r\n",
        "num_epochs = 50\r\n",
        "\r\n",
        "train_loss_record = []\r\n",
        "val_loss_record = []\r\n",
        "for epoch in range(num_epochs):\r\n",
        "    \r\n",
        "    print('EPOCH: %d/%d' % (epoch + 1, num_epochs))\r\n",
        "\r\n",
        "    train_loss_batch_record = []\r\n",
        "    val_loss_batch_record = []\r\n",
        "    ### Training (use the training function)\r\n",
        "    train_loss_batch = train_epoch(\r\n",
        "        encoder=encoder, \r\n",
        "        decoder=decoder, \r\n",
        "        device=device, \r\n",
        "        dataloader=train_dataloader, \r\n",
        "        loss_fn=loss_fn, \r\n",
        "        optimizer=optim)\r\n",
        "    train_loss_batch_record.append(train_loss_batch)\r\n",
        "    ### Validation  (use the testing function)\r\n",
        "    val_loss_batch = test_epoch(\r\n",
        "        encoder=encoder, \r\n",
        "        decoder=decoder, \r\n",
        "        device=device, \r\n",
        "        dataloader=val_dataloader, \r\n",
        "        loss_fn=loss_fn)\r\n",
        "    val_loss_batch_record.append(val_loss_batch)\r\n",
        "    if display:\r\n",
        "    # Print Validationloss\r\n",
        "        print('\\n\\n\\t TRAINING - EPOCH %d/%d - loss: %f\\n\\n' % (epoch + 1, num_epochs, \r\n",
        "                                                                sum(train_loss_batch_record)/len(train_loss_batch_record)))\r\n",
        "        print('\\n\\n\\t VALIDATION - EPOCH %d/%d - loss: %f\\n\\n' % (epoch + 1, num_epochs, val_loss_batch))\r\n",
        "\r\n",
        "    #store losses for this epoch\r\n",
        "    train_loss_record.append(sum(train_loss_batch_record)/len(train_loss_batch_record))\r\n",
        "    val_loss_record.append(sum(val_loss_batch_record)/len(val_loss_batch_record))\r\n",
        "\r\n",
        "    if display:\r\n",
        "        ### Plot progress\r\n",
        "        # Get the output of a specific image (the test image at index 0 in this case)\r\n",
        "        img = test_dataset[0][0].unsqueeze(0).to(device)\r\n",
        "        encoder.eval()\r\n",
        "        decoder.eval()\r\n",
        "        with torch.no_grad():\r\n",
        "            rec_img  = decoder(encoder(img))\r\n",
        "        # Plot the reconstructed image\r\n",
        "        fig, axs = plt.subplots(1, 2, figsize=(6,3))\r\n",
        "        axs[0].imshow(img.cpu().squeeze().numpy(), cmap='gray_r')\r\n",
        "        axs[0].set_title('Original image')\r\n",
        "        axs[1].imshow(rec_img.cpu().squeeze().numpy(), cmap='gray_r')\r\n",
        "        axs[1].set_title('Reconstructed image (EPOCH %d)' % (epoch + 1))\r\n",
        "        plt.tight_layout()\r\n",
        "        plt.pause(0.1)\r\n"
      ],
      "execution_count": null,
      "outputs": []
    },
    {
      "cell_type": "code",
      "metadata": {
        "id": "hUCDagcnz_Z0"
      },
      "source": [
        "best_encoder = encoder\r\n",
        "best_decoder = decoder"
      ],
      "execution_count": 110,
      "outputs": []
    },
    {
      "cell_type": "markdown",
      "metadata": {
        "id": "JaD37hax2NdT"
      },
      "source": [
        "## Examples of reconstructed samples"
      ]
    },
    {
      "cell_type": "code",
      "metadata": {
        "id": "NgqEEyxR2UC8",
        "outputId": "f99fd538-d132-4be9-a48c-3713da8c312d",
        "colab": {
          "base_uri": "https://localhost:8080/",
          "height": 729
        }
      },
      "source": [
        "rows = 5\r\n",
        "fig, ax = plt.subplots(5, 2, figsize=(rows,rows*2))\r\n",
        "for i in range(rows):\r\n",
        "    img, label = random.choice(test_dataset)\r\n",
        "    img = img.unsqueeze(0).to(device)\r\n",
        "    best_encoder.eval()\r\n",
        "    best_decoder.eval()\r\n",
        "    with torch.no_grad():\r\n",
        "        rec_img  = best_decoder(best_encoder(img))\r\n",
        "    ax[i,0].imshow(img.cpu().squeeze().numpy(), cmap='gray_r')\r\n",
        "    ax[i,0].set_title('original')\r\n",
        "    ax[i,0].set_xticks([])\r\n",
        "    ax[i,0].set_yticks([])\r\n",
        "    ax[i,1].imshow(rec_img.cpu().squeeze().numpy(), cmap='gray_r')\r\n",
        "    ax[i,1].set_title(f'Label:{letter[label]}' )\r\n",
        "    ax[i,1].set_xticks([])\r\n",
        "    ax[i,1].set_yticks([])\r\n",
        "plt.tight_layout()"
      ],
      "execution_count": 123,
      "outputs": [
        {
          "output_type": "display_data",
          "data": {
            "image/png": "[encoded data removed]",
            "text/plain": [
              "<Figure size 360x720 with 10 Axes>"
            ]
          },
          "metadata": {
            "tags": []
          }
        }
      ]
    },
    {
      "cell_type": "markdown",
      "metadata": {
        "id": "Iv83mEJLjsHG"
      },
      "source": [
        "# Latent space analysis"
      ]
    },
    {
      "cell_type": "code",
      "metadata": {
        "id": "TRbQ5LtkMbr-"
      },
      "source": [
        "# # Load network parameters\n",
        "# encoder.load_state_dict(torch.load('encoder_params.pth'))\n",
        "# decoder.load_state_dict(torch.load('decoder_params.pth'))"
      ],
      "execution_count": null,
      "outputs": []
    },
    {
      "cell_type": "markdown",
      "metadata": {
        "id": "srEtgsS0rWkt"
      },
      "source": [
        "Function for generation of encoded samples"
      ]
    },
    {
      "cell_type": "code",
      "metadata": {
        "id": "bi2ZD1ALkVaK"
      },
      "source": [
        "### Get the encoded representation of the test samples\n",
        "def make_encoded_samples(dataset, encoder, device):\n",
        "    encoded_samples = []\n",
        "    for sample in tqdm(dataset):\n",
        "        img = sample[0].unsqueeze(0).to(device)\n",
        "        label = sample[1]\n",
        "        # Encode image\n",
        "        encoder.eval()\n",
        "        with torch.no_grad():\n",
        "            encoded_img  = encoder(img)\n",
        "        # Append to list\n",
        "        encoded_img = encoded_img.flatten().cpu().numpy()\n",
        "        encoded_sample = {f\"Enc. Variable {i}\": enc for i, enc in enumerate(encoded_img)}\n",
        "        encoded_sample['label'] = letter[label]\n",
        "        encoded_samples.append(encoded_sample)\n",
        "    \n",
        "    return encoded_samples"
      ],
      "execution_count": 111,
      "outputs": []
    },
    {
      "cell_type": "code",
      "metadata": {
        "colab": {
          "base_uri": "https://localhost:8080/"
        },
        "id": "2dAEqBHQrZAS",
        "outputId": "09ca60a8-8027-4793-9b96-fe9907fcb547"
      },
      "source": [
        "encoded_samples = make_encoded_samples(test_dataset, best_encoder, device)\r\n"
      ],
      "execution_count": 112,
      "outputs": [
        {
          "output_type": "stream",
          "text": [
            "100%|██████████| 3745/3745 [00:02<00:00, 1497.54it/s]\n"
          ],
          "name": "stderr"
        }
      ]
    },
    {
      "cell_type": "code",
      "metadata": {
        "id": "KmJVlIz31iCr",
        "outputId": "70734da9-771c-4926-ce30-3b9aaa418f2a",
        "colab": {
          "base_uri": "https://localhost:8080/"
        }
      },
      "source": [
        "print(np.shape(encoded_samples))"
      ],
      "execution_count": 117,
      "outputs": [
        {
          "output_type": "stream",
          "text": [
            "(3745, 5)\n"
          ],
          "name": "stdout"
        }
      ]
    },
    {
      "cell_type": "markdown",
      "metadata": {
        "id": "Vdo-F0IX1RjW"
      },
      "source": [
        "## Encoded examples"
      ]
    },
    {
      "cell_type": "code",
      "metadata": {
        "colab": {
          "base_uri": "https://localhost:8080/"
        },
        "id": "DyFpmJa7wPgN",
        "outputId": "8ac46086-a686-4041-d834-2c0e912e390e"
      },
      "source": [
        "# print(type(encoded_samples))\r\n",
        "# print(np.shape(encoded_samples))\r\n",
        "# print(encoded_samples[0])"
      ],
      "execution_count": null,
      "outputs": [
        {
          "output_type": "stream",
          "text": [
            "<class 'list'>\n",
            "(3745,)\n",
            "{'Enc. Variable 0': 26.27268, 'Enc. Variable 1': -8.605742, 'Enc. Variable 2': -4.129607, 'label': 5.0}\n"
          ],
          "name": "stdout"
        }
      ]
    },
    {
      "cell_type": "code",
      "metadata": {
        "id": "27_GEZetobW7",
        "colab": {
          "base_uri": "https://localhost:8080/",
          "height": 402
        },
        "outputId": "8ed01fdb-eb58-42ac-f3a0-856111bd5179"
      },
      "source": [
        "# Convert to a dataframe\n",
        "encoded_samples = pd.DataFrame(encoded_samples)\n",
        "encoded_samples"
      ],
      "execution_count": 113,
      "outputs": [
        {
          "output_type": "execute_result",
          "data": {
            "text/html": [
              "<div>\n",
              "<style scoped>\n",
              "    .dataframe tbody tr th:only-of-type {\n",
              "        vertical-align: middle;\n",
              "    }\n",
              "\n",
              "    .dataframe tbody tr th {\n",
              "        vertical-align: top;\n",
              "    }\n",
              "\n",
              "    .dataframe thead th {\n",
              "        text-align: right;\n",
              "    }\n",
              "</style>\n",
              "<table border=\"1\" class=\"dataframe\">\n",
              "  <thead>\n",
              "    <tr style=\"text-align: right;\">\n",
              "      <th></th>\n",
              "      <th>Enc. Variable 0</th>\n",
              "      <th>Enc. Variable 1</th>\n",
              "      <th>Enc. Variable 2</th>\n",
              "      <th>Enc. Variable 3</th>\n",
              "      <th>label</th>\n",
              "    </tr>\n",
              "  </thead>\n",
              "  <tbody>\n",
              "    <tr>\n",
              "      <th>0</th>\n",
              "      <td>-3.761011</td>\n",
              "      <td>-3.001113</td>\n",
              "      <td>-5.677158</td>\n",
              "      <td>-3.534796</td>\n",
              "      <td>F</td>\n",
              "    </tr>\n",
              "    <tr>\n",
              "      <th>1</th>\n",
              "      <td>-0.177390</td>\n",
              "      <td>9.665394</td>\n",
              "      <td>1.975779</td>\n",
              "      <td>1.600593</td>\n",
              "      <td>H</td>\n",
              "    </tr>\n",
              "    <tr>\n",
              "      <th>2</th>\n",
              "      <td>-4.680666</td>\n",
              "      <td>12.415443</td>\n",
              "      <td>-1.701374</td>\n",
              "      <td>0.636065</td>\n",
              "      <td>H</td>\n",
              "    </tr>\n",
              "    <tr>\n",
              "      <th>3</th>\n",
              "      <td>-0.329507</td>\n",
              "      <td>3.604633</td>\n",
              "      <td>-11.455734</td>\n",
              "      <td>1.353911</td>\n",
              "      <td>G</td>\n",
              "    </tr>\n",
              "    <tr>\n",
              "      <th>4</th>\n",
              "      <td>1.966577</td>\n",
              "      <td>8.913950</td>\n",
              "      <td>-6.161337</td>\n",
              "      <td>-11.338642</td>\n",
              "      <td>D</td>\n",
              "    </tr>\n",
              "    <tr>\n",
              "      <th>...</th>\n",
              "      <td>...</td>\n",
              "      <td>...</td>\n",
              "      <td>...</td>\n",
              "      <td>...</td>\n",
              "      <td>...</td>\n",
              "    </tr>\n",
              "    <tr>\n",
              "      <th>3740</th>\n",
              "      <td>-2.343079</td>\n",
              "      <td>3.783724</td>\n",
              "      <td>-11.198976</td>\n",
              "      <td>3.550624</td>\n",
              "      <td>C</td>\n",
              "    </tr>\n",
              "    <tr>\n",
              "      <th>3741</th>\n",
              "      <td>0.027288</td>\n",
              "      <td>-0.223625</td>\n",
              "      <td>-7.796255</td>\n",
              "      <td>-6.583548</td>\n",
              "      <td>D</td>\n",
              "    </tr>\n",
              "    <tr>\n",
              "      <th>3742</th>\n",
              "      <td>-3.086390</td>\n",
              "      <td>7.891299</td>\n",
              "      <td>-2.491598</td>\n",
              "      <td>-4.142018</td>\n",
              "      <td>H</td>\n",
              "    </tr>\n",
              "    <tr>\n",
              "      <th>3743</th>\n",
              "      <td>-8.576359</td>\n",
              "      <td>-1.682017</td>\n",
              "      <td>7.367033</td>\n",
              "      <td>-6.405891</td>\n",
              "      <td>J</td>\n",
              "    </tr>\n",
              "    <tr>\n",
              "      <th>3744</th>\n",
              "      <td>0.916291</td>\n",
              "      <td>2.212827</td>\n",
              "      <td>-2.301948</td>\n",
              "      <td>2.818364</td>\n",
              "      <td>B</td>\n",
              "    </tr>\n",
              "  </tbody>\n",
              "</table>\n",
              "<p>3745 rows × 5 columns</p>\n",
              "</div>"
            ],
            "text/plain": [
              "      Enc. Variable 0  Enc. Variable 1  Enc. Variable 2  Enc. Variable 3 label\n",
              "0           -3.761011        -3.001113        -5.677158        -3.534796     F\n",
              "1           -0.177390         9.665394         1.975779         1.600593     H\n",
              "2           -4.680666        12.415443        -1.701374         0.636065     H\n",
              "3           -0.329507         3.604633       -11.455734         1.353911     G\n",
              "4            1.966577         8.913950        -6.161337       -11.338642     D\n",
              "...               ...              ...              ...              ...   ...\n",
              "3740        -2.343079         3.783724       -11.198976         3.550624     C\n",
              "3741         0.027288        -0.223625        -7.796255        -6.583548     D\n",
              "3742        -3.086390         7.891299        -2.491598        -4.142018     H\n",
              "3743        -8.576359        -1.682017         7.367033        -6.405891     J\n",
              "3744         0.916291         2.212827        -2.301948         2.818364     B\n",
              "\n",
              "[3745 rows x 5 columns]"
            ]
          },
          "metadata": {
            "tags": []
          },
          "execution_count": 113
        }
      ]
    },
    {
      "cell_type": "markdown",
      "metadata": {
        "id": "ecG51Vzzsi4V"
      },
      "source": [
        "## PCA if dim > 2"
      ]
    },
    {
      "cell_type": "code",
      "metadata": {
        "id": "qYRsLRNpsmud"
      },
      "source": [
        "if encoded_space_dim > 2:\r\n",
        "    PCAobj = PCA(n_components=2)\r\n",
        "    PCAobj.fit(encoded_samples.iloc[:,0:encoded_space_dim])\r\n",
        "    encoded_samples_reduced = PCAobj.transform(encoded_samples.iloc[:,0:encoded_space_dim])\r\n",
        "\r\n",
        "    encoded_samples_reduced = pd.DataFrame(encoded_samples_reduced)\r\n",
        "    # encoded_samples_reduced.insert(encoded_space_dim, \"label\", encoded_samples[\"label\"], True)\r\n",
        "    encoded_samples_reduced['label'] = encoded_samples['label']\r\n",
        "    encoded_samples_reduced.columns = ['Enc. Variable 0', 'Enc. Variable 1', 'label']\r\n",
        "    encoded_samples_reduced\r\n",
        "\r\n",
        "    # print(PCAobj.explained_variance_ratio_)\r\n",
        "    # print(type(encoded_samples_reduced))\r\n",
        "    # print(np.shape(encoded_samples_reduced))\r\n",
        "else:\r\n",
        "    encoded_samples_reduced = encoded_samples\r\n",
        "    print(\"no need for PCA\")\r\n",
        "    "
      ],
      "execution_count": 114,
      "outputs": []
    },
    {
      "cell_type": "code",
      "metadata": {
        "colab": {
          "base_uri": "https://localhost:8080/",
          "height": 402
        },
        "id": "kMEKhZWkxpDf",
        "outputId": "5067b670-55fa-4955-d827-3b205d90ce31"
      },
      "source": [
        "encoded_samples_reduced"
      ],
      "execution_count": 115,
      "outputs": [
        {
          "output_type": "execute_result",
          "data": {
            "text/html": [
              "<div>\n",
              "<style scoped>\n",
              "    .dataframe tbody tr th:only-of-type {\n",
              "        vertical-align: middle;\n",
              "    }\n",
              "\n",
              "    .dataframe tbody tr th {\n",
              "        vertical-align: top;\n",
              "    }\n",
              "\n",
              "    .dataframe thead th {\n",
              "        text-align: right;\n",
              "    }\n",
              "</style>\n",
              "<table border=\"1\" class=\"dataframe\">\n",
              "  <thead>\n",
              "    <tr style=\"text-align: right;\">\n",
              "      <th></th>\n",
              "      <th>Enc. Variable 0</th>\n",
              "      <th>Enc. Variable 1</th>\n",
              "      <th>label</th>\n",
              "    </tr>\n",
              "  </thead>\n",
              "  <tbody>\n",
              "    <tr>\n",
              "      <th>0</th>\n",
              "      <td>-1.117078</td>\n",
              "      <td>-4.228733</td>\n",
              "      <td>F</td>\n",
              "    </tr>\n",
              "    <tr>\n",
              "      <th>1</th>\n",
              "      <td>2.604879</td>\n",
              "      <td>8.235542</td>\n",
              "      <td>H</td>\n",
              "    </tr>\n",
              "    <tr>\n",
              "      <th>2</th>\n",
              "      <td>0.917114</td>\n",
              "      <td>10.803856</td>\n",
              "      <td>H</td>\n",
              "    </tr>\n",
              "    <tr>\n",
              "      <th>3</th>\n",
              "      <td>-8.326650</td>\n",
              "      <td>3.242149</td>\n",
              "      <td>G</td>\n",
              "    </tr>\n",
              "    <tr>\n",
              "      <th>4</th>\n",
              "      <td>3.803149</td>\n",
              "      <td>7.918033</td>\n",
              "      <td>D</td>\n",
              "    </tr>\n",
              "    <tr>\n",
              "      <th>...</th>\n",
              "      <td>...</td>\n",
              "      <td>...</td>\n",
              "      <td>...</td>\n",
              "    </tr>\n",
              "    <tr>\n",
              "      <th>3740</th>\n",
              "      <td>-9.271940</td>\n",
              "      <td>3.282143</td>\n",
              "      <td>C</td>\n",
              "    </tr>\n",
              "    <tr>\n",
              "      <th>3741</th>\n",
              "      <td>-1.007177</td>\n",
              "      <td>-1.053270</td>\n",
              "      <td>D</td>\n",
              "    </tr>\n",
              "    <tr>\n",
              "      <th>3742</th>\n",
              "      <td>2.659192</td>\n",
              "      <td>6.375285</td>\n",
              "      <td>H</td>\n",
              "    </tr>\n",
              "    <tr>\n",
              "      <th>3743</th>\n",
              "      <td>11.396126</td>\n",
              "      <td>-4.465239</td>\n",
              "      <td>J</td>\n",
              "    </tr>\n",
              "    <tr>\n",
              "      <th>3744</th>\n",
              "      <td>-2.244434</td>\n",
              "      <td>1.311482</td>\n",
              "      <td>B</td>\n",
              "    </tr>\n",
              "  </tbody>\n",
              "</table>\n",
              "<p>3745 rows × 3 columns</p>\n",
              "</div>"
            ],
            "text/plain": [
              "      Enc. Variable 0  Enc. Variable 1 label\n",
              "0           -1.117078        -4.228733     F\n",
              "1            2.604879         8.235542     H\n",
              "2            0.917114        10.803856     H\n",
              "3           -8.326650         3.242149     G\n",
              "4            3.803149         7.918033     D\n",
              "...               ...              ...   ...\n",
              "3740        -9.271940         3.282143     C\n",
              "3741        -1.007177        -1.053270     D\n",
              "3742         2.659192         6.375285     H\n",
              "3743        11.396126        -4.465239     J\n",
              "3744        -2.244434         1.311482     B\n",
              "\n",
              "[3745 rows x 3 columns]"
            ]
          },
          "metadata": {
            "tags": []
          },
          "execution_count": 115
        }
      ]
    },
    {
      "cell_type": "markdown",
      "metadata": {
        "id": "1mcpNLJnqCi_"
      },
      "source": [
        "This graph shows where each input image is mapped in the encoded space. Since we have just 2 encoded variables, we can easily plot them in a bidimensional space. "
      ]
    },
    {
      "cell_type": "code",
      "metadata": {
        "id": "Cuvkb27OPYUO",
        "colab": {
          "base_uri": "https://localhost:8080/",
          "height": 542
        },
        "outputId": "88a884e1-f00a-49f6-d684-92f0a27f2be8"
      },
      "source": [
        "import plotly.express as px\n",
        "px.scatter(encoded_samples_reduced, x='Enc. Variable 0', y='Enc. Variable 1', color=encoded_samples.label.astype(str), opacity=0.7)"
      ],
      "execution_count": 116,
      "outputs": [
        {
          "output_type": "display_data",
          "data": {
            "text/html": [
              "<html>\n",
              "<head><meta charset=\"utf-8\" /></head>\n",
              "<body>\n",
              "    <div>\n",
              "            <script src=\"https://cdnjs.cloudflare.com/ajax/libs/mathjax/2.7.5/MathJax.js?config=TeX-AMS-MML_SVG\"></script><script type=\"text/javascript\">if (window.MathJax) {MathJax.Hub.Config({SVG: {font: \"STIX-Web\"}});}</script>\n",
              "                <script type=\"text/javascript\">window.PlotlyConfig = {MathJaxConfig: 'local'};</script>\n",
              "        <script src=\"https://cdn.plot.ly/plotly-latest.min.js\"></script>    \n",
              "            <div id=\"267baf63-d237-4624-8f5a-12133db3c166\" class=\"plotly-graph-div\" style=\"height:525px; width:100%;\"></div>\n",
              "            <script type=\"text/javascript\">\n",
              "                \n",
              "                    window.PLOTLYENV=window.PLOTLYENV || {};\n",
              "                    \n",
              "                if (document.getElementById(\"267baf63-d237-4624-8f5a-12133db3c166\")) {\n",
              "                    Plotly.newPlot(\n",
              "                        '267baf63-d237-4624-8f5a-12133db3c166',\n",
              "                        [{\"hoverlabel\": {\"namelength\": 0}, \"hovertemplate\": \"color=F<br>Enc. Variable 0=%{x}<br>Enc. Variable 1=%{y}\", \"legendgroup\": \"color=F\", \"marker\": {\"color\": \"#636efa\", \"opacity\": 0.7, \"symbol\": \"circle\"}, \"mode\": \"markers\", \"name\": \"color=F\", \"showlegend\": true, \"type\": \"scattergl\", \"x\": [-1.1170776833611746, -3.6861627777721195, -4.004784848905373, -1.8000095026915426, -3.0427372263821195, -6.818547433274268, -1.700169196036642, -3.5176518702707935, 2.7713260048919857, -2.5410057135458035, -6.509855429458819, -4.537341039103244, 0.13195205570328836, -1.3247339661517334, -0.9521269806684295, 1.3023479332372612, 3.568156022523912, -4.148727900598188, -9.163673362523769, -4.448031113382239, -2.763677228949138, -3.3511616824770147, -3.99887583248341, 0.18952084767847535, 3.713776793956881, -5.691179312707302, -6.354098298386047, -4.8246620473837245, -4.7688366480411455, -1.4137036530582048, -5.7113969464016225, -9.36522842810346, -2.5909657389288676, -10.124592095727163, -7.140871346952276, -5.947291391329181, -2.441339842657737, -8.232576677977784, -3.0670169170302257, -6.364187387316632, -2.7682202466380716, -4.746037094334086, -3.4246593738674296, -1.397280571385047, 0.24359153386757068, -10.656658389777574, -2.4069633933621803, 3.3173590667181423, -6.8834605523527115, -0.7456454302370804, -2.5149758086852962, -6.356352877985351, -3.5354111087606657, -0.2245308206416729, -2.6686021111834615, -5.551808393806183, -8.257816707246068, -5.645536040478721, 0.3076473106888594, -3.3904468811833586, -9.588802825448013, -3.1287961588291284, -6.578831292326253, -5.150838333485819, -3.9069164393822793, -3.560881147746321, -9.385205125999056, -4.017278747595778, -8.880924644873003, -3.4966693599830885, -0.7688237695493467, -3.1585492125009336, -8.628786537852164, -4.592863543807999, -7.017167055073637, -4.354601394300322, -4.018704719912681, 0.9742684367103644, -2.1265622436707483, -4.179738181927573, -3.4143543868544235, 3.0878648199777308, -4.1117160356569045, -2.664675768794951, 4.267127775231766, 1.4785610288050304, -2.9889464832741934, -0.6248949398311457, -3.476917168710859, -3.1608000563065626, -3.8844182841995973, -6.7190959498687794, -2.0886296442008687, -5.703250697038159, -2.678887944775089, -1.4229028207284233, -2.602970171146212, -4.6515518610684845, -6.632381293790009, -2.059399796357487, -1.565936090320028, -1.4263926296348692, 5.371282729074268, -3.5337450662524885, -7.871752990355194, -6.714113729038941, -4.563127535593118, -2.2532035001687607, -4.71071025871694, -5.147184557337539, -5.323395295350122, -5.744861302549546, -6.832555025966708, -4.086039127411892, -3.362574891427133, 3.8355886173276885, -1.0455860967185129, -0.4359513836119627, -1.298479593922099, -2.7870749270902384, -2.038376655435068, -2.220254453072658, -2.2271593574642035, -3.2290692769116327, -1.6153382030414378, -1.97772343279206, -0.4331638756807699, 1.3249444154174743, -2.85408290291656, -7.8070381655287635, -2.1159932235701566, -5.415388397832413, -7.423897826792677, -2.2133449524647983, -3.082378602068509, -4.966005025181711, -5.867604557431802, -1.955612230392347, -4.591256561762463, -10.216524626561013, -2.32452885497576, -1.708742700220818, 3.14674892302487, -3.556931071867316, -10.00918412640739, -8.792790735312451, -6.086549577047512, -6.36635003640606, -6.808606017059662, -2.0837342974098156, -2.3014739613334005, -4.363950487725149, -5.412511597145281, -4.24912403165726, 2.512463326532566, 2.9411219947236704, -4.105330303875249, -5.442610383647026, -7.303268877532631, -3.754653697554468, -1.9971584166374263, 2.485130622462494, -5.553928421347392, -5.224595417227809, -6.133166227895051, -3.074714598428222, 3.350818937800818, -2.799602838778941, -6.501183181218222, -3.6634171483331563, -5.1815359106387975, -1.4550144435393926, -1.507104311591728, -4.12678365402458, -12.303456643120207, -4.711725289623806, -2.4674833725923935, -6.12610925999191, -0.39705836354006524, -3.0145016141836565, -1.8787545174460532, -10.686114350096236, -1.4451954229105415, -5.8795632706646614, -4.4069398227207355, -2.8066247708962186, -3.0868536942022877, -1.2471187119105343, -1.8246166615954864, 2.9239772683059364, -5.849018918429832, -3.026139769765061, -2.4797313903793468, -0.753602246443027, -5.724978637211794, -2.471281406622904, -5.656536416723577, -2.7373686128741093, -1.7451240180728291, -3.3437332957634602, -8.568079861522857, -7.5520877771634245, -1.9767604234191742, -4.409725587535773, -3.0115696554560953, -1.3468306091086497, -10.090763550579362, 2.2011185488629854, -5.725963233946537, -4.277852237905604, -2.7371916550178077, -0.9541283180244856, -0.014748668976006627, -6.5985270156355345, -4.991564041993422, -8.044023143816359, -6.243138529713979, 4.040315104541517, -7.026344525412274, -3.423911815030483, 1.9019842872387425, -6.635631762266271, -7.660336696014684, -8.021489282236889, -1.7265984666005825, -8.640982597107518, -1.7419082789501872, -1.0211283035818273, -2.9412483015275916, -3.675924039190887, -7.262780935772464, -9.832352705870576, -3.397874631575881, -5.572962224285309, -5.227516624941564, -2.766189049563897, -9.80871109505688, -1.807313941583514, -8.91911686748039, -7.328282528058123, -0.7859119143930529, -7.974919956366569, -2.5081210192707393, -1.8473478385738071, -2.7662438256935675, -2.180129281864334, -6.077589008075855, -5.647519625116985, -2.731972830893563, -6.109894419987723, -2.692162967477898, -4.413450727130947, -3.033155003036541, -1.9594460202551878, -4.0696405166344505, -4.439694530072693, -5.197507109743721, 0.4277157221171591, -6.3312684499317955, -3.396596497003733, -5.3819424181965765, -3.8308864857890113, -0.9230834653216472, -2.670504659137668, -4.879535360810446, -2.476313899446959, 0.4044668917025609, -5.850528432393931, -5.688756251915902, 2.5608424058455426, -1.1572574177145063, -7.053457770384233, -4.768322897062895, -8.629368932665377, -9.365519729770247, -2.352880144800141, 0.41027876239482963, -4.862854424873595, -7.5371360393101385, -1.5391558520068571, -3.0287814445665653, -1.5445452339416064, -4.765202952982657, -7.116411533394938, -5.437882924046127, -2.030577638681922, -3.3122405292964117, -8.607853593063862, -7.076188939776951, -7.335681570229519, -6.238259197630238, -2.138059758063853, -11.107618453078326, -12.418097788330332, -4.879040674135335, -4.038536663463446, -2.0351200932205322, -5.697801500804361, 2.1829586364363096, -2.440523597722232, -11.17850230506549, -2.172471024509882, 1.5787094297172393, -5.390045677986645, -8.608944605156815, -0.8490093373562221, -3.0063881352747446, -2.6244756413645507, -2.3242876496981637, -10.361840172796217, -6.127565411309214, -2.880697615606353, -6.894606234869411, -3.830922638659751, 1.7490675579969825, -8.55663665352801, -4.564429166512731, -13.218914706005808, -2.9842556830338505, -6.358641871117496, -7.92735569824806, -1.5256028991456403, -3.7186734276722424, -2.970909202647904, -2.4997732299394717, -5.008202057406682, -6.365095480903108, -4.476368696200421, -4.183935654241163, -0.4853335163241483, -2.2477434095778386, -3.9247565786332177, -1.7308187530281751, -2.251179931312606, -6.922714346472761, -2.1156238726313634, -4.985075066398787, -1.154750688072801, -6.006082034230368, -3.1438884386080086, -7.727612387158891, -7.350637184437098, 6.7121029450704865, -4.245470885253856, -10.089176673248625, -2.491125535323424, -0.6703195476153123, -9.205713063437809, -5.241179308983694, -6.6929404406087185, -8.86557414977488, -10.896964765626231, -8.612875750767968, -3.6153080578169763, 1.730932998702657, -5.167392503820646, -3.222769161274441, -10.262992543662676, -6.136273460076298, -6.5750597272084335, -6.721006517103269, -6.117880890574757, -2.7867608661187857, -2.094377996496316, -3.1336808009716774, -4.734409305931488, -10.093559919878864, -4.43799696088024, -2.2685661433791373, -0.09474215924792496, -2.554642833972071, -7.598612088732376, -9.105332788548482, -2.539581020428567, -8.178316522410688, 2.098027130088864], \"xaxis\": \"x\", \"y\": [-4.228733110547842, -6.8626628965492324, -6.0390798154279075, -9.228757797849555, -7.178382191564649, -1.58119861325508, -5.858865478260086, -5.99866223259473, -1.7210485682994787, -5.739719663271279, -7.986563888642207, -8.16219641623723, -3.138796517822881, -9.31942798791328, -3.3319299355840637, -3.095317649553529, -4.501683027166161, -6.331416721599205, -5.8636955493829745, -6.955435731579383, -9.138199498376808, -7.636512541963918, -6.796445685037833, -4.046648309053374, -0.49818004126745646, -8.458729084089812, -7.806811567713872, -8.261111491996177, -6.954539229443723, -7.767719483810443, -5.467377286097442, -6.594418865603514, -5.965737097976579, -4.440844039284533, -5.768575545175097, -5.296035755197569, -5.547019540535418, -5.185808716498328, -4.5710346864451745, -5.871103910943707, -7.295923148880104, -5.005563345036512, -6.588403240464481, -7.5732163226448055, -5.676018943741914, -2.2098361027307583, -4.67811198945719, -4.8582242211577435, -5.553192694218963, -2.475786870681095, -9.430840241545438, -6.38989753897267, -8.461149541376958, 0.0015776945177556896, -8.886850107275226, -5.377415136881261, -6.261297999884619, -6.27748014826198, -1.3940669276363848, -8.54977237527191, -4.662770509918071, -7.62414096955326, -6.386756580234804, -6.814587312186947, -6.6320867455891, -7.628892617361441, -4.127540833797001, -4.9972387363581205, -4.092695634515872, -6.177518607386854, -6.217165858998347, -5.130014464568393, -1.300102781762882, -6.065027721434831, -7.155949262953788, -7.549088654213496, -5.6826807871367935, -1.5862212981613857, -1.3263300174822028, -6.883576944313396, -6.862107881680982, -4.649184569546293, -1.9835288834455478, -7.911132594292782, -7.6776439579840225, -3.416319172422123, -6.8056597830023975, 1.038142792323999, -7.629533041511581, -6.1844234696356555, -7.617234867329798, -5.154154524946265, -7.221234095463418, -5.616787369487739, -5.282495577002232, -5.883271737131595, -6.842512026218088, -5.795463852693233, -5.585384142917541, 0.6958371906132469, -9.442610173014758, -5.1879233879446796, -6.423098083802743, -6.638816286187035, -1.9321753888312454, -6.061519989266956, -5.005215017719628, -6.660905173953031, -7.470743986402595, -5.2198639034906895, -7.304356668985817, -7.072321598217862, -5.658086281625587, -6.861707672360719, 3.9130582521641006, -6.461103962209193, -6.077465275478434, -8.335445354980994, -9.250700256585633, -6.271757172216033, -8.925333744831367, -6.180332395471966, -7.872623224360175, -5.79170499027017, -7.537280275402282, -6.7492526267242265, -7.56481502859786, -4.26866151654531, -5.898683545718483, -5.7692388143989195, -4.865240866161747, -8.623500577520437, -7.657136704311879, -7.557858078912243, -4.506493385554641, -6.8599465055457545, -7.308453624232725, -4.343860253572348, -7.067708696530474, -2.817586954448387, -5.493304313921095, -6.049736639965649, -4.490830126266705, -5.840047752250937, -4.038227156947175, -4.280862389220056, -7.267984260792767, -5.343219530206742, -4.902175483024285, -5.785251105481814, -5.162768949430059, -9.023097760219681, -3.7138694893797615, -6.75444290588353, -5.768026771743533, -5.0648769236673035, -7.901974543436109, -3.417214758034082, -6.177490758079974, -3.8328728197086095, -9.46120916823751, -4.0295387302663, -8.443822209261912, -6.875135799127362, -7.099871246620958, -4.079380419160844, 0.4713662979235898, -5.947878092209745, -3.7088494754403882, -7.137884904259106, -5.875099221856535, -4.352652658443628, -4.059748186511718, -6.8967080070499724, -6.466476774877021, -7.218816825273813, -4.803306668986198, -7.64860020305926, -8.769626262293523, -3.7280479677647236, -7.726437392499901, -5.842751989314434, -9.736038745387098, -8.550587712757743, -7.882458489267302, -4.772664915818745, -8.226033108829386, -8.035398792636938, -0.0637484662867663, -4.089712652263188, -5.3795636743872395, -7.810166945714696, -8.174274591964709, -6.124303557303023, -8.929007282407216, -6.922232267836843, -7.893814332970124, -5.281385003539803, -3.5077226540737247, -6.454758132097571, -0.35502890696679756, -7.237933559642449, -6.8198134480489125, -5.504951805405888, -8.983394888879396, -9.207564636183331, -3.543465751932209, -4.071268619767482, -7.332484492826131, -7.345687999010707, -7.056854216377929, -7.327151300013151, -0.3619071089792941, -5.572525639204484, -4.157298344055708, -2.8267807851414006, -5.6684764381417665, 1.2499507577338038, -5.155589988314437, -7.250953554707673, -4.194729730218188, -5.563476462114394, -2.5046414327468933, -5.942312528834166, -4.963532829406495, -4.042873016646534, -5.6132830773462326, -6.870724189738772, -5.838270414888817, -7.015775035677178, -5.7547034883586194, -3.9539592267853347, -6.726053866623178, -5.529838649370235, -4.691523880059958, -9.045551299884176, -3.7799203717162713, -9.347047968072895, -5.609778739490576, -4.086356747015803, -6.80537398482315, -5.81469323399682, -5.621089277474636, -3.271506163980048, -4.210618209646302, -5.647554368369843, -8.132524674146449, -8.818622697815877, -5.8993052158056285, -6.524932114382823, -4.373001115865834, -6.864444079002597, -7.8774548448030055, -5.9795806207674165, -8.1260850840836, -6.9896401736640605, -7.4636623792242895, -3.226603145762888, -8.783869841717813, -7.691971130833901, -5.605894283717771, -6.4797980103333614, -5.725498842487942, -7.0311795016697305, -5.318065653494647, -9.051451035890075, -5.551128002413636, -5.3602352836428135, -8.57110738653466, -3.2836424410804836, -9.290980247837012, -8.069027359439266, -6.154991413070035, -6.890435386328143, -5.468846301791128, -4.689832950039285, -9.297881076084046, -7.684937158688207, -4.9108723842093935, -7.953511792454356, -4.172860777495492, -3.2869075142334827, -8.584263251016523, -5.508983791666511, -8.866284565245676, -6.609143757446714, -7.522028021990563, -6.0391199412527055, -7.864692880403672, -5.637338369863981, -8.261444488070122, -7.016183033840118, -4.515371959668145, -5.8020359910882195, -5.559748206238499, -5.6582180091804695, -6.018160474445832, -7.149438148045896, -3.585756360952195, -7.391053382191606, -4.39621433129229, -5.732023109956438, 1.7111940687252027, -6.031509533340515, -3.4679213398451005, -4.063528718772477, -7.8636012030736016, -7.510861237407672, -6.0256971024884045, -3.0694240843880394, -8.052678169938947, -8.158821465354954, -5.53006749221836, -6.859322721480182, -1.8298579806358053, -7.952685568855829, -8.92041527966801, -5.046806034158636, -5.746345417709099, -7.0761727276392365, -5.705625631246165, -5.993745379660939, -7.101654314850195, -7.7069496724744795, -3.965144665099736, -9.155129508041117, -5.512487990264083, -5.91081195287746, -6.8090627766457, 0.8724542300023327, -6.187877324395156, -5.574113385827305, -4.212725819543863, -7.040143354223894, -7.966165832754109, -7.0064102149242915, -6.565055067217293, -3.4897854883419663, -9.097992554611455, -5.356525332695284, -7.610912690088696, -5.574816707353383, 0.7650727234510342, -7.828651154522565, -1.6254897576683154, -7.961178301678468, -3.5978540436755426, -3.425080266639507, -8.872816236079982, -6.147356128342609, -5.962427273894595, -6.0444045495925165, -6.875524254461087, -8.036929337142414, -3.0318686013035205, -6.585500093817304, -2.6694004243365423, -4.452328611068762, -5.25986985406583, -5.665220572608187, -5.4856406301791765, -5.33087825011503, -6.278544652183009, -7.719603626603125, -5.345237536408981, -5.108753251300321, -4.022067566391197, -6.605650196296929, -4.944328072370904, -7.369746913898436, -8.413762499380404, -1.567881556644206, -5.839763282718426, -8.119347134408367, -5.906840871231089, -1.248796158077655], \"yaxis\": \"y\"}, {\"hoverlabel\": {\"namelength\": 0}, \"hovertemplate\": \"color=H<br>Enc. Variable 0=%{x}<br>Enc. Variable 1=%{y}\", \"legendgroup\": \"color=H\", \"marker\": {\"color\": \"#EF553B\", \"opacity\": 0.7, \"symbol\": \"circle\"}, \"mode\": \"markers\", \"name\": \"color=H\", \"showlegend\": true, \"type\": \"scattergl\", \"x\": [2.6048793498123635, 0.9171144519018024, 2.1930713879656127, -0.7539452347474883, 2.110571924253697, -0.6494955338082631, 1.5087470236791363, 2.4217230325220003, 1.1941627330787286, 2.0234947861546444, 1.8530263182049929, 2.626973824798031, 1.0154407089739719, 2.376927294156297, 1.7875049168059993, 2.1302080608386245, 2.429105121727442, 2.2365307493863833, 2.4604111853423256, 0.5436126185223247, 3.762768312066578, 2.008484150193223, 3.1157929440419174, 2.385574657569106, 1.5707570804998712, 3.1342634043343836, 2.291646238715265, 3.913679411805801, 1.33163182209262, 2.2716558911597686, 0.750339620584833, 4.152397899086289, 2.5151572100406443, 2.672006598700004, 2.563222977776057, 3.330563390240621, 2.26859307552444, 2.1163660843330216, 2.1196282495413192, 4.773945004810834, 1.1231797150468057, 2.121680645172059, 5.480091534778212, 2.6872608803339664, -1.3121340633410328, 2.192595542624655, 2.044805873073546, 3.733730490685904, 2.1037593287609604, -3.1306508485005957, 2.4708490476846383, 2.6374287080797814, 1.6685947535477117, 1.0699440413011436, 1.3160725987366955, 3.6476603666983785, 3.216370617306325, -0.9304499062634441, 1.626207077797003, 1.1079708354016562, 1.5981994464905638, 2.5036204704547957, 1.9971132148518531, 1.881493610420806, 2.0745540497575945, -0.7691448787368977, 1.1813033714133738, 4.824625202143338, 2.5084682421687203, 1.7061504059278476, 3.0763015018720203, -0.1299287099242398, 1.4729584308339858, 4.6743254512176176, 1.4530914679184672, 1.7819236169200314, 0.9663310633883457, 0.6606003020979655, -3.955270107303832, 5.229340851590182, 2.233542561799661, 2.59931997579595, 1.2306441686549128, 2.004150746479479, 2.391732460629274, 1.7656869969729212, 2.2548596575336495, 1.9197914168482306, 2.2769929639837585, -1.6349917629417308, 1.9355099772025928, 1.4402292431674386, 2.27036343731214, -7.509164044209484, 1.775853415118378, 1.3508105331613542, 3.635193377110254, 1.6843685612783388, 0.8575538043042392, 3.0406151463794853, 1.2010008602831028, 0.49122017368421067, 1.9250449111540593, 2.0117938308770293, 2.3754961693563645, 2.491532836323118, -0.877630764095608, 1.72948203554909, 2.385790942141043, 2.711584052432552, -0.5744912511307664, 1.6819114732365208, 2.786279663960755, 2.0068269764608933, 1.3128491614750482, 2.075431275455152, 3.0202607750150694, 1.6103973587969256, 0.5587778841233422, 0.9099293686184737, 2.195650699838652, 2.9919742699057847, -1.8119233896672577, 3.0151996587413845, 2.753464288317857, 2.0014270083581174, 2.206689817236954, 2.869553871484156, 2.0003127219225414, 2.380518823699079, 2.4750739560377886, 1.001182800839866, 4.416336803339294, 2.111710517097014, 1.327635913849643, 5.299868521405412, 2.125436956878888, 2.936962773092222, 2.107911527203231, 2.706985403008549, 0.7097261281118724, 2.756638869214175, 1.196224537924004, 2.068196779860316, 2.335895441715143, 2.1651070979268328, 2.24611699930201, 1.1513328024305487, 2.0818523435768905, 2.5144804147471764, 1.7104826491505374, 2.255702706718451, 2.298539451712501, 3.0216188978548844, 1.9823165836985606, 2.347277995796387, 2.1369493915104982, 1.0298296244699443, 4.51194244523434, 1.4766616677184592, 1.2124561732947214, -1.1782448610119325, 1.947132729704913, 1.7836189564004008, 0.7546384584962089, -0.22530110338294013, 1.721791628162004, 1.0499177680244889, 2.2066223115543964, 0.8543814841320757, 0.6451857340110698, 1.9640886001987914, 1.6376338140106004, 0.5975014001180203, 2.2009036899055565, 1.318434438840093, 2.1781034654151865, 2.238993535188863, -0.063138119033382, 3.4505312260333065, 2.034531536617828, 2.1143858944721914, 2.991006665890979, 3.5057794741113013, 0.8597601216112768, 3.143861476067563, -0.620157925565968, 0.49579598356059223, 2.22394335024642, 2.482616175349766, 3.5913839156587377, 3.2202472100586528, 1.6931256392944727, 1.2719921149002276, 1.3689625388155284, 2.845161336470301, 3.2091030683752306, 0.4494146513263789, 2.8059608151728956, 1.6230260058525006, 2.1560514939307582, 2.3175352169784063, 2.1627813767695407, 2.8451016161805294, 0.9898222263593015, 0.05380670792162635, 2.416466615045946, -1.1926826227307283, 0.4295195037291104, 1.4349831337935, 1.0940587539318096, 3.0983890472638906, 0.7458558641864917, 3.2777395889003205, 1.4017607723590555, 2.449624110003616, 2.427471112455405, 1.4166052150348796, 0.6960473930274653, 4.954255183622781, 0.9306221526669858, 3.5793495444330277, 2.282752491666435, 2.093937054864197, 1.7461090248184168, 1.2487954760010211, 1.432324770065565, 2.9800185250680804, 0.16032679448133674, 0.5838879214972746, 7.8027303719985035, 2.1705663388704908, 2.3242611562240025, 0.546690400257943, 1.3637210335160301, 2.637264431060907, 3.211478710898509, 1.8499075928010673, 2.01869966700508, 2.4611986160835486, 2.593327661055945, 1.2418816619199564, 2.965842173955625, 2.3665754557488783, 3.8579456628346875, 2.091925801433489, 2.8518626718653994, 2.2760788075733225, 1.2343267772733768, 4.675206860477372, 6.3924432379722225, 0.24189099451354742, 0.9962341171501249, 2.21216293697664, 2.2770373488375624, 1.5339005009324835, 0.6968269978086544, 2.1405182798400384, 1.598307140474501, 2.196833937082248, 2.1863387889947785, 2.339101330252818, 2.0081278745064504, 1.0969815130941025, 2.821822806928945, 0.7961514095501702, 0.7533874101712873, 2.4327078821879105, 3.2282806480290915, 1.4679598969875565, 0.7976547403228752, -2.97544272791341, 2.297584756547021, 2.7133537744919223, 1.8515021485178773, -1.089975353256514, 1.2253837552072466, 2.6616934532533962, 1.2257777907874212, 2.880550600519004, 2.377619311272582, 1.3193451149612463, 2.8683512877198534, 0.9441514267329929, 0.19591913259234656, 2.9928039033160796, 2.8070403434800237, 0.8548658741543995, 2.703302306731753, 0.13802867016805384, 3.3347026002605906, 1.2011767272486562, 1.9821868265200353, 1.6826312840711548, 2.434455240559121, 2.2789327268786135, 2.3918947501644325, 2.998892237376886, 1.486722505593091, 1.7799112415194926, 2.6035325090799755, 1.93029899190387, 0.7110868268166886, 1.6672226660029763, 0.7179944588152664, 2.1839292313357808, 1.5622942752899487, 2.3568343893902437, 2.526411661361671, 1.8307402739993535, 2.9609612719128116, 0.580987960647713, 2.072912693631672, 2.4712794116306513, 2.2476228006628407, 2.007923556732835, 2.4409632293400767, 2.1513123915790446, 2.5471864451900035, 0.8589906339930208, 1.3206510608232322, 1.6597050175171055, 2.451472642708262, 3.240678672407744, 2.548881820116364, 2.327004819338636, 2.3641419300435853, 1.735370357095491, 3.4423114351330484, 1.7965003507826323, 3.4166678977239027, 1.292249094322846, 1.5043800901805826, 2.7360135092207014, 0.40971783667162415, 3.37803909406426, 1.4428939753632506, 0.3789575811396439, 2.533693442046175, 1.524219364101326, 6.851066407651903, 1.7574823077418638, 2.8024442535029572, 3.6178612876657303, 2.4253847359559546, 2.2910581519275866, 0.5739295035525416, 2.480941076789405, 1.748172527479726, 1.5190227917376786, 3.167723770079927, 1.327635913849643, 1.1671218136069883, 1.718198051608045, 2.7607782379993018, 1.8506726441341133, -0.4970914830171542, 1.0489731673847835, 1.5175224875437798, 2.5513581445522826, 2.6467390961950823, 0.9075331444228358, 2.7130478573098604, 1.9951899463979412, 1.5398680200468156, 1.156710516248233, 1.2137660505259587, 3.275420667355696, 3.1697445962809114, 3.456326164476108, 2.6011717180957152, 2.1469983301496316, 1.4169149832150814, 1.5721695040163652, 0.8765875268788094, 2.232157036594684, 1.4946569842421196, 2.1765113415026014, 6.262209315768025, 1.7805373120763073, 3.059916797246395, 2.673909954485681, 2.1196733644362813, -4.135371874963373, 1.4270864405975812, 1.562611724210522, 3.0335792880513983, 2.291108903855642, 2.6591923788472127], \"xaxis\": \"x\", \"y\": [8.235542107823118, 10.803856135106908, 3.506117394009056, 5.328831723614808, 1.018459972521841, 11.24014118088207, -0.6769500888457741, 8.11762676596363, -0.6632182682788039, 4.6168636646802685, 9.859591232651827, 2.466135825980077, 8.589620473253115, 7.107405467077528, -1.0082595984457154, 9.710717011580893, 5.961333990780234, 3.5234234406591787, 9.388737938987074, 3.6308954903474313, 8.562797423575626, 10.658415485875041, 4.8549420019843685, 8.419283881635113, 1.4790378642821802, 4.82934365518552, 1.7532543872097468, 7.3727053773491615, -1.7537074607410956, 5.713715114675425, -1.1284158476193442, 3.400067282146349, 7.6930262526279245, 6.333086440824407, 1.6648102264967943, 8.40202127661146, 1.4629538715074006, 2.6288571193591252, 6.621062549695784, 0.22254563192306528, -3.335842710498714, 7.187334134870605, 1.8039584899376326, 7.298835859226815, 9.963783917730229, 3.7984199431156647, 4.749278955696893, -1.669689297066626, 8.317491729976886, 3.407993219201449, 9.040903037112301, 5.964682283559434, 7.337333676214669, -0.43908067993085276, 2.5312839169571175, 5.793568347849467, 6.314161196023946, 11.811553691509463, 6.734397293165193, -1.819304241406624, 1.9844095115752407, 6.572239394961026, 4.125923436843002, 3.601480249823967, 13.20502269594004, 6.107757012391177, -0.4136446675548564, 5.544121270841195, 11.0244752707735, 1.3002292921723926, -3.4301837687325105, 10.520513178853117, -2.1407105121850107, -3.7323210869685903, -1.026212794119881, -1.7593971145714955, -0.26339726602442176, 12.98050173910993, -1.1044335531567564, 1.8231173134393053, 5.686986446294375, 8.087715462563377, 6.974975686721223, 9.564542584645675, 6.577884960274477, -0.3251319597720385, 9.952368248121278, 11.577894875345553, 5.734620439003372, 8.942711402363404, 0.12479383196767482, 0.49890425991440635, 5.975330672171138, 8.552378763465303, 4.36319889933041, -1.105196548782179, 9.543806070651986, 0.1853973251360085, -1.3725340405015067, 8.24784041299404, -1.853617830973077, 5.763338091309221, -0.006599770853317855, 0.46772375826892737, 8.648113408512025, 7.032097974809868, 1.6237379304637105, 3.5628502001955247, 7.123758622457186, 6.752287828658147, 4.340990311055241, -0.12157445003659693, 6.070895315630179, 2.890400769373484, -2.6478879471971375, 3.7421946695072545, 5.58851352201353, -0.7761590450214061, 2.420941717549008, -3.6040535491147883, 5.006397309079218, 12.13012911793055, 7.717139544018587, -3.5940966513406547, 6.520046463604878, 1.2547214810806016, 3.9803070046356313, 4.8457648798855875, 8.728988566672367, 5.745568040952493, 5.192475022299915, -1.529401383581812, 3.5608228424606807, 1.5565483958093322, 0.5218902342651448, 2.8498705693899655, 5.066858864066622, 8.14271589093086, 9.11663733440691, 2.8614326703714945, 11.359096632058938, 6.926978813143113, -0.3440462940276169, 2.2443318891092727, 6.0581282265519665, 1.663351404741988, 10.259371272762793, 6.904255875670605, 4.437705195129441, -1.587259233847959, 1.7043325382794818, 4.972247195407445, 8.48518049122221, 6.539125515267324, 5.890974839246755, 10.97632679228321, 12.005841354254086, 6.403070509843357, 4.307763771288057, 1.9765526814249321, 8.653030892234588, 9.114545979063937, 4.922483603201072, 0.14337860401159788, -2.2792764545525257, 5.3577034937504235, 2.1882128660861238, -1.9851924981802789, 2.7958098049756326, 12.423362000274167, 13.20781846754165, 2.7466887930238473, 4.895051289274945, 6.068068748348864, -0.1539869543485826, 9.822943493355263, 3.7323065998601765, 5.246280841159841, 0.05220200350285003, 9.919926689761395, 4.475437584631568, 3.418440014585445, 4.917419053852118, -3.8292014529257163, 12.82525835109827, 10.178886593767528, 5.442596951975538, -1.5953044367416847, 4.241767910459366, 9.044770326564333, 1.1117795653592029, 8.664062264827617, 12.18134064341968, -0.7503511430936608, -0.3262077462279101, 6.96317912877186, 11.858723866480442, -1.9776709196918296, 11.387405186222248, 2.430555767686906, 3.4214175759986922, 12.42645080750811, 4.376725555691947, 12.118473911715371, -1.4208478996404206, -4.6242905167451855, 7.126625926951762, 1.1144638016630632, 5.6953695360915, 3.960791675001119, -1.5378223105974456, 6.80973129666862, -1.1437367257772846, 9.441552761542317, -0.0208650634008991, 6.863382507790209, 10.896876489732502, -2.2991592988284038, 4.230933287538769, 7.877027674250211, 7.747772028830567, 3.335076527782519, 3.8408913855171956, 10.988152228672947, -0.5767203781854973, 13.512780596061045, 1.0246731021752287, 7.006543491415701, 1.7088415561587367, 11.138622633288767, -0.007921267816369698, 4.513214298785369, 12.324419650891203, -2.1872836821953747, -0.29719319444610987, 8.288949747735076, 7.043327107734853, 2.511927423689882, -1.2123912556980705, 8.832585142123293, 8.337038130779629, 0.021587081853691084, 5.64876674232242, 7.613230779672877, 1.1179383866146957, 1.718543240090985, 7.3114022948133375, 8.059723034359129, -0.6179371751978598, -1.8188058844823958, 2.657489429206049, -1.5573274206661212, 12.67767677939317, 13.173080906095942, 10.63263438934232, 12.696441349046161, 3.9321745408243225, -0.7647113656993398, 13.002597166359445, 0.799252785990241, 3.4111338321527414, 10.329256792187474, -3.5571148112121467, -0.8259851265926532, 4.3060822296584655, -1.6679228396991912, 0.40652829791917977, 7.2787294281805375, 9.367069226791818, 2.977345367067869, 13.61945516390634, 3.6188983183687813, 10.562034924250353, 3.204184022309608, 11.125706264905608, 10.265040396875337, -1.1302091951387894, 6.813378676935945, 11.847189122953393, 8.78586092617518, 1.6202040046480168, 12.892567908152618, 6.189830967143947, -3.5142544577446486, 1.6775566577430638, 3.8556352477827094, 11.298539056956974, 5.798870609199424, 5.267844629127256, 10.857502916188766, 5.320325063372129, -0.7808078927935193, 11.983852377760202, 12.512271151470888, 10.814674414999583, 6.376427411051341, 9.33699879660247, 0.4130938822776544, 1.060339572523832, 1.744158821293815, 7.468546414227491, 6.5265720005942915, 6.3182908770747765, 2.575754653741865, 1.093149061573143, 10.132433355437346, 12.567662578531491, 5.1912048575366745, 7.331950238990329, 5.6269700124163124, 12.413434889966254, 12.719708290265357, 2.155398911559777, 1.8887553900435783, 4.785409973069084, 5.821732593064482, 6.577881761487941, 11.20340246762983, 8.78090845368564, 12.771189960298955, 14.048063833954247, 0.21229736424902995, 7.21976546249181, 2.918753540554312, 3.5494935731228634, 5.251186318259692, 1.5104976514971615, 3.3529505795688395, 4.386619419895812, 3.699168213177967, 12.975343287410533, 0.734677297898954, 4.243048012602186, 4.735692331791503, -0.5753119813858069, 7.360146979876206, 13.380050669033334, 1.0229942333767845, 10.097130759350192, 6.311341415805864, 10.169683493703896, 3.7893660587573494, 4.0413944135307345, 9.653831371411949, 3.217813930907945, 1.7424127025449627, 5.608392317203988, 3.4102142812774794, 5.5872336455359095, 1.8139393054889115, 5.197346014960833, 0.5218902342651448, -0.8855267157323266, 12.498741532978661, 2.9440017014174895, 3.7779021785817877, 10.413345620313795, -1.2913054630050345, 5.068983768011441, 6.895946907980145, 7.393394015112694, 5.797419821827636, 7.72067552779504, 7.156026221607779, -0.044234257317698054, 3.284292742999916, 8.112130571917024, 11.40205248194191, 5.168961683345834, 8.515603728578968, 8.744529427321828, 3.7282968434612576, 5.02388130527922, 0.477246910963282, -2.346692348767527, 4.335911191233285, -1.0500517659738255, 2.3454296167899265, -4.774562820616442, 12.792726973198064, 8.585397573031834, 7.779015107460141, 8.580763443279505, 7.059464992425217, -0.7622528528620657, 10.560601168256788, 4.2608812576982285, 0.8553104210833329, 6.375284791627498], \"yaxis\": \"y\"}, {\"hoverlabel\": {\"namelength\": 0}, \"hovertemplate\": \"color=G<br>Enc. Variable 0=%{x}<br>Enc. Variable 1=%{y}\", \"legendgroup\": \"color=G\", \"marker\": {\"color\": \"#00cc96\", \"opacity\": 0.7, \"symbol\": \"circle\"}, \"mode\": \"markers\", \"name\": \"color=G\", \"showlegend\": true, \"type\": \"scattergl\", \"x\": [-8.326649530193526, -4.041350310585218, -9.340718279309879, -6.16997693677959, -9.352075744991271, -4.7984441068228865, -7.048143188162322, -3.4773731760037436, -6.320890985272161, -4.42653255559614, -5.061002129354385, -5.92014173606284, -4.891715473653439, -3.650562983034554, -6.495348935429282, -9.63153727071311, -6.878078567048973, -8.11538131574726, -5.881068980008579, 1.5582791022388973, -4.191610798111888, -9.949884539194624, -11.301142748703066, -2.8205261993677304, -5.068959890070979, -4.09833073231103, -2.8562103494387587, -4.574463319460044, -8.657745324273145, -3.659145909092247, 2.4033252290624687, -5.655010645966662, -6.317454559114006, -8.082437263360704, -6.765658004519576, -4.445740785434057, -4.543140780721614, -0.699939920446845, -1.309897531388306, -4.636748318402143, 0.12417481832967239, -4.672726649490124, -3.515842915661115, 1.1125360595759044, -7.054382433946894, -3.9371029866469693, -5.307407470228515, -1.1398412447783044, -1.8087419037769843, -9.602983302028239, -5.649912313546801, 3.9531357205012334, -4.881560129853913, 3.068874084355487, -2.547173090084944, 2.9408779695338447, -3.980916658675138, 4.901470883898042, 3.0625831174047327, -2.4521025376332077, -4.740282993484063, -7.981316138366476, -2.974058371255598, -4.225376112335805, -3.743612268205345, -8.158497043155057, 1.8148108951614677, -6.9722253434568175, -6.749691678519177, -4.298470028921548, -8.471754115658833, -3.4693634634268906, 0.35474255512208963, -8.175510688388991, -3.0511299118862647, -5.421871017862282, -5.779450276373935, -6.199681899342969, -3.7840519880499426, -4.333009935697819, -3.4766929868031156, -4.728307078323775, -2.6137122525289196, -6.151590745293138, -7.433768993989825, -8.071969577220754, -2.338551683105982, -8.159750421525619, -1.895694046170417, -3.259293207782799, -2.325804741531384, 5.759039891522832, -8.926260389847158, -6.45464841570357, -6.785013249063364, -6.753672173043893, -9.18022956559769, 1.3166006680865474, -6.735788007409572, -4.817162249479563, -2.993384633253378, -2.9205284100615114, -4.295592099420488, -6.618228972660104, -6.987454805520192, -7.8448497114621025, -3.4022480040770375, -2.2782987070374356, -6.383578006378215, -7.428324266042401, -4.801189999214742, -7.410456940595003, -2.3732630450537613, -5.532607514898584, -0.8378622330913982, -5.214302112944464, -5.962517140776709, -4.652955252755696, -5.904419449468054, -7.835392115125022, -10.455463697437025, -8.355520333948158, -3.5915457361547993, -6.462819871722463, -1.0287947108120628, 0.5020263137374233, -6.372775275377484, -2.0898096768136303, -4.583653527776332, -5.013452022282728, -7.23016928692129, -3.6335828052067987, -4.554982875074943, -3.7253762783324755, -1.9952571847252265, -7.661812148589636, -0.583392537721272, -6.790677206616309, -2.7959869901827137, -6.936160157306711, -7.015136010927941, -11.140418700390374, -5.976061739507473, -9.369257999946715, -1.6406105730317742, -2.651152453920094, -9.387789645454655, -3.4676551482917684, -11.058393925317166, 0.33644173195126054, -4.653516522671337, -3.0983761924430113, -6.774716652332446, -6.702816248591193, -5.055171160023202, 2.105167763214905, -2.8523802106359075, -3.908292945831327, -3.3506499143203072, -5.477696737484301, -7.5691097158927185, -6.4634254848823245, -5.2854937968714735, -1.8713688883937496, 4.7086831556321735, -7.913476191697942, -4.009849063546586, -4.311598268876069, -2.092120355509543, -1.6277658432788, -2.998030406000691, -3.6588133954290027, -4.845185969030147, -3.6219976075218274, -2.3262820412728042, -7.418584755853893, -3.0925314350674404, 1.1551280961556196, -4.686636359556595, -3.0528360825847805, -2.1172038322782774, -1.307501875497569, -3.336262385224124, -4.987302975508231, -3.1371970932647404, 1.700830267672659, -3.0026989022534334, -4.26132991212436, -4.409535177746614, -6.118153202010077, -6.136793991673626, -3.76392789048977, -6.494554730530382, -4.293405001552958, 2.330169062104872, -7.566967089787752, -5.135552851376926, -5.63026392481036, -7.7953359715036505, -8.897699203297721, -5.8877148415719285, -10.528048123239657, -5.2604022873005185, -3.949973484905104, -6.59441657676402, -6.462018940499584, -6.490206281508463, -5.924394080834162, -7.504540585650695, -2.571113054453403, 0.5263154735103809, -3.5169818960321986, -0.739237333019785, -8.083071691600615, -1.7950950036175786, -3.980750069665534, -0.590167248012454, -7.752907228007436, -12.016387846174519, 1.778095708747154, -5.140555502034984, -1.9909722425386576, -6.176450008076116, -2.9269965597013217, -2.9186779166088384, 3.5018467244425344, -4.409970720901961, -5.3309974001635565, -5.646260329668848, -3.9344124525575985, -1.8440300957665527, -2.7720529413077983, -8.414005018448366, 0.058619860782936614, -7.174656313521911, -4.868630951262784, -4.848531362055549, -3.9850051924914967, -2.7257657624541203, -11.124789233893274, -5.541369191877223, -2.9874450946644675, -7.000623824108079, -2.9031042037840695, -5.2309970372465076, -1.6423349759524009, -11.78557999038628, -1.0296966741957871, -7.467561241039403, -8.364505642435429, -4.879729324466689, 0.25485727113012924, -6.679637944739588, -6.7859990353374595, -0.4544661264514109, 1.1752936781720775, -7.0982401303385725, -3.339823744130143, -6.700919798103898, -6.707831475579147, -4.665654808236372, -5.240798426974136, -1.8438522770551284, -7.964774635449219, -5.480896499975772, -3.616686597317522, -8.168726906394813, -6.645604716429669, -2.0075916655648864, -5.599377094963127, -4.087084941940367, -5.765694463858197, -6.752722323213775, -5.202931154457209, -4.1668806410210735, -8.215046786447386, -8.285111431187584, -8.567739557312839, -5.185944478736194, -6.969841826725534, -4.255224852678503, -7.97364153777642, -7.43530419691271, -10.135780792927038, -7.672016608191335, -2.4486956587568005, -5.67341300133626, -4.078522179038145, -3.329193375228085, -7.7019551746504895, -4.255224852678503, -6.090137091322568, -7.027482179119047, -3.9023680841930544, -7.52446270560886, -7.487392293191154, -2.3271429863800934, -2.7073354808701153, -5.334914965908477, -2.190996587568663, 3.7174375683233984, -5.21085303972998, -2.9074332974789034, -5.8527499388282305, -5.444897691179389, -6.838745230271405, -7.418657768185234, -4.60258320875442, -7.168242349083028, -1.5860355139788123, -4.11794534590536, -1.9292767441192358, -3.9928151603737243, -2.933927691513574, -2.001617469994161, -11.728520546569907, -5.95791102425719, -5.359465725777363, -6.343937259144783, -2.8720771029341434, -7.138429485002562, -6.431543215144443, -5.159234227726684, -3.567746232556398, -0.5730318773327211, 3.8493083986957615, -5.4965973299664705, 0.6744496859797269, -4.025732203043103, -3.938458331080485, -2.4386001009575557, -5.05622966754041, -3.0860104166508315, -1.1316780310825523, -1.790976686385923, -4.259231726422288, -2.8650871116348897, 1.1405204001190143, -6.0978762935456885, -2.548169800454974, -4.308122439603288, -4.467632824940527, -4.888432183463918, -2.0479527452478123, -8.70338740765876, -5.275682385164247, -4.869978125912445, -4.752089767994446, -3.131728611284018, -3.6285884868732565, -2.3800267408095754, -3.5682791644013556], \"xaxis\": \"x\", \"y\": [3.242149158056588, 2.8313322618315495, 5.375987382930115, 2.9276603462743926, 3.9076689131205478, 1.6581266998722288, 2.2593501776299814, 0.13350112607418124, 2.6759154834278878, 3.0981494285189863, 2.4916295044401604, 2.996864256382197, 2.3243115761803868, 1.0268300855980363, 3.4095286393335993, 4.718088099529058, 4.548206174583054, 4.000437751823223, 2.723739990649113, -1.8325430747118425, 1.481289306004728, 6.132238976633347, 5.2385732040173, 1.5342837328677281, 1.5291272783302987, 1.4822515250145187, 0.5591716267863562, 1.4778868544904686, 3.494425096458127, 3.2465175105386255, -1.9853057057626835, 2.606143201070873, 3.0264102667375683, 4.290061580984771, 2.7948727718989645, 2.7930391595652773, 1.0299713125386523, 2.8743939493703863, 1.2450281182297398, 1.5916726456250505, 0.4158505086999651, 2.3578869747966538, 1.409226479430564, 1.0726330996824358, 2.3748299067160583, 0.7668868542371913, 1.8092786155615617, -1.0681899072570835, -0.19048510539454522, 5.424164558811658, 0.6923742364269663, 1.4214587704537773, 1.5294188378963927, -0.09850041617832175, 0.5590512098523406, -2.6983849621266636, 1.0215247848982383, -4.909754466343216, 0.10477310260231242, 0.09604240398899364, 0.9172380664084463, 4.027474906152786, 0.6741494379984176, 2.4131844617039624, 0.09049030431425335, 3.9284885984534164, -2.1322404804912427, 2.612131369368329, 2.924253010431235, 0.9226871555677645, 4.123283132469331, 1.457063423982267, -2.1546163539466576, 5.0046966485346775, 1.7302986110255805, 3.2745215687313967, 3.431155533338431, 1.4143088690683705, 7.633351632600314, 1.1101552254978215, 1.4184563845861153, 2.123276995149111, 2.688707997525244, 3.378348397762523, 2.932307041422007, 3.190498753719711, 1.1412225631171813, 5.657471801513405, 1.1638923068820721, -7.907751524923145, 1.066861348324231, 2.039876318825361, 2.892285094812303, 3.003885101459874, 4.397183137076576, 4.771915614372368, 5.036982616722534, 2.4726386962159377, 1.276607445088844, 2.0099612893556875, 0.8127475744922695, 1.7363367819894273, 1.0498415780653103, 2.8374874527877716, 4.159882279300235, 4.47846281987709, 1.3414159090604356, 1.8051275189197658, 5.39725217652542, 2.5492175785421605, 2.8931022131817463, 5.7531093381994785, 0.30421686736801806, -1.8155358483801083, -2.866892150841638, 2.818548845148997, 2.5235243126658564, 2.4384599959986883, 1.958178918760936, 3.9253306234288443, 4.702688174935118, 5.80876415611493, 1.2951846696929636, 3.840400536168928, 2.731817154191039, -0.6300719873450149, 3.22977649505867, 0.3089392599231981, 1.8157894728011583, 2.0984998514665563, 2.8699541075091766, 1.4165418504371747, 1.5765299426926698, 1.012345116395752, 4.531955648718197, 6.634653487133532, -1.3308061993287135, 3.066363891954968, -0.1875649413380854, 2.73428275159395, 3.7485655169733554, 5.555662395418258, 3.5491863315078267, 3.7421726359105096, 0.03490875944352887, 0.15728006064459413, 4.3649645253927805, 2.0900734969138877, 5.563707123722494, -4.3133318773074505, 1.5672156551048937, 0.8226396947825821, 4.386735721366076, 3.042400451324208, 1.9449077273749098, 0.30498124503854135, 0.014582887471615716, 2.511665654130368, 3.7781549677944706, 4.34125994391728, 7.590947985422447, 3.190845954130704, 3.3310959725042215, 0.7362323359449047, -0.19419478569792709, 3.9742719793727193, 1.218966811039504, 4.342598415721003, 0.9042552008461392, -0.5997135038563293, 0.7846846224605816, 1.1379962343025873, 0.9572167368345921, 0.5284161909747548, 0.7808793088830749, 1.7897915383270067, 1.7823342142184206, -1.1201907342648947, 0.5496130468865246, 0.2239853951891521, 0.6412923631923588, -0.48022357619884276, 0.38114005832708236, 1.4709766918459823, 2.269562801212419, -0.2430325507434916, 0.8239137162469111, 0.9104888083663114, 1.5070700401493982, 2.0819190729673283, 2.439438411864719, -0.010943221056570026, 2.763830093313043, 5.071800289085842, -3.3752940279854164, 4.91657644955512, 1.4321522202889612, 2.628082620271369, 4.24189337154066, 5.1310495333116375, 2.7038969869898213, 6.170480802774757, 2.840390720389275, 2.3312069822229553, 3.0884550591791218, 3.2108260986988877, 3.660032734219764, 1.5640056023740803, 4.2924069761294295, 0.25460191930657394, -0.5651924796337936, 1.8778020440118643, -0.9042258093396426, 4.32008380132158, 1.3585325802502937, 1.5361991652428804, -0.8528726261972394, 4.679259167919981, 6.3685149952241655, 2.8948623515292438, 2.493011942990034, 1.0452943055020025, 3.3684994886064823, 1.216001526521093, 1.4589848154953422, -3.701870847907405, 2.3131376217855473, 2.05969603815205, 2.5520140630865495, 1.353168323240152, 0.8988177407189349, 1.0661493858715154, 5.848367697982268, 1.2440309645979373, 3.512222104148664, 1.6908180077240766, 3.272018113787469, 1.3074219584875226, 0.035581033813623396, 4.186394160268667, 2.666602932435012, 1.3047798583715182, 2.916499158700539, 0.00930720630435158, 3.089646260821488, 0.2633720936655426, 7.118103873035605, 0.8210818793197409, 4.228340184016172, 4.136204107173425, 2.280005722913612, -2.8109724044474307, 3.8461068901711775, 3.8823431235879338, -1.332088113244719, -5.370137364124555, 4.643047781061231, 1.743502050970227, 2.2648915529760525, 3.5885249952629668, 1.7218146285599139, -0.9908461415543424, -0.027378844559274737, 3.981697974682922, 2.3626336338848426, 0.918629154313871, 4.092026349044515, 3.4928951555272523, 3.124122358830324, 1.396920855223326, 1.7329332992977429, 3.357029741150099, 6.488358870072915, 1.675449497505578, 0.9156150447927344, 4.012668307764527, 4.898234057579382, 5.087298122021492, 2.519841109522714, 3.6684640964273583, 1.2921719871425554, 4.4127484434226405, 3.7253090207193464, 3.7781830908407565, 4.869602128174736, 0.303163625789669, 2.032652963835402, 1.453113120671079, 1.4652977774037648, 4.746090660505784, 1.2921719871425554, 3.407737134066354, 2.607713477719086, 2.955791033239635, 1.0733605907705, 5.2797297741909, 1.264593723049362, 1.3337545763184073, 2.3960644015395274, 0.49116930871881503, 1.5823644107644772, 0.6743982111224887, 0.7322709621095392, 2.1036520837452395, 2.8932677815054038, 3.5949429450908785, 4.044059511885152, 2.074142884033721, 2.0177937671120523, -0.13338025148441035, 2.6752290479748124, 0.6943762464926256, 2.1455964755234183, -0.8016609847280517, -0.4501890034195905, 8.02955147813344, 2.509663314784212, 3.8946077559049073, 1.9172974888807426, 1.5383180279626598, 3.6254974076243336, 2.2957855692584657, 3.2352997387266607, 0.8402949103887123, -1.2737798412875587, 0.42267343701814164, 1.6396031003574711, 0.5033061125779391, 1.6947192827609132, 1.735902065144179, 0.3219212500435276, 1.950383557419805, 1.8560007381396801, 2.267371637733579, 0.18366244898230125, 1.0662872940536838, 1.8912321825922451, -1.0902129627494956, 4.298030443633408, 1.0707500019489964, 2.0233570415293056, 1.565209049533017, 2.5565303526779535, 0.010290138476195846, 5.090209800518985, 2.666707311807712, 2.4326614174846357, 3.7011327219996892, 1.5336702037636742, 1.6865048390638455, 2.3249875072284234, 0.8026815074470226], \"yaxis\": \"y\"}, {\"hoverlabel\": {\"namelength\": 0}, \"hovertemplate\": \"color=D<br>Enc. Variable 0=%{x}<br>Enc. Variable 1=%{y}\", \"legendgroup\": \"color=D\", \"marker\": {\"color\": \"#ab63fa\", \"opacity\": 0.7, \"symbol\": \"circle\"}, \"mode\": \"markers\", \"name\": \"color=D\", \"showlegend\": true, \"type\": \"scattergl\", \"x\": [3.8031494650519417, 2.4825956138492775, -1.1128420421801655, 0.8861634935388193, 0.7377319565896493, 2.3190855933311867, 3.251693356992231, 2.078164704723785, 4.1602052152907465, 4.359973722545584, 1.5972106129332715, -7.183770905590438, -1.6869749763740627, -0.8416392150392135, 4.98949134443311, -2.460800568325296, 1.3151708611274473, 1.130367149618147, 4.624154950714469, 3.259588706814843, -0.4562191556251332, -2.659638851508672, -0.5031148113558769, 3.719316944276994, -5.616590434616398, -8.68659713899246, 5.259474861433784, 4.396530190176366, 4.512748393139794, 4.227506041145822, 1.642707913616926, -4.9858724884850405, 1.8660512529593056, -1.0819987569013063, 0.08192220559578813, 7.286651262524835, -6.491577565472225, 3.8052653051804337, 4.779532934899312, 4.370801702204269, 2.699084015620136, -6.572581807817483, -0.6000532572526699, 3.6397111027365674, -0.30242101025310364, -3.4748384624622646, -1.3027457776507416, 0.00672174741446897, 5.126316261835789, -0.49125467349788793, -1.5337340300656641, -5.978222165821695, 1.7695686457787214, -4.5291152163535395, -3.713540854239745, -0.602296837078497, 0.4409185576594932, 0.04078494687674323, 3.9677967341655713, 4.056974300271982, -0.8862501413837087, -5.980673592143944, 4.039329119555116, 3.435155580637485, 3.955460780886374, 0.9594430932370389, -1.6464903812715186, -5.546718970274991, -7.276377994374766, 4.998125078799257, 0.7599206366497625, 1.9799132406541833, -0.20026737511845633, 0.6035359618622044, 6.281579746119781, -0.7982820159260597, 0.9897208799822664, -2.10540123109596, -2.742432561078775, -1.308951565510095, 4.5253941492318335, -0.3360406360996356, -4.612728666769006, 6.287376921968152, 0.4570204393215862, -2.2397616961202917, 3.840756653278307, 1.4282787399372858, -1.3061203735365732, 3.1834949601514233, 3.029828724057793, -2.831722899125223, 1.8380347783300481, 1.3320671324211024, 0.021283027620170633, -0.2281871370115048, -2.2731027820100853, -3.7367403512403787, -4.513855237029312, 4.626163097746515, 3.1696758656599955, 0.127758220520911, 0.8577209328310693, 0.841737267659709, -7.025273222818675, 2.666054530994367, 4.498132180995203, -4.790696215592653, -2.6866394233177258, -0.2716548143655759, 4.695298526463064, 4.417646511897957, -2.826780165281504, -5.736526214860493, 6.419886637254416, -2.602765728002664, 5.784605439205088, -0.44396367681572313, 0.3340774861372261, 2.0169003693904233, 0.4362249284647911, -0.5378741774653073, -7.10009933332079, 0.5844217930676618, 2.004193683180316, 1.956544811582117, 0.31361718819902257, -0.03851653673559325, -3.9399400922483108, -7.533475935794166, 1.5165485722669707, 1.5846477825559864, -0.5396311359573174, -1.4201118528538585, -1.8770776723193765, -3.7899026406483465, 4.402440000716222, -2.0815204265592575, -3.366914863171316, -9.569423038793039, 1.9033656035998165, -1.8593042521596608, 4.038048457498079, -2.4519394188723713, 2.1167989555930817, -2.5436766663912493, -0.2648972341118942, -1.1407933828264492, 2.706226416778163, 0.8541083144073959, 0.5123828269158894, -3.061841604391613, -0.42483260071747214, -4.117630108351346, -6.320883787769643, 2.1882499520980048, -0.1833829087132171, 4.2202154629977, 0.16713312913054604, -3.7848625612536724, -2.0045185923309865, -0.5284215331203393, -1.2240506072391648, 2.937348258048844, 3.460632768990691, 1.3282173862293778, 3.916267830696357, 1.7558809607162955, -2.170564799414409, -0.5123167796663476, 4.434648080774863, 4.302240427944146, -2.4793331365859403, -5.783400900481148, 3.592179892012219, -0.046934813075301084, 0.7234177914589224, -3.9089752279896954, 3.2639090428942668, 0.7723189871556262, 3.5670491982227257, -6.397362050236411, -0.8586247873272268, 0.6455819194700051, 4.2848868804678695, -7.748844921585586, 3.8372933100578277, 4.310781298288845, 3.4417750957150575, 2.986115285592565, -6.155865968689919, -5.321528121954117, -0.43907345570867046, -2.546419588526258, -2.68364934688131, 2.8987314979620766, -0.7293441318628993, -0.98557234841111, 2.5737099650394635, 4.423063955283728, 1.8113457783302065, -7.522037089516044, -2.464164147379532, -3.3704842283270335, 0.05750526097380461, -1.4366519237198003, 0.04260014277928491, 0.48057845358469226, -1.7658739231388565, -1.9416500059502226, -2.4478614344923253, -0.4103180771050546, 3.5329553509305756, 0.4929229197504536, 2.0246854831949785, -4.742845373367961, -1.7617215268890838, 1.4140291632072437, 3.5830569589227337, 2.4394207532409875, -1.864042066876393, -1.4091840811054073, -0.4560275191982342, 2.016506642181603, -1.982318979202443, -1.9753343157644303, -2.292376826943928, -1.015493031626159, 0.6114117366699376, -1.6457927747397882, 0.5220460098253082, 3.6967136993003344, -7.011447091263162, 0.6507282963676414, -3.3090569960670773, -4.654731263049218, 1.3868465449225282, 1.6498506475936436, 1.7598313834312842, 3.351650758862241, 1.4100065971807139, 0.9331651067187405, 0.14581289490358493, 4.341808353357486, -0.17882188828233905, -5.869291541976322, 1.452851355058585, -0.3275329224838835, 2.249069059406083, -5.076714691336863, 3.7522712051361142, -3.857214238248499, 1.4097550195247568, 3.2102601066333523, -3.0066970876033174, -0.8476118352288217, -1.4217446185368057, 4.639500356477545, 3.936893677561596, 2.325286606809921, -0.4901391856446675, -0.4154914556833735, 3.293323095539434, 1.5773975714455086, 2.020283183637451, 1.0137191587935104, -5.658354465304149, 5.75033241234902, 1.0468695955517227, 1.1272358242203562, 3.5250803072059176, -1.3246678100707452, 3.3550729858614403, -2.977706750641796, -1.9914644504387244, 1.7514566664175786, -0.36858842088581306, 2.2108408646065425, -3.1146913023393443, -2.265474256199979, -2.550303450410379, -7.109972423059086, 0.9241361848473955, 3.356945735982526, -1.1779918183470621, 1.8145365165644034, 4.3242489961914945, 3.684246102949327, -2.275959495492339, -2.577871570274118, 0.5682126905686514, -5.237807174019727, -2.801976006655253, -0.9839325895114955, 0.657982393248183, -5.877882050438954, -5.079153605472422, -8.541120958456016, -0.3276169511079359, 1.9108290259794132, -9.284173965981674, -3.6451076055350993, 0.09728959668972478, -2.5396064536952316, -1.3161094588160023, -1.013670224031574, -0.09787256063978955, 2.8227076884619495, -2.047489795835941, -1.2724113109987336, 3.874738271146874, -5.863517845634709, -1.4548895693522121, 4.406804401920037, 1.3064598478278422, 1.7666384024703785, -1.9905122455967446, -0.3917198949350504, -1.9537437963695108, 0.11897327593144867, 4.638849748379601, 1.3847606585314713, 3.389667436428086, -4.4618476557629485, 1.5328863541028632, 0.49393522279584023, 1.4792054366537841, 4.402837563730895, 0.8820784489068981, 4.639430117208604, 0.21947187947687308, -0.5014113529272336, -2.201269169584908, -0.44410068297704297, -1.837332843787472, -1.7343954454076616, 0.9500288733931267, 4.805632925315124, 2.5575462864872582, -3.7714088988169325, 2.8294606349169578, 2.1622039464505898, 0.49886352047367305, -3.885879031904401, 3.353909857510734, 0.5706303564079208, -2.528663621370281, -3.6728719848281672, 1.3072846370815818, 4.188307293698212, 0.9572531895253423, 3.9245137926317715, 0.4220374400901347, 0.9361394913088705, 2.5454060987143707, -6.7275944391342195, 4.3085050722671765, 4.450343169745528, -2.8161676447784294, 2.9878251654986796, 3.155344622279844, 0.8374871141040341, 2.8645167225802686, -3.270013286755892, -1.0614132581224445, 0.42550989133520983, 4.4767361120114835, -0.5953787913995405, -0.6419733885529164, -6.964490967398021, -2.048700987929999, -2.1758095378059874, -0.03624225652628324, 1.190584594589714, -0.3572684201519207, -2.0603198198222175, 0.29947627115529335, 1.6237471037587645, -1.5611461064765506, 0.290868753679609, -1.7628553295392901, -0.3827001536225084, -0.9458346003638662, 1.091233463036631, 2.904179909549693, 6.507133258849204, -1.9377387503699122, -1.679942013057146, -1.1206321968293977, -2.645135847215222, -3.1476659285542126, -1.2474411034945014, 3.8657185196421677, 4.0027421517948385, -1.007177324736576], \"xaxis\": \"x\", \"y\": [7.918032920465835, 7.925102771941061, 8.818603004322775, -1.6006098156496729, 9.425276687443311, 6.989541814150515, 3.91739133097369, 2.905714548590517, -5.093361943782667, 4.6201964666613975, -0.3951465204808816, 12.0296616652819, 6.018891288284105, 5.0313918071406425, -1.0955659762950116, 8.268242089811643, 3.6595378934865064, 8.339150112000455, 4.733189509633144, 8.56051467696767, 4.519077115637139, 5.598304821021478, 9.911116824488156, 3.420031689830221, 6.925905688017899, -3.2936565110348455, 4.774809259069811, 4.442862128366987, 1.0554736393798234, 4.562231805881774, -0.7785711204456489, 7.59599370793833, 0.9656360381817827, 7.615639636148417, 4.947496526515014, 2.437513482583857, 10.14750124239052, 4.099203681017538, 4.562826191357785, 3.833419645054806, 8.166437332403682, 11.946925279778432, 2.7800717102459913, 6.872572628460013, 1.5901310741331631, 8.182834212201358, 1.7190702754836233, 0.6340993117591727, 3.66938599873486, 6.097475598532228, 8.316959977518147, 5.746945381458699, 4.063958330893464, 6.706235030717499, 7.099501673368598, 2.4882097471025855, 5.01194273751038, -0.18005350628850328, 1.1167412512363843, 4.951459665361722, 3.4971379307613875, 10.659944733678124, 4.50106524768134, 0.8449647548486657, 1.3598868048185615, 6.104610557585584, 4.241791242186972, 8.184572511869174, 11.833022997972561, 4.222801689395172, -2.156374926118208, 4.01632395406503, 8.423461145082237, 8.072810455831583, 6.404389106496316, 4.744871834279631, 10.261799908633073, 7.707615014583986, 5.4014165467278215, 2.7178896835631985, 2.4185002349158014, 1.625252487898859, 11.1428750158699, 2.844386363650395, 2.8834617057232474, 0.7591933742518907, 3.4990230171168384, 6.652903229482524, 5.779910591596968, 8.289248502693907, 9.250696060841449, 5.152907452670866, 7.3811981400966005, -1.1134805706618918, 9.141714720546469, -0.3301143664937877, 6.462784648405801, 10.136786263387316, 10.207585741800884, 5.966468199396393, 4.534173444693161, 9.842949279455597, -0.5443760816961183, 3.5259745205520416, 4.728173293508344, -1.3465671825247545, 5.00474620253192, 8.566363730641818, 3.180713930991964, 11.077103680966191, 2.6628121261917967, 4.663432566819049, 5.601271810081708, 9.66266834408195, 1.4369871922624462, 7.429459398511569, 3.8221962730620462, 3.4861894901952524, 4.283636390666164, 6.1184521570475265, 3.675968285026906, 11.39117047963147, 10.110974616350584, 3.1743167846975586, 6.166623131552277, 4.666970372191428, 0.16869265958541185, 2.161932137792776, 7.385878505948165, 11.588871931116019, 10.119289325753348, 8.24867044676744, 3.9846275243695684, 2.5872850337163653, 4.270793596260501, 7.32586841299719, 2.47431459233403, 3.495507863616606, 6.194887782296648, 11.083965762104528, 7.766022603982487, 6.650825421678606, 3.4529301251347584, 4.867763474453415, 7.243357157243986, 5.319949410067816, 4.427160939192745, 2.7707291808123875, 2.511936910058517, 6.223009688534503, 0.5126204607159598, 5.6526958971614105, -0.4146255974891914, 8.42456557396563, 11.445046970532646, 5.947340130653109, 2.8591260752068544, 3.4296719006489282, 2.9497981722613935, 7.51006325985875, 7.28453749589668, 6.006448431504466, 11.87887379490983, 4.223230157990639, 8.31459432575941, 9.57090394190494, 0.18585718655869177, 11.270356106652528, 3.896443255568322, 5.66984410257605, 4.870833922445925, 2.833659248732555, 6.217762992189752, 10.526002149076653, 4.107309453073084, 1.4302964784141408, -0.9957478292983111, 6.472053348798627, 5.045815207556051, 7.55835668697138, 5.758010573741082, 11.734679128667276, 4.612251616559361, 11.025718975971223, 5.1300053483215144, 11.303993069353272, 3.7043250648312407, 4.573757190961599, 3.443395980543879, -1.9240322452146905, 10.181095909724675, 9.715286918060764, 8.662044620700296, 5.695865208813235, 4.850470414760841, 10.692790956044327, 0.7876803744289304, 12.494028620288855, 2.4740652794370828, 0.9532894856180509, 1.687181715406589, 11.649183439829532, 4.862338318078333, 6.118197187058822, -8.005800066408122, 5.680939688704756, 1.978562902053153, 9.869340686037859, 2.5008880065276755, 10.578629415977133, 0.03987350628386119, 3.760078788135451, 5.442545300846874, 12.050393176939743, -1.808760968168119, 9.423674932961198, 8.759153991625531, 1.096837050253622, 0.19392990505957672, 7.795789090669956, 4.029736814607807, 6.585896289761116, 11.57514915229211, 3.8028633931129665, 1.0654615008651764, 9.685429271085493, 4.553240273195562, 5.440703547061274, 4.289014350989397, 9.957233401441078, -2.19942746259219, 4.015373776549799, 9.979915980506695, -0.05053820463990413, 6.976705496616343, -0.059490367290265585, 8.805233628624324, 6.030107784689757, 2.726856910964242, 4.385442196231451, 7.283682848342927, 5.739441641422334, 10.057860504421877, 5.116435990628855, 5.549453127912881, 10.78895603106278, 11.629706444269015, 3.049101782874847, 2.473043400978826, 8.987344956239351, 4.393318472811478, 6.722705145348619, 1.113987437833199, 5.711424503594302, 5.948760664631003, 3.6532720108466843, -2.319429763078881, 3.6456081771893123, 4.0406312995953595, -2.0499300146074435, 2.5130036516337237, 5.2165372304983935, 4.83622019346503, 6.4061898537431645, 9.319516614973235, 5.923577563730939, 11.279789981710584, 3.949421928836866, -3.2637282003075416, 2.6680127702421803, 2.6358268326533643, 8.42612765259884, 5.271847830036855, 5.832715323015383, 9.96847422875148, 7.720911695762884, 5.277863063708018, 3.9160809155367997, 5.389130316117375, 3.767008117871015, 4.526056300923896, 10.40364979117722, 10.56337735458316, -1.146883076287981, -3.7950835967276726, 8.192365468175948, 3.691851434228823, 5.69192878701546, 6.73979629791223, 5.274695877542391, 4.36344260318392, 9.529241920787086, 9.533393605487303, 6.086820889094552, 11.985685161128652, 10.07192942400287, 6.446337146898299, -2.791378506816353, 4.207293033988704, 1.950338897968124, 13.34049316372429, 7.900850324747927, 12.047578001711416, 5.049677168022948, 8.273303233416591, 4.129508917819276, 9.25253258774422, 2.6355091910525847, 4.94765581687234, 8.708157801405058, 2.0321076515531495, 8.055012514915619, 3.2061671731835832, 4.528706165489201, 7.477544286719306, 4.860800758407335, 4.553684410298948, 2.549336623008681, 3.755543463540893, 2.6099746913423743, 3.3209695153779966, 9.499255249397796, 3.4158063457249095, 6.364128722590081, 5.941808531333366, 0.1484968130654818, 10.454989933299494, 2.4724364518128645, 6.639913254211751, 4.223302460286051, 2.3307947218019325, 2.301633334522757, 4.374409677226068, 3.1080822092097375, 7.27665388979226, 3.8236160958638203, 0.6646798436968684, 5.484812859151071, 9.152687235644226, 1.123417875408421, -0.0660255813707033, 10.419415004988116, 11.932553883768847, 7.250400887239509, 6.226950896562793, 11.057281089937321, 7.1942954408018265, 5.79964505635865, 9.412078049285467, 3.0576333897580086, -2.197618099149417, 3.779854893920201, 0.8653857213843816, 3.075234382047145, 3.871854037132621, 10.839779146786306, 2.7149252331747706, 4.872191757126875, 2.8017537239111814, 1.0735991075216942, 4.100078835145561, 1.87181912492689, 2.993447949017929, 6.762206873128785, 2.7632227005470344, 8.449833849740743, 4.994166701899987, 2.3722103433027923, 8.734761806380709, 10.413564864541021, 4.376598279275631, 4.256160950235076, 2.054702048684349, 2.594369092583845, -0.07354990577065663, 1.2229567003072963, 2.3213118347456247, 4.865407932687378, 4.438046470332577, 4.525428612555229, 8.100040240115472, 8.535550810417874, 6.948733143227935, -1.192702193871602, 6.3879692527826, 1.7647642840271065, 4.392379758593629, 3.4497028649869366, 3.5740126233495086, 3.6617550729535226, 9.664199514119536, 0.9774557072389477, 3.8880224616580716, 3.6115702499692843, -1.0532697231313999], \"yaxis\": \"y\"}, {\"hoverlabel\": {\"namelength\": 0}, \"hovertemplate\": \"color=B<br>Enc. Variable 0=%{x}<br>Enc. Variable 1=%{y}\", \"legendgroup\": \"color=B\", \"marker\": {\"color\": \"#FFA15A\", \"opacity\": 0.7, \"symbol\": \"circle\"}, \"mode\": \"markers\", \"name\": \"color=B\", \"showlegend\": true, \"type\": \"scattergl\", \"x\": [-0.003165828673972399, -0.9859187878921843, -4.644730856439945, -0.13679948804581069, -0.8210882850236283, -0.4423576546836917, 1.023486600433128, -3.883094253248793, -0.38022937619038194, -3.1468128063514653, -3.7629504815158596, -2.295842841869222, -5.883332315772469, 1.4773281073459796, -3.119550516781483, -1.809181125445687, -2.0923887192284236, 2.052952802676813, -3.8255937767234975, 0.523016983397797, -4.027711493884759, 0.7553655890805492, -0.7081614771723194, -0.5513207229994715, 1.389050261913648, -5.275127759303611, -0.4804243705959476, 2.892604785756486, 3.67185763808287, -0.9570503296913444, 0.6416334609470796, -3.314205430113898, -0.12262289398628487, -0.15094857448138788, -2.6794051820760894, -3.839133777264809, -6.765108990325687, 0.6734654010988848, -0.9611111423856551, 1.4263106576849671, -0.11384690310636532, 2.4518516819478453, -5.08119306297684, -0.47781476491548414, -0.6419998207152608, -2.322136128093157, -3.853111223194426, -0.7065273207077767, -2.9244829905214, -1.2069214776463, -4.792088957490508, -1.248146155983742, -0.9904129678483389, -2.071723994627938, 4.6826446528080545, -0.19964386194281408, -0.7890392168684995, -0.5426290521859015, 1.1309327319954576, -0.42074416500765244, -3.546016977410629, 0.6803103985740212, 0.7309939831234233, -1.9133911334885867, -0.5336829492321189, -6.3482739635531, 2.6377499124782178, 1.7375093961473145, -0.45924851738773087, -1.7196463518320608, -0.41249471638944474, -0.3811305817288617, 0.7545140330066563, -0.5504811740353944, 1.6536873956807898, -5.516758804015041, -1.055327071152573, 0.7460134254057971, 1.1186965663771762, 0.48592491729669085, 2.889561848783819, -0.2349567110424857, 1.0421178477811683, -1.00146461985088, 2.081923567996783, -0.497440226130561, 1.8215588971799397, 0.27394531317169646, -3.2416025626841556, -1.2775848643552699, -3.4931905827666396, 2.1468931509086153, -6.498265448430169, 2.5187959133019784, -4.173911524108314, -1.8725368292266817, 0.9527261779740307, 2.261226920072882, -0.5586093494187578, -3.199068303890368, 2.049678999577574, -4.745514304447581, 2.6576369770045503, -0.13434631926522167, -0.6532292727089092, -0.1171650313266867, -2.128118753782454, -1.2120912072177386, 5.665171074815926, -3.0995652769858455, -1.8176580811997445, -6.206700207969017, -0.03622637156371994, -1.3320533718747052, 1.640720181845163, 0.09785139411344515, 3.4363818283983583, 4.191077664087796, -0.7886007673109575, 0.07873446187789751, 1.664578991272497, -3.0959363994285654, 0.8298775055639894, -0.1365709763932384, -6.4737824860052955, -0.06445134426938587, 0.6306067438403288, -7.316434237543051, 0.490833791332682, -3.228269559057032, -2.098568341333583, -1.4209667003432471, 1.852340863095515, 0.8536924876619642, -0.3389559421758545, 1.4368798975454402, 3.8143414482616045, -5.821014422363315, -4.63435210206715, -7.411157467572132, 3.1906650760543935, -2.559077294133371, -1.7700778090483544, -1.0218366206738367, -4.717093817443698, 0.06376296695190403, -1.4327472459484283, 1.5578081984525818, -4.66608483501478, 0.4354871603234843, 2.7342245206365154, 4.848691818629967, -0.25108721670499684, -1.9024452054334817, 1.5269718506107488, -0.7898159638089561, 2.4749010258538573, -0.19429504083280721, -0.5336829492321189, -1.1408809492174832, 1.1535335180601276, -1.5205844000160893, -0.6884995366277641, -4.727922102140116, -0.4324183171619804, 0.2329708132394691, -2.378387844983575, -2.2882974884274176, -2.0922450315284027, 0.20982294943957505, -2.907330057856104, 2.4721573241626644, 0.050218125194449285, -7.515423640953852, -2.0683838133271397, -1.0409057182858645, -1.5728934375271635, 4.539248003887371, 0.7307748925090489, 4.974915785850034, -1.2215727999012662, -3.7535535388358117, -4.334744891341584, -0.7307666429420564, -0.7685971016909257, 1.176685348136054, 2.057864793316799, -0.4776403467994807, -5.571623190543967, -1.858746626632632, 0.4570422085016665, -3.7131140209174087, 0.04135090589253712, -0.8416866896915309, -1.1241617058114663, -0.529191925139945, 1.7759118719846543, -4.1805295508419835, -3.4992998881150896, -2.756952290693939, -0.0023370703853173706, -6.566628730875951, -1.9268987341926438, 0.9066485849482134, -0.8550144579102851, 3.7213194478631473, 2.852291916231967, -0.4948974049983501, -7.085760567642935, -6.862122054695568, -1.4262381075785804, 1.8399704284718137, -4.004255918564031, -6.043627309934613, -1.6408308992856608, -1.0439590876651756, -0.3336592002343758, -3.438048399721234, 2.234790778573078, 1.588363018782162, 2.8013502899434966, -7.527431823774022, -2.4387721212060756, 2.023410947909913, -0.6355122863588877, -0.8146829016044412, -1.7182790179850604, -0.06724169339330849, 0.36631571903241594, 4.823370937664468, -0.003053347714332479, -1.9010749630669534, 3.4457643843518784, -0.04117991934730132, 0.3866070576882778, -3.6774831103299106, -0.07565950070008039, -1.2392421895066164, 2.5141516794387986, 2.1690568161379513, -0.5416344031210837, 1.8910581039869676, -3.2107427812279874, 0.17292883731043995, 0.8042689862963949, -0.03349708275795783, -0.8507688635610506, -0.01537167152931407, 1.1447672820680599, -0.40435208333502237, 1.3246804028116501, -0.6369588913045603, -0.45089547874399405, 2.540955849989265, -0.5825980928677493, -2.833943979129549, 3.168353045467862, 0.03730913352668971, 0.13813806938421994, 1.4796591937100432, -0.9704711545744241, 2.003597078275821, -0.7485674798466632, 2.3851382710801188, -3.8546791214315776, 1.9090318475691597, -6.903843243753293, -1.3383295158348905, 1.4126289637927936, 2.152759379834733, 1.8740030231792026, 2.653952997311544, -0.4850957501772276, -0.6318863398129875, -1.1848829621306407, -5.903371233541428, -0.6125307361559366, 1.8409068851287382, 1.221432163578234, 2.336260167831297, 0.8115289964605564, -1.1009429406532438, -0.4712152178097683, 5.863567954741317, 1.7561965820198784, -2.4623605377083413, -2.257525262534512, -6.320081088532099, -1.2864117337334868, -0.31295560102826475, 1.190114976992225, 6.027390242753711, 0.072149088641785, 1.5498184445448988, 0.8487661003375919, 6.161390487043593, -1.160763937780236, -4.221906208937499, 0.5762397524657932, -0.5859754194509691, -6.173137573390305, -0.8630412273318133, 0.03592730438010301, -1.3173157895745673, -0.19353679784128677, -3.378489995431538, -0.9048736467498347, -0.517446016819674, 2.3455303311030358, -3.4834659605486897, -2.369034213402381, -2.857297335927008, -0.3008691122073075, 2.1139953063199273, -2.357304688437565, -3.8967851626782872, 1.4045339003435002, -2.2044690086936445, 2.073280450182884, -0.0019116560183370128, -1.3214867545774054, 3.022899656652656, -2.0463723905722833, 2.5887904689923316, 1.7328322173208703, 1.5187392965211355, -2.712524821561575, -1.9187329801989752, -6.619838077895983, -7.206138439899413, -2.4866785531163824, -6.420849760691145, -0.7609344370597557, 0.6776904412463584, -3.358775533719574, -5.261709357238195, 2.321782606234922, -0.7672783199558283, -3.0647052084466053, -0.8188042821213735, 0.5646526225057519, -4.26107431587088, -2.509888658541025, 1.28339115305134, 4.13221518756338, -1.019115767158859, 0.43208562540401113, 0.03023647835760606, -6.022157872809653, -0.35417930243118134, 0.5471686386881035, 4.358736295269663, -6.280263049609749, -1.556062476716328, -3.4959636254212265, -4.191577082719076, 0.4670982690645196, -1.7912303690323383, -1.5154898126151657, -0.3115309184047428, -6.582969302636647, -1.014715931324055, 5.006211108758925, -0.24624411018417894, 1.437773021596399, -6.550599210998747, -7.096068465309716, -3.5041521855829645, -2.603077921350542, -0.45675389520520154, -0.1414245315630995, -2.2334839653112257, -0.5324684293853971, -4.459666944195398, -1.240587742838184, -1.90029884224153, -4.006044316736048, 1.706937883848286, -0.11692441127231133, -5.88732388840019, 0.7022549955895384, -2.2444341465052005], \"xaxis\": \"x\", \"y\": [-0.7695032630136681, 0.4827167755712512, 4.680609590900531, 0.035377789433371734, 0.05629099948215239, 0.5385743056977798, -1.993500392267399, 2.2881329811038404, 1.3760452151718534, 0.029233807733662708, 3.4821739817385735, 2.766456972302539, 3.8748341428341377, -1.2089741086366428, 3.909489106427394, 3.1783541364209045, 4.531416394413167, 1.8802503368957428, 1.2577569245433686, -0.6059133984003815, 3.851357491757126, 0.07138454498537733, 0.6854780521652029, 0.02081863227217463, -3.3702153368542405, 5.61049063536674, 0.2028037656188943, -1.3409917628019326, -1.1765907351678115, -0.00397152430021789, -0.5749757252784227, 2.958750000831022, 1.9569049213831493, 1.1327926563777142, 1.61247615100864, 2.824154439255207, -5.475466697603268, 0.247196419115431, 0.38607394277792095, -0.5845481914686992, 0.2030262883210408, -0.7123044608698971, 4.3613030526519525, 2.0161428616538926, -0.06366276855309341, 2.034752057151949, 3.049198439229179, 0.06976579450853232, 3.2804076350750933, 0.8062153045007786, 4.581707853106814, 1.6381649501984674, 1.3421487474535447, 1.929322057714809, 2.685632728375233, 0.5166647543129467, 2.7950604368669283, 2.208926918275334, 3.9181984979942053, 0.09535373154680227, 2.4766981757815745, 0.04336302871228919, -2.40645667258987, 4.161239225892704, -0.2931164232011355, 5.112720141474614, -1.3220304214631218, -1.4772179967652008, 3.1528635676709165, 2.2607400946824234, 1.922325211652039, 2.917068789480622, -3.9676227385069183, 1.2865177121744298, -1.6313606006766364, 4.454025660663907, 0.9247651873398426, -3.1720064573483207, 1.0915809535214307, -0.03014794122267161, -0.24998813326690414, 0.8174291552170208, -1.359901481119324, 1.817986312522268, 1.3899847637925773, 0.680098492291224, -1.6178386199110204, 0.2773233869825533, 3.041017805263666, 2.558604404832753, 2.6637065131432873, -1.1851732123513818, 3.0788724678850556, -0.08880595336800444, 4.201596522860141, 1.4482206841632264, -1.8931375171306286, -2.4624436552569158, 0.3463119144058607, 2.5186929769060034, 0.1338236365716178, 4.102946015802797, 4.154593034471414, -0.4376983945847353, 1.147680574373509, -0.1499547807175812, 1.3064324757531398, 1.4821961071322376, 1.7387303521974744, 1.9411026533578342, 1.9594130292966006, 4.9467704089477325, -0.7139152817316909, 0.04908127834021131, 0.5633208417286443, -0.5032070599833267, 1.3384406060515122, 0.5700892925980907, -0.46711213713495486, 0.7808336605033342, -0.33610375104518186, 2.4492909058455603, -1.313192784610622, -0.38974970399461834, 6.120241666722512, -0.1964155090395097, 0.6616645342153272, 8.943914743360127, -2.3794871959589368, 2.4280871966447535, 3.692398652972267, 1.905725961331185, -0.6847120196761697, -0.6127607484473497, 1.644450287929626, -1.0094243050830893, -0.9446373249574919, 6.008270546185436, 4.731559930810106, 7.038388155791082, -0.15477547054891036, -3.5038522765924895, 0.8891263524801213, 1.5902396267582881, 3.6099491963336314, -0.24594227788602158, 2.605830875997679, -0.5866442187417289, 4.784956607042813, -0.6725656886830897, -1.419205543644002, 0.8690221931563925, 0.08448907978364002, 2.1189874620980045, -0.16694465876914621, 1.4074293559398618, -1.366480990796773, 0.16478860037038104, -0.2931164232011355, 1.02983274988482, -3.90848795782603, -0.3215794436962866, -0.027510925031181546, 0.287430069541739, -1.1355701890512861, 2.8465955077903313, 2.757683261490257, 2.8402827393345644, 1.2491462633097736, 1.8619148996677817, 4.045688229212374, 1.3617803966876492, -0.9900160784087356, -3.2213933092359537, 3.863025272270906, -0.12608743940873351, 1.8636204903006257, -2.308234126897294, -2.0998439842272654, 2.278920825998264, 0.9506061976541826, 3.8940884207672215, 3.6248565014567635, 2.840382888047257, 1.9915643907146983, -1.2832092567213784, -0.768149316397385, 0.46096503548336726, 7.583373180495886, 3.601334454770275, -0.637172782672221, 3.354793842446775, 0.9787096951437458, 2.9243534233880517, 1.1999529108753813, 1.2836398517664218, -0.5914167796626848, 4.314590195473281, 4.633812816496191, 4.963285919781785, 0.601482489544698, 0.15944329964223555, 1.2774939765268125, 1.6452870496193914, -0.056896094131345554, -0.891123606245964, 0.7236843313841148, 0.23225357716733488, 7.472661615121773, 6.516268595215513, 1.8300102072033622, -0.5780423256718158, 2.8916097632890643, 5.240294311041674, -0.18274833919001926, 1.3883510153424576, 1.6515209418548147, 4.0390795515647, 0.27927661526283376, -1.7936605800459264, -2.291535893793034, 6.329172947739648, 3.5495421540915726, -1.9051535677897637, 0.6850582934460199, 1.6501935647976995, 2.1568174083642093, 0.8993760970557647, 2.9666057729307873, 0.7522452484877351, -0.6767136369622814, 1.8592304502174761, -0.5150269148205374, 1.594317944584549, 0.9042245703007077, 1.464523999765638, -3.46845690596843, 2.4848188845050654, 4.492379508561126, -0.7102935448458175, 2.864570261296332, -3.777154014672192, 2.7770359711772654, 0.9452314222537096, 0.687830970076716, 0.46471384108768654, 6.599890149880037, 0.049687558982591994, -1.6924936822825567, -0.009822026937901657, 2.781102233795059, 1.8665589133622202, 0.33023262885384036, 0.9607638458798567, 1.3046150678913202, 2.1026606737269202, -0.8972153904911744, 0.7079613017974311, -0.01107121396389332, -1.4245597784013833, 1.0386245816295634, -1.5381517896801533, 1.9297616177702495, -0.4124963879965256, 2.1477318401120913, -1.714197022356615, 5.751960742209904, 2.25512495463103, -3.4395998145224285, 0.36027644070314185, -1.8234913514409872, 0.21851229505435585, -0.020387712657569255, 0.7830756127460899, 1.0724540736064916, 6.026080014108924, 1.5202456725619202, 0.4357829377956162, -1.8922020875788048, -1.3007261399785555, -0.05357295521200641, 0.571415116658006, 0.7504163745245837, 1.5573564122727228, -0.34416413114225225, 1.7705285143125278, 2.305187878864217, 5.18828777744456, 2.1528706282960153, 4.514343722622979, -1.4109983229119856, -0.6959444876625123, 0.03323934833492173, -0.4199394884043674, -1.6923690386605883, 0.48547056197478733, 0.16403912613305702, 3.586862901135126, 0.5960768433894318, 0.6545231362944746, 5.7216249224566225, 0.7157263570577531, 1.3755039070693909, 0.31161272851766914, 0.858953000939237, 2.547284538372575, 1.4603135108289427, 0.26854269702807637, -1.9284399752641315, 3.1234510963399087, 2.442070716042156, 2.372373300977084, 1.0396677967288952, -2.8520915755762086, 3.4170304958849362, 2.873986153990851, 1.0019322756226565, 2.621108510681592, -0.1345393610530108, 0.73403371245381, 3.0749827369835216, 0.4830962502571502, 3.1996699358418113, 0.2676182838436491, -0.4206033255019585, 1.989231049550849, 3.014413033116005, 2.3486699005427583, 5.726949955512269, 6.250689093500043, -1.52922133514719, 6.557810300068611, 2.3242383980449137, 0.28855397174751496, 3.878719695167399, 5.736446533070742, -1.12373283926393, 1.792445240201989, 2.229469129062857, 2.2309477051203004, 0.9085445096040039, 3.8577904736143545, 1.5971584279469024, -5.125871415448812, -1.5949587263011953, 2.8306960239841445, 0.331865107612045, 1.8723962834248957, 6.187022969264886, -0.04249107694194516, -0.10650139363615704, 1.4664768158321693, 5.192662615065711, 3.414174733109018, 3.0662185243026747, 4.231236423018678, 1.2260564324139875, 1.0526955653124663, 0.9234515382101546, 2.5345787587932227, 6.12415133580887, 1.0341041173718053, 0.06073131908761279, 1.6862775622972705, -0.7880107113266246, 6.858245821364434, 6.2616241868849345, 3.4460458147434267, 5.364132349793852, 0.5783652657694517, -0.3858645473364596, 3.102001935047642, 0.5744943052068554, 5.551621965542395, 1.5133588115444132, 2.0689794959614933, 3.2760429482919378, -0.37294335542215995, 0.4344018303815933, 7.379083345508489, -0.3039498531548156, 1.311481848887015], \"yaxis\": \"y\"}, {\"hoverlabel\": {\"namelength\": 0}, \"hovertemplate\": \"color=I<br>Enc. Variable 0=%{x}<br>Enc. Variable 1=%{y}\", \"legendgroup\": \"color=I\", \"marker\": {\"color\": \"#19d3f3\", \"opacity\": 0.7, \"symbol\": \"circle\"}, \"mode\": \"markers\", \"name\": \"color=I\", \"showlegend\": true, \"type\": \"scattergl\", \"x\": [0.5443749028297503, 2.73847734891364, 6.863939080520752, 1.683993348203776, 1.8334218380049339, 1.4136581501499739, 4.05002323733322, 4.964211303615597, 0.24711778283911182, 11.142961068351681, 5.9866608957680825, -0.11221834975050775, 5.924260517853663, 6.077703926078929, 0.7144291691645404, -0.11221834975050775, 2.163893726355424, 4.423974834616322, 1.612823054250126, 1.657397507176496, 0.6904429150428593, 2.277886613343969, -0.11221834975050775, -1.1005053392734334, 2.898257750967567, 4.580389735766685, 5.268693298075674, 5.0589991750446055, 6.717043580939772, -0.11221834975050775, 6.458996797732064, -0.9342493296032969, 1.4005953811991076, -0.62646738436519, 0.732872391531017, 1.216241142172226, -0.11221834975050775, 3.9220332811440217, 1.3406152008280587, 5.46549147738509, 6.617464039461894, 2.4329234375173474, -0.7631325630428433, 1.6015103421797114, -0.4888968413332167, 5.4013274910625935, 5.181599154477848, 1.6210022752901416, -0.24711051664995495, 5.9080432536928695, 3.1331923688824563, -0.8197573320154314, -0.11221834975050775, 3.691983801319389, 5.1630812596225555, 0.7954667147800106, -0.10031600832205541, 1.9120072315358119, 1.8451664414316193, 5.169938825001098, 4.649976536648088, -0.11221834975050775, -0.11221834975050775, 1.739108193466197, 2.544136834389423, 1.5211256471611823, -0.11221834975050775, 2.2712320467848115, 7.451377881094945, 1.904900455036715, 1.8115395736626942, 2.3666770885343444, 4.000348761177788, 3.183199031860197, -0.11221834975050775, -0.3102051788327659, 3.4708430854368104, 6.290180554424578, 2.9640284856759584, -0.11221834975050775, 4.551448789157393, 4.2877408932409775, 1.525768528796025, -0.11293340059483277, 2.287887684651374, 5.450132494702966, 1.6118100656236014, 4.59089360637537, 2.8954041956362695, 3.77233001789728, 2.3346716022140575, 5.6761881647401005, 5.1601533595920985, 4.466632976761946, 5.683115173376571, 2.3187030648223224, 1.7411038921225672, -0.11221834975050775, 1.4109724383743314, 1.8005993905388107, -0.5774567593017936, 4.556487852618229, 2.1233881080267683, 2.457161739668887, 6.638570913807658, -0.02149713769652958, 3.8497639271666855, -0.11221834975050775, -0.11221834975050775, 0.7640688092856165, 6.837969893796599, -0.6823836924526093, 2.7389075185237926, 4.428331960572466, 5.152889392259439, -7.1063536304172885, 5.565338575764874, -0.11221834975050775, -0.11221834975050775, 2.185080937779968, 5.909142537704739, 0.9122890690330383, 2.3607183718624305, 6.108569963269477, 3.179214434737223, 2.320112967355553, 2.8273793926608057, 2.3804684744544806, 0.21021608294030864, 1.1842215419232245, 2.9293213404577725, 0.6039470298354861, 2.5528373764832955, -0.10382116257728065, -0.11221834975050775, -0.11221834975050775, 2.4143422804973853, 3.9135170357154636, -0.11221834975050775, 1.9930660646276932, 4.966730052087184, 7.102843208052969, 2.8359022774616536, 4.784815684396743, 4.144064280247291, -0.11399946453914851, 1.4045739194718798, 2.186386536371853, 6.337290868573261, 5.753912903366156, 2.7899121487235763, 3.340491686272242, -0.11221834975050775, 5.133935719353705, 3.8920287237830724, -0.11221834975050775, 6.547509368851608, 5.155015354683483, 3.177842237566294, -0.11221834975050775, 6.881903995973418, -0.11221834975050775, 3.1866237442684526, 3.6943539342680753, 1.8988038625535253, 5.9080432536928695, -0.0239138898714663, 1.5167182882249077, 1.2079246042525094, -0.2096091607902676, -0.6813046177634278, 2.4121652652029697, 1.885866186657394, 2.5495742349107697, 1.3233439145098314, 2.2622612414746825, 2.7962966322652107, 6.359993366157093, -0.11221834975050775, 5.256917667008855, -0.11221834975050775, 4.4544425339638885, 5.121708458507947, 1.3903937659594352, -0.12331026994484215, -0.14490921871214418, 2.020765569291804, -0.11221834975050775, 1.838688632633431, 6.310317423583948, 4.477400721960216, -0.11221834975050775, 5.366309685026162, 4.767331114769532, 10.573099900439729, 1.439568729536905, -0.11674209334601195, 0.9157794359101188, 4.40524396101194, 1.5643974497769562, 2.1256292485447594, 4.476382651777382, 2.225103574814575, 1.364543433315151, -0.11421324134477297, 2.168799366863364, 4.791056006226271, 3.6821955856493656, -7.113333882014459, 3.351105692422094, 4.368377783621643, 3.291046973379108, 2.345176856507167, 5.380480992477805, 1.8865396121041222, 2.097022223171217, 4.466202507838708, 4.900055576327181, 6.523092484479934, 6.46448924058411, 2.279685175174648, 7.269422219428273, 3.7668242827389222, 5.798441598644645, -0.11221834975050775, 0.26137293200049966, -0.11221834975050775, 2.623806718288186, 6.280938438383441, 4.198052654641462, 7.391960843893582, 1.5521457312533016, 1.1118011446235496, 3.0998769024051813, 3.6903370828199997, 5.935116127355746, 2.0421529066195188, -0.11221834975050775, -0.11221834975050775, 1.3647050826742493, 2.9412919130230546, 6.08127768971496, 0.7593143657254203, -0.11221834975050775, -2.209623449760641, -0.11221834975050775, 1.1452861859574466, 0.7795199322328165, 5.006299699969556, 2.620469929725468, 3.7704603112222834, 6.031713802697047, 3.0293189368102564, -0.11221834975050775, 1.2520871532476392, 0.9653490154125395, 5.3719175317906425, 5.9603749495867, 5.494164755227427, 4.543993409435553, 3.738791640754907, 6.015287618655801, 4.005762093783358, 1.401837042300861, 1.974263372311848, 6.581659786034725, 7.474512193676041, 2.3204821136783926, 3.276072973764159, 3.506475217571984, 1.3802884737078422, 6.228656748329925, 3.2572708347355466, 10.27709998863784, 2.3804684744544806, -0.11221834975050775, 4.615875908772534, -0.11100985352883443, -0.11250644036759179, 0.8963318882353103, 2.805804724258635, -0.11221834975050775, 1.404162456856744, 0.08105237355205505, 2.241943055832933, 4.35751872772547, 0.630141058632748, -0.11221834975050775, -0.09633928878130033, 2.001287426152292, 4.357897094367106, 2.050596239356111, 2.5805796053165198, -0.11221834975050775, -0.11221834975050775, 7.751297306174306, 6.165639122036249, 6.246136536662394, 2.3943492852781536, -0.7237380974216355, 10.149200385593005, 0.19385316636189323, 5.805552379707622, 5.572526360489929, 3.0954207737627097, 9.568862589655836, 6.454017974722994, 0.4826111998173958, 6.090031791419709, 6.994723739518751, 2.0579390335976475, 2.9479727091985164, 6.257249765400516, 2.897006080074839, 6.00827844828124, 2.1471626277911486, 6.037274036266014, 4.957501397381685, 4.6612250991735005, 2.144938592755668, 4.4142980633382765, 4.752884738871037, 6.517089409977455, 6.018369102875903, 2.5330091922596347, 0.5535858341575501, -0.11221834975050775, 3.5933093849537547, -8.17992403538347, 4.637542033827345, -0.11221834975050775, 2.861466919746821, -0.11221834975050775, -0.21280997561054038, 3.756800253795173, 4.525327560883909, 2.6733372892533973, 2.290153328695314, -0.11221834975050775, 1.5028739419303108, 1.3106417603063254, 4.0228417337052464, 6.507363808289705, 2.794583807755212, 3.0849229418311968, -0.11221834975050775, 4.4500430540259694, 5.005157987486472, 4.201147836063386, 1.7885301789782497, 1.9777736777861081, 3.6843660530555904, 1.6941143685655555, -0.11221834975050775, 0.7409116001112813, -0.33961242483415394, 1.345319349840215, 5.404407375155581, 1.5772568142452246, 1.719609532265303, 5.499296917474174, 0.28919882540644337, 1.074540985361598, -6.777176267587586, 5.89308687423964, 5.55320291076111, 6.762401320994882, 5.695041283975076, -2.2290064490532906, 7.786232240910637, 10.400161112734136, 6.388077244674127, 4.443085636533001, 6.100449972262469, 6.515318853626761, -0.4549724959813429, -0.11221834975050775, 2.672021309503015, 4.529370910935506], \"xaxis\": \"x\", \"y\": [-3.242615126308489, -6.975492080610282, -8.06655373917484, -0.7100472897863057, -4.041415469656314, -8.386812528792014, -4.550964476362971, -6.943573617643023, -0.7236528782806476, 1.4126243094821909, -6.359692665177495, -0.4224640033764791, -7.637817370213004, -9.853801515709982, -0.7795631691035483, -0.4224640033764791, -3.1307738776778, -6.302896583024455, -1.3073588308533168, -8.933614026698969, -2.6092775922200455, -5.834231927446039, -0.4224640033764791, 0.9183356714948303, -2.5644515972984196, -6.485453682261916, -7.240319262021544, -4.775643972504004, -1.8129289021892516, -0.4224640033764791, -8.775210248443612, -5.463898311222437, -7.40692477369281, -6.087175102862272, -0.44079590860863715, -7.448094833780291, -0.4224640033764791, -10.326963098765338, -8.418129357163332, -7.640739608371487, -7.965513601538652, -7.143270352879797, -0.5947359435869186, -1.3346144878395716, -2.225658512178449, -7.589438247847224, -7.043001852381474, -5.532508332653094, -0.6212868115611468, -7.192944068186561, -5.861912273132818, -3.8728056456132713, -0.4224640033764791, -4.494636049435464, -5.013326377154443, -2.8839004418759044, -0.33879005318890887, -0.27620774658692226, -2.3998692272207407, 1.4357030708836898, -9.652174734527332, -0.4224640033764791, -0.4224640033764791, -5.010336145354556, -3.3369158448101457, -3.070374997281884, -0.4224640033764791, -2.2515032988916883, -9.12752045369132, -7.7406836158246115, -1.5728302362435953, -2.977693711820492, -5.404155598597369, -4.901757663685072, -0.4224640033764791, -0.45149995934380716, -4.995036732671653, -8.549787058054939, -5.083762535523024, -0.4224640033764791, -6.520835111215361, -5.663196924111542, -1.9643657126623322, -0.4110972400667672, -2.917432633955361, -7.503285431181299, -6.491906109339019, -6.620421969940697, -6.972515374793238, -9.932710408854074, -8.96166251882911, -10.036458038976233, -6.472578758448948, -6.571258165372216, -8.118399804439173, -3.479539264528445, -2.0739189640206646, -0.4224640033764791, -8.382119904477952, -1.4113761889978493, -2.533640835810255, -6.269325868929339, -9.412811074001427, -4.089385927764612, 2.822617634102951, -7.997335329610578, -5.197073761295711, -0.4224640033764791, -0.4224640033764791, -8.121629485103414, -7.063177630980967, -1.4246024759462237, -7.946828562718067, -10.290325566546514, -7.123619454831885, 13.99535001474234, -6.160752349849539, -0.4224640033764791, -0.4224640033764791, -2.7097113380281415, -8.47152062515908, -1.2823088741991113, -3.9022197383130472, -8.808050420484927, -4.784065579309075, -2.3090894321196327, -5.900312286598867, -5.824946301657603, -0.5204884521320907, -4.5824112701954975, -5.05198978827401, -1.5964128442230372, -9.05592083878009, -0.42013376238283945, -0.4224640033764791, -0.4224640033764791, -3.719123629323374, -5.626211011603455, -0.4224640033764791, -5.058807574235368, -6.840281417673065, -7.41895496983321, -1.1925491262122347, -4.966116462904286, -9.612638692628831, -0.4169183969511027, -6.630323542071138, -3.44577698425141, -7.257911407051095, -7.9491837024943415, -6.156580310060029, -6.0008558196704405, -0.4224640033764791, -10.007267552829555, -7.200764815437347, -0.4224640033764791, -6.699462090812947, -8.26998562996239, -4.859994160503029, -0.4224640033764791, -1.483482570876258, -0.4224640033764791, -5.054351209007871, -3.7990514600109733, -8.903215614044376, -7.192944068186561, 1.0435334383954344, -8.811802614892981, -6.775984817605646, -0.24691356355281796, -1.7974600120490778, -5.505644712166152, -8.071377191875765, -8.194692803455018, -8.583184309405283, 0.31947685383808155, -4.24358872969082, -8.858635729493981, -0.4224640033764791, -9.861982951673449, -0.4224640033764791, -5.946107631832482, 4.401282447100172, -1.7440509255363899, -1.5419711318408178, -0.46804758189150864, -0.8271371612978266, -0.4224640033764791, -8.941500766987573, 4.954519121492736, -6.074175499329393, -0.4224640033764791, -9.586871730098284, -3.1037823156055606, 10.196007432881533, -9.137953350902738, -0.4206779282266001, -7.817617578257326, -6.213736348020707, -8.550278419260371, -9.056991840654726, -10.165100031390617, -0.7790227164119107, -7.40731542953734, -0.41808233002960365, -2.826368030971344, -3.091985236886498, -5.242146541482342, -1.485202843143448, -6.287904264642098, -4.731950996068627, -8.155570590315806, -7.867546149388798, -7.784395284412207, -8.628144195245365, -2.8873112393760647, -6.09610891479694, -6.198698245985896, -7.620003730315783, -9.564636536742789, -3.3509886536922586, -7.454148046056991, -5.531726001906842, -8.161767770366648, -0.4224640033764791, -0.30265413089836146, -0.4224640033764791, -4.279975904022244, -9.437536786304527, -10.265906885671013, -5.43467773850657, -1.0338915287710697, -7.10548789410573, -4.594766268864759, -5.81129731629963, -8.37795032287947, -8.425351108705023, -0.4224640033764791, -0.4224640033764791, -8.278302520694359, -4.610943744908255, -7.316492729193511, -1.271244862372661, -0.4224640033764791, 2.9044838537980735, -0.4224640033764791, -1.08482240255301, -4.0863621845370455, -9.93106237366202, -8.129424380928214, -1.1332601134408546, -10.409374170354207, -8.0192736789381, -0.4224640033764791, -8.745044194143738, -1.524215843486781, -4.866380505401185, -6.499490466247685, -9.854867069340953, -6.204194615524008, -9.96835299366474, -9.926093431813392, -5.390867963058711, -6.733152007385398, -6.225126769016915, -7.51114413048693, -7.938744139326773, -3.6828428093570764, -9.755565264151832, -5.107882667775652, -7.098671944603731, -7.635738493834611, -4.731212454808931, -5.84101152389174, -5.824946301657603, -0.4224640033764791, -6.2288870428281085, -0.3891915685363187, -0.40876852707978195, -3.9658488232835625, -9.5232121479412, -0.4224640033764791, -6.88835665400458, 2.1922947841067675, -6.121699335139336, -6.392173782670041, -1.0491226200639314, -0.4224640033764791, -8.101203992554577, -9.566433227301735, -8.905690292917953, 5.736485352040039, -1.3117253675259708, -0.4224640033764791, -0.4224640033764791, -1.5019811009804196, -4.400576208367746, -8.390623423728009, -4.779679709543203, 0.9321320522607434, -3.217919224973098, -0.15780785032070152, -8.539805310649621, -3.0348671231811974, -7.84082632704009, 5.330571246087865, 0.023768503555942736, -4.222741568402868, -10.072996686292147, -7.64798001025357, -5.295237604574222, -7.4591770200419285, -9.763172307384476, -3.124171158831322, -6.90864529368856, -3.3306722759002807, -8.60213176220268, -10.059260691060006, -6.62915568895612, -0.41963822293488634, -5.537588536333137, -8.008332196234175, -9.95175525202864, -8.493575994833193, -4.215383168229382, -0.1775054726617347, -0.4224640033764791, -5.938386804040364, 14.100857064554333, -10.183636101984343, -0.4224640033764791, -4.517194448553923, -0.4224640033764791, -3.2650155381445316, -4.986586761290332, -6.406564298190026, -6.81112933079336, -9.10548400223583, -0.4224640033764791, -1.1668514473125586, -5.677146290097753, -5.26045779990603, -6.579389428352496, -5.3964894096040705, -3.1354707584307615, -0.4224640033764791, 2.0610446397723523, -10.412469509960324, -8.22462361420566, -8.98450081830493, -8.713790446421548, -5.347301134093535, -8.525629603433973, -0.4224640033764791, -1.922887662310127, -4.906697032300641, -8.151935396713034, -9.152278269611372, -8.759850528449359, -3.290582236013348, -9.98433621066114, -7.932752669111139, -0.55332893919822, 7.299275716200677, -8.336666545927534, -7.056920034513639, -6.852921356558698, -8.032280344490495, -3.0868869238023864, -8.271511327387365, 1.8255431969778404, -5.584598434507094, -6.341381682428861, -8.75692722271983, -9.703874531959015, 2.0636393433184406, -0.4224640033764791, -4.3785607138172695, -6.18516778873443], \"yaxis\": \"y\"}, {\"hoverlabel\": {\"namelength\": 0}, \"hovertemplate\": \"color=J<br>Enc. Variable 0=%{x}<br>Enc. Variable 1=%{y}\", \"legendgroup\": \"color=J\", \"marker\": {\"color\": \"#FF6692\", \"opacity\": 0.7, \"symbol\": \"circle\"}, \"mode\": \"markers\", \"name\": \"color=J\", \"showlegend\": true, \"type\": \"scattergl\", \"x\": [8.086883323986157, 10.690370762998855, 10.651092663041716, 10.005611391554877, 5.967406970830718, 4.648601044097146, 9.434516139926698, 12.697563599053984, 10.187493892719136, 9.290159579076686, 6.101906637725205, 5.983833272442863, 8.919891396502972, 4.666830534310918, 9.30317541108311, 12.97652468126011, 5.2695822078853185, 15.598777948465893, 6.329179073699633, 9.190188828090125, 6.0674037586909915, 9.564386270992129, 6.88422875690075, 7.4729413810636265, 7.851124445821881, 10.547930973600174, 10.070830088805169, 8.386491701578109, 8.477286689848553, 16.21758044484048, 6.5759815970017845, 9.34555119416288, 9.241342075137231, 6.749627017906817, 6.268848123289208, 11.11840805228618, 12.5206489155344, 6.071251833992304, 13.503542099762559, 8.600273731719978, 10.918168750401172, 5.4721239860612085, 5.175442546052553, 5.987864449106297, 12.588010844565314, 17.187390117111967, 12.0352875180713, 11.948103144605305, 9.000818468190609, 8.298291075265272, 9.556666810658484, 7.1264936790720235, 7.595298694412294, 6.227830087789243, 7.056909130333481, 7.65152491712807, 7.917703529588272, 12.238606435547561, 5.353701064014049, 7.17665071860971, 6.853426342284346, 14.172340306239667, 11.507646959981562, 5.533334900634299, 6.344598233740756, 5.767501413533317, 13.290138140961783, 2.128935604662615, 12.39329523866379, 10.456687565067133, 7.8914952244048004, 11.007420752056488, 9.781949174887451, 12.001347164138341, 6.5595955080344694, 2.7438772635365547, 13.007827221005968, 15.963231605702958, 10.658849897359179, -1.9564872606020216, 6.28373632460873, 10.88558668785243, 7.595793896357305, 7.9711936669691275, 15.31159921314413, 7.797199524711833, 13.944080871080061, 7.721211547904773, 5.697468181574113, 4.959756310388171, 2.3919027476990697, 10.377701049865204, 4.661319070498233, 10.378781709229575, 2.5176391375115745, 12.684836081605816, 12.005787937824747, 6.879795865509072, 10.111171323972094, 9.674184775775094, 2.336230474743265, 6.077055864635839, 14.434200003085929, 12.071508268176313, 16.2641326938845, 6.191872949560033, 6.662620825948184, 10.837132865222548, 6.246480973346275, 8.028557737258211, 6.141640440185689, 9.462171483249467, 7.226753520906951, 3.0553386879785283, 7.108710313173758, 6.823390368467826, 7.770338177661806, 4.763093795848171, 6.641359105733044, 4.77862759220815, 1.5460590878931184, 8.107846654739632, 7.306430668455485, 5.706846525196332, 8.6414276399885, 7.531006171805204, 8.356726378873434, 3.1208796996051356, 13.299042412602883, 5.865476221165878, 6.333730545497945, 13.565108676272919, 10.489982715433817, 13.917161068187994, 8.9899462435998, 6.481040022292894, 9.042752738936398, 7.559475635535084, 11.868182242938488, 8.938576988513244, 7.38329064490745, 7.142257912996851, 16.336029685587054, 8.608941704842666, 4.926262780934167, 3.535788281559715, 5.729015216285768, 11.65483296243819, 5.511917313083409, 8.749622803092, 8.501348404063798, 15.66958754794938, 5.392610451933014, 6.146807896596097, 5.616727429626573, 12.534172334859528, 3.987358012994006, 9.66794307708709, 10.098233418725332, 14.110228400560716, -0.735286845331111, 12.94338473123361, 10.91359542990889, 4.768257303354817, 7.1841665536868184, 5.609152081836021, 16.07248708006953, -0.05275136729079824, 14.545134280504168, 17.389246090981086, 8.596470901810045, 11.956335132583572, 8.970106728457237, 8.40147970984685, -1.736979285057728, 9.785413199202251, 11.83823789176114, 12.111500216497793, 10.179277397954149, 9.366293043441926, 5.4367021294877365, 6.455841524400402, 8.840332129105484, 8.917002754333456, 6.3334216050650545, 10.578841662940464, 10.090681419181356, 12.699182917468084, 7.8168421056836, 9.957975115892348, 9.135025478050313, 8.957319093893105, 15.21170171152554, -0.8438159182131166, 7.690710812407519, 6.281030170897128, 14.330608842009912, 8.915258439534892, 8.560158226034613, 12.915030968185414, 4.989441766610124, 8.913417540605364, 10.823592381150663, 12.830048160628309, 9.10335035420007, 5.479073539265478, 10.808508113743441, 16.337963025637144, 6.22780736612198, 8.156355915376468, 7.752681161711064, 0.19041537492886018, 5.095412259417989, 6.604604295644778, 11.330816844985154, 10.151974792221722, 6.559799950006104, 8.13062138944907, 8.9779565600073, 4.910199191838788, 3.6163679432172025, 9.63476078679804, 2.9635658538416068, 9.553382940174622, 11.214976063925027, 8.592744868704676, 5.289159100694249, 2.374699394759232, 11.087672060983206, 10.857521098493665, 16.036385832998306, 8.494062895377281, 10.458379710320527, 15.041413075577653, 6.767022030347718, 12.169938902021007, 5.042605312444567, 11.411012654660526, 7.484535281993215, 6.239373145723786, 12.290492463548874, 4.518931271074348, 4.954436937222448, 7.8297636057216495, 3.3634732079246863, 3.6249133979862145, 3.7016581000166253, 11.475189881964084, 12.014498931178027, 2.3214610107637297, 8.535771384621473, 0.16546961826924167, 0.9510824198597017, 6.71606136423359, 9.96114198165507, 5.200136232797767, 3.814413089129775, 17.939596114635464, 6.782236011560307, 8.234028067012176, 6.929275912584242, 10.114447204128787, 6.941390723890498, 9.485607934518253, 6.370266452911323, 11.089792488539405, 7.851598798784496, 10.993789777112214, 0.2163863078897948, 8.814999650659509, 17.625503128350026, 9.000333721196341, 14.645114016531528, 11.511730831572883, 9.137570625035554, 10.921807230977398, 12.057699559126709, 12.567953579331656, 6.964873804256099, 2.4660704288680115, 6.682025193144291, 12.18184809695506, 4.164181282200533, 6.262742697320947, 14.013144005254365, 8.628504735992177, -2.828524427194633, 6.654553342071674, 7.224118054905002, 4.030280544879451, 10.829883620893005, 11.131888935385529, 9.171103013558877, 4.9518871141123695, 1.5871765744741255, 4.132581049759349, 8.191264898832188, 8.47915725365978, 9.36268635951969, 9.948976314271395, 7.180613039747576, 7.4092402586618515, 9.20002657591786, 8.810994283902543, 11.533405309481811, 3.568403040730778, 9.438160671412621, 9.987741459421967, 6.8802915188132285, 6.356840155470322, 5.202077028936965, 11.044004741565619, 8.505904747051465, 6.959086976933812, 4.108971372114268, 11.12625109824369, 10.94558237736018, 11.881237592721801, 5.049993616653631, 11.54843396248755, 7.946498313668532, 9.002411193666896, 7.311612034635563, 6.012541341902794, 11.779795198102654, 12.114480617010365, 6.419434222221159, 11.356759850688311, 5.484325905424459, 8.986134320935324, 10.943999989267786, 14.710890670281932, 6.250146457962327, 7.827760311000477, 11.213795688240593, 6.890958034536467, 6.019286249005232, 5.886583672980383, 10.189407091343243, 5.851341848508569, 11.063246268742537, 2.5540375224260754, 9.179096643431636, 8.267928753767672, 7.97963867754212, 11.912188664609813, 6.639399207188355, 12.180648362182195, 9.970286346819726, 9.789336772934558, 8.559619781579263, 9.557307120938406, 8.045284679807892, 12.224885799517681, 0.3177791049686958, 4.8525272126665655, 12.183765742288895, 6.945666918029189, 11.665706881311372, 6.651747395316991, 14.166995784972876, 6.752347680992279, 11.0580823315283, 12.71833954108626, 9.117752676400437, 9.621909988410529, 6.808048041019297, 13.46908235376144, 11.396126102384901], \"xaxis\": \"x\", \"y\": [-5.614502701289855, -3.177524199165358, 3.238265130665177, 4.468361925030495, -6.93367076142887, -2.7447288669756698, 10.879121520890996, -3.4546613619437716, -4.5388495842777035, 6.622245551275449, -2.9099317574631396, -0.05656475499773001, 2.200621016985181, -3.129219282687911, 1.0468023546603509, 5.529060980829759, -2.4300504681503012, 6.817709874784334, -0.7844647499764886, 1.4287655506127672, 0.2344382057721841, -0.05397982882181877, -5.824723796626147, -7.375842813754914, -3.613849265823012, -0.9716125983387697, 2.3126960233980727, -1.1933811786107484, -3.060509964467249, 6.6187253610792105, -2.046861474883928, 8.098764448183656, -5.640775579751056, 1.0780025660567094, -0.08559879347059086, 4.514962157779167, -0.25804561438627727, -5.484200258764936, 9.609564701990822, -0.7771870642199727, -0.22834913771555088, -5.467027598661066, -2.421626612281013, -2.8514345118126783, 0.5765041631546021, 6.106684241088987, 4.7001601630146705, 3.1807943280594286, 0.21455511848785605, -0.9010272132755682, -6.433959764632802, -5.634220641922871, -3.746492651340551, -6.6207362149037055, -4.291444730776285, 3.306676742603666, -0.3822382525453506, -4.69294169656137, -8.476397852825029, -6.797498379485191, 5.020440528543399, 5.560939511590911, 1.7105163346751993, 1.8980410739941997, -2.4388003600693566, -3.518266072743521, 12.041143929386589, -3.5983815276778612, -2.3361466017654915, -3.0413339515602753, -4.226159846248518, 12.217440016844767, -1.321648666163529, 9.258673074488174, -6.881167323299635, -2.132579698923255, 3.9833294583937353, 11.267399517265401, -0.6187364221555289, 1.3819552774915425, 0.2817479121196738, 1.5655470725825151, 2.0548290759906944, -3.5349914721118445, 4.424296653309246, -3.6667932547770232, 5.824408322375388, -4.337627813049489, -5.504316149191559, -8.600819364149016, -3.495805339332595, 1.9659245997216088, -2.7059454829222394, 1.3447329928776923, -5.336373587853229, -0.8088404540466849, -0.47578967068427414, 5.171411990785534, 3.5096289543458683, 0.05728188279216862, -3.746659973252699, -9.342269650770461, 9.450483607187385, -4.581206298566829, 10.311876238762224, -1.8666487857970566, -5.8975516244610064, 7.794623766823118, 1.4360282092484247, -0.8781373879915606, -6.466098010684544, -2.311946726226564, 0.8727745521833695, -6.597643035813812, -0.49233642439308395, -0.9644385975090627, -4.284424854880298, -4.467249508593654, -4.084474745390383, 2.6446895813554137, -8.417479407255508, -3.8881755636535336, -3.234918605212349, 8.303208043614854, -5.372869407234421, -5.963903579089796, -4.041580667497061, -7.867335005265011, -2.425419481751036, -8.166371816863572, -2.6757949369390492, 11.406506502336873, 5.2171196503211315, 3.8246032184737944, -2.0919478597804027, -2.840634332833103, -0.07090486600063209, -3.0075176953072256, -3.902494935100188, -1.0789950838420037, -2.937600797278333, -3.4258810883257924, 9.459241269464775, 4.888595289083343, -3.7715981838830035, 5.6861246871792455, -4.556435612404614, 7.6570031934240586, 9.953394386652969, -3.5672161237231896, 3.619380521240078, 3.830979166686335, -0.7184246688554647, 5.747634366627875, 4.282019703106043, -4.034303144830784, -2.833649737214726, -1.549380777939865, -5.056068762619439, 7.992223348394951, -2.8463279807061608, 8.846335502408493, 1.4397782929217826, 0.23237205965486987, -5.762711009881027, 0.8631833226506112, 5.88514498238104, -5.50556456569599, 5.760666479199953, 5.827194268488461, -5.893035816346384, -3.154911890590804, -6.626727741803528, 4.426780245274894, 1.3596258828501886, 0.5390418385705782, 9.215653333194844, 0.9632414964215581, 1.678495546964988, -0.3511460336481443, -3.892220173646327, -3.962339857368347, 5.76351300999326, -1.55133665915239, -6.873563503072746, -0.6611117730006998, -2.7499362053077627, -3.5254732251267846, 0.3107681084677849, 1.8201244720882552, -0.15245489984964233, -6.59036732119598, 10.645062125770373, 1.1016660810136676, -2.7708267692566775, -7.38132382411992, 11.997768497587511, -2.263378817714443, -2.611711263851995, 0.26814594261112185, -2.798632076460276, 5.4486684833448855, 3.4788661014371014, 12.269066643153026, -7.353263112851631, -3.3954935144046154, 0.8401115451110931, 8.098434875068683, -6.925164266612962, -1.6424067975687198, 1.508064059897806, -2.656967945080553, -4.671441979412963, -5.541067870309272, 8.226769038083154, -7.322971576106664, 0.2866297920194021, 5.051492684927613, -2.987122158545929, -8.481228345440025, -5.360431409498278, -3.20955232371515, -1.4333679751245567, -6.378068843601931, 11.33979647925778, -0.23831875905958744, -0.003963292609306844, -4.076765902345679, 12.670892424794298, 5.290182690003321, 6.725623320602581, 5.6225059213697595, 0.31797697151346493, 9.289328774464138, -4.779086701912489, -2.8978685431737077, -8.529162746505586, 1.8148645119091191, -7.134947255090667, -5.97630676538696, -4.4115613141270735, -1.7183211317827773, 1.4574350953424131, 0.7915058444872332, -2.568006340543883, 1.0768669632773686, -7.60926675000031, 8.019585891680888, 10.933774754744274, -2.0692548395940986, -2.660185798323964, -2.8746056672470393, -2.649613887652381, -6.54819211956199, 7.766360907043552, -8.490802313896147, -6.546647421958528, 8.754936621090463, 4.5531161855954725, 8.366839313475188, -2.0777054796031362, -0.009108743579512494, -3.1145739807449515, 4.709759403394428, -5.179767060811894, -1.2708652457901166, -2.360147222582949, 1.7698198639335811, -2.4051758477029845, 3.211783606433545, 8.88297527651972, -0.10382929026285656, 4.680146568687843, 8.913249249641508, 6.262591680641789, -2.8498866428831597, -4.689275696276675, -1.4750919553488542, -2.946259360218018, -2.6621988661008884, -3.974522920836446, 7.108551470951216, -1.8578699248980144, -0.22444890204817397, 11.50945190818134, 0.27286324306084714, 1.673338081638323, -1.760754399018844, -8.541001741477444, -6.380033115143839, -2.7784911718143834, 3.6159773658863887, 4.642903651528953, 1.0499033040997363, -4.4713879036944055, 0.569055859934108, -3.4759016173724078, 1.3169614961652834, -5.037406957315637, 7.333511097445038, -3.719259393326064, 2.5012062027456765, -1.6760707675084348, 1.5568770482487662, -2.4747860805627817, -7.7348511310856605, 8.404291875949973, -5.751957162006488, -3.0497526575854246, 1.4062372001720906, -3.910167001347105, -5.301281615514371, 1.7177212156549262, 1.427483825097759, -2.9432527942059377, -0.09634265288009905, 3.959075464328354, 4.0629403203247865, -0.23886516834535326, -2.6592261277858427, -5.7482133556021155, -6.542326112449602, -6.441007326227739, -5.659969217642978, 7.227992686468906, 8.70191862759586, -8.305245414821131, 10.54708801237423, -0.9169844559175844, 4.025241920960359, -3.504951891661473, 2.745673482592235, 5.136459071594126, 1.5884627506154068, 3.880578160369785, -2.9627623432357604, -8.280790434401398, -8.296887216085068, -2.9582650326619464, 3.6169092971538617, 7.966773788312783, -0.4381984720561275, 0.8740595918819498, -1.5883220023509776, -1.0121507330615118, 1.698328961349731, 1.0284297284793393, 5.486258444033185, -1.9682456189606288, 0.02140409490117871, -2.0185102096323946, 0.7985700922340176, -0.9251752775466905, 11.20862323088121, -0.1869191997463181, -3.0087110839877966, 0.6303900836108688, -3.743209649079824, 8.584022388188197, 0.04966588551415147, 4.271199868317113, -1.5976638367065676, 0.9651132330461135, 10.2096094955328, -0.1347784221266859, 5.824889778672638, -2.8074561433316085, 4.548092880318012, -4.465239050591886], \"yaxis\": \"y\"}, {\"hoverlabel\": {\"namelength\": 0}, \"hovertemplate\": \"color=C<br>Enc. Variable 0=%{x}<br>Enc. Variable 1=%{y}\", \"legendgroup\": \"color=C\", \"marker\": {\"color\": \"#B6E880\", \"opacity\": 0.7, \"symbol\": \"circle\"}, \"mode\": \"markers\", \"name\": \"color=C\", \"showlegend\": true, \"type\": \"scattergl\", \"x\": [1.5713176370353656, -3.9789424077854068, -7.073715506931301, -3.923447871614199, -11.022385164416, -4.206739828260461, -11.058076928643755, -1.3288942523486995, -9.024093787557463, -7.8305813079151045, -5.326673000000541, -6.037577244361626, -6.609376350593216, -10.841258226488948, -10.314356103537659, -4.513796463861419, -5.227224713335212, -4.895714592775522, -8.407769434269406, -7.269222412689219, -13.013595779041742, -6.190532069287543, -3.7292291016331336, -1.8523124076790307, -4.060273365846518, -5.742941548208333, -2.976340425924682, -10.630833667023522, -11.122776280714547, 0.9510824198597017, -9.651163256013941, -11.111624548703558, -2.599840670291928, -6.334015588589123, -9.958794540745757, -6.517360360062242, -4.934081427946597, -3.794558696704501, -10.79856840825004, 0.19490465506289878, -12.454628095251259, -10.552389550674539, -8.325811765022307, -9.670570666257966, -12.864361354214887, -5.5653173939616085, -11.301931493733061, -6.557425260700776, -4.517734868067115, -11.009153185283086, -9.114778941037638, -5.180372707337194, -6.94828020033524, 4.569818517199476, -4.626939008006236, -3.4532244959758684, -12.797094314817327, -13.711859381314415, -9.489463109102102, -4.620670131387925, -13.35039780963701, -9.210247620551334, 1.4524683788662043, -6.560066236608475, -10.166224327900732, -3.4969643406069446, -5.531520857413667, -0.9599040069562358, -8.474212325164558, -4.951679119825697, -5.453743899046581, -7.356176807736984, 0.0025418286409547818, 2.5863654351479757, -9.504926453018625, -6.238439985014872, -12.509044647297994, -3.8943499167744973, -9.966951447459115, -8.801114914117244, -2.6710166869639544, -11.367711838725638, -5.81614755311181, -5.144224822991815, -3.8911199858240764, -5.971368194940719, -5.180794368109361, -9.31804114114035, -9.820629538387275, -9.048246280633055, -5.14697468582213, -0.006834235712566118, -6.366837671284377, -1.8927065257252706, -11.303864501466398, -3.786328341209149, -6.769827711520314, -4.097766600121265, -6.0164650071244425, -5.448890693089193, -10.61330869143992, -6.575452398127419, -8.132673281446658, -5.372723001912069, -3.4487884566962945, -0.4267925721361438, -5.627851160099363, -11.776467620741752, -7.526095000281581, -3.320059384166355, -7.081430907754974, -10.640619782628498, -10.270796681415856, -5.263381211808989, -0.37919663339273607, -4.386343362062506, -5.231725975376148, -5.537315964888013, -5.746393026312609, -6.7394052607421395, -3.9355385867014543, -6.469008438399108, -11.265101020229755, -6.8568270608061335, -8.60956719556098, -10.02700088567987, -6.321328681806433, -4.080043766436096, -9.723614571389463, -6.3409664484888335, -4.615567995088164, -5.028879292602648, 2.065582195065078, -0.8139713784584934, -6.128653623976083, -4.96547533313514, -9.721721855987097, -10.325149807869744, -10.593603428901895, -8.214607102819246, -7.526078430076502, -9.423023636417941, -9.118751028689859, -10.500974989769135, -3.6326397194978393, -8.606413482844047, -4.963600416590621, -6.154467507777877, -6.094000314158524, -5.754325865103311, -7.788376899912864, -3.48791715350271, -4.314682424815823, -11.025871895179225, -11.619078381707816, -8.217432755330178, -10.631647661916134, -6.165474117311591, -9.336039678185966, 0.5021934050790563, -3.5461913436281285, -7.246605032898327, -6.153940169478123, -3.422660375975069, -11.402840278041442, -2.394667516641593, -9.230036234900016, -8.903232477681765, -4.691997687086979, -0.9124729497364684, -9.638399573936532, -5.726167284352963, -10.79775384469022, -4.825892251346863, -11.570556599170216, -7.452162640143819, -6.113124139925119, -4.670898225781091, -9.405231475875683, -2.8153345818328357, -12.457050052954381, 0.9490176346619428, -3.856436113390152, -6.482742738173658, -5.266487893788274, -7.036421777687492, -7.47790407780536, -10.687815720938444, -11.794954920973728, -6.325353224885362, -5.936878253833455, -6.106261430467391, -7.1049158905653975, -1.736763774862946, -10.679512367263717, -7.361513682260901, -5.113785897512052, -7.601153864224367, -8.12130925916773, -12.854558079131873, -1.768229800568988, -9.605295535631573, -10.581393076827231, -8.33194565194394, -6.3301493678419725, -10.92888694331956, -6.3549856599482055, -7.906400351004776, -9.116618288728002, -8.340576826946382, -6.941685232151944, -2.0071765494995173, -4.3909583773551395, -4.899404957416638, -4.728806398633179, -7.837318812974436, -2.2968896400522025, -7.105207577417298, -10.241431573005771, -0.09488418987537989, -8.490751749227659, -2.9129201253515955, 0.6140395538365401, -2.527163206430573, -9.700349098611687, -13.12424424544098, -10.363318824733065, -8.087233401184148, -10.709502466976959, -5.780727154908655, -4.6929930028812885, -6.810284515918345, -8.66087175862338, -7.632476476713141, -11.133266404900185, -7.044147266332755, -11.444978113464824, -9.39097910929659, -0.3749535488320029, -6.435333605542458, -9.684671346760418, -2.0986692597171657, -3.598003311111358, -7.168774402785192, -3.3734174382748474, -8.026291802306542, -4.654742855308846, -11.20855081078979, -11.099698934500482, -9.612150161644786, -4.0656108658419114, -10.845350509768064, -4.228937758254379, -4.295737326397031, -7.243000831791627, -5.617070740273277, -6.943953550877368, 2.689311815808231, -7.501772021138031, -5.645880237127212, 0.681548262276918, -11.351707354458133, -7.553398003459355, -6.3409664484888335, -4.1308893733982295, -8.281338410491333, -5.891094087173291, -5.301390706312202, -2.9950247272302306, -5.740409632831722, -4.726172152641955, -9.647540712364277, -8.1354083278071, -11.035068108457413, 1.9129686661179712, -0.6602896849867218, -3.3959562232294602, -11.982421460600177, -2.9278528652746476, -7.091387107514656, -5.320800943357928, -1.4816290317786613, -6.238544653851551, -6.225270199937376, -4.45865631156355, -1.8441809831515028, -9.38519220650426, -1.5362221204412096, -4.223842460336072, -10.58989566205989, -8.183218287784374, -1.5998216810463461, -7.156414783326112, -8.456504810658561, -4.974677575218158, -9.413272997666397, -5.805085984979974, -3.911448090152104, -3.658573821374128, 0.027996947390401004, -2.721767752960319, -2.301448202559266, -8.428900576545923, -4.180250346029544, -6.615422385905914, -4.819789610903592, -6.359450599008603, -6.974409392614693, -5.421505977013006, -4.84357824076466, -5.682242929203286, -5.87661972836804, -11.346525046394492, -6.1068704859914975, -3.4706893873897635, -8.46760882522006, -8.674202868133763, -9.959567850993931, -4.4587495029132524, -6.3849552503200595, -6.180953759063265, -8.524930802695144, -9.98199922962027, -6.607438837873136, -4.031450135086808, -5.789855556030009, -3.6266424116436937, -5.5379104216254404, 0.8318044879565689, -3.0315171540175574, -7.234113665201908, -3.8176602059112783, -3.7450822086775903, -11.718742513793252, -10.159844421490378, -8.527232039272661, -5.161418041624278, -10.654241094321861, -3.5479714923210075, -5.725810821391999, -11.031289771721571, -4.813472558905099, -6.278014323578864, -1.5325586588816325, -5.881954238217358, -2.5082166254421048, -7.890483576095129, -2.9840106629773717, -2.5854034429075634, -2.440086960327443, -12.523518515962968, -10.742800087397152, -4.9660632522170856, -5.561230909493017, -5.4366892472551305, -2.9942474040764777, -12.289596350042167, -0.9531992050501236, -5.963979699391349, -12.096062912738883, -5.000689978423593, -6.836959570645564, -2.3921507286460133, -8.50965375059944, -4.097556140186948, -10.238393720943149, -4.269654333297622, -9.8137811641448, -7.991101177815821, -8.477587748831866, -4.301418269475954, -4.583052941543039, -7.180611353430032, -12.826377578978144, -5.6390852284171755, -10.723036419679724, -1.899262941276939, -7.677341487273778, 0.047584548419951786, -8.91663781528225, -10.08139594521702, -3.1940422002789064, -11.848844665461861, -9.271940203814824], \"xaxis\": \"x\", \"y\": [-1.5388695528105372, 0.12498614772958569, 1.2232547557060516, -0.40303889517946845, 1.8043641078347812, -0.5516477089158884, 3.522716283006058, -1.741099271269182, 0.2917954619013865, 1.7119187891498615, -0.6624078624742187, 1.7203222211543467, -2.569649089208159, 1.7078013717806309, 1.1099988618759709, -0.6424077264108605, 0.8208123694415514, 0.21289847124886396, 0.6034019266759194, 0.5091227015617064, -0.5038283849099264, -1.0854660283443074, 0.49971635264680536, -0.09208269181206155, -1.1750677909062, -0.36798822290761657, 0.5431939938659789, 2.8653119097824375, 2.0442086169645233, -2.649613887652381, 2.461421627749724, 3.28944044843877, -1.3329330456817783, 1.0007995798627514, 1.9802402827309535, 0.7180807932766313, -0.45044837673678517, -1.3935160957466202, 0.13730080300494427, -0.1157589837221342, 3.7538953029221482, -3.6503384274330877, 0.25928704644130657, 4.8164098283855905, 2.93867967372872, 0.026385316794315484, 0.7265591840571411, 1.2561979418412115, -0.7899548704787075, 1.7613745122564963, 0.7514226095738508, 0.2912830799988145, 2.2655165130847714, -2.6917113306743263, 0.8632978780592434, -0.7326986898663242, 2.5760073034011866, 2.5073854199409733, 0.9831662491835326, -0.29018366976649657, 2.1961050228294274, 2.9057898901364885, -3.1206811139328727, 0.7933785259306538, 1.813024188989179, -1.85559536048841, 0.9977640999451511, -0.6596434250292394, -0.38362569149005143, -0.17379466007561847, 0.8754326783777917, 2.638916122439407, 1.6401621219152258, -2.563038848744409, 3.0722751827301447, 0.03341057219524383, 3.47299203844679, 0.377332254545111, 2.62743240511851, 1.8822165175993815, 0.847000902254777, 2.6230154621982873, 1.0762520563974562, -0.14680541354968366, -0.1771771168346931, -0.4164857976478803, 4.680513142033667, 1.9136538814625232, 1.455696431084573, 0.6008105010334343, 0.2596490539402389, -1.011548157284794, -0.6149629829181151, -0.9273066278659265, 4.762652333319974, -1.1907601183291796, -0.5760198211255279, -1.2899756901149075, -0.06359334198104165, 1.1805215913043283, 0.02270788394828658, -0.28765917271830393, 0.04815702133915692, -0.13218522537414887, -0.7728977680151099, -1.7379952542928736, 0.9995181017645293, 2.1039982348492727, 0.3680456348351395, 0.32702975093081754, 0.16921810456820735, 2.715957009165108, 0.2869359683127397, -1.1967130067203486, -2.9816724966106727, 0.6725166725908232, 0.29206537842441627, -0.9048022506984079, 0.7025550732072087, -0.3161009999904719, -1.7479630859022843, 1.7490989638931527, 2.670960612079324, -0.7079922440313269, 2.0611009578344213, 4.140525918391703, -0.16545845640313483, 1.3240358427721346, 1.5149021766835686, 1.1331306933826177, -0.8026283272919394, -0.22599034791761818, -1.0346223986163336, -1.6517121804253425, -0.061975454801040906, 2.4625083633658305, 3.8256314793158546, 2.8583436393552213, 0.6361148715757127, 0.11556848653492643, 0.8339398450345634, 2.42924447506055, 1.982252193031084, 1.078542050358592, -0.17693262937781196, 1.2794354828604015, 2.353052960465977, -0.13321606911599576, -0.003759328942658837, 0.8806033528222367, 1.222355207282893, 0.23740593038914495, -1.2669966605408083, 1.619793407728723, 1.747980852078255, 0.9640060813723413, 4.328955712887984, 1.8882495238319044, 0.6313861766195022, -2.1070037520908085, -1.3205690833510937, -1.440667737393216, -0.7555676995600251, -1.501015919445338, 1.7391202313484868, -2.8079659710006957, 0.8187319566411483, 0.6542824442511584, -1.761350788044681, -1.8564516203436787, 1.7348296698906391, -0.016299707344785086, 2.0183419486575325, 1.2008930163310114, 0.1822991245221955, 0.5220692657683441, -0.1987683042625561, 0.9099278948817215, 2.9613632570641504, 0.20326239680937958, 0.9862035418165789, -1.0837695583361415, -0.8845804394664183, 0.057036121234492136, 0.8282737796089709, 1.7198253463596218, 1.0186169449409466, 1.4085566244988745, 1.0076147315219748, 1.6865310092638874, 0.8377865947114964, 0.11770909263572296, -0.9643127323895373, -1.2087904270189733, 0.8350388906896695, -1.5832445936533754, -0.7066779424564545, -0.5578492131859716, 3.0749657121151857, 3.240559752194087, -0.9766582319196491, -1.3042618113547393, 3.1561087080919643, 0.1980318421952131, 0.062214203909704495, 1.6923896749043987, 1.4703017031224248, -1.1166418483791196, 3.083211171554054, 2.0600082254330037, -0.33275082619696655, -1.532429561712225, -1.4044826184748118, -0.10612786808581219, -1.1059868956586527, 1.174718334466264, -1.427099138814645, -0.8091552761061684, 2.2728315464840834, -1.398102421920237, 2.3105950579920767, 0.9414466022813363, -0.9744294204190762, 1.0532586592357758, 2.516637679290322, 3.033396942562324, 4.068563068507482, 2.3041136957464676, 0.4616911008700823, -1.001649130903809, -0.30160362284237524, 0.2248493828567713, -0.2333199454314683, 0.8274500727500159, 2.605268530315242, 0.06736490175018842, 2.3793154464615003, 1.4359726122427239, -4.1988283155689246, 0.04747327053537134, 2.6331224107300333, -0.7841482443428678, -1.9028299226478878, 0.3603882210678783, -1.9847514334070593, -0.5338625926157038, 0.9523726554452236, 0.7884916988476445, -0.9465806980871693, 2.399192753640939, -1.1335670766141774, 1.6456376072400842, -0.5121157336141103, -0.45819335859302723, 1.8178643739462208, -0.11774623466162867, 0.5367969143364106, -1.7699120750919302, -0.8295135605831148, -1.3379389460893123, -1.3221497424743178, 4.0784506931120115, 1.661210070310273, 1.1331306933826177, -0.24258426135194006, 0.9967629118053143, 1.5567251471062356, -1.7021027834236824, 0.11483863939857306, 0.4163739912764155, -0.444416915013924, 4.162496675075254, 2.162803631583149, 1.492138108673393, -2.0723386647178974, -2.2634720509554973, -0.6420730427886228, 1.4318781688119255, -1.8885087838883423, -2.961286248302606, 0.6088107839000653, -1.90594875449305, -0.6712978902183451, 0.12255727444705534, -0.43627849331128216, 1.4677711390754935, 2.6221212706426025, -1.790643677464608, 0.8648808935010698, 1.4828792925604166, -0.17324761661934254, -1.17100664318844, 1.114556402353327, 3.068849259512934, 0.45530883835540314, 3.0145836450858465, -0.7147327815973731, -0.2108031491645841, -0.0035636376429195146, 0.8471960212541709, 0.8997621513697057, -0.8996324215925526, 1.0986070999497346, 1.5963455452045892, 0.9171514785628803, -1.772515543338238, 0.38121753012141, 1.669676729074648, 0.9098909429499733, 0.11122232269001925, -1.1729535571797935, 0.1103875439460056, 3.4810518542825095, 0.7174011923429818, -0.6383205761064301, 4.105408721015685, -2.188724954792247, 0.5729224083989584, -0.7112240142770828, 1.1937898118234833, 2.4546963556169636, 2.6140901109374446, 1.8181259374866676, -0.26800829991855585, -0.14234360493817852, 1.2619580173528377, -0.4462182820467093, 0.8711710789336398, -2.1272577940835795, -1.2231663074046608, 1.6089592406520912, -0.21396438377690374, -0.057454799972413005, 2.0791383037336435, 1.8575766456730096, -0.08448395475518441, 1.1824629290570094, 2.5563275164832007, -1.2819272864892373, -0.9626965271393239, 0.5737567796231904, -0.5397169774175216, 2.0974455335742572, -0.853062257858695, 0.1792280035871495, -1.5643253502084578, 0.03393685452822983, -0.2279074173314046, -0.19838212310849604, -1.5243924884750268, 0.09049214695514078, 0.8258133130343027, 0.20154793313550107, -1.0673300022435914, 0.22219556752224723, -1.7007908911265177, 3.276980474316668, -3.182746318631484, 1.3415731452834159, 1.777496776162743, -0.7973245004897747, -0.6616795407131315, 0.9261854822988939, 0.17951201746832723, 0.17247483165555458, 1.368061518496739, -0.24642985567903145, 5.939757149392714, 1.4636658269662082, 0.8213092358360912, -1.3956812759533885, -1.2757109441668153, 2.034076612787042, 4.2264681404517255, -1.1106336229447167, 1.713892397568034, -0.3212904221345909, 0.5800492076270268, -2.0138208432313567, 4.083431156758841, 3.7828387108472667, -0.7285025728792808, 3.730733777338332, 3.2821425288307613], \"yaxis\": \"y\"}, {\"hoverlabel\": {\"namelength\": 0}, \"hovertemplate\": \"color=E<br>Enc. Variable 0=%{x}<br>Enc. Variable 1=%{y}\", \"legendgroup\": \"color=E\", \"marker\": {\"color\": \"#FF97FF\", \"opacity\": 0.7, \"symbol\": \"circle\"}, \"mode\": \"markers\", \"name\": \"color=E\", \"showlegend\": true, \"type\": \"scattergl\", \"x\": [1.418503844637974, -1.507270269927388, -0.385424702379957, -5.302734966815975, 1.9486247192943318, 0.25982799682966234, -5.295480662764223, -1.2187219940797576, -1.938730595793165, -4.679320705147709, -1.271402282671802, 2.6474999501817496, -1.2765251017749562, 0.5639510373796381, -4.925252712090801, -1.6085068265774618, -5.414868220737397, -5.654263828727036, -1.7795514505238814, -6.964900521618932, -2.6923613547578276, -3.252762733438397, -4.926082429133523, -0.4896768008073836, -4.3196083971661015, -4.032770866996581, 0.17695796110123527, 0.32466531513611596, -5.808635300278134, -1.254637442220197, -6.839967763039735, -10.333907008084536, -1.269846523333506, -2.7022170912503416, -4.209482253239183, -3.388524615797152, -4.854118579598557, 3.5616628358112306, -7.150002060216226, -0.7779799580484793, -0.35893298493615516, -3.5145411813099128, -3.8795634960889487, -5.704741842133255, -5.471356863594474, -9.827315256947704, -5.01968352345295, -7.132747406860388, -0.19117632634107332, -0.6171367665079464, -3.4827911108937335, -2.6664291331409467, -4.466498271766358, -8.169300207191421, -0.4240421356399668, -7.274105296841585, -11.935443181486855, -0.9483366014627355, -4.287288993769103, 0.09453652316754388, -2.624824941544707, 0.13277684127542416, -4.604365130160187, -3.4311081761143725, -7.379375230894083, -5.946083719926916, -4.683264000729085, -6.744798122955387, -1.9778114436614316, -1.9116509424198023, -4.1436523118236535, 0.42243226373903936, -2.001919610589606, -6.034388465204638, -7.749727934238192, 0.5241082779493177, 0.29487751394998, -1.7012732054556572, -6.831647289115569, -4.14108667024854, -6.06169023956858, -3.8951243783698897, -1.8032657587877576, -5.180840960990395, -0.5900325020882989, 2.4568164205963625, -0.579499638853464, -4.060948281608335, -12.419415518541118, -0.9030657867344616, -2.145854641125732, -3.863855652856899, -1.7822348219958024, -5.936994215132419, -3.962410757150965, -5.064880131824278, -1.5832986246130771, -5.591181321275514, -0.33502093008919276, 1.1451643308134036, -2.0103953513139428, -7.136182850124395, -7.188887785118649, -4.1295166926473215, -5.087369745214146, -3.4267404708786295, -3.1958009150174185, -5.750977990417714, -0.41247648576167495, -6.9584419867135185, -10.644339193982475, -0.5680298356148984, -4.10892664932113, -5.83809063752179, -10.931623657560268, -2.5103249622460804, -0.5831601634231502, -3.4251403451025686, -4.1491445106133495, -0.7995009296730701, 0.510380239948997, -4.320164575988132, 3.82636602879586, -6.260742850899219, -0.4595505875655662, -4.1315222938751335, -5.474082896235405, -7.5471006092776864, 2.190471037989082, -2.134145596588725, -0.05904529639924877, -0.6100310577143572, -4.184016872001515, 0.2688650184751251, 0.1507639843830141, -4.805400532545393, -0.7315255259907288, -2.0742222805240007, -0.3173495180104501, -6.442397736574713, 0.09207155508378903, -5.76366564533797, -9.839606684773639, -4.827207883387662, -3.553779670430208, -10.01575432209222, -0.5465487598996582, -5.200382079984681, -2.9570190510819168, -3.0655847220100387, -2.817438967697083, -3.14457298781273, -1.058935826199271, -5.378586719718991, -1.0331936144294016, -6.214431809109737, -1.6734493988913255, -5.954374955379723, -4.6488161115610644, -10.73962936458725, -0.13577099911606144, 1.0743504387176612, -5.272165436430619, -5.262034383189398, -0.5003725089481951, -7.32875234633348, -4.44523040507186, -2.0105484162093656, -1.154882595439827, -5.798519663516686, -10.006411696375306, -4.628169714341845, -2.3875206426612023, 0.15165987416103993, -2.2975837666940437, -0.8023284839989463, -2.523853644339286, -4.810730966114151, -11.030909877389723, 0.723953796765324, -4.10559675307955, -3.089170061407392, -4.799368548400378, -2.30341102359312, -0.5227318290638524, -5.862526529561032, -9.264719172821374, -2.7180362826539635, 1.3543818274907866, -7.560864868160841, -0.5804434523890017, -5.385425551267745, -8.72170669134082, -5.552031722513471, -11.858153224348666, -4.8308859996522715, -4.073826557371414, -6.056816274384691, -3.751917731661047, -7.82859016010558, 2.2363022686321727, -5.2621386239618095, -3.057135923195914, -5.219039324226039, 0.22122929776039912, -4.416228751607532, -2.224441230367414, -0.836691035256408, -0.16807580645507467, -10.794654517655099, -0.3845158517344391, -2.247117064002892, -4.9999024365934, 0.2815273570335569, -12.181442947597954, -2.7610071196687858, -4.282351329733896, -4.577042871842705, -10.061207515757836, -5.388034155236034, -2.697867667683462, -6.13127442585885, -3.424422384174888, -13.581144759085253, -3.6134690229886384, -2.360996150347428, -8.690838474364815, -2.6452505871725283, -5.822505259984999, -3.196112248714008, -4.909380821996982, -8.455273907532332, -0.7916261960832369, 0.2356208420811609, 0.3296030199997125, -5.04324092949568, -4.087996748672018, -2.0026563043922523, -3.1058883183201527, -5.983756239153723, -6.219464008167685, -11.086269169930585, -6.454998828487687, -3.4890627197058217, -2.0896343090400986, -0.503765759823113, -1.5499931933537152, -3.580143329940686, -9.899125295885167, -1.2679331018213318, -10.664504480498058, -2.1815526418846405, -0.25220470664238137, -0.2195366148915079, -9.216341698578622, -7.399059778957146, -4.773800773606039, -1.7496698048495012, -2.4632342605995396, -7.058459403005871, -4.702675690664686, -3.64259004062961, 1.2857505153552966, -1.9111275208848792, -0.05072600570754569, -5.598337984879607, -2.1815526418846405, 0.6140808002483827, 0.5579072473419209, 3.247817402611468, -6.2597212835830485, -7.441571181552776, -1.650997351934837, -9.411365958036312, -7.601552620728211, 0.3583314964955608, -6.499714529306551, -6.925918596597068, -0.9409447192391982, -8.605961646651577, -3.760013814357556, -2.2966436041332963, -3.4304583909149637, -8.139268045776094, -0.9432077517423882, -9.955034672978092, -3.0798432276752017, -10.110523423458693, -3.7899055186722137, -5.333094416869662, -4.115654654630708, -2.075251952904192, -3.8645886909876426, -11.698551634732118, -3.5687053923436483, -2.2555317175248706, -6.312046894022917, 2.878920392614763, -1.5623371764487328, -3.615430428290957, -5.908088574964394, 2.0531579221634577, -0.48129583786242114, -0.4486801674587634, -4.6020140760110095, -0.8512895800107901, -6.553357098369668, -4.900417495126995, -2.1794533260647064, -7.987822762434668, -3.885170753987396, 0.29715809953603217, -0.7852379935665897, -4.108127891232573, -6.2710304344618955, -10.02245025401138, -3.4770844865960355, 0.19156701397784912, -4.349918893486847, -1.1173301517461738, -7.103587725265225, -1.915244443835037, -1.733205752783608, -6.421037767713493, -9.587068145863038, -3.501016404969837, -7.601228614982974, -9.669064253288983, -2.4671178961915228, -0.6439067049064948, -1.9078210013213324, -3.18570698700585, -2.898820729301473, -2.1809189246174387, 0.22650102353599855, -0.6673429403098339, -0.0035485144824774894, -1.5951115045835744, -3.7059416296892094, -2.202974017044232, -1.0838945287328412, -1.6683169706256131, -1.9676284822785675, 0.6760779099430047, -4.367193297379929, -4.636940662968179, -6.778013971894481, -4.217249272089474, -4.525704798688401, 1.2717952367054919, -11.323639232386881, -0.8546825441228397, -2.300240175865907, -7.240603825780984, -6.828008972494828, -3.9340693726443514, -2.9341312214313677, -4.0430208636640685, 0.5726816768935162, -9.269257275795438, -5.823212427328895, -4.74577293130732, -6.214611651684578], \"xaxis\": \"x\", \"y\": [-3.201410481092833, -2.634220805601859, -4.234325415493226, -6.642478933554706, -2.4166826204665743, -3.891895727257702, -1.9728604260020235, -2.6547918081304873, -4.85826621350975, -6.502476719802464, -0.9346279626528559, -3.3451928754858185, -5.445861064530888, -4.866895446505196, -5.330310948967361, -2.1484058463195894, -2.4131425384169765, -6.320203531342874, -0.9920003055590162, -3.6331540599473637, -3.231721408705131, -6.1740781164990395, -3.625291455916534, -4.103158312996505, -3.973973294489903, 0.15466827174372177, -2.925306648960875, -3.3525749468127755, -1.4181974415515473, -3.8491048499251415, -4.063204629455781, -1.8529100478676759, -2.8680558752648877, -3.62479948615256, -3.719535276028671, -3.4437692196269376, -4.003192069055604, 1.8793955307785533, -3.3418769707137503, -2.538800687339639, -0.06497357979996421, -3.0197982652974216, -7.6531644843219055, -1.0127030952068672, -7.3839624973669284, 0.31849943197683134, -4.205667406000163, 1.1212726531620818, -3.6792777162181918, -3.0601193402626086, -5.692041010727484, -6.184442508436672, -4.277398745108381, -1.0409841029321387, -6.495225381083457, -4.725980217411616, -1.8914793435494062, 2.7282428518201978, -1.2939555778021605, -6.2410323593921095, -4.242011748211428, -2.1474496497118047, -4.439342514905056, -2.1641864630153616, -1.4514543060285214, -6.901005101475325, -3.868735553705701, -4.174140486162895, -3.5821645515224665, -2.9412187654234656, -5.731251537750201, -4.724774344624367, -5.978657749484609, -8.643451474840173, -5.311423545926029, -2.0547928686536077, -4.006176849776089, -6.417432135739332, -0.7996736264468677, -2.1202425979141255, -5.763358840073751, -7.5693876762807975, -6.704239376298006, -4.621078864783704, -1.824836511410256, -2.2540851170581098, -3.841369817493123, -6.1399951336991005, -0.9897500196052513, -3.7922161172817264, -2.559094793587447, -3.4519713112452153, -4.938923969142497, -1.0406306087586346, -0.8658297688460236, -5.619715181973526, -2.524470199871962, -6.300243604321716, -2.4648984672812846, -1.2670230350417844, -3.44675584510913, -2.2623563736544234, -1.2824917172427073, -5.73056651419765, -3.6855602155255696, -3.2878691117892735, -1.6585453746883723, -6.2415227449581385, -3.3717575579691434, -0.44818815207661816, -0.8123262935846729, -4.49322118931828, -4.073630657849464, -5.246743410273853, -0.6157910107352804, -1.0053555243011707, -2.444241844706506, -4.0886103196800345, -0.6803290254836505, -1.4928344441252157, -3.4464734447886887, -5.9675886365577036, -1.754321551023235, 1.4561638044058924, -2.8157101947924597, -0.3053975457672793, -7.203182541485879, -6.888852237235701, -2.7280693795910453, -2.2253947201745374, -0.28615417505258617, -4.233280762436327, -2.088260654803829, -3.850013826001755, -3.0894663449388204, -3.75668936241845, -3.6172363504187532, -3.696227388647922, -6.758416320050591, -1.163218003920617, -3.4654202660418867, -2.5536493188493803, -0.41971803256982293, -5.507588286182034, -0.48887675830856286, -0.6128090278916036, -3.566856917716235, -2.0007430099047165, -3.729532672033572, -4.235338538774683, -4.528153350038509, -0.35179956199421486, -5.3712621018665185, -3.618933634651696, -3.60928923903902, -1.823833720549706, -2.437965841541435, -5.189246536267633, 2.925590199768003, -0.6752843855789813, -5.428339013645526, -6.178697272977908, -1.671720407781262, -6.068260175164591, -4.3863520370220614, -1.9444344953461963, -4.355922012333225, 0.5232350069973393, -0.05506310064817312, -6.592567026177064, -0.4364729765980685, -5.148155024421026, -2.4818097406800583, -4.255181987358832, -1.7191336520445266, -6.036393195716336, -2.794456672827316, -6.46800423952119, -2.5311814032670066, -2.7612115663534915, -3.922813897849265, -4.3951450441232796, -2.604905840713053, -4.691239799158638, -2.451331026170834, -7.655660566556495, 0.49402020344297964, -3.7111638838578274, -3.649312894721889, -0.040365113913880445, -1.5974370628795191, -2.788266180118442, -0.9418068169885259, -6.566886862099603, -0.6934307771953875, -6.73243455380459, -1.5072726715975222, -4.743506091425862, -6.153596030055043, -1.708541365293191, -2.3103224561335685, -0.8874712907620997, -2.5224551304309597, -4.680072798895614, -6.740469285146599, 0.611883623024557, -4.783328847799167, -4.570870474345845, -4.482771226946422, -0.7540649009070055, -3.609735841448426, -7.640359222035811, -4.363832492813266, -4.308331413500794, -2.30045308670663, -4.384624533847373, -5.84234485864875, -4.777069253071506, 0.48620294091192606, -2.0022437415966214, -5.048522352898246, -1.124513577638088, -5.881973683909183, -1.7787936176699513, -3.919231462866959, -4.463167211379756, -1.7099129311686412, -3.752564189539127, -4.194193198451292, -2.460922122639684, -6.20204819752969, -2.9454063994017474, -5.748125638413973, -3.149951976640604, -5.741992736358446, -1.532097796944499, -0.5303389314466375, -2.497773648227083, 2.187810359885426, -2.255984116242601, -1.4696267632161477, 0.04465136793041059, -6.929329831899555, -2.9149725298996105, -4.4716922815025715, -4.306301754206221, -3.701633868475453, -3.5892346429508692, -3.3822647420062153, -7.532536494221695, -3.4184058540583684, -5.452133424834779, -4.651530503431636, -1.2870091360570939, -0.47623060938775613, -7.715269509211217, -1.698807963313496, -4.32992261544708, -0.8281278617271934, -2.9276952731900097, -7.283101804007887, -6.263397881437528, -1.35574953776074, -1.8889693218499901, -2.922580529674988, -2.7588276602347674, -5.452133424834779, -2.3412542649929224, -3.569754399058996, -1.8873152314526516, 0.38217713171086015, -3.613905014095861, -2.771519228879263, 0.7518052634547937, -2.944800809710605, -4.768162212552209, -8.3975174053754, -1.2932783507695025, -6.701422570461968, -0.6917506448520172, -4.3959401497553126, -0.7677797143813525, -0.214015882682578, 0.1229360403776597, -3.2045486661658713, -0.08486217984770848, -3.9845182597537456, -6.180584147085912, -4.936589128718119, -3.3275893103868186, -2.7518394450924935, -1.5716351156679245, -2.374481482189793, 0.4544756456375621, -4.824551944699332, -3.3774265240453163, -1.834135611273287, -5.0822238327091815, -5.905405944560151, -4.638786252786716, -5.588069124704281, -3.891998978749635, -3.7168031232326157, -4.751311908510012, 1.0695762561475828, -1.952075754346699, -1.4175041810315565, -4.4962639477925395, -4.2979411930575, -3.1262457288169903, -4.465513649308016, -3.8760790399562386, -3.6596733084162385, -1.912490237601322, -3.974050245248342, -0.1917798631430185, -5.981358258200811, -5.726281003389785, -2.0074814083692023, -6.746345100434048, -5.886831725074261, -4.2589093384584, -1.4937858566225208, -1.6966810684729847, 0.6937241857851578, -2.221390197259434, -0.7937088619687854, 0.3670441330824501, -1.0605525464128813, -3.5813437957004726, -4.0682669339936215, -1.6522745962742538, -6.585931580805979, -1.3783749225752508, -1.4893309901393186, -2.55157758027303, -6.389438760630363, -3.1542570943883548, -4.312871343731773, 1.1807967780576818, -3.7105692379525492, -2.4974952650486695, -3.551069199049018, 0.0905241580691567, -3.7829088686216714, -4.938250279141091, -2.589932467503692, -1.1559481535477345, -6.711401904812086, -0.8475978746351046, 0.3360748322786907, -1.6103863857388543, -4.066860194117457, -5.030012739025377, -3.35668764224767, -1.6663954479709597, -3.3709085884615573, -3.3600572758874976, -6.156623437805827, -0.6960081332506278, -1.3070479863123687, -1.6964659186094126, -1.0664094019028483], \"yaxis\": \"y\"}, {\"hoverlabel\": {\"namelength\": 0}, \"hovertemplate\": \"color=A<br>Enc. Variable 0=%{x}<br>Enc. Variable 1=%{y}\", \"legendgroup\": \"color=A\", \"marker\": {\"color\": \"#FECB52\", \"opacity\": 0.7, \"symbol\": \"circle\"}, \"mode\": \"markers\", \"name\": \"color=A\", \"showlegend\": true, \"type\": \"scattergl\", \"x\": [6.1616069486548755, 3.9214889037468925, 13.385496667012468, 4.815979603991193, -0.33732154771616774, 7.610129137546193, 8.61479234766566, 10.562290053875369, 8.683001337143882, 3.8467716714042446, 6.396207447890421, -1.2010197653322372, 2.643150654049175, 6.3657366071528125, 6.301865985757608, 1.2806238148558684, 5.216874700587923, 9.929437382380291, 1.7533141653690403, 8.10392920563839, 6.8897086199678945, 12.28928505622042, 9.25591459874252, 5.505574782704717, -0.9551970090825986, 6.723335582933357, 1.5752314210948621, 2.8533514103703017, 4.448813182646405, 5.16030735099842, 12.919738624499551, 5.205206177723872, 5.314568958886517, 2.813281863589042, 8.618534580077634, 6.024304073886765, 8.54317100126582, 12.97183430825685, 6.726219687966959, 1.0954874750839556, -1.9449704604872418, 5.031031776853419, 4.387123014128288, 8.255010133670838, 4.598012359408318, 8.237308986998768, 5.4448850706356895, 1.95391246374979, 0.4263936644919374, 3.1531950869213574, -0.15904967768649048, 11.516429385812225, 5.115487397540846, 3.8470948026392544, 5.35180302403576, 3.1578030407964564, 10.071118612119932, 6.801385046958057, 6.531903302245174, 3.169464238836483, 7.123787208486653, 1.520848561585837, 1.392470637324386, 4.119763602127054, -2.3554142563578244, 8.529272068423264, 3.588494143669496, 6.082404331055768, 1.1688635048792861, 5.3893832097002985, 7.965971792725546, 7.386727524637798, 8.571684673959581, 7.191615532319887, 5.919408456934884, 7.964243745016585, 7.00542155470094, 9.437883018052544, 6.863812763854261, 8.92405662530165, 8.478837895807034, 5.9278287162698, 8.789264264587866, 12.595708458156167, 4.641112520159199, 6.190598546412866, 7.872937837839315, 8.010729684083335, 4.378960219711262, 10.2232425262042, 5.523595420910697, 10.50406947657024, 4.038476775310077, 7.955508944394572, 7.777418652399373, 7.108224953741849, 7.2370347565464614, 2.3864593607397637, 5.069763580458616, 5.371570780805345, 9.261980517670803, 5.465753920899205, 10.032161389323937, 10.720681972744506, 7.642421837767797, 4.0531080853009716, 6.9843749503845025, 10.27635871768239, 1.963395410320552, 6.0871591033208325, 4.462686182990068, 3.060083810507143, 5.7032602348740875, 5.176785269857055, 7.384458903772779, 11.095275662570268, 2.4171289140139893, 3.848037126746802, 5.17821026644924, 6.880247777673933, 5.220791179747732, 5.366429240089489, 6.522444320838382, 6.088154082791297, 9.610959773271118, 6.838366929612397, 3.2383891547701023, 10.54312278196259, 12.029516517638951, 10.11744411405095, 12.649930484659729, 5.610699512837369, 12.088991284784537, 5.769579869041193, 4.743184024298814, 4.343994134937221, 12.511104838517229, 12.91439461068579, 9.338444895126019, 5.20925820640027, 8.08497573325644, 10.41275353141646, 12.272111267760575, 5.1558014439427895, 6.442721519572498, 4.187904100493033, 5.469226928316276, 1.070334592745967, 6.741677400590339, 4.759536957953875, 6.4944315972798075, -1.4836237108176595, 8.3298079998609, 5.196508537219091, -6.779442506106702, 6.347530245274855, 5.916588152241465, 9.413601213926729, 8.411219348989047, 4.661788292879974, 5.821816197470569, 6.968111946535988, 10.651633351793281, 1.4514275433340853, 5.055234837588238, -1.1031367820334876, 9.055563454869407, 7.360057930975624, 10.005956446263673, 4.520211734131791, -1.6697302055439147, 4.37823614019647, 3.0819051722770383, 9.176185404111393, 0.5431315615725378, 3.576941204107713, 5.994612322344365, 9.920994131271847, 6.158463417287808, 10.698205067892854, 0.17641537533652427, -2.6442317671725726, 6.74961649749686, 13.706145049742299, -1.267974265001183, 9.288207087357929, 9.834239857661684, 3.946645687516357, 7.4520197664037635, 7.419769905831084, 6.091994857401223, 4.7171576294162705, 8.78241755505943, 8.702559129269984, 3.204623600370774, 3.8056599875197286, 7.731866570541912, 4.651583329204177, 8.313146342354742, 5.049283093447248, 8.99084173838922, 8.892569473240172, 1.727394277770594, 10.525641367556588, 7.7313861091205025, 5.092209604722289, 5.259203124044658, 8.979143225885966, 9.187116395617188, 7.831990362584445, 13.8275193071893, 7.135715292665186, 12.03690573762124, 4.546212231963184, 7.998014319114323, 11.826379772763707, 7.168130896997731, 6.946616271756884, 0.5876957750424172, 5.1406923535971405, 7.087350677282558, 0.7695024912962363, 5.841438025458099, 4.1890206194325685, 10.501061135133881, 0.6798965926617548, 6.462076342511737, 8.693046058271806, 5.029642899209212, 13.369034552496174, 1.3458567623104518, 8.164474828789883, 10.993303213281656, 3.526039230347743, 5.998583289205449, -1.2471930814470766, 8.340182022431536, 7.322783185122807, 6.281528665024584, 3.531646867708526, 2.508792988813697, 6.712021201818965, 0.13862716368909733, 3.337857781572221, 3.832017263276391, 4.15314253552935, 5.374929238513908, 5.293397748558043, 6.758767944720373, 6.7375702084917934, 12.599664240679234, -5.732666268112281, -0.7527047936871359, 5.407111891161749, 9.78380567024622, 2.0062289690798467, 3.190136235159144, 8.136270861936374, 7.3412470226315065, 3.817364488452578, 5.015886950447131, 13.354578250537159, 12.553326853925693, -0.6367260917955787, 11.314016312442694, 7.500016404223911, 7.1803012202859495, 6.457231138012652, 8.982962228543053, 4.95341193183077, 12.573154246945627, 3.3225667423360337, -0.622296629827154, 4.311310315574777, 6.5415752772983575, 4.7145230428671265, 12.389547530159925, 0.15526841876385586, 10.762044828038109, 8.33416661422916, 6.0104447323412975, 10.19388364668186, 11.536547921728163, 4.3648633409321365, 8.686795445845592, 10.074376137123295, 6.770034606859158, 7.878030648845463, 4.842982827518504, 5.464057002404844, 10.931555724203845, 10.363343361073765, 8.997077156257765, 3.211367018851368, 13.366945446086884, 12.776748984822879, 11.736831706556242, 4.811026656052489, 9.611797561918491, 12.546849159549984, 4.304220457597916, 8.988027023758319, 0.4800090313533289, 4.601386768672168, 3.9968090460797128, 11.252446663381749, 11.912150473843905, 2.9632323887739216, 10.318012615269454, 7.299888202874817, 6.683576728419922, 5.477040896574905, 8.481245325993347, 11.653067904212627, 3.6232785039819224, 5.2147048280364885, 4.987886372479809, 4.710912177503653, 12.908392446746458, 7.1905321631556385, 4.984526797575089, 5.608023840994283, 8.002808609551396, 6.489000907935459, 12.85118271316388, 6.423981379144914, 7.396050077508304, 2.914742344959738, 10.963268891087028, 8.332569783810285, 8.83810005559374, 5.916198812082394, 6.170164331463052, -0.36929704002702035, 5.6478774493599255, 10.131421249259708, 11.617506477636868, 6.288520136995089, 1.7781155142583778, 9.382808690788089, 5.413935657292734, 9.079137403221775, 7.505600163972705, 9.070691603710022, 4.281885494945775, 9.264955774782903, 11.755858620692024, 5.1412978464540435, 3.434289178834063, 11.767265280423834, -2.3849544993616876, 3.916718275155199, 3.0109176978237358, 11.451335136057587, 4.85220364518703, 11.97215316904147], \"xaxis\": \"x\", \"y\": [-3.073749633170358, -2.3843473124531265, 0.38151311049160536, -2.8631052249020597, 3.0118717803238506, -1.262717396207764, 3.0916912463456376, 1.0503801195986606, -4.064605563569823, -0.25888582327805415, -5.394497284855431, 5.521105858489349, -1.162197376584485, -5.412804139031643, -0.33784376632385543, -1.5451288629838713, -2.4327540282967584, 4.306247227353326, -2.6407805452774564, -4.4033179335158135, -3.61615487700359, 6.051198078534446, -4.332017299664827, -1.6590990483647912, 4.245311270894986, -3.601431547637246, -1.7517765105968208, -1.0047355079300517, -2.2579504479738746, -2.048052128495472, 1.3955799674614033, -2.023108996076856, -3.107801579501914, -2.0181304242705354, -4.177010740617889, -2.9634603321718123, -3.5131057430002515, 0.9354033851407265, 1.9230599485318327, 1.3757869103875369, 0.10480313859064308, -2.3936462429815872, -1.4567738274247317, -3.776103899822068, -2.5238292715757575, -4.5621166529902935, -1.8927781862516366, 2.683852432501385, 2.27404728795344, -2.3205352266121957, -1.0809137965963216, 1.1568286204882179, -3.0994688585938373, -2.4401387140612747, -2.6746646410519377, 0.8589400160220773, 3.0346618992093752, -4.209521257687708, 4.334786218876139, -4.252074290138773, -4.187960971401472, -2.9526435906851276, 3.3553433581208303, -2.975109781896456, 1.656502106890968, -0.4265466362481506, -2.7296975811221467, -3.476597192652878, 0.3305945129370611, -4.791532728853224, 1.3511436056703878, -4.501024426207503, -4.002638116540134, -3.643468306549297, -4.571887419621509, -3.948377488947251, -0.5394298537993142, -5.24162930630304, -0.9343947246419718, -4.911603848308418, -4.465062138809992, -1.7245697241991544, -4.430100772158827, 8.001624250344198, -4.333067936024603, -4.191157901878032, -1.205084193498254, 2.7868188379527465, -1.1303257136353513, 1.3485875695461995, -3.9482283855935423, 3.5481860055003187, -3.604657734665761, -3.4644297828136112, -2.9756285073288407, -3.614702042585715, 0.9989797048846825, 7.166240575984844, -4.525505986468272, -2.7968473886590344, -4.432251084618795, 1.8921543696846388, 1.6921990913636638, 3.175176672114702, -1.140121822079665, -1.0332592990818028, -0.2592978229382721, 5.6768007234139, -0.06903716087037012, -4.242628230908951, -2.6407831307135465, -0.8195267601608871, -2.365390228370109, -2.8805170238066165, -4.695180066576886, 4.702700959345371, -0.4657745954233223, -1.7180675375664856, -3.0028369114033358, 3.4160080115428784, -2.6854733747619415, -2.968605681603608, -4.883224368154885, -3.5073067892704723, -4.6249093661033545, -2.6087491972423558, 5.472100792148852, 3.143090626746109, 0.007630815860658663, -1.9751533532621595, 2.068309511872322, -4.089644625502164, 2.7816842222045373, -2.3040572877179293, -2.965866946470603, -1.455611425474467, 1.417612862183445, 3.5865532829168174, 5.960002974606237, -2.3702869667477833, -3.93449869429824, 5.1848978502555045, 5.999927890250713, -2.814079582515655, -3.95370231946279, -2.5912534264339366, -0.39363769112692665, -0.021851002332823843, 2.9140705846109913, -1.9058920108604933, -4.496754015748921, 5.475909716218883, -3.804076544180992, -1.7380125372290745, 1.735949453293708, -4.104370471597321, -3.0327339988157593, -4.117883006615272, -3.96785043038709, -2.6926073979505287, -2.76917050095967, -4.260132581498288, 0.2266345440916376, -2.4158776919101803, -1.9755733663948292, -1.6472946135623363, -4.832975282965464, -3.310896698863561, 2.0171121601269553, -2.207074219937187, 5.717034533819881, -2.3573705411529913, -1.4226880815872265, -5.380283608855402, 2.0532001375505677, -2.0637107879042773, 0.5135861927634919, -4.904699633601521, -1.9607386414741055, 6.36197120799624, 4.593797170273352, 3.8906571863796238, -4.194370106394713, 2.063660937203714, 6.386499402708044, 5.705757567087747, -4.511647276648688, -2.226490130466643, -2.9851336627320157, -4.062970880098327, -5.944418327800851, -1.5515843371449416, -1.1082216866117982, -4.30801638381049, -1.200948228902275, -2.4263200077542653, -2.9260565050291127, -2.1443384434916393, -4.8859832181390965, -2.877096907196907, -5.252213423463482, -5.020535123506758, 0.4072110786943035, 4.370690994512057, -3.6030293677908647, -1.0059088196906592, -2.974505285887404, -4.218826394124992, -0.5638158578044413, -5.1494363774180085, 4.608326200501799, -2.6518292325468122, 5.445721519262805, -2.271362072428646, -4.262551954338923, 1.5046164360346603, 5.109169680811789, -3.092909434905877, 5.608441429964201, -2.8154591350498683, -1.7736370069817573, -0.8161426217849668, -3.015558273659559, -3.177008550247067, 4.958874799813867, 4.198619458807833, -2.0806687959237395, -3.633607448135714, -2.576537139347153, 0.741386398691717, 2.8043543176229204, -4.83197570323046, 2.979684387925703, -2.276657002809014, -3.277017794365657, 7.808300405484288, -4.134490099616211, -3.6037624013601754, -3.0615541984751786, -2.578647383844454, -0.4735309969140086, -4.585497192707836, 0.4323401464287268, -0.6771621639553196, -2.208365143596382, -2.1637784902874833, -4.3182136495101435, -3.4740199475752753, -3.204680743979301, 1.62208922971088, 4.780541028122503, 5.348163087544387, 10.368763619308103, -2.718310685873145, -4.632265782426132, 3.3708157087954502, -1.4022299858733986, -2.467759944752388, -4.113593134763851, -1.014823140921757, 1.64358825844413, 4.081662445581685, 7.9717563975601875, 0.34860128702066395, 4.30955264866861, 3.03748417565824, -3.321532680490246, -2.3509021377112145, -4.769473848278025, -2.2020948543046366, 0.6393565039402817, -0.6607304638900885, 9.733583539629047, -3.1226897707107026, -0.5961793992089485, -1.9706627957682286, 1.5812961944475172, 0.8274564182592727, 0.3553881911085528, -4.4415970597800225, -3.4765470661765505, 5.008113347111109, 1.5697770726935738, -2.3390014442959073, -5.42122190507227, 2.0110383579992823, -4.47138770544403, -3.2999364247380436, -2.0612399010582894, 4.227625925595803, 4.454269310293712, 2.383730949037034, 3.8240447436728977, 0.2688776262206007, 3.0671239236773395, 2.7858966909604224, -0.9644473492246738, -2.6532485354598285, 1.3400129079453964, 3.5663393898023075, -3.4669016664232095, -0.46675438834996996, 1.379782706259425, -2.1544219738185126, -1.3675324856237636, 2.6884975062203975, 4.297490571256804, -1.520075622489883, -1.2243304281623115, -4.531773893264714, -3.104514691184924, -2.4055109935345196, -0.01994679923584212, 0.37128468966663225, 1.5577204471689612, -4.4493085605714615, -1.425399489547858, -2.7743878228488867, 6.719444937534134, -3.63633601614713, -3.1391451185791133, -2.932709632957661, 4.737499415005307, -1.065201247015206, 3.4983259663418806, -3.244338445766753, 1.0661560592367445, 0.6916496896460603, -0.2843336462151892, -4.821174346711989, -2.385069726090012, -2.603045906134385, -2.964550112557765, 1.6732032951978362, -3.9225452922176793, 1.1055284830344698, 2.1701029844550286, 1.637104628952077, -1.4125499193862832, 0.49689252459189887, -3.154512343667393, -4.433431563471467, -4.154124426071443, -4.4544782035719095, 2.148854755836154, 2.5855145294667907, -0.39134076522646555, -2.1295266031135287, -3.3955214275937764, 4.083996928161809, -0.7284891872152299, -2.6407752519182757, 0.7095987325073123, 0.19146017675474533, -2.2711989839951987, 2.671233298843448], \"yaxis\": \"y\"}],\n",
              "                        {\"legend\": {\"tracegroupgap\": 0}, \"margin\": {\"t\": 60}, \"template\": {\"data\": {\"bar\": [{\"error_x\": {\"color\": \"#2a3f5f\"}, \"error_y\": {\"color\": \"#2a3f5f\"}, \"marker\": {\"line\": {\"color\": \"#E5ECF6\", \"width\": 0.5}}, \"type\": \"bar\"}], \"barpolar\": [{\"marker\": {\"line\": {\"color\": \"#E5ECF6\", \"width\": 0.5}}, \"type\": \"barpolar\"}], \"carpet\": [{\"aaxis\": {\"endlinecolor\": \"#2a3f5f\", \"gridcolor\": \"white\", \"linecolor\": \"white\", \"minorgridcolor\": \"white\", \"startlinecolor\": \"#2a3f5f\"}, \"baxis\": {\"endlinecolor\": \"#2a3f5f\", \"gridcolor\": \"white\", \"linecolor\": \"white\", \"minorgridcolor\": \"white\", \"startlinecolor\": \"#2a3f5f\"}, \"type\": \"carpet\"}], \"choropleth\": [{\"colorbar\": {\"outlinewidth\": 0, \"ticks\": \"\"}, \"type\": \"choropleth\"}], \"contour\": [{\"colorbar\": {\"outlinewidth\": 0, \"ticks\": \"\"}, \"colorscale\": [[0.0, \"#0d0887\"], [0.1111111111111111, \"#46039f\"], [0.2222222222222222, \"#7201a8\"], [0.3333333333333333, \"#9c179e\"], [0.4444444444444444, \"#bd3786\"], [0.5555555555555556, \"#d8576b\"], [0.6666666666666666, \"#ed7953\"], [0.7777777777777778, \"#fb9f3a\"], [0.8888888888888888, \"#fdca26\"], [1.0, \"#f0f921\"]], \"type\": \"contour\"}], \"contourcarpet\": [{\"colorbar\": {\"outlinewidth\": 0, \"ticks\": \"\"}, \"type\": \"contourcarpet\"}], \"heatmap\": [{\"colorbar\": {\"outlinewidth\": 0, \"ticks\": \"\"}, \"colorscale\": [[0.0, \"#0d0887\"], [0.1111111111111111, \"#46039f\"], [0.2222222222222222, \"#7201a8\"], [0.3333333333333333, \"#9c179e\"], [0.4444444444444444, \"#bd3786\"], [0.5555555555555556, \"#d8576b\"], [0.6666666666666666, \"#ed7953\"], [0.7777777777777778, \"#fb9f3a\"], [0.8888888888888888, \"#fdca26\"], [1.0, \"#f0f921\"]], \"type\": \"heatmap\"}], \"heatmapgl\": [{\"colorbar\": {\"outlinewidth\": 0, \"ticks\": \"\"}, \"colorscale\": [[0.0, \"#0d0887\"], [0.1111111111111111, \"#46039f\"], [0.2222222222222222, \"#7201a8\"], [0.3333333333333333, \"#9c179e\"], [0.4444444444444444, \"#bd3786\"], [0.5555555555555556, \"#d8576b\"], [0.6666666666666666, \"#ed7953\"], [0.7777777777777778, \"#fb9f3a\"], [0.8888888888888888, \"#fdca26\"], [1.0, \"#f0f921\"]], \"type\": \"heatmapgl\"}], \"histogram\": [{\"marker\": {\"colorbar\": {\"outlinewidth\": 0, \"ticks\": \"\"}}, \"type\": \"histogram\"}], \"histogram2d\": [{\"colorbar\": {\"outlinewidth\": 0, \"ticks\": \"\"}, \"colorscale\": [[0.0, \"#0d0887\"], [0.1111111111111111, \"#46039f\"], [0.2222222222222222, \"#7201a8\"], [0.3333333333333333, \"#9c179e\"], [0.4444444444444444, \"#bd3786\"], [0.5555555555555556, \"#d8576b\"], [0.6666666666666666, \"#ed7953\"], [0.7777777777777778, \"#fb9f3a\"], [0.8888888888888888, \"#fdca26\"], [1.0, \"#f0f921\"]], \"type\": \"histogram2d\"}], \"histogram2dcontour\": [{\"colorbar\": {\"outlinewidth\": 0, \"ticks\": \"\"}, \"colorscale\": [[0.0, \"#0d0887\"], [0.1111111111111111, \"#46039f\"], [0.2222222222222222, \"#7201a8\"], [0.3333333333333333, \"#9c179e\"], [0.4444444444444444, \"#bd3786\"], [0.5555555555555556, \"#d8576b\"], [0.6666666666666666, \"#ed7953\"], [0.7777777777777778, \"#fb9f3a\"], [0.8888888888888888, \"#fdca26\"], [1.0, \"#f0f921\"]], \"type\": \"histogram2dcontour\"}], \"mesh3d\": [{\"colorbar\": {\"outlinewidth\": 0, \"ticks\": \"\"}, \"type\": \"mesh3d\"}], \"parcoords\": [{\"line\": {\"colorbar\": {\"outlinewidth\": 0, \"ticks\": \"\"}}, \"type\": \"parcoords\"}], \"pie\": [{\"automargin\": true, \"type\": \"pie\"}], \"scatter\": [{\"marker\": {\"colorbar\": {\"outlinewidth\": 0, \"ticks\": \"\"}}, \"type\": \"scatter\"}], \"scatter3d\": [{\"line\": {\"colorbar\": {\"outlinewidth\": 0, \"ticks\": \"\"}}, \"marker\": {\"colorbar\": {\"outlinewidth\": 0, \"ticks\": \"\"}}, \"type\": \"scatter3d\"}], \"scattercarpet\": [{\"marker\": {\"colorbar\": {\"outlinewidth\": 0, \"ticks\": \"\"}}, \"type\": \"scattercarpet\"}], \"scattergeo\": [{\"marker\": {\"colorbar\": {\"outlinewidth\": 0, \"ticks\": \"\"}}, \"type\": \"scattergeo\"}], \"scattergl\": [{\"marker\": {\"colorbar\": {\"outlinewidth\": 0, \"ticks\": \"\"}}, \"type\": \"scattergl\"}], \"scattermapbox\": [{\"marker\": {\"colorbar\": {\"outlinewidth\": 0, \"ticks\": \"\"}}, \"type\": \"scattermapbox\"}], \"scatterpolar\": [{\"marker\": {\"colorbar\": {\"outlinewidth\": 0, \"ticks\": \"\"}}, \"type\": \"scatterpolar\"}], \"scatterpolargl\": [{\"marker\": {\"colorbar\": {\"outlinewidth\": 0, \"ticks\": \"\"}}, \"type\": \"scatterpolargl\"}], \"scatterternary\": [{\"marker\": {\"colorbar\": {\"outlinewidth\": 0, \"ticks\": \"\"}}, \"type\": \"scatterternary\"}], \"surface\": [{\"colorbar\": {\"outlinewidth\": 0, \"ticks\": \"\"}, \"colorscale\": [[0.0, \"#0d0887\"], [0.1111111111111111, \"#46039f\"], [0.2222222222222222, \"#7201a8\"], [0.3333333333333333, \"#9c179e\"], [0.4444444444444444, \"#bd3786\"], [0.5555555555555556, \"#d8576b\"], [0.6666666666666666, \"#ed7953\"], [0.7777777777777778, \"#fb9f3a\"], [0.8888888888888888, \"#fdca26\"], [1.0, \"#f0f921\"]], \"type\": \"surface\"}], \"table\": [{\"cells\": {\"fill\": {\"color\": \"#EBF0F8\"}, \"line\": {\"color\": \"white\"}}, \"header\": {\"fill\": {\"color\": \"#C8D4E3\"}, \"line\": {\"color\": \"white\"}}, \"type\": \"table\"}]}, \"layout\": {\"annotationdefaults\": {\"arrowcolor\": \"#2a3f5f\", \"arrowhead\": 0, \"arrowwidth\": 1}, \"coloraxis\": {\"colorbar\": {\"outlinewidth\": 0, \"ticks\": \"\"}}, \"colorscale\": {\"diverging\": [[0, \"#8e0152\"], [0.1, \"#c51b7d\"], [0.2, \"#de77ae\"], [0.3, \"#f1b6da\"], [0.4, \"#fde0ef\"], [0.5, \"#f7f7f7\"], [0.6, \"#e6f5d0\"], [0.7, \"#b8e186\"], [0.8, \"#7fbc41\"], [0.9, \"#4d9221\"], [1, \"#276419\"]], \"sequential\": [[0.0, \"#0d0887\"], [0.1111111111111111, \"#46039f\"], [0.2222222222222222, \"#7201a8\"], [0.3333333333333333, \"#9c179e\"], [0.4444444444444444, \"#bd3786\"], [0.5555555555555556, \"#d8576b\"], [0.6666666666666666, \"#ed7953\"], [0.7777777777777778, \"#fb9f3a\"], [0.8888888888888888, \"#fdca26\"], [1.0, \"#f0f921\"]], \"sequentialminus\": [[0.0, \"#0d0887\"], [0.1111111111111111, \"#46039f\"], [0.2222222222222222, \"#7201a8\"], [0.3333333333333333, \"#9c179e\"], [0.4444444444444444, \"#bd3786\"], [0.5555555555555556, \"#d8576b\"], [0.6666666666666666, \"#ed7953\"], [0.7777777777777778, \"#fb9f3a\"], [0.8888888888888888, \"#fdca26\"], [1.0, \"#f0f921\"]]}, \"colorway\": [\"#636efa\", \"#EF553B\", \"#00cc96\", \"#ab63fa\", \"#FFA15A\", \"#19d3f3\", \"#FF6692\", \"#B6E880\", \"#FF97FF\", \"#FECB52\"], \"font\": {\"color\": \"#2a3f5f\"}, \"geo\": {\"bgcolor\": \"white\", \"lakecolor\": \"white\", \"landcolor\": \"#E5ECF6\", \"showlakes\": true, \"showland\": true, \"subunitcolor\": \"white\"}, \"hoverlabel\": {\"align\": \"left\"}, \"hovermode\": \"closest\", \"mapbox\": {\"style\": \"light\"}, \"paper_bgcolor\": \"white\", \"plot_bgcolor\": \"#E5ECF6\", \"polar\": {\"angularaxis\": {\"gridcolor\": \"white\", \"linecolor\": \"white\", \"ticks\": \"\"}, \"bgcolor\": \"#E5ECF6\", \"radialaxis\": {\"gridcolor\": \"white\", \"linecolor\": \"white\", \"ticks\": \"\"}}, \"scene\": {\"xaxis\": {\"backgroundcolor\": \"#E5ECF6\", \"gridcolor\": \"white\", \"gridwidth\": 2, \"linecolor\": \"white\", \"showbackground\": true, \"ticks\": \"\", \"zerolinecolor\": \"white\"}, \"yaxis\": {\"backgroundcolor\": \"#E5ECF6\", \"gridcolor\": \"white\", \"gridwidth\": 2, \"linecolor\": \"white\", \"showbackground\": true, \"ticks\": \"\", \"zerolinecolor\": \"white\"}, \"zaxis\": {\"backgroundcolor\": \"#E5ECF6\", \"gridcolor\": \"white\", \"gridwidth\": 2, \"linecolor\": \"white\", \"showbackground\": true, \"ticks\": \"\", \"zerolinecolor\": \"white\"}}, \"shapedefaults\": {\"line\": {\"color\": \"#2a3f5f\"}}, \"ternary\": {\"aaxis\": {\"gridcolor\": \"white\", \"linecolor\": \"white\", \"ticks\": \"\"}, \"baxis\": {\"gridcolor\": \"white\", \"linecolor\": \"white\", \"ticks\": \"\"}, \"bgcolor\": \"#E5ECF6\", \"caxis\": {\"gridcolor\": \"white\", \"linecolor\": \"white\", \"ticks\": \"\"}}, \"title\": {\"x\": 0.05}, \"xaxis\": {\"automargin\": true, \"gridcolor\": \"white\", \"linecolor\": \"white\", \"ticks\": \"\", \"title\": {\"standoff\": 15}, \"zerolinecolor\": \"white\", \"zerolinewidth\": 2}, \"yaxis\": {\"automargin\": true, \"gridcolor\": \"white\", \"linecolor\": \"white\", \"ticks\": \"\", \"title\": {\"standoff\": 15}, \"zerolinecolor\": \"white\", \"zerolinewidth\": 2}}}, \"xaxis\": {\"anchor\": \"y\", \"domain\": [0.0, 1.0], \"title\": {\"text\": \"Enc. Variable 0\"}}, \"yaxis\": {\"anchor\": \"x\", \"domain\": [0.0, 1.0], \"title\": {\"text\": \"Enc. Variable 1\"}}},\n",
              "                        {\"responsive\": true}\n",
              "                    ).then(function(){\n",
              "                            \n",
              "var gd = document.getElementById('267baf63-d237-4624-8f5a-12133db3c166');\n",
              "var x = new MutationObserver(function (mutations, observer) {{\n",
              "        var display = window.getComputedStyle(gd).display;\n",
              "        if (!display || display === 'none') {{\n",
              "            console.log([gd, 'removed!']);\n",
              "            Plotly.purge(gd);\n",
              "            observer.disconnect();\n",
              "        }}\n",
              "}});\n",
              "\n",
              "// Listen for the removal of the full notebook cells\n",
              "var notebookContainer = gd.closest('#notebook-container');\n",
              "if (notebookContainer) {{\n",
              "    x.observe(notebookContainer, {childList: true});\n",
              "}}\n",
              "\n",
              "// Listen for the clearing of the current output cell\n",
              "var outputEl = gd.closest('.output');\n",
              "if (outputEl) {{\n",
              "    x.observe(outputEl, {childList: true});\n",
              "}}\n",
              "\n",
              "                        })\n",
              "                };\n",
              "                \n",
              "            </script>\n",
              "        </div>\n",
              "</body>\n",
              "</html>"
            ]
          },
          "metadata": {
            "tags": []
          }
        }
      ]
    },
    {
      "cell_type": "markdown",
      "metadata": {
        "id": "PqmE3aWftWRP"
      },
      "source": [
        "# PART 2 Denoising autoencoder"
      ]
    },
    {
      "cell_type": "code",
      "metadata": {
        "id": "KQbcChRbVRlt"
      },
      "source": [
        ""
      ],
      "execution_count": null,
      "outputs": []
    }
  ]
}