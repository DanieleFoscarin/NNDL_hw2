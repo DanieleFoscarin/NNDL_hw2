{
  "nbformat": 4,
  "nbformat_minor": 0,
  "metadata": {
    "colab": {
      "name": "nndl_2020__homework_2.ipynb",
      "provenance": [],
      "collapsed_sections": [],
      "toc_visible": true,
      "include_colab_link": true
    },
    "kernelspec": {
      "name": "python3",
      "display_name": "Python 3"
    },
    "accelerator": "GPU"
  },
  "cells": [
    {
      "cell_type": "markdown",
      "metadata": {
        "id": "view-in-github",
        "colab_type": "text"
      },
      "source": [
        "<a href=\"https://colab.research.google.com/github/DanieleFoscarin/NNDL_hw2/blob/main/nndl_2020__homework_2_optuna.ipynb\" target=\"_parent\"><img src=\"https://colab.research.google.com/assets/colab-badge.svg\" alt=\"Open In Colab\"/></a>"
      ]
    },
    {
      "cell_type": "markdown",
      "metadata": {
        "id": "zYncZVOyF8Rb"
      },
      "source": [
        "#NEURAL NETWORKS AND DEEP LEARNING\n",
        "> M.Sc. ICT FOR LIFE AND HEALTH\n",
        "> \n",
        "> Department of Information Engineering\n",
        "\n",
        "> M.Sc. COMPUTER ENGINEERING\n",
        ">\n",
        "> Department of Information Engineering\n",
        "\n",
        "> M.Sc. AUTOMATION ENGINEERING\n",
        ">\n",
        "> Department of Information Engineering\n",
        " \n",
        "> M.Sc. PHYSICS OF DATA\n",
        ">\n",
        "> Department of Physics and Astronomy\n",
        " \n",
        "> M.Sc. COGNITIVE NEUROSCIENCE AND CLINICAL NEUROPSYCHOLOGY\n",
        ">\n",
        "> Department of General Psychology\n",
        "\n",
        "---\n",
        "A.A. 2020/21 (6 CFU) - Dr. Alberto Testolin, Dr. Matteo Gadaleta\n",
        "---\n"
      ]
    },
    {
      "cell_type": "markdown",
      "metadata": {
        "id": "AgHJFDwYvgHg"
      },
      "source": [
        "# Homework 2 - Unsupervised Deep Learning"
      ]
    },
    {
      "cell_type": "markdown",
      "metadata": {
        "id": "bNENm7RHGFMd"
      },
      "source": [
        "## General overview\n",
        "In this homework you will learn how to implement and test neural network models for solving unsupervised problems. For simplicity and to allow continuity with the kind of data you have seen before, the homework will be based on images of handwritten digits (MNIST). However, you can optionally explore different image collections (e.g., [Caltech](http://www.vision.caltech.edu/Image_Datasets/Caltech101/) or [Cifar](https://www.cs.toronto.edu/~kriz/cifar.html)) or other datasets based on your interests. The basic tasks for the homework will require to test and analyze the convolutional autoencoder implemented during the Lab practice. If you prefer, you can opt for a fully-connected autoencoder, which should achieve similar performance considering the relatively small size of the MNIST images. As for the previous homework, you should explore the use of advanced optimizers and regularization methods. Learning hyperparameters should be tuned using appropriate search procedures, and final accuracy should be evaluated using a cross-validation setup. More advanced tasks will require the exploration of denoising and variational architectures.\n"
      ]
    },
    {
      "cell_type": "markdown",
      "metadata": {
        "id": "bZGjMokMvk2h"
      },
      "source": [
        "\n",
        "## Technical notes\n",
        "The homework should be implemented in Python using the PyTorch framework. The student can explore additional libraries and tools to implement the models; however, please make sure you understand the code you are writing because during the exam you might receive specific questions related to your implementation. The entire source code required to run the homework must be uploaded as a compressed archive in a Moodle section dedicated to the homework. If your code will be entirely included in a single Python notebook, just upload the notebook file.\n",
        "\n"
      ]
    },
    {
      "cell_type": "markdown",
      "metadata": {
        "id": "UYZUBEMCvlpB"
      },
      "source": [
        "\n",
        "## Final report\n",
        "Along with the source code, you must separately upload a PDF file containing a brief report of your homework. The report should include a brief Introduction on which you explain the homework goals and the main implementation strategies you choose, a brief Method section where you describe your model architectures and hyperparameters, and a Result section where you present the simulation results. Total length must not exceed 6 pages, though you can include additional tables and figures in a final Appendix (optional).\n",
        "\n"
      ]
    },
    {
      "cell_type": "markdown",
      "metadata": {
        "id": "RchPc7G6vmRB"
      },
      "source": [
        "\n",
        "## Grade\n",
        "The maximum grade for this homework will be **8 points**. Points will be assigned based on the correct implementation of the following items:\n",
        "*\t1 pt: implement and test (convolutional) autoencoder, reporting the trend of reconstruction loss and some examples of image reconstruction\n",
        "*\t1 pt: explore advanced optimizers and regularization methods \n",
        "*\t1 pt: optimize hyperparameters using grid/random search and cross-validation\n",
        "*\t1 pt: implement and test denoising (convolutional) autoencoder\n",
        "*\t1 pt: fine-tune the (convolutional) autoencoder using a supervised classification task (you can compare classification accuracy and learning speed with results achieved in homework 1)\n",
        "*\t1 pt: explore the latent space structure (e.g., PCA, t-SNE) and generate new samples from latent codes\n",
        "*\t2 pt: implement variational (convolutional) autoencoder or GAN\n",
        "\n"
      ]
    },
    {
      "cell_type": "markdown",
      "metadata": {
        "id": "LYE6Cjhgvm3B"
      },
      "source": [
        "\n",
        "## Deadline\n",
        "The complete homework (source code + report) must be submitted through Moodle at least 10 days before the chosen exam date."
      ]
    },
    {
      "cell_type": "markdown",
      "metadata": {
        "id": "UCH18n_rC4X9"
      },
      "source": [
        "#################################################################"
      ]
    },
    {
      "cell_type": "code",
      "metadata": {
        "id": "8IxUXikMzEKE",
        "colab": {
          "base_uri": "https://localhost:8080/"
        },
        "outputId": "ed5cbeb7-1225-474b-b1b4-27a83ff0579f"
      },
      "source": [
        "!pip install --quiet optuna\r\n"
      ],
      "execution_count": 2,
      "outputs": [
        {
          "output_type": "stream",
          "text": [
            "\u001b[?25l\r\u001b[K     |█▎                              | 10kB 23.9MB/s eta 0:00:01\r\u001b[K     |██▌                             | 20kB 30.4MB/s eta 0:00:01\r\u001b[K     |███▉                            | 30kB 21.5MB/s eta 0:00:01\r\u001b[K     |█████                           | 40kB 19.8MB/s eta 0:00:01\r\u001b[K     |██████▍                         | 51kB 20.6MB/s eta 0:00:01\r\u001b[K     |███████▋                        | 61kB 15.5MB/s eta 0:00:01\r\u001b[K     |████████▉                       | 71kB 15.9MB/s eta 0:00:01\r\u001b[K     |██████████▏                     | 81kB 16.5MB/s eta 0:00:01\r\u001b[K     |███████████▍                    | 92kB 14.5MB/s eta 0:00:01\r\u001b[K     |████████████▊                   | 102kB 15.6MB/s eta 0:00:01\r\u001b[K     |██████████████                  | 112kB 15.6MB/s eta 0:00:01\r\u001b[K     |███████████████▏                | 122kB 15.6MB/s eta 0:00:01\r\u001b[K     |████████████████▌               | 133kB 15.6MB/s eta 0:00:01\r\u001b[K     |█████████████████▊              | 143kB 15.6MB/s eta 0:00:01\r\u001b[K     |███████████████████             | 153kB 15.6MB/s eta 0:00:01\r\u001b[K     |████████████████████▎           | 163kB 15.6MB/s eta 0:00:01\r\u001b[K     |█████████████████████▌          | 174kB 15.6MB/s eta 0:00:01\r\u001b[K     |██████████████████████▉         | 184kB 15.6MB/s eta 0:00:01\r\u001b[K     |████████████████████████        | 194kB 15.6MB/s eta 0:00:01\r\u001b[K     |█████████████████████████▍      | 204kB 15.6MB/s eta 0:00:01\r\u001b[K     |██████████████████████████▋     | 215kB 15.6MB/s eta 0:00:01\r\u001b[K     |███████████████████████████▉    | 225kB 15.6MB/s eta 0:00:01\r\u001b[K     |█████████████████████████████▏  | 235kB 15.6MB/s eta 0:00:01\r\u001b[K     |██████████████████████████████▍ | 245kB 15.6MB/s eta 0:00:01\r\u001b[K     |███████████████████████████████▊| 256kB 15.6MB/s eta 0:00:01\r\u001b[K     |████████████████████████████████| 266kB 15.6MB/s \n",
            "\u001b[?25h  Installing build dependencies ... \u001b[?25l\u001b[?25hdone\n",
            "  Getting requirements to build wheel ... \u001b[?25l\u001b[?25hdone\n",
            "    Preparing wheel metadata ... \u001b[?25l\u001b[?25hdone\n",
            "\u001b[K     |████████████████████████████████| 81kB 10.1MB/s \n",
            "\u001b[K     |████████████████████████████████| 163kB 50.0MB/s \n",
            "\u001b[K     |████████████████████████████████| 112kB 50.0MB/s \n",
            "\u001b[K     |████████████████████████████████| 133kB 42.0MB/s \n",
            "\u001b[K     |████████████████████████████████| 51kB 8.3MB/s \n",
            "\u001b[K     |████████████████████████████████| 81kB 11.2MB/s \n",
            "\u001b[?25h  Building wheel for optuna (PEP 517) ... \u001b[?25l\u001b[?25hdone\n",
            "  Building wheel for PrettyTable (setup.py) ... \u001b[?25l\u001b[?25hdone\n",
            "  Building wheel for pyperclip (setup.py) ... \u001b[?25l\u001b[?25hdone\n"
          ],
          "name": "stdout"
        }
      ]
    },
    {
      "cell_type": "code",
      "metadata": {
        "colab": {
          "base_uri": "https://localhost:8080/"
        },
        "id": "nSqUbbfJC3gG",
        "outputId": "327229bb-cdf0-49d3-a9e8-deaa63dba823"
      },
      "source": [
        "import matplotlib.pyplot as plt # plotting library\r\n",
        "import numpy as np # this module is useful to work with numerical arrays\r\n",
        "import pandas as pd # this module is useful to work with tabular data\r\n",
        "import random # this module will be used to select random samples from a collection\r\n",
        "import os # this module will be used just to create directories in the local filesystem\r\n",
        "from tqdm import tqdm # this module is useful to plot progress bars\r\n",
        "from sklearn.decomposition import PCA\r\n",
        "\r\n",
        "import torch\r\n",
        "import torchvision\r\n",
        "from torchvision import transforms\r\n",
        "from torch.utils.data import Dataset, DataLoader\r\n",
        "from torch import nn\r\n",
        "from torchvision import transforms\r\n",
        "import torchvision\r\n",
        "import optuna\r\n",
        "\r\n",
        "device = torch.device(\"cuda\") if torch.cuda.is_available() else torch.device(\"cpu\")\r\n",
        "print(f\"Training device: {device}\")\r\n",
        "torch.manual_seed(0)"
      ],
      "execution_count": 3,
      "outputs": [
        {
          "output_type": "stream",
          "text": [
            "Training device: cuda\n"
          ],
          "name": "stdout"
        },
        {
          "output_type": "execute_result",
          "data": {
            "text/plain": [
              "<torch._C.Generator at 0x7fc77fafdd68>"
            ]
          },
          "metadata": {
            "tags": []
          },
          "execution_count": 3
        }
      ]
    },
    {
      "cell_type": "markdown",
      "metadata": {
        "id": "pvrUpH2TAXro"
      },
      "source": [
        "\r\n",
        "# Dataset\r\n",
        "\r\n",
        "\r\n",
        "\r\n",
        "\r\n"
      ]
    },
    {
      "cell_type": "markdown",
      "metadata": {
        "id": "cxHnXmGwAzHZ"
      },
      "source": [
        "get notMNIST dataset from repo\r\n",
        "It is the small version"
      ]
    },
    {
      "cell_type": "code",
      "metadata": {
        "colab": {
          "base_uri": "https://localhost:8080/"
        },
        "id": "I1CDXwDpA6rg",
        "outputId": "1b3abb33-b219-4d2e-a3ed-1d8b70588754"
      },
      "source": [
        "! git clone https://github.com/DanieleFoscarin/NNDL_hw2.git"
      ],
      "execution_count": 4,
      "outputs": [
        {
          "output_type": "stream",
          "text": [
            "Cloning into 'NNDL_hw2'...\n",
            "remote: Enumerating objects: 75, done.\u001b[K\n",
            "remote: Counting objects: 100% (75/75), done.\u001b[K\n",
            "remote: Compressing objects: 100% (73/73), done.\u001b[K\n",
            "remote: Total 75 (delta 31), reused 0 (delta 0), pack-reused 0\u001b[K\n",
            "Unpacking objects: 100% (75/75), done.\n"
          ],
          "name": "stdout"
        }
      ]
    },
    {
      "cell_type": "code",
      "metadata": {
        "id": "G6knS0bSBdMu"
      },
      "source": [
        "! tar xzf  /content/NNDL_hw2/notMNIST_small.tar.gz"
      ],
      "execution_count": 5,
      "outputs": []
    },
    {
      "cell_type": "code",
      "metadata": {
        "colab": {
          "base_uri": "https://localhost:8080/"
        },
        "id": "D1-8FGfPDdg9",
        "outputId": "53595f5b-ad91-4220-841c-bb2b788a2a59"
      },
      "source": [
        "ROOT = '/content/notMNIST_small' \r\n",
        "from pathlib import Path\r\n",
        "from PIL import Image\r\n",
        "import numpy as np\r\n",
        "from sklearn.model_selection import train_test_split\r\n",
        "\r\n",
        "images = []\r\n",
        "labels = []\r\n",
        "\r\n",
        "#there are few broken files that cannot be read\r\n",
        "#not a big problem since they are 5 over 500k\r\n",
        "num_label = 0\r\n",
        "for folder in sorted(Path(ROOT).iterdir()):\r\n",
        "  print(folder)\r\n",
        "  for f in folder.iterdir():\r\n",
        "    try:     \r\n",
        "      img = Image.open(f)\r\n",
        "      img_array = np.asarray(img)\r\n",
        "      images.append(img_array)\r\n",
        "      labels.append(num_label)\r\n",
        "    except:\r\n",
        "      print(\"a file was not recognized\")\r\n",
        "  num_label+=1\r\n",
        "\r\n",
        "\r\n",
        "images_arr = np.float32(np.array(images))\r\n",
        "labels_arr = np.float32(np.array(labels))\r\n",
        "\r\n",
        "#normalize images range\r\n",
        "images_arr = images_arr/255\r\n",
        "#free up some memory\r\n",
        "del images\r\n",
        "\r\n",
        "# #split dataset for classification purposes if needed\r\n",
        "# X_train, X_test, y_train, y_test = train_test_split(images_arr, labels_arr, test_size=0.10, random_state=42)\r\n",
        "\r\n",
        "# print(np.shape(X_train),' ', np.shape(y_train),' ', np.shape(X_test),' ', np.shape(y_test))"
      ],
      "execution_count": 6,
      "outputs": [
        {
          "output_type": "stream",
          "text": [
            "/content/notMNIST_small/A\n",
            "a file was not recognized\n",
            "/content/notMNIST_small/B\n",
            "/content/notMNIST_small/C\n",
            "/content/notMNIST_small/D\n",
            "/content/notMNIST_small/E\n",
            "/content/notMNIST_small/F\n",
            "a file was not recognized\n",
            "/content/notMNIST_small/G\n",
            "/content/notMNIST_small/H\n",
            "/content/notMNIST_small/I\n",
            "/content/notMNIST_small/J\n"
          ],
          "name": "stdout"
        }
      ]
    },
    {
      "cell_type": "markdown",
      "metadata": {
        "id": "NPxGrzg8fiW8"
      },
      "source": [
        "Dictionary for easy interpreation of the labels"
      ]
    },
    {
      "cell_type": "code",
      "metadata": {
        "id": "kSRwqa25PdT7"
      },
      "source": [
        "letter = {0: 'A', 1:'B', 2:'C', 3:'D', 4:'E', 5:'F', 6:'G', 7:'H', 8:'I', 9:'J'}\r\n",
        "# print(letter[6])"
      ],
      "execution_count": 7,
      "outputs": []
    },
    {
      "cell_type": "code",
      "metadata": {
        "colab": {
          "base_uri": "https://localhost:8080/"
        },
        "id": "AMZxI7zAnYfV",
        "outputId": "5ece7b33-ce80-4ef4-e01b-843c2d42a521"
      },
      "source": [
        "### Set the random seed for reproducible results\r\n",
        "torch.manual_seed(0)"
      ],
      "execution_count": 8,
      "outputs": [
        {
          "output_type": "execute_result",
          "data": {
            "text/plain": [
              "<torch._C.Generator at 0x7fc77fafdd68>"
            ]
          },
          "metadata": {
            "tags": []
          },
          "execution_count": 8
        }
      ]
    },
    {
      "cell_type": "code",
      "metadata": {
        "id": "f-XaJMG6NCDB",
        "colab": {
          "base_uri": "https://localhost:8080/"
        },
        "outputId": "20df1d3a-c42f-4e09-c659-8fe071f4c4dd"
      },
      "source": [
        "#not sure the transformation is done correctly\r\n",
        "class NMDataset(Dataset):\r\n",
        "\r\n",
        "    def __init__(self, image, label, transform=None):\r\n",
        "        self.transform = transform\r\n",
        "        self.image = image\r\n",
        "        self.label = label\r\n",
        "\r\n",
        "    def __len__(self):\r\n",
        "        return len(self.image)\r\n",
        "\r\n",
        "    def __getitem__(self, idx):\r\n",
        "        #return a nparray from the dataframe\r\n",
        "        this_image = self.image[idx]\r\n",
        "        this_label = self.label[idx]\r\n",
        "        sample = [this_image, this_label]\r\n",
        "        if self.transform:\r\n",
        "            sample[0] = self.transform(sample[0])\r\n",
        "        return sample\r\n",
        "\r\n",
        "\r\n",
        "    class ToTensor(object):\r\n",
        "        \"\"\"Convert sample to Tensors.\"\"\"\r\n",
        "\r\n",
        "        def __call__(self, sample):\r\n",
        "            x, y = sample\r\n",
        "            return (torch.tensor([x]).float(),\r\n",
        "                    torch.tensor([y]).float())\r\n",
        "\r\n",
        "to_tensor = torchvision.transforms.ToTensor()   \r\n",
        "# composed_transform = transforms.Compose([ToTensor()])\r\n",
        "dataset = NMDataset(images_arr, labels_arr, transform=to_tensor)\r\n",
        "\r\n",
        "#check correctness\r\n",
        "out = dataset.__getitem__(0)\r\n",
        "print(labels_arr[0])\r\n"
      ],
      "execution_count": 9,
      "outputs": [
        {
          "output_type": "stream",
          "text": [
            "0.0\n"
          ],
          "name": "stdout"
        }
      ]
    },
    {
      "cell_type": "markdown",
      "metadata": {
        "id": "ygKFewCWX7eS"
      },
      "source": [
        "Split dataset in train, validation, test"
      ]
    },
    {
      "cell_type": "code",
      "metadata": {
        "colab": {
          "base_uri": "https://localhost:8080/"
        },
        "id": "1AiWkPiRYCsT",
        "outputId": "c12cd31a-92aa-4014-c16f-5a4afccfab0d"
      },
      "source": [
        "length = dataset.__len__()\r\n",
        "testval_size = int(np.ceil(length*0.4))\r\n",
        "train_size = int(length-testval_size)\r\n",
        "train_dataset, test_dataset = torch.utils.data.random_split(dataset, [train_size, testval_size])\r\n",
        "\r\n",
        "test_size = int(np.ceil(test_dataset.__len__()*0.5))\r\n",
        "val_size = int(test_dataset.__len__()-test_size)\r\n",
        "test_dataset, val_dataset = torch.utils.data.random_split(test_dataset, [test_size, val_size])\r\n",
        "\r\n",
        "print(f\"train_dataset length {train_dataset.__len__()}\")\r\n",
        "print(f\"val_dataset length {val_dataset.__len__()}\")\r\n",
        "print(f\"test_dataset length {test_dataset.__len__()}\")\r\n",
        "# train_dataset, val_dataset, test_dataset = torch.utils.data.random_split(dataset, [train_size, val_size, test_size])"
      ],
      "execution_count": 10,
      "outputs": [
        {
          "output_type": "stream",
          "text": [
            "train_dataset length 11234\n",
            "val_dataset length 3745\n",
            "test_dataset length 3745\n"
          ],
          "name": "stdout"
        }
      ]
    },
    {
      "cell_type": "markdown",
      "metadata": {
        "id": "t2sW0A9WX67b"
      },
      "source": [
        "It works with mnist mmmmh"
      ]
    },
    {
      "cell_type": "code",
      "metadata": {
        "id": "RDeLbLmbQ6zX"
      },
      "source": [
        "#just to check database functions\r\n",
        "# to_tensor = torchvision.transforms.ToTensor()\r\n",
        "# data_dir = 'dataset'\r\n",
        "# train_dataset = torchvision.datasets.MNIST(data_dir, train=True, download=True, transform=to_tensor)\r\n",
        "# test_dataset  = torchvision.datasets.MNIST(data_dir, train=False, download=True, transform=to_tensor)"
      ],
      "execution_count": 11,
      "outputs": []
    },
    {
      "cell_type": "markdown",
      "metadata": {
        "id": "hCgWqC4Vhdkt"
      },
      "source": [
        "Show example of the dataset"
      ]
    },
    {
      "cell_type": "code",
      "metadata": {
        "colab": {
          "base_uri": "https://localhost:8080/",
          "height": 585
        },
        "id": "JLBLLpOvgwPy",
        "outputId": "9c4c7a3e-c769-4948-840d-5a6474aa387b"
      },
      "source": [
        "fig, axs = plt.subplots(5, 5, figsize=(8,8))\r\n",
        "for ax in axs.flatten():\r\n",
        "    img, label = random.choice(test_dataset)\r\n",
        "    img = img.numpy().squeeze()\r\n",
        "    ax.imshow(np.array(img), cmap='gray_r')\r\n",
        "    ax.set_title(f'Label:{letter[label]}' )\r\n",
        "    ax.set_xticks([])\r\n",
        "    ax.set_yticks([])\r\n",
        "plt.tight_layout()"
      ],
      "execution_count": 12,
      "outputs": [
        {
          "output_type": "display_data",
          "data": {
            "image/png": "[encoded data removed]",
            "text/plain": [
              "<Figure size 576x576 with 25 Axes>"
            ]
          },
          "metadata": {
            "tags": []
          }
        }
      ]
    },
    {
      "cell_type": "markdown",
      "metadata": {
        "id": "hR-CT5F5hrw6"
      },
      "source": [
        "# Autoencoder Model Classes"
      ]
    },
    {
      "cell_type": "code",
      "metadata": {
        "id": "y1KtmbFYQC8V"
      },
      "source": [
        "# train_dataloader = DataLoader(train_dataset, batch_size=batch_size, shuffle=True)\r\n",
        "# val_dataloader = DataLoader(val_dataset, batch_size=batch_size, shuffle=True)\r\n",
        "# test_dataloader = DataLoader(test_dataset, batch_size=batch_size, shuffle=False)"
      ],
      "execution_count": 13,
      "outputs": []
    },
    {
      "cell_type": "markdown",
      "metadata": {
        "id": "WXz2LyfsiCF6"
      },
      "source": [
        "same as the lab for now"
      ]
    },
    {
      "cell_type": "code",
      "metadata": {
        "id": "eya1AL_dhv3C"
      },
      "source": [
        "class Encoder(nn.Module):\r\n",
        "    \r\n",
        "    def __init__(self, encoded_space_dim):\r\n",
        "        super().__init__()\r\n",
        "        \r\n",
        "        ### Convolutional section\r\n",
        "        self.encoder_cnn = nn.Sequential(\r\n",
        "            # First convolutional layer\r\n",
        "            nn.Conv2d(1, 8, 3, stride=2, padding=1),\r\n",
        "            nn.ReLU(True),\r\n",
        "            # Second convolutional layer\r\n",
        "            nn.Conv2d(8, 16, 3, stride=2, padding=1),\r\n",
        "            nn.ReLU(True),\r\n",
        "            # Third convolutional layer\r\n",
        "            nn.Conv2d(16, 32, 3, stride=2, padding=0),\r\n",
        "            nn.ReLU(True)\r\n",
        "        )\r\n",
        "        \r\n",
        "        ### Flatten layer\r\n",
        "        self.flatten = nn.Flatten(start_dim=1)\r\n",
        "\r\n",
        "        ### Linear section\r\n",
        "        self.encoder_lin = nn.Sequential(\r\n",
        "            # First linear layer\r\n",
        "            nn.Linear(3 * 3 * 32, 64),\r\n",
        "            nn.ReLU(True),\r\n",
        "            # Second linear layer\r\n",
        "            nn.Linear(64, encoded_space_dim)\r\n",
        "        )\r\n",
        "        \r\n",
        "    def forward(self, x):\r\n",
        "        # Apply convolutions\r\n",
        "        x = self.encoder_cnn(x)\r\n",
        "        # Flatten\r\n",
        "        x = self.flatten(x)\r\n",
        "        # # Apply linear layers\r\n",
        "        x = self.encoder_lin(x)\r\n",
        "        return x"
      ],
      "execution_count": 14,
      "outputs": []
    },
    {
      "cell_type": "code",
      "metadata": {
        "id": "va2ppZQJh-sr"
      },
      "source": [
        "class Decoder(nn.Module):\r\n",
        "    \r\n",
        "    def __init__(self, encoded_space_dim):\r\n",
        "        super().__init__()\r\n",
        "\r\n",
        "        ### Linear section\r\n",
        "        self.decoder_lin = nn.Sequential(\r\n",
        "            # First linear layer\r\n",
        "            nn.Linear(encoded_space_dim, 64),\r\n",
        "            nn.ReLU(True),\r\n",
        "            # Second linear layer\r\n",
        "            nn.Linear(64, 3 * 3 * 32),\r\n",
        "            nn.ReLU(True)\r\n",
        "        )\r\n",
        "\r\n",
        "        ### Unflatten\r\n",
        "        self.unflatten = nn.Unflatten(dim=1, unflattened_size=(32, 3, 3))\r\n",
        "\r\n",
        "        ### Convolutional section\r\n",
        "        self.decoder_conv = nn.Sequential(\r\n",
        "            # First transposed convolution\r\n",
        "            nn.ConvTranspose2d(32, 16, 3, stride=2, output_padding=0),\r\n",
        "            nn.ReLU(True),\r\n",
        "            # Second transposed convolution\r\n",
        "            nn.ConvTranspose2d(16, 8, 3, stride=2, padding=1, output_padding=1),\r\n",
        "            nn.ReLU(True),\r\n",
        "            # Third transposed convolution\r\n",
        "            nn.ConvTranspose2d(8, 1, 3, stride=2, padding=1, output_padding=1)\r\n",
        "        )\r\n",
        "        \r\n",
        "    def forward(self, x):\r\n",
        "        # Apply linear layers\r\n",
        "        x = self.decoder_lin(x)\r\n",
        "        # Unflatten\r\n",
        "        x = self.unflatten(x)\r\n",
        "        # Apply transposed convolutions\r\n",
        "        x = self.decoder_conv(x)\r\n",
        "        # Apply a sigmoid to force the output to be between 0 and 1 (valid pixel values)\r\n",
        "        x = torch.sigmoid(x)\r\n",
        "        return x"
      ],
      "execution_count": 15,
      "outputs": []
    },
    {
      "cell_type": "markdown",
      "metadata": {
        "id": "qvvWro5dlFK9"
      },
      "source": [
        "# Training preparation"
      ]
    },
    {
      "cell_type": "markdown",
      "metadata": {
        "id": "fjlBJqIHmD8V"
      },
      "source": [
        "need to make grid search here"
      ]
    },
    {
      "cell_type": "code",
      "metadata": {
        "id": "YP4N726Vl1pI"
      },
      "source": [
        ""
      ],
      "execution_count": 15,
      "outputs": []
    },
    {
      "cell_type": "markdown",
      "metadata": {
        "id": "nZdQT8d0j5j-"
      },
      "source": [
        "function for a single epoch training"
      ]
    },
    {
      "cell_type": "code",
      "metadata": {
        "id": "9AKSJlh6j033"
      },
      "source": [
        "### Training function\r\n",
        "def train_epoch(encoder, decoder, device, dataloader, loss_fn, optimizer):\r\n",
        "    # Set train mode for both the encoder and the decoder\r\n",
        "    encoder.train()\r\n",
        "    decoder.train()\r\n",
        "    # Iterate the dataloader (we do not need the label values, this is unsupervised learning)\r\n",
        "    for image_batch, _ in dataloader: # with \"_\" we just ignore the labels (the second element of the dataloader tuple)\r\n",
        "        # Move tensor to the proper device\r\n",
        "        image_batch = image_batch.to(device)\r\n",
        "        # Encode data\r\n",
        "        encoded_data = encoder(image_batch)\r\n",
        "        # Decode data\r\n",
        "        decoded_data = decoder(encoded_data)\r\n",
        "        # Evaluate loss\r\n",
        "        loss = loss_fn(decoded_data, image_batch)\r\n",
        "        # Backward pass\r\n",
        "        optimizer.zero_grad()\r\n",
        "        loss.backward()\r\n",
        "        optimizer.step()\r\n",
        "        # Print batch loss\r\n",
        "        # print('\\t partial train loss (single batch): %f' % (loss.data))\r\n",
        "    \r\n",
        "    return loss.data"
      ],
      "execution_count": 16,
      "outputs": []
    },
    {
      "cell_type": "markdown",
      "metadata": {
        "id": "t-GgdXL8j-CF"
      },
      "source": [
        "function for a single epoch inference"
      ]
    },
    {
      "cell_type": "code",
      "metadata": {
        "id": "23dwWwx8kA9l"
      },
      "source": [
        "### Testing function\r\n",
        "def test_epoch(encoder, decoder, device, dataloader, loss_fn):\r\n",
        "    # Set evaluation mode for encoder and decoder\r\n",
        "    encoder.eval()\r\n",
        "    decoder.eval()\r\n",
        "    with torch.no_grad(): # No need to track the gradients\r\n",
        "        # Define the lists to store the outputs for each batch\r\n",
        "        conc_out = []\r\n",
        "        conc_label = []\r\n",
        "        for image_batch, _ in dataloader:\r\n",
        "            # Move tensor to the proper device\r\n",
        "            image_batch = image_batch.to(device)\r\n",
        "            # Encode data\r\n",
        "            encoded_data = encoder(image_batch)\r\n",
        "            # Decode data\r\n",
        "            decoded_data = decoder(encoded_data)\r\n",
        "            # Append the network output and the original image to the lists\r\n",
        "            conc_out.append(decoded_data.cpu())\r\n",
        "            conc_label.append(image_batch.cpu())\r\n",
        "        # Create a single tensor with all the values in the lists\r\n",
        "        conc_out = torch.cat(conc_out)\r\n",
        "        conc_label = torch.cat(conc_label) \r\n",
        "        # Evaluate global loss\r\n",
        "        val_loss = loss_fn(conc_out, conc_label)\r\n",
        "    return val_loss.data"
      ],
      "execution_count": 17,
      "outputs": []
    },
    {
      "cell_type": "code",
      "metadata": {
        "id": "KYSAZjEgREAn"
      },
      "source": [
        "\r\n",
        "# img, label = test_dataset[0]\r\n",
        "# print(np.shape(img))\r\n",
        "# print(letter[label])"
      ],
      "execution_count": null,
      "outputs": []
    },
    {
      "cell_type": "markdown",
      "metadata": {
        "id": "9u7Ho41QkI37"
      },
      "source": [
        "# Training loop as function"
      ]
    },
    {
      "cell_type": "code",
      "metadata": {
        "id": "FDfdvmx8l58c"
      },
      "source": [
        "# # ---------------obsoleta\r\n",
        "\r\n",
        "# ### Initialize the two networks\r\n",
        "\r\n",
        "# encoded_space_dim = 2\r\n",
        "# encoder = Encoder(encoded_space_dim=encoded_space_dim)\r\n",
        "# decoder = Decoder(encoded_space_dim=encoded_space_dim)\r\n",
        "\r\n",
        "# ### Define the loss function\r\n",
        "# loss_fn = torch.nn.MSELoss()\r\n",
        "\r\n",
        "# ### Define an optimizer (both for the encoder and the decoder!)\r\n",
        "# lr = 1e-3 # Learning rate\r\n",
        "# params_to_optimize = [\r\n",
        "#     {'params': encoder.parameters()},\r\n",
        "#     {'params': decoder.parameters()}\r\n",
        "# ]\r\n",
        "# optim = torch.optim.Adam(params_to_optimize, lr=lr, weight_decay=1e-5)\r\n",
        "\r\n",
        "# # Check if the GPU is available\r\n",
        "# device = torch.device(\"cuda\") if torch.cuda.is_available() else torch.device(\"cpu\")\r\n",
        "# # print(f'Selected device: {device}')\r\n",
        "\r\n",
        "# # Move both the encoder and the decoder to the selected device\r\n",
        "# encoder.to(device)\r\n",
        "# decoder.to(device)"
      ],
      "execution_count": 18,
      "outputs": []
    },
    {
      "cell_type": "markdown",
      "metadata": {
        "id": "QsTBcHHjsPvL"
      },
      "source": [
        "NB: remember to reinitializer encoder and decoder before the training"
      ]
    },
    {
      "cell_type": "code",
      "metadata": {
        "id": "n8ce9qgCkLUU"
      },
      "source": [
        "def training_loop(encoder, decoder, device, train_dataloader, val_dataloader, loss_fn, optim, num_epochs, display=False):\r\n",
        "\r\n",
        "    #is it better to make the dataloader outside?\r\n",
        "\r\n",
        "    train_loss_record = []\r\n",
        "    val_loss_record = []\r\n",
        "\r\n",
        "    for epoch in range(num_epochs):\r\n",
        "        print('EPOCH %d/%d' % (epoch + 1, num_epochs))\r\n",
        "\r\n",
        "        train_loss_batch_record = []\r\n",
        "        val_loss_batch_record = []\r\n",
        "        ### Training (use the training function)\r\n",
        "        train_loss_batch = train_epoch(\r\n",
        "            encoder=encoder, \r\n",
        "            decoder=decoder, \r\n",
        "            device=device, \r\n",
        "            dataloader=train_dataloader, \r\n",
        "            loss_fn=loss_fn, \r\n",
        "            optimizer=optim)\r\n",
        "        train_loss_batch_record.append(train_loss_batch)\r\n",
        "        ### Validation  (use the testing function)\r\n",
        "        val_loss_batch = test_epoch(\r\n",
        "            encoder=encoder, \r\n",
        "            decoder=decoder, \r\n",
        "            device=device, \r\n",
        "            dataloader=val_dataloader, \r\n",
        "            loss_fn=loss_fn)\r\n",
        "        val_loss_batch_record.append(val_loss_batch)\r\n",
        "        if display:\r\n",
        "        # Print Validationloss\r\n",
        "            print('\\n\\n\\t TRAINING - EPOCH %d/%d - loss: %f\\n\\n' % (epoch + 1, num_epochs, \r\n",
        "                                                                    sum(train_loss_batch_record)/len(train_loss_batch_record)))\r\n",
        "            print('\\n\\n\\t VALIDATION - EPOCH %d/%d - loss: %f\\n\\n' % (epoch + 1, num_epochs, val_loss_batch))\r\n",
        "\r\n",
        "        #store losses for this epoch\r\n",
        "        train_loss_record.append(sum(train_loss_batch_record)/len(train_loss_batch_record))\r\n",
        "        val_loss_record.append(sum(val_loss_batch_record)/len(val_loss_batch_record))\r\n",
        "\r\n",
        "        if display:\r\n",
        "            ### Plot progress\r\n",
        "            # Get the output of a specific image (the test image at index 0 in this case)\r\n",
        "            img = test_dataset[0][0].unsqueeze(0).to(device)\r\n",
        "            encoder.eval()\r\n",
        "            decoder.eval()\r\n",
        "            with torch.no_grad():\r\n",
        "                rec_img  = decoder(encoder(img))\r\n",
        "            # Plot the reconstructed image\r\n",
        "            fig, axs = plt.subplots(1, 2, figsize=(6,3))\r\n",
        "            axs[0].imshow(img.cpu().squeeze().numpy(), cmap='gray_r')\r\n",
        "            axs[0].set_title('Original image')\r\n",
        "            axs[1].imshow(rec_img.cpu().squeeze().numpy(), cmap='gray_r')\r\n",
        "            axs[1].set_title('Reconstructed image (EPOCH %d)' % (epoch + 1))\r\n",
        "            plt.tight_layout()\r\n",
        "            plt.pause(0.1)\r\n",
        "            # Save figures\r\n",
        "            os.makedirs('autoencoder_progress_%d_features' % encoded_space_dim, exist_ok=True)\r\n",
        "            fig.savefig('autoencoder_progress_%d_features/epoch_%d.jpg' % (encoded_space_dim, epoch + 1))\r\n",
        "            plt.show()\r\n",
        "            plt.close()\r\n",
        "\r\n",
        "    return encoder, decoder, train_loss_record, val_loss_record\r\n",
        "    # # Save network parameters\r\n",
        "    # torch.save(encoder.state_dict(), 'encoder_params.pth')\r\n",
        "    # torch.save(decoder.state_dict(), 'decoder_params.pth')\r\n",
        "\r\n",
        "    # NOTE: Remember to save also the parameters of the optimizer if you want to restore and continue the training"
      ],
      "execution_count": 19,
      "outputs": []
    },
    {
      "cell_type": "markdown",
      "metadata": {
        "id": "9X2_bAQ_qtRc"
      },
      "source": [
        "test training function"
      ]
    },
    {
      "cell_type": "code",
      "metadata": {
        "id": "0sPMsxLmqv2K"
      },
      "source": [
        "# _, _, train_loss_record, val_loss_record = training_loop(encoder,\r\n",
        "#                                                          decoder,\r\n",
        "#                                                          device,\r\n",
        "#                                                          loss_fn,\r\n",
        "#                                                          optim,\r\n",
        "#                                                          50,\r\n",
        "#                                                          512,\r\n",
        "#                                                          display=True)"
      ],
      "execution_count": null,
      "outputs": []
    },
    {
      "cell_type": "markdown",
      "metadata": {
        "id": "glZ4rWLBoPKl"
      },
      "source": [
        "plot losses"
      ]
    },
    {
      "cell_type": "code",
      "metadata": {
        "id": "G-wdZ6ysSbGZ"
      },
      "source": [
        "# fig, ax = plt.subplots(figsize=(8,5))\r\n",
        "# ax.plot(train_loss_record, label=\"training\")\r\n",
        "# ax.plot(val_loss_record, label=\"validation\")\r\n",
        "# ax.legend()\r\n",
        "# ax.grid(color=\"lightgray\", linestyle=\":\")\r\n",
        "# ax.set_title(\"Losses\")"
      ],
      "execution_count": null,
      "outputs": []
    },
    {
      "cell_type": "markdown",
      "metadata": {
        "id": "BEivTwa_OvR_"
      },
      "source": [
        "# Grid Search with Optuna"
      ]
    },
    {
      "cell_type": "code",
      "metadata": {
        "id": "I0m1Ng6GnvBr"
      },
      "source": [
        "def grid_search_AE(train_dataset, val_dataset, encoded_space_dim, batch_size):\r\n",
        "\r\n",
        "    #make dataloaders\r\n",
        "    train_dataloader = DataLoader(train_dataset, batch_size=batch_size, shuffle=True)\r\n",
        "    val_dataloader = DataLoader(val_dataset, batch_size=batch_size, shuffle=True)\r\n",
        "\r\n",
        "    # ---------from here in the grid cycle--------------\r\n",
        "    encoder = Encoder(encoded_space_dim=encoded_space_dim)\r\n",
        "    decoder = Decoder(encoded_space_dim=encoded_space_dim)\r\n",
        "\r\n",
        "    ### Define the loss function\r\n",
        "    loss_fn = torch.nn.MSELoss()\r\n",
        "\r\n",
        "    ### Define an optimizer (both for the encoder and the decoder!)\r\n",
        "    lr = 1e-3 # Learning rate\r\n",
        "    params_to_optimize = [\r\n",
        "        {'params': encoder.parameters()},\r\n",
        "        {'params': decoder.parameters()}\r\n",
        "    ]\r\n",
        "    optim = torch.optim.Adam(params_to_optimize, lr=lr, weight_decay=1e-5)\r\n",
        "\r\n",
        "\r\n",
        "    # Move both the encoder and the decoder to the selected device\r\n",
        "    encoder.to(device)\r\n",
        "    decoder.to(device)\r\n",
        "\r\n",
        "    best_encoder, best_decoder, train_loss_record, val_loss_record = training_loop(encoder,\r\n",
        "                                                         decoder,\r\n",
        "                                                         device,\r\n",
        "                                                         train_dataloader,\r\n",
        "                                                         val_dataloader,                                                        \r\n",
        "                                                         loss_fn,\r\n",
        "                                                         optim,\r\n",
        "                                                         50,\r\n",
        "                                                         display=True)\r\n",
        "    \r\n",
        "    return best_encoder, best_decoder, train_loss_record, val_loss_record"
      ],
      "execution_count": null,
      "outputs": []
    },
    {
      "cell_type": "code",
      "metadata": {
        "id": "WNHxv4kFRtdm"
      },
      "source": [
        "encoded_space_dim = 2\r\n",
        "\r\n",
        "best_encoder, best_decoder, train_loss_record, val_loss_record = grid_search_AE(train_dataset, val_dataset, encoded_space_dim, 256)"
      ],
      "execution_count": null,
      "outputs": []
    },
    {
      "cell_type": "markdown",
      "metadata": {
        "id": "RUJJG8lr1Zpl"
      },
      "source": [
        "here try optuna"
      ]
    },
    {
      "cell_type": "code",
      "metadata": {
        "id": "5mGS6Aix1eEO"
      },
      "source": [
        "def objective(trial):\r\n",
        "    encoded_space_dim = trial.suggest_int('encoded_space_dim', 2,4)\r\n",
        "    batch_size = 256\r\n",
        "    #make dataloaders\r\n",
        "    train_dataloader = DataLoader(train_dataset, batch_size=batch_size, shuffle=True)\r\n",
        "    val_dataloader = DataLoader(val_dataset, batch_size=batch_size, shuffle=True)\r\n",
        "\r\n",
        "    # ---------from here in the grid cycle--------------\r\n",
        "    encoder = Encoder(encoded_space_dim=encoded_space_dim)\r\n",
        "    decoder = Decoder(encoded_space_dim=encoded_space_dim)\r\n",
        "\r\n",
        "    ### Define the loss function\r\n",
        "    loss_fn = torch.nn.MSELoss()\r\n",
        "\r\n",
        "    ### Define an optimizer (both for the encoder and the decoder!)\r\n",
        "    lr = 1e-3 # Learning rate\r\n",
        "    params_to_optimize = [\r\n",
        "        {'params': encoder.parameters()},\r\n",
        "        {'params': decoder.parameters()}\r\n",
        "    ]\r\n",
        "    optim = torch.optim.Adam(params_to_optimize, lr=lr, weight_decay=1e-5)\r\n",
        "\r\n",
        "\r\n",
        "    # Move both the encoder and the decoder to the selected device\r\n",
        "    encoder.to(device)\r\n",
        "    decoder.to(device)\r\n",
        "\r\n",
        "    best_encoder, best_decoder, train_loss_record, val_loss_record = training_loop(encoder,\r\n",
        "                                                         decoder,\r\n",
        "                                                         device,\r\n",
        "                                                         train_dataloader,\r\n",
        "                                                         val_dataloader,                                                        \r\n",
        "                                                         loss_fn,\r\n",
        "                                                         optim,\r\n",
        "                                                         50,\r\n",
        "                                                         display=False)\r\n",
        "    final_val_loss = val_loss_record[-1]\r\n",
        "    return final_val_loss"
      ],
      "execution_count": 22,
      "outputs": []
    },
    {
      "cell_type": "code",
      "metadata": {
        "id": "Ki0ZfMrm3rZz",
        "outputId": "241236db-c374-4ff4-d4ee-5a8dbb3611e8",
        "colab": {
          "base_uri": "https://localhost:8080/"
        }
      },
      "source": [
        "study = optuna.create_study(direction='minimize')\r\n",
        "study.optimize(objective, n_trials=4)\r\n",
        "\r\n",
        "trial = study.best_trial\r\n",
        "\r\n",
        "print('val Loss: {}'.format(trial.value))\r\n",
        "print(f\"Best hyperparameters: {trial.params}\")"
      ],
      "execution_count": 23,
      "outputs": [
        {
          "output_type": "stream",
          "text": [
            "\u001b[32m[I 2020-12-17 18:03:54,048]\u001b[0m A new study created in memory with name: no-name-0b6d28ea-f602-470a-8850-282dee9b05a3\u001b[0m\n"
          ],
          "name": "stderr"
        },
        {
          "output_type": "stream",
          "text": [
            "EPOCH 1/50\n",
            "EPOCH 2/50\n",
            "EPOCH 3/50\n",
            "EPOCH 4/50\n",
            "EPOCH 5/50\n",
            "EPOCH 6/50\n",
            "EPOCH 7/50\n",
            "EPOCH 8/50\n",
            "EPOCH 9/50\n",
            "EPOCH 10/50\n",
            "EPOCH 11/50\n",
            "EPOCH 12/50\n",
            "EPOCH 13/50\n",
            "EPOCH 14/50\n",
            "EPOCH 15/50\n",
            "EPOCH 16/50\n",
            "EPOCH 17/50\n",
            "EPOCH 18/50\n",
            "EPOCH 19/50\n",
            "EPOCH 20/50\n",
            "EPOCH 21/50\n",
            "EPOCH 22/50\n",
            "EPOCH 23/50\n",
            "EPOCH 24/50\n",
            "EPOCH 25/50\n",
            "EPOCH 26/50\n",
            "EPOCH 27/50\n",
            "EPOCH 28/50\n",
            "EPOCH 29/50\n",
            "EPOCH 30/50\n",
            "EPOCH 31/50\n",
            "EPOCH 32/50\n",
            "EPOCH 33/50\n",
            "EPOCH 34/50\n",
            "EPOCH 35/50\n",
            "EPOCH 36/50\n",
            "EPOCH 37/50\n",
            "EPOCH 38/50\n",
            "EPOCH 39/50\n",
            "EPOCH 40/50\n",
            "EPOCH 41/50\n",
            "EPOCH 42/50\n",
            "EPOCH 43/50\n",
            "EPOCH 44/50\n",
            "EPOCH 45/50\n",
            "EPOCH 46/50\n",
            "EPOCH 47/50\n",
            "EPOCH 48/50\n",
            "EPOCH 49/50\n",
            "EPOCH 50/50\n"
          ],
          "name": "stdout"
        },
        {
          "output_type": "stream",
          "text": [
            "\u001b[32m[I 2020-12-17 18:05:24,711]\u001b[0m Trial 0 finished with value: 0.08172544091939926 and parameters: {'encoded_space_dim': 3}. Best is trial 0 with value: 0.08172544091939926.\u001b[0m\n"
          ],
          "name": "stderr"
        },
        {
          "output_type": "stream",
          "text": [
            "EPOCH 1/50\n",
            "EPOCH 2/50\n",
            "EPOCH 3/50\n",
            "EPOCH 4/50\n",
            "EPOCH 5/50\n",
            "EPOCH 6/50\n",
            "EPOCH 7/50\n",
            "EPOCH 8/50\n",
            "EPOCH 9/50\n",
            "EPOCH 10/50\n",
            "EPOCH 11/50\n",
            "EPOCH 12/50\n",
            "EPOCH 13/50\n",
            "EPOCH 14/50\n",
            "EPOCH 15/50\n",
            "EPOCH 16/50\n",
            "EPOCH 17/50\n",
            "EPOCH 18/50\n",
            "EPOCH 19/50\n",
            "EPOCH 20/50\n",
            "EPOCH 21/50\n",
            "EPOCH 22/50\n",
            "EPOCH 23/50\n",
            "EPOCH 24/50\n",
            "EPOCH 25/50\n",
            "EPOCH 26/50\n",
            "EPOCH 27/50\n",
            "EPOCH 28/50\n",
            "EPOCH 29/50\n",
            "EPOCH 30/50\n",
            "EPOCH 31/50\n",
            "EPOCH 32/50\n",
            "EPOCH 33/50\n",
            "EPOCH 34/50\n",
            "EPOCH 35/50\n",
            "EPOCH 36/50\n",
            "EPOCH 37/50\n",
            "EPOCH 38/50\n",
            "EPOCH 39/50\n",
            "EPOCH 40/50\n",
            "EPOCH 41/50\n",
            "EPOCH 42/50\n",
            "EPOCH 43/50\n",
            "EPOCH 44/50\n",
            "EPOCH 45/50\n",
            "EPOCH 46/50\n",
            "EPOCH 47/50\n",
            "EPOCH 48/50\n",
            "EPOCH 49/50\n",
            "EPOCH 50/50\n"
          ],
          "name": "stdout"
        },
        {
          "output_type": "stream",
          "text": [
            "\u001b[32m[I 2020-12-17 18:06:42,239]\u001b[0m Trial 1 finished with value: 0.07321327179670334 and parameters: {'encoded_space_dim': 3}. Best is trial 1 with value: 0.07321327179670334.\u001b[0m\n"
          ],
          "name": "stderr"
        },
        {
          "output_type": "stream",
          "text": [
            "EPOCH 1/50\n",
            "EPOCH 2/50\n",
            "EPOCH 3/50\n",
            "EPOCH 4/50\n",
            "EPOCH 5/50\n",
            "EPOCH 6/50\n",
            "EPOCH 7/50\n",
            "EPOCH 8/50\n",
            "EPOCH 9/50\n",
            "EPOCH 10/50\n",
            "EPOCH 11/50\n",
            "EPOCH 12/50\n",
            "EPOCH 13/50\n",
            "EPOCH 14/50\n",
            "EPOCH 15/50\n",
            "EPOCH 16/50\n",
            "EPOCH 17/50\n",
            "EPOCH 18/50\n",
            "EPOCH 19/50\n",
            "EPOCH 20/50\n",
            "EPOCH 21/50\n",
            "EPOCH 22/50\n",
            "EPOCH 23/50\n",
            "EPOCH 24/50\n",
            "EPOCH 25/50\n",
            "EPOCH 26/50\n",
            "EPOCH 27/50\n",
            "EPOCH 28/50\n",
            "EPOCH 29/50\n",
            "EPOCH 30/50\n",
            "EPOCH 31/50\n",
            "EPOCH 32/50\n",
            "EPOCH 33/50\n",
            "EPOCH 34/50\n",
            "EPOCH 35/50\n",
            "EPOCH 36/50\n",
            "EPOCH 37/50\n",
            "EPOCH 38/50\n",
            "EPOCH 39/50\n",
            "EPOCH 40/50\n",
            "EPOCH 41/50\n",
            "EPOCH 42/50\n",
            "EPOCH 43/50\n",
            "EPOCH 44/50\n",
            "EPOCH 45/50\n",
            "EPOCH 46/50\n",
            "EPOCH 47/50\n",
            "EPOCH 48/50\n",
            "EPOCH 49/50\n",
            "EPOCH 50/50\n"
          ],
          "name": "stdout"
        },
        {
          "output_type": "stream",
          "text": [
            "\u001b[32m[I 2020-12-17 18:07:58,480]\u001b[0m Trial 2 finished with value: 0.07049902528524399 and parameters: {'encoded_space_dim': 4}. Best is trial 2 with value: 0.07049902528524399.\u001b[0m\n"
          ],
          "name": "stderr"
        },
        {
          "output_type": "stream",
          "text": [
            "EPOCH 1/50\n",
            "EPOCH 2/50\n",
            "EPOCH 3/50\n",
            "EPOCH 4/50\n",
            "EPOCH 5/50\n",
            "EPOCH 6/50\n",
            "EPOCH 7/50\n",
            "EPOCH 8/50\n",
            "EPOCH 9/50\n",
            "EPOCH 10/50\n",
            "EPOCH 11/50\n",
            "EPOCH 12/50\n",
            "EPOCH 13/50\n",
            "EPOCH 14/50\n",
            "EPOCH 15/50\n",
            "EPOCH 16/50\n",
            "EPOCH 17/50\n",
            "EPOCH 18/50\n",
            "EPOCH 19/50\n",
            "EPOCH 20/50\n",
            "EPOCH 21/50\n",
            "EPOCH 22/50\n",
            "EPOCH 23/50\n",
            "EPOCH 24/50\n",
            "EPOCH 25/50\n",
            "EPOCH 26/50\n",
            "EPOCH 27/50\n",
            "EPOCH 28/50\n",
            "EPOCH 29/50\n",
            "EPOCH 30/50\n",
            "EPOCH 31/50\n",
            "EPOCH 32/50\n",
            "EPOCH 33/50\n",
            "EPOCH 34/50\n",
            "EPOCH 35/50\n",
            "EPOCH 36/50\n",
            "EPOCH 37/50\n",
            "EPOCH 38/50\n",
            "EPOCH 39/50\n",
            "EPOCH 40/50\n",
            "EPOCH 41/50\n",
            "EPOCH 42/50\n",
            "EPOCH 43/50\n",
            "EPOCH 44/50\n",
            "EPOCH 45/50\n",
            "EPOCH 46/50\n",
            "EPOCH 47/50\n",
            "EPOCH 48/50\n",
            "EPOCH 49/50\n",
            "EPOCH 50/50\n"
          ],
          "name": "stdout"
        },
        {
          "output_type": "stream",
          "text": [
            "\u001b[32m[I 2020-12-17 18:09:13,421]\u001b[0m Trial 3 finished with value: 0.1038462221622467 and parameters: {'encoded_space_dim': 2}. Best is trial 2 with value: 0.07049902528524399.\u001b[0m\n"
          ],
          "name": "stderr"
        },
        {
          "output_type": "stream",
          "text": [
            "val Loss: 0.07049902528524399\n",
            "Best hyperparameters: {'encoded_space_dim': 4}\n"
          ],
          "name": "stdout"
        }
      ]
    },
    {
      "cell_type": "markdown",
      "metadata": {
        "id": "pCRhMWf03-qM"
      },
      "source": [
        "visualization optuna"
      ]
    },
    {
      "cell_type": "code",
      "metadata": {
        "id": "C8qAa7sL4Aou"
      },
      "source": [
        "optuna.visualization.plot_optimization_history(study)"
      ],
      "execution_count": null,
      "outputs": []
    },
    {
      "cell_type": "markdown",
      "metadata": {
        "id": "Iv83mEJLjsHG"
      },
      "source": [
        "# Latent space analysis"
      ]
    },
    {
      "cell_type": "code",
      "metadata": {
        "id": "TRbQ5LtkMbr-"
      },
      "source": [
        "# # Load network parameters\n",
        "# encoder.load_state_dict(torch.load('encoder_params.pth'))\n",
        "# decoder.load_state_dict(torch.load('decoder_params.pth'))"
      ],
      "execution_count": null,
      "outputs": []
    },
    {
      "cell_type": "markdown",
      "metadata": {
        "id": "srEtgsS0rWkt"
      },
      "source": [
        "Function for generation of encoded samples"
      ]
    },
    {
      "cell_type": "code",
      "metadata": {
        "id": "bi2ZD1ALkVaK"
      },
      "source": [
        "### Get the encoded representation of the test samples\n",
        "def make_encoded_samples(dataset, encoder, device):\n",
        "    encoded_samples = []\n",
        "    for sample in tqdm(dataset):\n",
        "        img = sample[0].unsqueeze(0).to(device)\n",
        "        label = sample[1]\n",
        "        # Encode image\n",
        "        encoder.eval()\n",
        "        with torch.no_grad():\n",
        "            encoded_img  = encoder(img)\n",
        "        # Append to list\n",
        "        encoded_img = encoded_img.flatten().cpu().numpy()\n",
        "        encoded_sample = {f\"Enc. Variable {i}\": enc for i, enc in enumerate(encoded_img)}\n",
        "        encoded_sample['label'] = letter[label]\n",
        "        encoded_samples.append(encoded_sample)\n",
        "    \n",
        "    return encoded_samples"
      ],
      "execution_count": null,
      "outputs": []
    },
    {
      "cell_type": "code",
      "metadata": {
        "colab": {
          "base_uri": "https://localhost:8080/"
        },
        "id": "2dAEqBHQrZAS",
        "outputId": "b5538435-7391-451c-9e69-af095c39a04b"
      },
      "source": [
        "encoded_samples = make_encoded_samples(test_dataset, best_encoder, device)\r\n"
      ],
      "execution_count": null,
      "outputs": [
        {
          "output_type": "stream",
          "text": [
            "100%|██████████| 3745/3745 [00:02<00:00, 1496.33it/s]\n"
          ],
          "name": "stderr"
        }
      ]
    },
    {
      "cell_type": "code",
      "metadata": {
        "colab": {
          "base_uri": "https://localhost:8080/"
        },
        "id": "DyFpmJa7wPgN",
        "outputId": "8ac46086-a686-4041-d834-2c0e912e390e"
      },
      "source": [
        "# print(type(encoded_samples))\r\n",
        "# print(np.shape(encoded_samples))\r\n",
        "# print(encoded_samples[0])"
      ],
      "execution_count": null,
      "outputs": [
        {
          "output_type": "stream",
          "text": [
            "<class 'list'>\n",
            "(3745,)\n",
            "{'Enc. Variable 0': 26.27268, 'Enc. Variable 1': -8.605742, 'Enc. Variable 2': -4.129607, 'label': 5.0}\n"
          ],
          "name": "stdout"
        }
      ]
    },
    {
      "cell_type": "code",
      "metadata": {
        "id": "27_GEZetobW7",
        "colab": {
          "base_uri": "https://localhost:8080/",
          "height": 402
        },
        "outputId": "21e9b01f-5d1b-4cfe-9ca6-2b1220c04e9c"
      },
      "source": [
        "# Convert to a dataframe\n",
        "encoded_samples = pd.DataFrame(encoded_samples)\n",
        "encoded_samples"
      ],
      "execution_count": null,
      "outputs": [
        {
          "output_type": "execute_result",
          "data": {
            "text/html": [
              "<div>\n",
              "<style scoped>\n",
              "    .dataframe tbody tr th:only-of-type {\n",
              "        vertical-align: middle;\n",
              "    }\n",
              "\n",
              "    .dataframe tbody tr th {\n",
              "        vertical-align: top;\n",
              "    }\n",
              "\n",
              "    .dataframe thead th {\n",
              "        text-align: right;\n",
              "    }\n",
              "</style>\n",
              "<table border=\"1\" class=\"dataframe\">\n",
              "  <thead>\n",
              "    <tr style=\"text-align: right;\">\n",
              "      <th></th>\n",
              "      <th>Enc. Variable 0</th>\n",
              "      <th>Enc. Variable 1</th>\n",
              "      <th>label</th>\n",
              "    </tr>\n",
              "  </thead>\n",
              "  <tbody>\n",
              "    <tr>\n",
              "      <th>0</th>\n",
              "      <td>-5.130840</td>\n",
              "      <td>3.700968</td>\n",
              "      <td>F</td>\n",
              "    </tr>\n",
              "    <tr>\n",
              "      <th>1</th>\n",
              "      <td>-7.181896</td>\n",
              "      <td>2.765507</td>\n",
              "      <td>H</td>\n",
              "    </tr>\n",
              "    <tr>\n",
              "      <th>2</th>\n",
              "      <td>-3.185459</td>\n",
              "      <td>-17.450811</td>\n",
              "      <td>H</td>\n",
              "    </tr>\n",
              "    <tr>\n",
              "      <th>3</th>\n",
              "      <td>-11.525825</td>\n",
              "      <td>-4.318627</td>\n",
              "      <td>G</td>\n",
              "    </tr>\n",
              "    <tr>\n",
              "      <th>4</th>\n",
              "      <td>-1.312113</td>\n",
              "      <td>-4.182601</td>\n",
              "      <td>D</td>\n",
              "    </tr>\n",
              "    <tr>\n",
              "      <th>...</th>\n",
              "      <td>...</td>\n",
              "      <td>...</td>\n",
              "      <td>...</td>\n",
              "    </tr>\n",
              "    <tr>\n",
              "      <th>3740</th>\n",
              "      <td>-6.912592</td>\n",
              "      <td>-1.997431</td>\n",
              "      <td>C</td>\n",
              "    </tr>\n",
              "    <tr>\n",
              "      <th>3741</th>\n",
              "      <td>-6.188512</td>\n",
              "      <td>1.861035</td>\n",
              "      <td>D</td>\n",
              "    </tr>\n",
              "    <tr>\n",
              "      <th>3742</th>\n",
              "      <td>-7.223653</td>\n",
              "      <td>3.684413</td>\n",
              "      <td>H</td>\n",
              "    </tr>\n",
              "    <tr>\n",
              "      <th>3743</th>\n",
              "      <td>-3.684673</td>\n",
              "      <td>26.629974</td>\n",
              "      <td>J</td>\n",
              "    </tr>\n",
              "    <tr>\n",
              "      <th>3744</th>\n",
              "      <td>-6.810184</td>\n",
              "      <td>3.014895</td>\n",
              "      <td>B</td>\n",
              "    </tr>\n",
              "  </tbody>\n",
              "</table>\n",
              "<p>3745 rows × 3 columns</p>\n",
              "</div>"
            ],
            "text/plain": [
              "      Enc. Variable 0  Enc. Variable 1 label\n",
              "0           -5.130840         3.700968     F\n",
              "1           -7.181896         2.765507     H\n",
              "2           -3.185459       -17.450811     H\n",
              "3          -11.525825        -4.318627     G\n",
              "4           -1.312113        -4.182601     D\n",
              "...               ...              ...   ...\n",
              "3740        -6.912592        -1.997431     C\n",
              "3741        -6.188512         1.861035     D\n",
              "3742        -7.223653         3.684413     H\n",
              "3743        -3.684673        26.629974     J\n",
              "3744        -6.810184         3.014895     B\n",
              "\n",
              "[3745 rows x 3 columns]"
            ]
          },
          "metadata": {
            "tags": []
          },
          "execution_count": 66
        }
      ]
    },
    {
      "cell_type": "markdown",
      "metadata": {
        "id": "ecG51Vzzsi4V"
      },
      "source": [
        "## PCA if dim > 2"
      ]
    },
    {
      "cell_type": "code",
      "metadata": {
        "colab": {
          "base_uri": "https://localhost:8080/"
        },
        "id": "qYRsLRNpsmud",
        "outputId": "c698e044-9405-4d3e-bf06-22101dd119ef"
      },
      "source": [
        "if encoded_space_dim > 2:\r\n",
        "    PCAobj = PCA(n_components=2)\r\n",
        "    PCAobj.fit(encoded_samples.iloc[:,0:encoded_space_dim])\r\n",
        "    encoded_samples_reduced = PCAobj.transform(encoded_samples.iloc[:,0:encoded_space_dim])\r\n",
        "\r\n",
        "    encoded_samples_reduced = pd.DataFrame(encoded_samples_reduced)\r\n",
        "    # encoded_samples_reduced.insert(encoded_space_dim, \"label\", encoded_samples[\"label\"], True)\r\n",
        "    encoded_samples_reduced['label'] = encoded_samples['label']\r\n",
        "    encoded_samples_reduced.columns = ['Enc. Variable 0', 'Enc. Variable 1', 'label']\r\n",
        "    encoded_samples_reduced\r\n",
        "\r\n",
        "    # print(PCAobj.explained_variance_ratio_)\r\n",
        "    # print(type(encoded_samples_reduced))\r\n",
        "    # print(np.shape(encoded_samples_reduced))\r\n",
        "else:\r\n",
        "    encoded_samples_reduced = encoded_samples\r\n",
        "    print(\"no need for PCA\")\r\n",
        "    "
      ],
      "execution_count": null,
      "outputs": [
        {
          "output_type": "stream",
          "text": [
            "no need for PCA\n"
          ],
          "name": "stdout"
        }
      ]
    },
    {
      "cell_type": "code",
      "metadata": {
        "colab": {
          "base_uri": "https://localhost:8080/",
          "height": 402
        },
        "id": "kMEKhZWkxpDf",
        "outputId": "219678df-62ff-4200-8d05-55a2dead9a1f"
      },
      "source": [
        "encoded_samples_reduced"
      ],
      "execution_count": null,
      "outputs": [
        {
          "output_type": "execute_result",
          "data": {
            "text/html": [
              "<div>\n",
              "<style scoped>\n",
              "    .dataframe tbody tr th:only-of-type {\n",
              "        vertical-align: middle;\n",
              "    }\n",
              "\n",
              "    .dataframe tbody tr th {\n",
              "        vertical-align: top;\n",
              "    }\n",
              "\n",
              "    .dataframe thead th {\n",
              "        text-align: right;\n",
              "    }\n",
              "</style>\n",
              "<table border=\"1\" class=\"dataframe\">\n",
              "  <thead>\n",
              "    <tr style=\"text-align: right;\">\n",
              "      <th></th>\n",
              "      <th>Enc. Variable 0</th>\n",
              "      <th>Enc. Variable 1</th>\n",
              "      <th>label</th>\n",
              "    </tr>\n",
              "  </thead>\n",
              "  <tbody>\n",
              "    <tr>\n",
              "      <th>0</th>\n",
              "      <td>-5.130840</td>\n",
              "      <td>3.700968</td>\n",
              "      <td>F</td>\n",
              "    </tr>\n",
              "    <tr>\n",
              "      <th>1</th>\n",
              "      <td>-7.181896</td>\n",
              "      <td>2.765507</td>\n",
              "      <td>H</td>\n",
              "    </tr>\n",
              "    <tr>\n",
              "      <th>2</th>\n",
              "      <td>-3.185459</td>\n",
              "      <td>-17.450811</td>\n",
              "      <td>H</td>\n",
              "    </tr>\n",
              "    <tr>\n",
              "      <th>3</th>\n",
              "      <td>-11.525825</td>\n",
              "      <td>-4.318627</td>\n",
              "      <td>G</td>\n",
              "    </tr>\n",
              "    <tr>\n",
              "      <th>4</th>\n",
              "      <td>-1.312113</td>\n",
              "      <td>-4.182601</td>\n",
              "      <td>D</td>\n",
              "    </tr>\n",
              "    <tr>\n",
              "      <th>...</th>\n",
              "      <td>...</td>\n",
              "      <td>...</td>\n",
              "      <td>...</td>\n",
              "    </tr>\n",
              "    <tr>\n",
              "      <th>3740</th>\n",
              "      <td>-6.912592</td>\n",
              "      <td>-1.997431</td>\n",
              "      <td>C</td>\n",
              "    </tr>\n",
              "    <tr>\n",
              "      <th>3741</th>\n",
              "      <td>-6.188512</td>\n",
              "      <td>1.861035</td>\n",
              "      <td>D</td>\n",
              "    </tr>\n",
              "    <tr>\n",
              "      <th>3742</th>\n",
              "      <td>-7.223653</td>\n",
              "      <td>3.684413</td>\n",
              "      <td>H</td>\n",
              "    </tr>\n",
              "    <tr>\n",
              "      <th>3743</th>\n",
              "      <td>-3.684673</td>\n",
              "      <td>26.629974</td>\n",
              "      <td>J</td>\n",
              "    </tr>\n",
              "    <tr>\n",
              "      <th>3744</th>\n",
              "      <td>-6.810184</td>\n",
              "      <td>3.014895</td>\n",
              "      <td>B</td>\n",
              "    </tr>\n",
              "  </tbody>\n",
              "</table>\n",
              "<p>3745 rows × 3 columns</p>\n",
              "</div>"
            ],
            "text/plain": [
              "      Enc. Variable 0  Enc. Variable 1 label\n",
              "0           -5.130840         3.700968     F\n",
              "1           -7.181896         2.765507     H\n",
              "2           -3.185459       -17.450811     H\n",
              "3          -11.525825        -4.318627     G\n",
              "4           -1.312113        -4.182601     D\n",
              "...               ...              ...   ...\n",
              "3740        -6.912592        -1.997431     C\n",
              "3741        -6.188512         1.861035     D\n",
              "3742        -7.223653         3.684413     H\n",
              "3743        -3.684673        26.629974     J\n",
              "3744        -6.810184         3.014895     B\n",
              "\n",
              "[3745 rows x 3 columns]"
            ]
          },
          "metadata": {
            "tags": []
          },
          "execution_count": 68
        }
      ]
    },
    {
      "cell_type": "markdown",
      "metadata": {
        "id": "1mcpNLJnqCi_"
      },
      "source": [
        "This graph shows where each input image is mapped in the encoded space. Since we have just 2 encoded variables, we can easily plot them in a bidimensional space. "
      ]
    },
    {
      "cell_type": "code",
      "metadata": {
        "id": "Cuvkb27OPYUO",
        "colab": {
          "base_uri": "https://localhost:8080/",
          "height": 542
        },
        "outputId": "e066d3e9-c42c-4d23-89ab-c5cdc5394084"
      },
      "source": [
        "import plotly.express as px\n",
        "px.scatter(encoded_samples_reduced, x='Enc. Variable 0', y='Enc. Variable 1', color=encoded_samples.label.astype(str), opacity=0.7)"
      ],
      "execution_count": null,
      "outputs": [
        {
          "output_type": "display_data",
          "data": {
            "text/html": [
              "<html>\n",
              "<head><meta charset=\"utf-8\" /></head>\n",
              "<body>\n",
              "    <div>\n",
              "            <script src=\"https://cdnjs.cloudflare.com/ajax/libs/mathjax/2.7.5/MathJax.js?config=TeX-AMS-MML_SVG\"></script><script type=\"text/javascript\">if (window.MathJax) {MathJax.Hub.Config({SVG: {font: \"STIX-Web\"}});}</script>\n",
              "                <script type=\"text/javascript\">window.PlotlyConfig = {MathJaxConfig: 'local'};</script>\n",
              "        <script src=\"https://cdn.plot.ly/plotly-latest.min.js\"></script>    \n",
              "            <div id=\"fa899fa0-048c-4baf-ab70-d87a6881d57a\" class=\"plotly-graph-div\" style=\"height:525px; width:100%;\"></div>\n",
              "            <script type=\"text/javascript\">\n",
              "                \n",
              "                    window.PLOTLYENV=window.PLOTLYENV || {};\n",
              "                    \n",
              "                if (document.getElementById(\"fa899fa0-048c-4baf-ab70-d87a6881d57a\")) {\n",
              "                    Plotly.newPlot(\n",
              "                        'fa899fa0-048c-4baf-ab70-d87a6881d57a',\n",
              "                        [{\"hoverlabel\": {\"namelength\": 0}, \"hovertemplate\": \"color=F<br>Enc. Variable 0=%{x}<br>Enc. Variable 1=%{y}\", \"legendgroup\": \"color=F\", \"marker\": {\"color\": \"#636efa\", \"opacity\": 0.7, \"symbol\": \"circle\"}, \"mode\": \"markers\", \"name\": \"color=F\", \"showlegend\": true, \"type\": \"scattergl\", \"x\": [-5.130839824676514, -7.660773754119873, -5.0738325119018555, -7.554065704345703, -7.65979528427124, -4.984048843383789, -4.131361961364746, -5.213320732116699, -8.84373664855957, -6.141650676727295, -4.872564315795898, -6.0303754806518555, -5.480325222015381, -8.642436027526855, -7.549813747406006, -7.156332492828369, -5.641610145568848, -5.773505210876465, -6.473832130432129, 0.2396441400051117, -7.773623466491699, -12.18841552734375, -8.627189636230469, -8.81395435333252, -9.63624382019043, -12.547185897827148, -9.03128719329834, -7.722639083862305, -7.9509429931640625, -14.160161972045898, -6.319884300231934, -8.741436004638672, -7.842653751373291, -6.096825122833252, -7.408369064331055, -7.367467880249023, -8.756898880004883, -7.127097129821777, -10.83016300201416, -5.089123249053955, -7.407508850097656, -3.3926548957824707, -8.940567970275879, -4.332024574279785, -7.869058132171631, -6.235135078430176, -6.331147193908691, -5.344549655914307, -5.865959167480469, -0.6117843389511108, -5.692354202270508, -6.856199741363525, -9.804858207702637, -7.574822425842285, -8.696371078491211, -5.328677654266357, -6.0266594886779785, -8.20730972290039, -3.347083806991577, -9.349637031555176, -5.015848636627197, -13.997406959533691, -8.246264457702637, -4.83443546295166, -7.2492218017578125, -6.055778503417969, -3.970116138458252, -6.483154296875, -10.169146537780762, -8.807547569274902, -6.717370986938477, -7.351444244384766, -7.2630534172058105, -5.494416236877441, -5.837275981903076, -7.455049991607666, -10.532236099243164, -5.7378315925598145, -5.4583892822265625, -6.844939708709717, -5.175738334655762, -12.887141227722168, -0.4674738347530365, -10.667710304260254, -7.706521511077881, -12.354132652282715, -5.517214775085449, -9.324789047241211, -5.582569599151611, -6.238753318786621, -10.463388442993164, -7.57524299621582, -7.295764446258545, -4.096188545227051, -2.6807756423950195, -5.613746643066406, -6.719644069671631, -5.524430751800537, -7.308991432189941, -8.203421592712402, -8.442649841308594, -5.416192531585693, -8.86638355255127, -6.586216449737549, -4.118635177612305, -4.025947570800781, -5.765740394592285, -5.297199249267578, -11.037449836730957, -6.129086494445801, -8.088860511779785, -7.8057379722595215, -7.574220657348633, -5.850184917449951, -5.671860694885254, -9.366127967834473, -6.2093610763549805, -6.038187026977539, -5.724146366119385, -9.510177612304688, -5.971957206726074, -8.150221824645996, -0.35088351368904114, -7.538480281829834, -10.3378324508667, -2.9770383834838867, -4.592897415161133, -7.935200214385986, -3.2246756553649902, -8.666181564331055, -5.854067802429199, -7.2359161376953125, -6.599510192871094, -6.120555400848389, -5.50698184967041, -7.943131446838379, -10.174846649169922, -6.948147773742676, -4.585223197937012, -8.486677169799805, -6.587838172912598, -11.710247039794922, -4.482075214385986, -7.06872034072876, -7.464745044708252, -10.388259887695312, -12.679215431213379, -5.926293849945068, -0.3487806022167206, -9.650988578796387, -10.134910583496094, -6.033474922180176, -6.738802433013916, -6.551987171173096, -7.187389373779297, -7.987451553344727, -5.6236982345581055, -9.198222160339355, -11.757136344909668, -7.200206756591797, -7.584321975708008, -5.744609355926514, -6.772176265716553, -7.022433280944824, -10.328938484191895, -5.786079406738281, -6.485130786895752, -4.997445106506348, -6.0675048828125, -4.890881061553955, -6.704354763031006, -7.652017593383789, -4.841132640838623, -6.363272190093994, -6.7031402587890625, -8.080291748046875, -12.2977933883667, -8.614429473876953, -6.620905876159668, -8.710509300231934, -6.275871276855469, -9.971404075622559, -8.698015213012695, -7.1853532791137695, -7.152473449707031, -7.976282119750977, -7.971198081970215, -4.723637580871582, -5.782476425170898, -7.307849407196045, -8.19960880279541, -6.6756696701049805, -5.0548295974731445, -6.94405460357666, -10.629997253417969, -6.110208034515381, -5.402867794036865, -5.360633850097656, -6.164499282836914, -3.76554274559021, -5.391266822814941, -12.086630821228027, -8.56827163696289, -10.539604187011719, -3.023960590362549, -8.813952445983887, -10.77607250213623, -7.470441818237305, -6.645822048187256, -5.402526378631592, -7.057882308959961, -7.82436990737915, -7.420522689819336, -6.419778823852539, -5.929238319396973, -7.377887725830078, -5.774137496948242, -6.5745673179626465, -8.139888763427734, -8.287389755249023, -6.274868965148926, -7.863016128540039, -7.563692569732666, -5.963925361633301, 4.1318678855896, -6.136739253997803, -5.411961078643799, 0.8999454975128174, -3.2467358112335205, -7.914881229400635, -9.599752426147461, -5.186072826385498, -1.1028791666030884, -7.356788635253906, -10.16238021850586, -8.660357475280762, -6.850961685180664, -11.365553855895996, -8.137290954589844, -6.570966720581055, -8.245616912841797, -5.578911781311035, -6.10465145111084, -4.5703887939453125, -8.90385627746582, -7.145195960998535, -7.047404766082764, -8.883325576782227, -5.609355449676514, -10.174186706542969, -7.303047180175781, -7.650639533996582, -6.511683940887451, -7.3049187660217285, -1.549837589263916, -6.941791534423828, -6.703271865844727, -10.933893203735352, -9.824338912963867, -7.04081916809082, -5.894541263580322, -7.446183204650879, -5.637843132019043, -3.5379984378814697, -8.370558738708496, -8.617186546325684, -6.171378135681152, -8.225340843200684, -9.1480131149292, -12.281249046325684, -5.978867530822754, -8.379576683044434, -14.644845008850098, -11.322834968566895, -7.772563934326172, -8.339067459106445, -5.710536479949951, -7.600802421569824, -7.611485481262207, -7.024055480957031, -11.141810417175293, -4.7304158210754395, -6.935070037841797, -11.742952346801758, -8.058199882507324, -6.2356085777282715, -7.023383617401123, -10.831487655639648, -3.8609983921051025, -7.94167423248291, -7.757961273193359, -7.618255138397217, -4.4173502922058105, -8.345651626586914, -7.9744672775268555, -6.99074125289917, -6.396317005157471, -5.798905849456787, -9.965445518493652, -9.422553062438965, -7.199309349060059, -10.0921630859375, -6.790667533874512, -6.938545227050781, -6.881405830383301, -7.90423059463501, -5.820375442504883, -6.410307884216309, -8.12573528289795, -9.189579963684082, -7.383277893066406, -6.722348213195801, -3.6354336738586426, -6.724035263061523, -7.085341453552246, -7.317718505859375, -7.835987091064453, -6.478014945983887, -7.229126930236816, -7.782937049865723, -7.9372944831848145, -7.933058261871338, -11.482808113098145, -7.606502532958984, -6.15509033203125, -7.70483922958374, -6.41322135925293, -6.0744218826293945, -5.833851337432861, -8.41692066192627, -6.080108642578125, -13.780966758728027, -5.965320587158203, -7.611485481262207, -8.258291244506836, -5.8686981201171875, -6.054519176483154, -6.142047882080078, -4.084184169769287, -7.974352836608887, -6.937182903289795, -9.226761817932129, -3.07362961769104, -6.676722049713135, -7.255952835083008, -5.119401931762695, -7.321348190307617, -5.707676887512207, -8.90900707244873, -8.613109588623047, -5.876530647277832, -7.361717224121094, -7.924478054046631, -8.911720275878906, -7.685825347900391, -9.425877571105957, -7.489170074462891, -7.4083099365234375, -8.976496696472168, -6.909051895141602, -7.829556465148926, -9.225924491882324, -7.531211853027344, -7.791404724121094, -8.161567687988281, -6.315828323364258, -7.882518291473389, -15.564375877380371, -5.857417106628418, -5.464681148529053, -2.051051378250122, -8.041766166687012, -10.959092140197754, -7.37115478515625, -7.231210708618164, -6.631617069244385], \"xaxis\": \"x\", \"y\": [3.700968027114868, 4.995235443115234, 4.090263843536377, 4.697640419006348, 6.335345268249512, 4.207225322723389, 5.659097671508789, 3.5552079677581787, 6.919644355773926, 6.434854984283447, -5.3983588218688965, 6.631262302398682, -4.7607574462890625, -9.111395835876465, 17.624542236328125, -7.155890464782715, 5.144604682922363, -5.912458896636963, -6.664888858795166, 8.476563453674316, 5.35721492767334, 4.890542030334473, 3.071648359298706, -5.31781005859375, -9.034422874450684, 2.0972471237182617, 6.373523235321045, 4.450234413146973, 5.64309549331665, 3.0325825214385986, 6.421877384185791, 20.00596046447754, 7.354083061218262, 5.288533687591553, 7.259596824645996, 7.212164402008057, -9.520807266235352, 5.360925197601318, 15.40200424194336, 4.614096164703369, 4.59331750869751, -4.010611534118652, 6.717845439910889, -4.310878276824951, 4.805335521697998, 4.628839492797852, 4.546106815338135, -4.827690124511719, 4.295701503753662, -1.3261054754257202, 4.283587455749512, 4.639743804931641, 12.56112289428711, 6.135551929473877, 4.499442100524902, -5.3944478034973145, 4.38523006439209, 5.104087829589844, 7.696508884429932, 2.4593358039855957, 4.266912937164307, 7.915114402770996, 4.269776821136475, 3.626497507095337, 4.699808120727539, 5.06279182434082, 3.530695915222168, 5.478037357330322, 5.6701765060424805, -0.4329429566860199, 4.393331527709961, 4.735426425933838, 4.304285526275635, -5.850757122039795, 4.932666778564453, 5.285088539123535, -10.62378215789795, 4.283929347991943, -5.795934677124023, 1.4941418170928955, 4.038341999053955, -13.37001895904541, -1.5380170345306396, 1.507850170135498, 4.221121788024902, 6.2868828773498535, -5.7994489669799805, 3.652056932449341, 3.691439390182495, -6.2470622062683105, 6.682700157165527, -8.855472564697266, 4.715277671813965, -4.4267449378967285, -5.573200225830078, 3.877798080444336, 5.316174507141113, 2.5482027530670166, -13.180379867553711, 4.435662269592285, 5.290664196014404, 4.171045780181885, -5.525128364562988, 4.217307090759277, -6.243196487426758, 4.044302940368652, 2.9914181232452393, -5.577856063842773, 0.3492700159549713, 5.1485514640808105, 6.726046085357666, 2.4849390983581543, -0.007345825433731079, 4.541188716888428, -1.8752532005310059, 6.19815731048584, 4.740464687347412, -6.449743270874023, 1.8270413875579834, 12.108954429626465, 3.9273078441619873, -1.423654556274414, 15.158974647521973, -7.753414154052734, 3.960503339767456, -2.4017584323883057, 3.642606496810913, 4.135089874267578, 4.133788585662842, 7.673249244689941, 4.561017990112305, 6.759297847747803, 5.868309020996094, 5.649902820587158, -2.135540246963501, 5.271168231964111, 1.6273608207702637, 4.737081050872803, 1.4613076448440552, 5.8554534912109375, -6.933182239532471, -10.516914367675781, 3.7232565879821777, 4.892642021179199, 5.008649826049805, 14.272249221801758, 7.76213264465332, 4.254771709442139, 2.855268955230713, 8.9735746383667, -0.12830927968025208, 4.425550937652588, 4.0756707191467285, 4.596697807312012, 7.57636022567749, 4.3252763748168945, 3.4275856018066406, -0.7360882759094238, -9.012239456176758, -5.741645336151123, 4.9614176750183105, 5.265768527984619, 4.675246715545654, 3.074000835418701, -1.415686845779419, -5.739335060119629, -6.729691505432129, 4.12455940246582, 4.1064677238464355, 3.8385891914367676, 4.320958614349365, 4.3642425537109375, 2.5063316822052, 5.895114898681641, -6.518734455108643, 4.3622941970825195, -11.247577667236328, 8.042515754699707, 6.759565353393555, 0.9558539390563965, 4.988392353057861, 5.164538860321045, -9.29586124420166, 5.767698287963867, 4.381568431854248, 5.900293827056885, 4.689101696014404, 3.511990785598755, 5.496470928192139, 4.27874755859375, -6.469971179962158, -6.554208278656006, -5.35268497467041, 6.665301322937012, 6.839593410491943, 4.417586803436279, 4.821528911590576, 3.974926233291626, 4.18009090423584, -3.1269023418426514, 3.3814117908477783, 10.470352172851562, 16.371410369873047, 3.8008015155792236, -2.7045977115631104, 10.077461242675781, 3.5890276432037354, 5.344656944274902, 4.382513999938965, 18.783470153808594, -8.452709197998047, 5.048526763916016, -7.982983112335205, 4.255901336669922, 19.739665985107422, 1.8437378406524658, 3.975504159927368, 4.449487686157227, 7.740635395050049, 4.8269782066345215, 4.281120777130127, 6.138307094573975, -1.5044324398040771, -6.0355987548828125, 4.361349582672119, 1.3371131420135498, 4.627298355102539, 2.1133873462677, 6.980206489562988, 5.23920202255249, 4.2537522315979, 4.544568061828613, 3.0389556884765625, 4.692562580108643, -8.569047927856445, 6.71906042098999, 1.9114465713500977, 4.849043369293213, 7.91119384765625, 4.181490898132324, 7.732335567474365, 4.847630977630615, 4.4910197257995605, 3.8733506202697754, 4.751254558563232, -1.4353611469268799, 5.906606674194336, 9.085041046142578, 2.4457874298095703, 5.433961868286133, -7.385298728942871, 4.668849945068359, -7.374894618988037, 4.117549419403076, -3.3002192974090576, 5.729955196380615, 4.616390705108643, 1.876615047454834, 5.956048488616943, 4.616298198699951, 4.292426109313965, 6.151515483856201, 2.747299909591675, -1.560715913772583, -8.640225410461426, 0.47937527298927307, -6.452412128448486, 5.4288482666015625, -6.363790988922119, 2.496750831604004, 5.539585590362549, 5.024223327636719, 0.09668102860450745, 0.5118719339370728, 6.7540388107299805, -9.378616333007812, -5.8274617195129395, 7.359175682067871, 6.046961784362793, 6.600022792816162, 1.3354498147964478, 12.416768074035645, 4.494442939758301, 5.540468692779541, 7.594725131988525, 3.9859540462493896, 4.166627407073975, 3.873568534851074, 4.134733200073242, 4.0841827392578125, 2.142627716064453, 4.624459266662598, -3.66512131690979, 4.347583770751953, 4.2895073890686035, 5.559352874755859, 4.256211280822754, -6.052623271942139, 0.7873530387878418, -8.890358924865723, 4.704570770263672, 17.80963897705078, 5.114443778991699, 6.177102565765381, 6.493044853210449, 7.507917404174805, 4.795812129974365, 5.328873157501221, 5.395157814025879, -9.135089874267578, 4.567872524261475, 3.6621639728546143, -3.08439564704895, 2.929361343383789, 4.589450359344482, -7.629584789276123, 5.9395599365234375, 4.554234027862549, 15.097482681274414, 4.662810802459717, 7.451601505279541, -9.423299789428711, 0.6808120012283325, 1.3870137929916382, 4.239299297332764, 7.746773719787598, 5.144629001617432, 5.365563869476318, 5.578171730041504, 4.68371057510376, -5.7115607261657715, 9.507243156433105, 4.592615604400635, 6.046961784362793, 11.541487693786621, 4.302202224731445, 4.2490386962890625, 4.178369045257568, 4.271327495574951, 8.498815536499023, 5.782973766326904, -9.067578315734863, -1.8067708015441895, 5.779226303100586, 2.7887418270111084, -5.430126667022705, 6.311796188354492, -6.241914749145508, -9.588092803955078, 2.675884485244751, -5.858826160430908, -6.819953918457031, 4.394551753997803, 3.7573130130767822, 3.4276504516601562, -7.877860069274902, -7.68118143081665, 4.438932418823242, 3.5174736976623535, 3.8813202381134033, 5.8987717628479, 4.205912113189697, 6.5197062492370605, 4.5751261711120605, 6.104264736175537, 4.4814276695251465, 7.621472358703613, 0.9676369428634644, -1.7987349033355713, 3.9232118129730225, 7.504067420959473, 4.267724990844727, -10.321380615234375, 4.492568016052246, 4.698333740234375, 4.454577922821045], \"yaxis\": \"y\"}, {\"hoverlabel\": {\"namelength\": 0}, \"hovertemplate\": \"color=H<br>Enc. Variable 0=%{x}<br>Enc. Variable 1=%{y}\", \"legendgroup\": \"color=H\", \"marker\": {\"color\": \"#EF553B\", \"opacity\": 0.7, \"symbol\": \"circle\"}, \"mode\": \"markers\", \"name\": \"color=H\", \"showlegend\": true, \"type\": \"scattergl\", \"x\": [-7.181896209716797, -3.1854591369628906, -3.9364261627197266, -5.815515041351318, -7.833391189575195, -7.343162536621094, -3.6059622764587402, -1.033210277557373, -7.118912696838379, 5.741161823272705, -5.546450138092041, -0.5790952444076538, -8.92051887512207, -8.989924430847168, -5.311321258544922, -7.970202445983887, -6.462535381317139, -4.059334754943848, -6.886285305023193, -0.4517107307910919, -3.105159044265747, -6.50440788269043, -7.045067310333252, -4.254079341888428, -5.697944641113281, -8.53331184387207, -7.8838300704956055, -10.624369621276855, -11.465154647827148, 0.012892581522464752, -3.01936411857605, -6.697782039642334, -6.70352029800415, -1.7871592044830322, -6.4854912757873535, -14.606392860412598, -8.109296798706055, -8.618131637573242, -0.5272173881530762, -7.837712287902832, -7.42185640335083, -10.581940650939941, -6.584757328033447, -7.309473991394043, -7.213992118835449, -4.882176399230957, 0.036562301218509674, -6.289412498474121, -6.66754674911499, -7.404888153076172, -8.901360511779785, -6.7827277183532715, -0.2859753668308258, -1.5461478233337402, -7.41981315612793, -5.830904483795166, -10.16692066192627, -7.61306619644165, 2.3237733840942383, -8.550153732299805, -6.543225288391113, -12.559643745422363, -5.396444797515869, -5.983229637145996, -6.317704677581787, -1.5289251804351807, -5.046961784362793, -7.1366705894470215, -8.766422271728516, -6.6542558670043945, -1.8401416540145874, -10.193886756896973, -8.499460220336914, -11.351716041564941, -0.9677456617355347, -4.034379959106445, -9.609495162963867, -3.4299306869506836, -7.69000768661499, -9.312803268432617, -5.746603965759277, -3.9796695709228516, -6.251793384552002, -7.0016045570373535, -7.9155988693237305, -4.824114799499512, -7.398768424987793, -6.549150466918945, -8.07129192352295, -7.397533893585205, -5.419867992401123, -0.10567178577184677, -2.751417636871338, -11.067423820495605, -7.833391189575195, -6.833724021911621, -1.5020196437835693, -6.973127365112305, -3.0380141735076904, -7.63076114654541, -7.004390716552734, -0.8442269563674927, -10.17475414276123, -4.692562103271484, -5.258211135864258, -7.923430442810059, -7.127206802368164, -7.019465446472168, -6.541583061218262, -7.09018611907959, -0.06682910770177841, -5.051473617553711, -1.2804853916168213, -2.003248691558838, -4.690737724304199, -8.25839614868164, -15.786872863769531, -8.850362777709961, -7.634965896606445, -11.760167121887207, -4.091279029846191, -3.6238367557525635, -7.735910415649414, -6.869289398193359, -4.796704292297363, -3.613027334213257, -2.928684711456299, -5.661111354827881, -3.8686394691467285, -6.919155597686768, -7.749538421630859, -6.545525550842285, -4.172854423522949, -8.605027198791504, -6.103806018829346, -9.34778118133545, -6.020153045654297, -7.067663669586182, -4.0622053146362305, -8.202432632446289, -3.533501148223877, -0.20545408129692078, -8.072751998901367, -0.786420464515686, -11.600774765014648, -5.774590492248535, -6.990760803222656, -5.280446529388428, -4.508067607879639, -3.072375535964966, -9.326098442077637, -8.215560913085938, -5.864730358123779, -7.437469005584717, 0.019141770899295807, -4.019289493560791, -7.489891529083252, -9.331411361694336, -11.880239486694336, -4.644649028778076, -3.401752471923828, -7.860857963562012, -3.716128349304199, -7.926580429077148, -5.872297286987305, -9.601602554321289, -7.945870399475098, -9.018126487731934, -7.033111095428467, -3.9203429222106934, -11.439592361450195, -7.535979270935059, -11.113106727600098, -11.155196189880371, -5.685549736022949, -8.814462661743164, -8.787566184997559, -7.127206802368164, -8.681873321533203, -2.688899040222168, -4.112949848175049, -9.213709831237793, -7.538111686706543, -4.486254692077637, -2.7471718788146973, -11.019116401672363, -6.198826789855957, -4.164095401763916, -7.477059364318848, -7.472044467926025, -7.646661281585693, -8.313472747802734, -5.470854759216309, -3.2490487098693848, -5.937926292419434, -6.789721965789795, -1.4307115077972412, -4.454650402069092, -8.658853530883789, -5.480921268463135, -8.765420913696289, -9.308917999267578, -6.731884002685547, -6.771871566772461, -0.5014388561248779, -0.7335732579231262, -8.49283218383789, -11.000630378723145, -6.191242694854736, -3.536977767944336, -9.26935863494873, -7.823799133300781, -5.539951324462891, -7.2249555587768555, -5.109360218048096, -5.744986534118652, -1.8072515726089478, -1.0343033075332642, -2.5349748134613037, -5.062137603759766, -10.238443374633789, -0.567416787147522, -10.647786140441895, -6.5803680419921875, -0.19718924164772034, -4.3708977699279785, -5.172362804412842, -11.810135841369629, -4.7122087478637695, -5.405719757080078, -9.975581169128418, -7.377553939819336, -0.7294883728027344, -0.21013513207435608, -7.640578746795654, -12.214268684387207, -0.7933456897735596, -7.931656360626221, -2.9095077514648438, -4.715038299560547, -7.459658622741699, -9.113789558410645, -9.852524757385254, -3.495739459991455, -6.601065635681152, -5.899596691131592, -4.3653974533081055, -8.882716178894043, -10.05898380279541, -7.98575496673584, -10.888747215270996, -8.318333625793457, -6.51627254486084, -6.491639614105225, -8.156477928161621, 0.007411576807498932, -11.942312240600586, -6.770838737487793, -6.107455253601074, -7.137420654296875, -13.378780364990234, -8.305399894714355, -9.260662078857422, -7.880246162414551, -6.0955729484558105, -2.707913875579834, -8.605024337768555, -7.599301338195801, -5.583870887756348, -6.644009113311768, -6.703787803649902, -5.559033393859863, -8.037946701049805, -5.275096893310547, -7.598100662231445, -6.45746374130249, -8.360892295837402, -5.443575859069824, -7.07833194732666, -6.456080913543701, -4.8098063468933105, -0.9401050209999084, -8.409079551696777, -10.3722562789917, -0.5128339529037476, -6.515725135803223, -0.1507977545261383, -7.117135047912598, -9.309371948242188, -7.526238918304443, -6.906856536865234, -3.635573387145996, -2.743354558944702, -8.469707489013672, -4.508205890655518, -6.98647403717041, -7.991725921630859, -4.263912677764893, -6.156777381896973, -7.317028045654297, -4.600106239318848, -5.033139228820801, -0.5219286680221558, -12.511646270751953, -8.479169845581055, -7.967374801635742, -0.2647143304347992, -2.611783504486084, -5.813625335693359, -8.181498527526855, -10.419161796569824, -7.4225568771362305, -4.002716064453125, -8.23218059539795, -9.450140953063965, -5.343900680541992, -6.218681335449219, -6.16594123840332, -4.700859546661377, -5.663372993469238, -6.548776149749756, -8.107560157775879, -7.791666030883789, -5.024654388427734, -7.19207239151001, -6.634629249572754, -8.487532615661621, -6.275222301483154, -5.272911071777344, -6.816424369812012, -0.19561317563056946, -5.696655750274658, -5.254634380340576, -6.821492671966553, -7.458227634429932, -2.002234935760498, -0.7045468688011169, -5.390085220336914, -2.6594254970550537, -6.01507043838501, -7.940454959869385, -7.4225568771362305, -4.78959846496582, -5.887904167175293, -3.47428035736084, -5.997288227081299, -6.9347028732299805, -0.5151042938232422, -6.10115385055542, -6.74078893661499, -8.046978950500488, -8.86191463470459, -6.541172504425049, -0.5953954458236694, -7.486478328704834, -4.758768558502197, -2.360494375228882, -10.333091735839844, -6.859715938568115, -0.45319321751594543, -5.478511810302734, -6.405513763427734, -2.1077983379364014, -5.639651298522949, -3.7159509658813477, -1.1938703060150146, -11.394791603088379, -9.047465324401855, -8.472530364990234, -8.847685813903809, -8.115141868591309, -5.134037494659424, -1.4825655221939087, -4.873373985290527, -6.082697868347168, -7.085052967071533, -6.039276123046875, -7.464236259460449, -3.0425243377685547, -7.952452659606934, -8.09758186340332, -7.513942241668701, -6.45746374130249, -10.853784561157227, -0.55046147108078, -7.13864278793335, -8.611687660217285, -4.602119445800781, -7.2236528396606445], \"xaxis\": \"x\", \"y\": [2.765507221221924, -17.4508113861084, 4.955239772796631, 3.208742141723633, 3.3416526317596436, 4.662117958068848, 1.3564174175262451, -16.91043472290039, 9.990889549255371, 29.94587516784668, 2.390235662460327, -14.96925163269043, 1.4613783359527588, 1.2217237949371338, -20.70650863647461, 3.7650229930877686, 2.5536935329437256, -21.913822174072266, 2.8763506412506104, -16.646512985229492, -1.2480692863464355, 1.8268206119537354, 3.386690378189087, -9.903091430664062, 1.930577039718628, 2.988168478012085, 3.4512152671813965, 4.252232551574707, 14.406139373779297, -9.76525592803955, -20.277523040771484, -5.7853312492370605, 2.8273470401763916, -17.653196334838867, -23.328067779541016, 4.377268314361572, 4.701688766479492, -22.47857666015625, -12.398443222045898, 5.443681240081787, 17.350200653076172, 14.665287971496582, 1.6240980625152588, 2.7196226119995117, 2.564364194869995, 4.718445777893066, -9.3787841796875, 3.293735980987549, 2.599395513534546, 2.9013075828552246, 4.41849946975708, 2.7597267627716064, -11.443243980407715, -17.830062866210938, 3.993320941925049, -16.542282104492188, 3.7246105670928955, 2.678279161453247, -4.225845813751221, 3.7291786670684814, 6.7944159507751465, 3.424187421798706, 3.7732365131378174, 3.8965208530426025, 1.9481287002563477, -8.405855178833008, 2.3478591442108154, 6.096669673919678, -24.368080139160156, 5.047849655151367, -13.902022361755371, 7.45604944229126, 3.3355979919433594, -3.9215924739837646, -15.048397064208984, -22.612686157226562, 4.547861099243164, -4.742312908172607, 5.949692249298096, 3.6485462188720703, 2.345198154449463, 3.8760263919830322, 4.024167060852051, 2.764457941055298, 3.0996506214141846, 2.755403757095337, -24.404953002929688, -21.855709075927734, 3.5063092708587646, 2.7019646167755127, 6.493746280670166, -9.604761123657227, -7.492014408111572, -8.87626838684082, 3.3416526317596436, 2.6715853214263916, -17.768461227416992, 1.593444585800171, 0.07915356755256653, 3.6187355518341064, 2.3175437450408936, -15.510456085205078, 8.411442756652832, -11.94586181640625, 18.243675231933594, 4.68688440322876, 4.461296558380127, 3.1653285026550293, 2.746826410293579, 2.8860514163970947, -8.679292678833008, -8.976499557495117, -16.742504119873047, -18.392080307006836, 2.3293256759643555, 2.8025166988372803, 1.4963405132293701, 2.2576828002929688, 6.400667667388916, 10.844265937805176, 1.91731858253479, -21.939342498779297, 5.046686172485352, 2.843604326248169, 3.2328929901123047, -18.773706436157227, 2.872875452041626, 2.3392505645751953, -6.241013526916504, 7.3700408935546875, 1.2025610208511353, 2.5847420692443848, -21.617876052856445, 5.651403903961182, 2.540534734725952, 2.0194711685180664, 3.7280304431915283, -20.719501495361328, 1.5508396625518799, 5.572948932647705, 2.228738307952881, -11.223111152648926, 9.512650489807129, -12.1368989944458, 4.2564215660095215, 2.327120542526245, -24.700401306152344, -23.17972183227539, 5.83870267868042, 3.4222347736358643, 11.384326934814453, 4.446233749389648, 2.839284896850586, 3.050811529159546, -9.404888153076172, -19.65087890625, 2.817411184310913, 3.309002637863159, 3.815828561782837, 2.0286905765533447, -21.08761978149414, 3.553232192993164, -21.54002571105957, -14.633925437927246, 3.7475085258483887, 9.200894355773926, 2.93025803565979, 2.6858198642730713, 2.293684244155884, 1.9191725254058838, 3.8014748096466064, 2.834965705871582, 8.237565040588379, 14.165945053100586, 1.6427643299102783, 4.040836811065674, 3.3864963054656982, 4.461296558380127, -6.18330717086792, 1.853255033493042, 1.63936185836792, 4.1749444007873535, 4.1729302406311035, 1.87312650680542, 1.6872360706329346, 5.817658424377441, 2.7995893955230713, 1.8780921697616577, 3.2164251804351807, 3.54071044921875, 4.9700493812561035, 9.019508361816406, 5.054734230041504, 1.562854290008545, -7.993569850921631, 2.5466315746307373, 1.1418828964233398, 1.9615731239318848, 0.8829714059829712, 1.9476234912872314, 4.018134117126465, 2.1271324157714844, 3.3139050006866455, -23.87428855895996, -13.867981910705566, -7.864078998565674, 5.484104633331299, 5.920624732971191, 2.6348249912261963, -13.851029396057129, -15.27851390838623, 2.9905929565429688, 2.252797842025757, 2.755646228790283, 3.23734450340271, 1.2589821815490723, -17.91927146911621, -17.434452056884766, -17.63235092163086, 2.018639326095581, 8.291267395019531, -16.630422592163086, -20.32276153564453, -24.08371353149414, -9.817079544067383, -23.185989379882812, 2.276319742202759, 1.8594751358032227, -22.724407196044922, -24.064130783081055, 2.8833506107330322, 2.8217318058013916, -15.45717716217041, -12.175849914550781, 2.9535281658172607, 1.8643336296081543, -14.100323677062988, 4.722370147705078, 2.1450681686401367, 1.1434388160705566, 1.5280084609985352, 3.7835099697113037, 16.00848388671875, -21.7951717376709, -24.62276840209961, 0.44068601727485657, -2.9758265018463135, 6.790040969848633, 9.070780754089355, 2.7421531677246094, 4.0149688720703125, -4.998884201049805, -21.122474670410156, 2.6222918033599854, 3.849635601043701, -10.670198440551758, -10.359208106994629, 2.7160305976867676, 2.5043437480926514, 2.7985010147094727, 2.3737096786499023, 4.2462239265441895, 3.4822657108306885, 4.533437728881836, -6.082433223724365, -19.706769943237305, 2.9989991188049316, 2.6218106746673584, -24.417341232299805, 2.625807046890259, 1.683687686920166, -20.897098541259766, 3.320138692855835, -22.88753318786621, 5.7584381103515625, -21.61900520324707, -22.551542282104492, -14.363992691040039, 2.3087942600250244, 2.6158618927001953, -5.053779602050781, -15.529454231262207, 3.6016757488250732, -3.0653228759765625, -10.682188034057617, 2.5139048099517822, -12.35618782043457, -23.970319747924805, -0.907185435295105, 4.8986639976501465, 2.811708688735962, -18.800846099853516, 1.8599238395690918, 3.2170658111572266, -1.559664249420166, 3.6143434047698975, 3.876950979232788, 1.5084571838378906, 3.9123404026031494, 3.0324761867523193, 2.82682204246521, -23.82945442199707, -10.926753997802734, -0.3634134829044342, 3.5627505779266357, 3.2471256256103516, -11.235957145690918, -19.219512939453125, 4.4007182121276855, 2.132404088973999, 8.776708602905273, 2.9238526821136475, -9.791749954223633, 3.763760805130005, 10.948227882385254, 4.533818244934082, 2.593806743621826, 6.028735637664795, 1.9489778280258179, 3.9400970935821533, 2.4083828926086426, -21.8704891204834, 2.7119479179382324, -14.824016571044922, 2.8878703117370605, 2.6544601917266846, 10.949132919311523, -24.56967544555664, 2.0900516510009766, 5.0250935554504395, -9.116623878479004, 2.3296706676483154, 2.589456558227539, 4.907252788543701, 4.105535984039307, -7.72956657409668, -16.24179458618164, 3.090608835220337, -18.7337646484375, 3.449948787689209, 3.0381529331207275, 2.9238526821136475, -22.382854461669922, 3.053387403488159, -21.402610778808594, 3.154855489730835, 2.8377654552459717, -11.96013069152832, 2.383683681488037, 2.902437448501587, 3.593578815460205, 2.2597970962524414, 4.578042507171631, -12.151537895202637, -21.723201751708984, -21.278911590576172, -18.6077880859375, -20.638744354248047, -24.249666213989258, -10.625798225402832, 1.13907790184021, 2.8517417907714844, -19.16047477722168, -21.82191276550293, -9.551344871520996, -15.859575271606445, -9.87924575805664, 3.7575511932373047, 11.760208129882812, 4.587689399719238, 2.910752296447754, 2.817230224609375, -2.8065502643585205, -23.20648765563965, -24.424299240112305, 2.967801570892334, -20.588397979736328, 2.7333428859710693, -14.509284973144531, 3.0599803924560547, 5.841037750244141, -24.09748649597168, -21.61900520324707, 8.559989929199219, -12.551739692687988, 18.2006893157959, -21.613536834716797, -21.263219833374023, 3.684413194656372], \"yaxis\": \"y\"}, {\"hoverlabel\": {\"namelength\": 0}, \"hovertemplate\": \"color=G<br>Enc. Variable 0=%{x}<br>Enc. Variable 1=%{y}\", \"legendgroup\": \"color=G\", \"marker\": {\"color\": \"#00cc96\", \"opacity\": 0.7, \"symbol\": \"circle\"}, \"mode\": \"markers\", \"name\": \"color=G\", \"showlegend\": true, \"type\": \"scattergl\", \"x\": [-11.525824546813965, -8.897899627685547, -1.5416334867477417, -8.353464126586914, -12.504045486450195, -3.9772138595581055, -12.50407886505127, -12.078864097595215, -11.290136337280273, -9.513202667236328, -8.423312187194824, -6.96743106842041, -9.581215858459473, -5.454113960266113, -6.402263641357422, -6.642329692840576, -10.613179206848145, -8.34702205657959, -8.89721393585205, -9.963730812072754, -10.82783317565918, -7.507216930389404, -7.428003787994385, -13.812291145324707, -5.807944297790527, -11.411697387695312, -12.211031913757324, -11.641237258911133, -7.979809761047363, -7.129932403564453, -10.516467094421387, -13.52308464050293, -11.723010063171387, -12.332688331604004, -0.31883886456489563, -7.731152534484863, -13.524613380432129, -7.698988914489746, -9.624176979064941, -12.755597114562988, -8.917015075683594, -11.857382774353027, -10.849576950073242, -11.690239906311035, -13.310532569885254, -10.524991035461426, -8.4150390625, -13.735106468200684, -4.024842262268066, -12.267602920532227, -6.574201583862305, -11.148490905761719, -8.176850318908691, -6.167693138122559, -6.260461807250977, -11.844069480895996, -10.696227073669434, -7.322803497314453, -10.611518859863281, -8.662670135498047, -1.5588034391403198, -11.463979721069336, -8.253693580627441, -7.283076763153076, -4.93241548538208, -12.604264259338379, -8.334599494934082, -8.216843605041504, -3.5613512992858887, -4.388671875, -5.883578300476074, -10.445014953613281, -7.9319305419921875, -9.157625198364258, -12.758797645568848, -9.74380874633789, -8.430788040161133, -7.766563415527344, -10.805602073669434, -11.416701316833496, -7.290788173675537, -13.32603645324707, -11.759880065917969, -6.658212661743164, -7.306984901428223, -8.964364051818848, -6.330260276794434, -12.42844009399414, -10.669244766235352, -10.551318168640137, -6.6947245597839355, -4.600671768188477, -11.8985595703125, -10.26162052154541, -12.075719833374023, -7.55104398727417, -5.666444301605225, -5.431638717651367, -4.658182621002197, -8.394318580627441, -13.645245552062988, -10.05777645111084, -7.060335636138916, -10.23314380645752, -10.179076194763184, -5.8035078048706055, -10.62155818939209, -8.301852226257324, -3.7246241569519043, -5.999453067779541, -11.262450218200684, -8.648609161376953, -8.430058479309082, -6.757745742797852, -9.800094604492188, -9.117779731750488, -8.274609565734863, -8.896735191345215, -11.618484497070312, -8.590665817260742, -11.14177417755127, -6.774456024169922, -5.705132961273193, -9.316615104675293, -5.071432590484619, -9.029095649719238, -9.897818565368652, -10.182238578796387, -8.523303031921387, -10.676248550415039, -11.608671188354492, -6.10079288482666, -7.586114883422852, -13.058948516845703, -4.594523906707764, -10.108933448791504, -8.825382232666016, -8.294021606445312, -7.180706024169922, -11.070032119750977, -13.117243766784668, -12.643952369689941, -11.559598922729492, -6.170266151428223, -6.941120147705078, -8.550186157226562, -11.273816108703613, -9.422988891601562, -8.484679222106934, -11.00535774230957, -2.826615333557129, -10.099625587463379, -3.4722933769226074, -7.928023815155029, -9.408662796020508, -12.814112663269043, -10.461715698242188, -6.396381855010986, -8.54386043548584, -9.61523151397705, -9.944718360900879, -12.30826473236084, -5.58526611328125, -12.28668212890625, -6.8595075607299805, -11.021276473999023, -10.204806327819824, -13.688786506652832, -12.542196273803711, -12.26173210144043, -10.5800142288208, -12.132499694824219, -8.443196296691895, -6.783731937408447, -6.257075786590576, -11.564604759216309, -8.012174606323242, -7.192996978759766, -5.417909622192383, -10.179961204528809, -4.983538627624512, -5.6897687911987305, -12.38885498046875, -8.694540023803711, -13.025378227233887, -11.318339347839355, -9.13492488861084, -10.29410457611084, -12.103516578674316, -6.505469799041748, -7.2640061378479, -4.446469306945801, -4.806468486785889, -9.013047218322754, -10.068673133850098, -8.006214141845703, -11.223464965820312, -5.893082618713379, -7.498607635498047, -4.215442657470703, -9.04110336303711, -8.854775428771973, -7.016570091247559, -7.018912315368652, -7.330185413360596, -9.69261646270752, -4.05774450302124, -9.10086727142334, -11.898730278015137, -8.618806838989258, -6.7415618896484375, -4.624276161193848, -9.326862335205078, -13.197953224182129, -8.828350067138672, -10.498830795288086, -10.985220909118652, -6.383597373962402, -5.994976043701172, -8.559958457946777, -8.7548828125, -5.177371978759766, -11.94858455657959, -6.184395790100098, -6.967556953430176, -5.246413230895996, -8.797317504882812, -12.709362983703613, -13.086166381835938, -12.234586715698242, -5.4821248054504395, -12.802094459533691, -9.852612495422363, -10.963663101196289, -8.450366973876953, -12.44330883026123, -9.901344299316406, -13.798465728759766, -5.916733741760254, -10.784538269042969, -5.231842041015625, -8.875802993774414, -8.824432373046875, -8.97479248046875, -12.385437965393066, -12.003998756408691, -10.408560752868652, -7.486445903778076, -10.650057792663574, -10.84619140625, -10.266347885131836, -7.78607177734375, -8.959980010986328, -11.085637092590332, -12.559045791625977, -9.558709144592285, -13.158090591430664, -4.752510070800781, -11.888284683227539, -9.689115524291992, -11.775697708129883, -9.065579414367676, -12.885026931762695, -3.9793429374694824, -7.257767677307129, -7.3706374168396, -4.410586833953857, -6.9059600830078125, -8.773188591003418, -7.452280521392822, -7.19050931930542, -7.754334449768066, -10.572318077087402, -6.303871154785156, -8.48268985748291, -10.593279838562012, -4.660425662994385, -6.18501091003418, -6.422755718231201, -5.893475532531738, -8.140331268310547, -6.081360340118408, -7.939342498779297, -6.029323577880859, -5.785514831542969, -11.665947914123535, -9.613171577453613, -0.39030930399894714, -8.528014183044434, -9.068504333496094, -10.520319938659668, -12.60004711151123, -9.630293846130371, -8.289668083190918, -9.17385196685791, -4.506045341491699, -2.7975945472717285, -9.83227825164795, -3.1369595527648926, -12.521706581115723, -3.8793411254882812, -8.467103958129883, -12.547155380249023, -6.859396934509277, -5.415740489959717, -7.649552822113037, -8.805258750915527, -9.22800350189209, -10.339035987854004, -7.404767990112305, -8.843708992004395, -11.73957347869873, -5.881312847137451, -8.36413860321045, -9.634252548217773, -1.8200204372406006, -9.882340431213379, -5.510969161987305, -9.423409461975098, -6.4511399269104, -10.648688316345215, -5.356687068939209, -12.343188285827637, -4.361242771148682, -11.927775382995605, -5.665754318237305, -4.161942958831787, -7.115488529205322, -12.350807189941406, -5.244712829589844, -11.402427673339844, -12.446215629577637, -4.764313220977783, -1.6128798723220825, -4.821589469909668, -7.001536846160889, -13.19994831085205, -7.217313766479492, -12.006336212158203, -6.960111618041992, -11.683509826660156, -10.835627555847168, -12.375118255615234, -10.46967601776123, -9.25459098815918, -11.1350679397583, -2.7033629417419434, -4.759336471557617, -12.653398513793945, -9.074149131774902, -10.112574577331543, -5.275286674499512], \"xaxis\": \"x\", \"y\": [-4.31862735748291, -1.2928650379180908, -1.1087415218353271, -2.5506556034088135, -5.022751331329346, -1.5522891283035278, -2.2067453861236572, -4.4728007316589355, -2.229694366455078, -2.883559465408325, -2.1621410846710205, -6.281319618225098, -3.045783758163452, -9.006261825561523, 2.3067188262939453, 0.8539979457855225, -3.5833208560943604, -2.3700239658355713, -2.210268259048462, 9.449904441833496, -2.8866093158721924, -3.124544382095337, -3.328859806060791, -2.0493810176849365, -2.2320549488067627, -4.460090637207031, -2.022475004196167, 4.314011096954346, -0.9515495300292969, -1.5573229789733887, -2.817978620529175, 6.810046195983887, -0.9882793426513672, -1.986480474472046, -6.453652858734131, -2.8246405124664307, 8.37972354888916, -3.7134273052215576, 3.562342882156372, -5.189741134643555, -2.0986363887786865, 8.04388427734375, -1.104895830154419, -3.5113179683685303, -2.925863265991211, -4.318821907043457, -2.8010761737823486, -2.3730695247650146, -1.7483378648757935, -3.171468496322632, -2.76639723777771, -3.4423248767852783, 3.581106424331665, -1.140446662902832, -1.77353835105896, -4.67666482925415, -2.4022724628448486, -1.2813031673431396, -2.3116614818573, -2.9970333576202393, -5.516871929168701, -3.8984405994415283, -3.1461188793182373, -2.2395498752593994, -1.4222378730773926, -5.134281635284424, -3.4501919746398926, -4.303651332855225, -1.7115437984466553, -6.64085054397583, -1.8855801820755005, -3.782423734664917, -3.299473524093628, -3.058232545852661, -2.367672920227051, 1.190685510635376, 2.2441694736480713, -4.189953804016113, 11.559718132019043, -4.635849475860596, -0.8379224538803101, 0.4663337767124176, -3.5636250972747803, -1.5677289962768555, -0.504740834236145, -1.532560110092163, -1.4196223020553589, -5.243724346160889, -3.1227004528045654, -2.0551133155822754, -1.7120927572250366, -0.0005316436290740967, 3.2063796520233154, -4.093265056610107, -4.792036533355713, 2.511772871017456, -2.206803798675537, -2.040193557739258, 2.2787907123565674, -1.0613338947296143, 0.3103317320346832, -1.6209547519683838, -3.328829050064087, -1.5215638875961304, -1.9816150665283203, 4.404938220977783, -1.400694489479065, -2.762467861175537, -0.9469574689865112, -2.6658294200897217, 8.284368515014648, -3.23158597946167, -10.411205291748047, 0.4121302664279938, 5.036510944366455, -3.2431423664093018, -3.2870073318481445, -2.915144681930542, -3.9085195064544678, -3.36175274848938, -4.6983466148376465, -2.823410749435425, -1.990471601486206, 15.32055377960205, -8.829495429992676, 0.757218599319458, -3.654083013534546, 0.2690204083919525, 8.531240463256836, -1.6817082166671753, 5.100179195404053, 7.928901195526123, -6.948047637939453, -5.50291633605957, 1.1139540672302246, -4.189899921417236, 3.6386168003082275, -3.609853982925415, -2.375941514968872, -8.874578475952148, -3.6838018894195557, 13.019730567932129, -1.661609172821045, -2.5230681896209717, -2.2003276348114014, -2.1704232692718506, -2.390897512435913, -2.8147923946380615, 0.7599313259124756, 9.331381797790527, -8.475968360900879, -0.9782023429870605, -5.819386005401611, -10.226644515991211, -0.6727722883224487, -4.72949743270874, -1.3251913785934448, -2.1029880046844482, 0.24804916977882385, 0.35501596331596375, 2.5164365768432617, 10.517037391662598, -1.822740912437439, -4.85589075088501, -3.2537214756011963, -4.30429744720459, -0.894619345664978, -1.9333207607269287, -3.8302862644195557, -3.3987133502960205, -3.6767804622650146, -4.859076499938965, -1.8405426740646362, -1.8905872106552124, -2.5766799449920654, 7.024272441864014, -1.1630146503448486, -2.9268462657928467, -1.753753423690796, -2.502293825149536, 6.2657551765441895, 2.1154255867004395, -5.415828704833984, -2.7333829402923584, -1.3828718662261963, -4.070083141326904, -3.3355157375335693, 8.719603538513184, -4.5969977378845215, -2.73854660987854, -1.8373562097549438, -1.9024555683135986, -1.0226958990097046, -1.7847661972045898, 8.031488418579102, -2.3061625957489014, -4.380271911621094, -7.085922718048096, 2.1395676136016846, -9.404748916625977, -2.3819539546966553, -2.1052167415618896, -1.7216715812683105, -1.5050044059753418, -3.4334936141967773, -3.1981000900268555, -1.2807011604309082, 6.554835319519043, -3.8196609020233154, -2.695253610610962, 0.009026557207107544, -0.5813183784484863, -2.83007550239563, -2.799445867538452, -2.6046018600463867, -4.642478942871094, -4.28568696975708, 0.2184772789478302, -2.757833957672119, 2.140542984008789, -1.9317150115966797, -2.106171131134033, 6.0358991622924805, -8.84839153289795, -9.825040817260742, -2.148380994796753, -3.2166168689727783, -3.160531520843506, -5.110442161560059, -4.951755523681641, -1.2777758836746216, -1.3233981132507324, -2.1911239624023438, -1.5448806285858154, -2.869795560836792, -3.050442934036255, -3.6212799549102783, -1.5131876468658447, -2.4661757946014404, -3.6754958629608154, -1.195041298866272, -0.8586900234222412, -2.6191704273223877, -3.2581708431243896, -3.7101380825042725, -5.245659351348877, -3.023078680038452, -1.7424086332321167, -3.958507776260376, -4.234078884124756, -1.2487549781799316, -3.243086576461792, -3.2566490173339844, -0.9150562286376953, -5.076347827911377, -1.1252480745315552, -1.180959701538086, -4.8523430824279785, -4.111937522888184, -1.193334937095642, -4.526040554046631, -3.410355806350708, -3.485036611557007, -4.007415771484375, -2.66605544090271, -2.2758615016937256, -1.825852632522583, -2.958056688308716, 7.647202491760254, -2.9487383365631104, 2.0594441890716553, 0.4675675332546234, -3.879251718521118, -1.9307966232299805, 11.159622192382812, 12.45522689819336, -10.499931335449219, 3.6556951999664307, -3.2155628204345703, -2.0508453845977783, 1.3721439838409424, 0.5638550519943237, -10.337963104248047, -2.601412534713745, -2.5207550525665283, 11.411290168762207, -2.5609357357025146, -7.359253883361816, -2.9637410640716553, -1.3585782051086426, -4.09594202041626, 0.7574790716171265, 4.788405418395996, -3.2867112159729004, -1.5262176990509033, 0.6370536088943481, -8.515039443969727, 9.308650970458984, 2.288578510284424, -4.855119705200195, -8.22000503540039, -2.541743516921997, -5.51146936416626, -3.0228629112243652, -2.2929725646972656, -1.2528955936431885, -1.585166573524475, -0.7859888076782227, 2.110927104949951, -0.4107793867588043, -1.9961893558502197, -4.0325236320495605, -1.5160884857177734, -1.6150680780410767, -3.2388741970062256, -3.6898539066314697, 1.1948561668395996, -0.602805495262146, -3.1684134006500244, -2.6782419681549072, -3.994954824447632, 4.0610671043396, -2.57524037361145, 1.598526120185852, -4.332427024841309, 0.41302600502967834, -7.881997585296631, -0.661908745765686, -4.956259250640869, 3.8063371181488037, -4.154758930206299, -4.786069393157959, -2.268167734146118, -5.140705108642578, 0.3216061294078827, -1.0038087368011475, 9.33873462677002, -3.214843273162842, -1.5824555158615112, -2.308218240737915, -1.0949057340621948, -11.946078300476074, -4.75233793258667, -3.3988230228424072, -2.097505569458008, -1.4652055501937866, -9.469491958618164, -0.8259506225585938, -2.532700777053833, -1.2083683013916016, -2.5186855792999268, -9.832066535949707], \"yaxis\": \"y\"}, {\"hoverlabel\": {\"namelength\": 0}, \"hovertemplate\": \"color=D<br>Enc. Variable 0=%{x}<br>Enc. Variable 1=%{y}\", \"legendgroup\": \"color=D\", \"marker\": {\"color\": \"#ab63fa\", \"opacity\": 0.7, \"symbol\": \"circle\"}, \"mode\": \"markers\", \"name\": \"color=D\", \"showlegend\": true, \"type\": \"scattergl\", \"x\": [-1.3121134042739868, -8.862431526184082, -5.0654826164245605, -10.11407470703125, -7.457613945007324, -6.199714183807373, -1.825119972229004, -9.372654914855957, -9.730891227722168, -7.703639030456543, -3.519650936126709, -10.61952018737793, -8.30275821685791, -9.477249145507812, -5.655385971069336, -6.032997131347656, -6.686733245849609, -6.543381690979004, -8.575559616088867, -8.1118745803833, -7.7169575691223145, -7.563726902008057, -7.455192565917969, -8.520971298217773, -10.081297874450684, -3.57586669921875, -8.416107177734375, -8.37519645690918, -4.527224540710449, -4.316917896270752, -5.007861137390137, -6.871996879577637, -4.8428473472595215, -10.433045387268066, -10.343450546264648, -7.932455539703369, -7.323581695556641, -3.760016441345215, -5.385008811950684, -6.380990028381348, -2.6769766807556152, -8.010603904724121, -4.442405700683594, -3.4905600547790527, -7.039592266082764, -4.079774379730225, -6.129280090332031, -2.629596710205078, -7.311644077301025, -7.765973091125488, -6.953988552093506, -4.727896213531494, -8.365756034851074, -7.7413554191589355, -10.725201606750488, -6.5032148361206055, -5.806121826171875, -9.012999534606934, -1.7929465770721436, -8.506043434143066, -6.010913848876953, -7.304932594299316, -8.73034381866455, -10.36461353302002, -4.5988993644714355, -4.297340393066406, -8.10369873046875, -4.625063896179199, -9.128300666809082, -10.434649467468262, -7.517847061157227, -7.975595474243164, -4.526042938232422, -3.651093006134033, -6.878089427947998, -8.730696678161621, -4.707100868225098, -6.0362162590026855, -5.597048759460449, -5.568314075469971, -5.028822898864746, -11.789932250976562, -5.6752610206604, -4.354881286621094, -8.172835350036621, -7.684345245361328, -3.1399447917938232, -0.6857394576072693, -4.297673225402832, -10.536149978637695, -7.304576873779297, -3.7291698455810547, -3.5199942588806152, -6.692203998565674, -3.4245216846466064, -9.963438987731934, -5.975816249847412, -6.9250898361206055, -5.323862075805664, -6.693263053894043, -7.622673511505127, -7.204323768615723, -5.0654826164245605, -4.533706188201904, -3.034167766571045, -7.196150779724121, -1.8387285470962524, -6.1173248291015625, -5.98905611038208, -5.1383562088012695, -7.510906219482422, -5.019543647766113, -7.42131233215332, -7.467302322387695, -5.9870405197143555, -4.120650291442871, -7.061041831970215, -6.346251487731934, -4.413601398468018, -4.513647079467773, -5.8709564208984375, -6.621860027313232, -9.891270637512207, -7.579887390136719, -8.190811157226562, -8.029998779296875, -8.539573669433594, -7.884583950042725, -7.51503849029541, -4.103580474853516, -7.8019304275512695, -0.8706488013267517, -8.0996675491333, -7.6411943435668945, -4.088025093078613, -8.576723098754883, -4.600444793701172, -6.952640533447266, -5.544243335723877, -6.1265177726745605, -7.476228713989258, -6.715461254119873, -7.306517601013184, -8.335023880004883, -11.702804565429688, -4.537604808807373, -7.196571350097656, -6.436831474304199, -6.003785133361816, -4.1825361251831055, -4.553867340087891, -5.250551700592041, -10.247072219848633, -2.3862669467926025, -6.887264728546143, -7.421964168548584, -6.50962495803833, -9.40703296661377, -4.198363304138184, -7.384243011474609, -10.649757385253906, -5.971676349639893, -7.2746663093566895, -6.949719429016113, -7.075263977050781, -4.244801044464111, -5.459967613220215, -4.792765140533447, -0.7774686813354492, -6.77286434173584, -5.818904876708984, -4.506579399108887, -6.537060737609863, -7.391593933105469, -7.978650093078613, -11.628150939941406, -8.737350463867188, -3.4740347862243652, -5.790275573730469, -4.187286376953125, -11.959684371948242, -8.948256492614746, -5.035645008087158, -5.113481521606445, -7.22130012512207, -8.626188278198242, -3.4383926391601562, -10.726993560791016, -8.38608169555664, -9.361174583435059, -8.117271423339844, -8.03100299835205, -11.984837532043457, -11.48601245880127, -8.955431938171387, -2.146080493927002, -6.255662441253662, -3.43424129486084, -8.053811073303223, -8.450992584228516, -5.50390625, -4.972271919250488, -4.204826831817627, -7.523004531860352, -4.093183517456055, -11.010087966918945, -4.735226154327393, -0.8194175958633423, -7.804664611816406, -11.416886329650879, -8.961548805236816, -7.843378067016602, -12.252917289733887, -4.7695841789245605, -4.828275680541992, -6.073466777801514, -11.882574081420898, -4.4040117263793945, -3.806638479232788, -6.608315467834473, -5.464931011199951, -4.893919944763184, -2.809305191040039, -7.701722621917725, -6.9835896492004395, -7.53347110748291, -10.623556137084961, 1.4812318086624146, -4.328541278839111, -9.940232276916504, -5.934139251708984, -6.348605155944824, -7.68385648727417, -4.667708873748779, -7.392229080200195, -7.64331579208374, -6.740568161010742, -5.433455467224121, -7.728851318359375, -6.603848934173584, -8.28473949432373, -7.380587577819824, -7.609312057495117, -4.8105974197387695, -4.375430583953857, -6.788798809051514, -4.724825382232666, -7.161926746368408, -9.985527992248535, -4.349417686462402, -7.85859489440918, -10.418042182922363, -5.639945030212402, -7.159472942352295, -7.32563591003418, -8.326462745666504, -5.361171722412109, -6.475385665893555, -4.431766033172607, -7.916006088256836, -7.50799036026001, -9.819090843200684, -8.322635650634766, -4.998940944671631, -7.571305274963379, -6.530512809753418, -7.244988441467285, -5.484328746795654, -9.348685264587402, -0.0972827896475792, -8.229443550109863, -2.5240530967712402, -7.4984283447265625, -8.801209449768066, -7.187963485717773, -7.862246036529541, -4.2565693855285645, -8.069693565368652, -7.403844833374023, -4.64898157119751, -2.814582347869873, -5.238702774047852, -8.503859519958496, -9.348685264587402, -8.249007225036621, -6.375833034515381, -2.8215584754943848, -6.246819496154785, -6.343177795410156, -3.962841510772705, -3.0817813873291016, -3.1190812587738037, -7.88552188873291, -6.947274208068848, -7.317713737487793, -6.251523494720459, -7.442521572113037, -10.7299222946167, -8.573576927185059, -7.63973331451416, -6.802134990692139, -11.506710052490234, -7.037976264953613, -7.5844597816467285, -4.584556579589844, -6.165891170501709, -6.723254203796387, -4.0756940841674805, -6.382109642028809, -5.691990852355957, -9.905152320861816, -7.184918403625488, -6.140064716339111, -12.457088470458984, -7.675588607788086, -5.880645751953125, -10.457244873046875, -5.53505802154541, -6.506267547607422, -10.341694831848145, -11.458632469177246, -5.964089870452881, -5.813663482666016, -8.075902938842773, -8.81204891204834, -6.391712665557861, -0.3544882833957672, -7.830880165100098, -8.486238479614258, -6.736608505249023, -8.555413246154785, -12.958489418029785, -1.2628930807113647, -5.839996337890625, -6.738522529602051, -4.02904748916626, -6.531623840332031, -6.418174743652344, -9.706891059875488, -7.747250556945801, -5.326811790466309, -4.481611251831055, -12.457088470458984, -5.388526916503906, -5.437994956970215, -3.67433500289917, -13.372525215148926, -5.469247817993164, -5.501016139984131, -3.866039752960205, -6.596843719482422, -8.506348609924316, -7.177027225494385, -8.84998893737793, -8.339470863342285, -6.298244953155518, -5.560452461242676, -8.676412582397461, -0.652850866317749, -8.04900074005127, -6.815240859985352, -2.2357044219970703, -4.05377721786499, -4.413600921630859, -9.524630546569824, -12.491238594055176, -7.847177982330322, -5.2401347160339355, -12.930779457092285, -6.599440097808838, -5.155273914337158, -4.2134504318237305, -2.6580593585968018, -8.869532585144043, -8.091320991516113, -4.172412872314453, -2.445006847381592, -5.284707069396973, -11.828879356384277, -8.13786506652832, -7.79757833480835, -2.027839422225952, -3.9313323497772217, -9.628460884094238, -8.032923698425293, -6.844040393829346, -6.305181503295898, -9.485875129699707, -6.303170204162598, -1.289207100868225, -5.402594089508057, -3.4668495655059814, -5.729722499847412, -3.196260690689087, -6.188512325286865], \"xaxis\": \"x\", \"y\": [-4.182600975036621, 6.12787389755249, 3.1616413593292236, -17.798133850097656, 6.761675834655762, 1.340909481048584, -6.373161792755127, -9.704154968261719, 6.557789325714111, 3.9340949058532715, -7.328061580657959, 3.2886781692504883, 5.531518459320068, 6.014491558074951, -10.99678897857666, 2.5686194896698, 1.6428381204605103, 0.7489786148071289, 7.7726731300354, 2.654625654220581, 2.1244046688079834, 2.4526500701904297, 4.254771709442139, 15.120270729064941, 3.7412500381469727, -8.757792472839355, -13.578811645507812, 13.465103149414062, 1.6153415441513062, -7.981746196746826, 2.906450033187866, 2.2708253860473633, -0.8996092081069946, 0.7073653936386108, 1.6231709718704224, -12.732559204101562, -10.926552772521973, 1.1696351766586304, -9.429076194763184, -8.886909484863281, -6.753406047821045, 2.717494249343872, -13.567065238952637, -7.237839221954346, -11.81574535369873, 2.54913592338562, 1.9462682008743286, -9.041913986206055, 6.437532901763916, 7.267941951751709, 2.7276906967163086, 4.690547943115234, 3.172652006149292, 3.2725439071655273, 2.5593111515045166, 1.6986567974090576, 5.309327602386475, 5.5873003005981445, 17.711225509643555, -10.30616569519043, 19.27952766418457, -12.575775146484375, 2.539543390274048, 2.904132843017578, 1.0049110651016235, 1.5697085857391357, 1.374792218208313, 2.3289873600006104, 8.844618797302246, 7.758267402648926, 3.114347219467163, 5.48283576965332, 3.876601219177246, -0.2112102210521698, 0.9622925519943237, 1.2877821922302246, 2.289639949798584, 3.4449989795684814, 2.276634693145752, 1.4830046892166138, 4.905064582824707, 13.804816246032715, -11.031380653381348, 1.3650062084197998, 2.6709237098693848, 3.5478944778442383, -11.7320556640625, -4.650697708129883, 2.009561061859131, 3.852886199951172, 4.498448848724365, -9.399417877197266, -4.662402629852295, 2.0571422576904297, 4.359122276306152, -15.697450637817383, 4.853841304779053, 2.1225388050079346, -9.856280326843262, 2.1565091609954834, 5.024971961975098, 2.350628614425659, 3.1616413593292236, 2.181083917617798, -5.907919883728027, 2.162583112716675, -8.39494800567627, 1.9154536724090576, 2.058408260345459, -7.691978931427002, -13.70226764678955, 4.563777923583984, 3.0699987411499023, 2.764094352722168, -9.920942306518555, -7.882195949554443, 1.9566116333007812, -1.7568552494049072, 2.687155246734619, 1.9763410091400146, 3.419252872467041, 2.229513645172119, 4.119504451751709, 2.519866466522217, 2.639669179916382, 2.5904271602630615, 2.7176403999328613, 4.11015510559082, 6.238872051239014, -7.802938938140869, 2.820981025695801, -5.1070404052734375, 2.253206491470337, 2.8535473346710205, -7.129093647003174, 2.3689277172088623, -7.874403476715088, 5.794267654418945, 1.7932195663452148, 0.6566329002380371, 2.6648612022399902, 1.7915557622909546, 1.3637036085128784, -13.358837127685547, 1.033796787261963, -9.486066818237305, -1.1082301139831543, -11.042325019836426, 1.663388967514038, 2.0858991146087646, 1.8616743087768555, 2.0581796169281006, 2.8324432373046875, -7.328262805938721, 2.0349271297454834, -11.348793029785156, 3.3266818523406982, -14.893698692321777, 1.9603049755096436, 1.0490920543670654, -15.356483459472656, 2.314534902572632, 4.3198041915893555, 2.7027838230133057, 2.0121140480041504, 2.0522756576538086, 3.489243745803833, 2.8446078300476074, -5.572981357574463, 2.79264760017395, -9.541955947875977, 0.4030793011188507, 5.276817798614502, 4.233865737915039, 2.846256732940674, 5.193408966064453, -16.82257652282715, -7.42190408706665, 1.1468894481658936, 1.4645843505859375, 14.39122486114502, 1.7431411743164062, 2.024784803390503, 1.5934960842132568, -0.690435528755188, 2.7720868587493896, 0.6279644966125488, 6.077113151550293, 5.325682163238525, -0.06645438075065613, 5.835117340087891, 5.690554141998291, -6.771316051483154, -11.365602493286133, -13.927874565124512, -5.924471378326416, 0.9070814847946167, 0.9672737121582031, 5.911011219024658, 1.7127304077148438, -1.9299170970916748, 4.392643451690674, -6.468014240264893, -0.009778887033462524, 1.7699412107467651, 2.5896894931793213, 1.249220371246338, -6.708297252655029, 2.2587127685546875, 1.4132270812988281, 2.732665538787842, 6.123203754425049, -6.0905375480651855, 2.6507954597473145, -8.789130210876465, 1.9565714597702026, 1.5729933977127075, 3.936910390853882, -6.992448329925537, -0.7150194644927979, 2.9774820804595947, -8.245950698852539, -6.6862077713012695, -11.779361724853516, 6.6910080909729, 2.8209359645843506, 1.1759636402130127, 21.456119537353516, -7.376101970672607, 2.6520297527313232, -7.432292938232422, 5.3228020668029785, 2.485043525695801, 1.9665542840957642, -14.978403091430664, 6.685042381286621, 1.5888599157333374, -9.947516441345215, 7.0169878005981445, 1.7239067554473877, 4.169145584106445, 3.1499500274658203, 5.693606853485107, -8.707784652709961, -7.755697727203369, 2.526975631713867, -8.251630783081055, 2.7823433876037598, 2.527022361755371, -8.374823570251465, 1.7208037376403809, 6.886174201965332, 2.2829267978668213, 6.0095133781433105, 2.703336000442505, 2.638838291168213, 3.9044735431671143, 0.4206220805644989, -3.0086867809295654, 6.979007720947266, 2.845703125, -13.077481269836426, 2.4760897159576416, -9.47976303100586, 4.8664116859436035, 5.757256984710693, 4.52226448059082, 2.7290050983428955, 9.78493595123291, -7.560099124908447, 2.7286765575408936, 1.3712806701660156, 4.74655294418335, 12.765832901000977, 8.821343421936035, 2.97692608833313, -7.926758289337158, 0.64961838722229, 2.7296411991119385, 4.880125522613525, -9.69622802734375, -7.180540084838867, 2.1581034660339355, 9.78493595123291, 2.3155648708343506, 9.121594429016113, -5.885802268981934, 4.66527795791626, 2.2448501586914062, -8.985337257385254, -10.48682689666748, -4.496873378753662, 2.5984063148498535, -12.236712455749512, 1.379960536956787, 0.29939499497413635, 6.629852294921875, 10.596174240112305, -5.222471714019775, 4.583302021026611, 4.731443881988525, 4.815647125244141, 5.339932441711426, 2.281904458999634, -8.253558158874512, -10.348851203918457, 1.7657136917114258, -8.349298477172852, 4.4140625, -10.778375625610352, 4.973106861114502, 6.46515417098999, 1.9072664976119995, -0.48929449915885925, 2.934983491897583, -9.02029800415039, 10.141407012939453, 1.7801249027252197, -12.6448974609375, -0.7472866773605347, 4.239486217498779, 2.6674141883850098, 2.4742066860198975, 2.9926443099975586, 3.2993175983428955, 2.6218533515930176, 3.3707470893859863, 6.982384204864502, 11.63302993774414, -2.9586405754089355, 4.925040245056152, -6.023770332336426, -8.862335205078125, 2.115380048751831, -3.1526594161987305, -5.992164134979248, -12.001211166381836, 0.8746360540390015, 12.994752883911133, 2.8869755268096924, -4.242323398590088, -9.35569953918457, -0.48929449915885925, 0.5535541772842407, 3.7727601528167725, -8.332271575927734, 7.165087699890137, 5.29747200012207, -9.35483455657959, 1.120612621307373, 2.2868549823760986, 3.8471570014953613, 2.4279544353485107, 2.7884771823883057, 2.451366424560547, 4.039999961853027, 5.671407699584961, -13.504133224487305, -7.812459945678711, 2.4900786876678467, 4.190733432769775, -8.041803359985352, 8.100380897521973, -9.991647720336914, 0.949526309967041, 8.625292778015137, 2.8633642196655273, 1.381683588027954, 5.037172317504883, 6.130893230438232, -1.4306261539459229, -7.708917617797852, -8.00301742553711, 1.1031029224395752, 3.7646536827087402, 3.7300899028778076, -6.138291358947754, 2.534823417663574, 3.901972532272339, 4.2071533203125, 3.0202479362487793, -7.301952362060547, 4.495136737823486, 3.6886043548583984, 2.9353582859039307, -11.939976692199707, 0.7899727821350098, 2.7373569011688232, 2.234097719192505, -9.183812141418457, 3.3542733192443848, 1.0355473756790161, 1.322288990020752, -6.031102657318115, 1.8610345125198364], \"yaxis\": \"y\"}, {\"hoverlabel\": {\"namelength\": 0}, \"hovertemplate\": \"color=B<br>Enc. Variable 0=%{x}<br>Enc. Variable 1=%{y}\", \"legendgroup\": \"color=B\", \"marker\": {\"color\": \"#FFA15A\", \"opacity\": 0.7, \"symbol\": \"circle\"}, \"mode\": \"markers\", \"name\": \"color=B\", \"showlegend\": true, \"type\": \"scattergl\", \"x\": [-10.086668968200684, -3.241276264190674, -4.312889099121094, -5.499077796936035, -8.08991813659668, -6.807298183441162, -7.329773902893066, -5.586759090423584, -2.30607533454895, -8.307639122009277, -6.796917915344238, -8.815650939941406, -8.819459915161133, -6.723767280578613, -9.293100357055664, -2.981727361679077, -7.379700660705566, -5.914734840393066, -4.451996803283691, -5.299593925476074, -5.193338394165039, -5.74480676651001, -8.016528129577637, -5.826019287109375, -8.510085105895996, -6.315642356872559, -5.513747215270996, -0.1213768944144249, -6.954995632171631, -5.157134532928467, -6.07648229598999, -4.2320966720581055, -3.1409575939178467, -5.46232795715332, -2.395541191101074, -2.5996432304382324, -5.295089244842529, -8.062349319458008, -6.27594518661499, 0.2546423375606537, -10.987868309020996, -4.1989336013793945, -7.515641689300537, -2.290085554122925, -6.714958667755127, -4.308071136474609, -3.6518585681915283, -6.448888778686523, -2.972381591796875, -6.615915298461914, -5.430967330932617, -7.787351131439209, -5.336117744445801, -3.4043338298797607, -6.594681739807129, -5.2387189865112305, -4.303618431091309, -2.8300209045410156, -5.877313613891602, -5.259592533111572, -6.864406585693359, -6.791293144226074, -8.241238594055176, -5.254626274108887, -2.6824288368225098, -5.150339126586914, -1.3464072942733765, -5.8262481689453125, -2.6122429370880127, 2.1384599208831787, -4.285187721252441, -5.030749320983887, -2.727437973022461, -5.958744049072266, -5.8420515060424805, -7.673313617706299, -3.879032850265503, -8.914475440979004, -6.9960479736328125, -3.728055238723755, -5.466141223907471, -8.448430061340332, -6.637691497802734, -0.6903213858604431, -2.0412187576293945, -12.444170951843262, -3.707242012023926, -1.653885006904602, -10.060080528259277, -4.949550628662109, -5.6453680992126465, -7.405033588409424, -3.1909584999084473, -4.870245933532715, -3.4671003818511963, -7.736710071563721, -6.073023319244385, -4.1466169357299805, -4.588831901550293, -6.095424175262451, -6.9272894859313965, -6.708202838897705, -5.8283162117004395, -3.190511703491211, -6.34359884262085, -5.2163405418396, -9.520061492919922, -1.7295974493026733, -5.493435382843018, -10.465275764465332, -9.154459953308105, -10.773181915283203, -7.045093059539795, -11.436805725097656, -5.654273509979248, -1.8758279085159302, -4.305933475494385, -6.619203090667725, -13.854171752929688, -5.398345470428467, -3.437620162963867, -4.751780033111572, -5.844505310058594, -7.624724388122559, -5.083856582641602, -7.092755317687988, -5.356789588928223, -10.698790550231934, -7.504946708679199, -2.973005533218384, -7.420168399810791, -6.451158046722412, -5.158921241760254, -3.948481559753418, -6.726565361022949, -3.5201921463012695, -6.647758483886719, -6.5343217849731445, -4.278259754180908, -7.907646179199219, -6.684743404388428, -5.8600006103515625, -5.120094299316406, -6.622410297393799, -3.6950480937957764, -2.561353921890259, -4.652498722076416, -7.854886054992676, -4.821772575378418, -3.585510015487671, -2.727388620376587, -4.500886917114258, -4.147381782531738, -9.432329177856445, -7.754540920257568, -3.828880548477173, -4.266180992126465, -9.363797187805176, -4.44809103012085, -11.07387924194336, -6.0410871505737305, -5.968074798583984, -10.087054252624512, -6.907564640045166, -5.06498908996582, -5.293386936187744, -7.996337890625, -4.677272796630859, -3.186173677444458, -2.821120262145996, -3.769333839416504, -12.427327156066895, -5.659265518188477, -5.960732460021973, -4.899198532104492, -6.648046493530273, -4.864780426025391, -1.3175543546676636, -7.479373931884766, -5.708103179931641, -1.5012317895889282, -6.842546463012695, -6.473377227783203, -6.900763988494873, -9.432334899902344, -7.302225589752197, -5.546344757080078, -5.491424560546875, -11.889548301696777, -1.1395968198776245, -5.53815221786499, -8.616072654724121, -5.562106132507324, -7.61386775970459, -2.7273924350738525, -4.694087028503418, -5.336419105529785, -5.5592265129089355, -6.678945541381836, -6.745791912078857, -1.632067084312439, -2.5699262619018555, -5.479362964630127, -5.3570122718811035, -5.2920637130737305, -2.821695327758789, -7.934849739074707, -3.10903263092041, -12.218292236328125, -6.361441612243652, -4.923940181732178, -13.134140968322754, -3.1850833892822266, -3.1215133666992188, -6.992467880249023, -3.2254467010498047, -4.383527755737305, -4.672429084777832, -7.121716022491455, -3.173089027404785, -11.29819107055664, -5.5845441818237305, -7.526111125946045, -6.468015193939209, -5.255842208862305, -5.247204780578613, -8.01945972442627, -4.403392791748047, -5.351609230041504, -5.579298496246338, -3.558307647705078, -6.488637924194336, -5.488968849182129, -4.8768792152404785, -4.801560878753662, -5.350724220275879, -6.57771635055542, -2.0101025104522705, -3.6978988647460938, -8.863852500915527, -6.93727445602417, -2.7206339836120605, -4.786844730377197, -4.408451080322266, -7.20822811126709, -9.026069641113281, -5.8415846824646, -7.629364967346191, -9.834306716918945, -6.070764064788818, -4.359974384307861, -8.000899314880371, -5.712628364562988, -4.538857460021973, -10.015800476074219, -9.089988708496094, -8.016325950622559, -1.9426432847976685, -4.538901329040527, -6.693378448486328, -7.744387149810791, -1.6313551664352417, -6.31475305557251, -3.521667957305908, -6.717080116271973, -5.252978324890137, -3.2862296104431152, -4.849109649658203, -6.409518241882324, -6.648681640625, -5.422308921813965, -8.02020263671875, -4.450455188751221, -3.344508647918701, -3.595287322998047, -3.2934303283691406, -8.651805877685547, -12.079214096069336, -3.443647623062134, -5.949132919311523, -3.49593448638916, -3.1941123008728027, -4.53931999206543, -5.871917724609375, -4.079522609710693, -5.188916206359863, -8.047476768493652, -5.089912414550781, -5.241096496582031, -6.8888068199157715, -2.4408605098724365, -5.557075500488281, -4.4568071365356445, -1.7483917474746704, -6.568943977355957, -2.822549343109131, -5.522853851318359, -5.080997467041016, -7.862407684326172, -3.730745792388916, -4.06119441986084, -4.3421854972839355, -5.983124732971191, -6.688833236694336, -2.5595011711120605, -5.803488731384277, -6.660411834716797, -6.713444709777832, -12.862374305725098, -8.55705738067627, -6.7214250564575195, -4.476912975311279, -2.673658847808838, -12.56262493133545, -6.184809684753418, -7.006626129150391, -6.679356098175049, -6.091273307800293, -6.940845489501953, -2.7882938385009766, -7.1048197746276855, -8.739709854125977, -6.614599227905273, -6.115546703338623, -12.611696243286133, -4.47340202331543, -10.403193473815918, -6.074257850646973, -9.27219009399414, -7.13257360458374, -3.159838914871216, -2.8480000495910645, -9.59512996673584, -7.294345855712891, -4.928287506103516, -2.6658143997192383, -6.24198055267334, -1.8505229949951172, -5.754850387573242, -2.877654552459717, -6.280858516693115, -2.3388962745666504, -6.2112956047058105, -1.3923022747039795, -6.575963973999023, -6.223079681396484, -4.930112838745117, -6.973114967346191, -2.2515249252319336, -8.47062873840332, -4.061144828796387, -11.580540657043457, -8.366602897644043, -5.3619232177734375, -6.079641342163086, -10.440220832824707, -3.87141752243042, -6.319832801818848, -6.745707035064697, -6.612475872039795, -2.681887149810791, -1.8854793310165405, -3.6248650550842285, -9.095894813537598, -7.814301013946533, -2.236846685409546, -5.555879592895508, -7.418674468994141, -7.187868595123291, -4.6867146492004395, -6.876452922821045, -7.241906642913818, -5.907554626464844, -2.1546082496643066, -5.148949146270752, -6.179670333862305, -6.128997325897217, -5.752516746520996, -5.6830034255981445, -5.255568027496338, -3.7128725051879883, -6.810183525085449], \"xaxis\": \"x\", \"y\": [5.026578426361084, -8.297922134399414, 3.9581520557403564, 4.840735912322998, 5.199600696563721, 2.4882099628448486, 7.609227657318115, 2.501559257507324, -5.964317798614502, 2.3812944889068604, 5.352232456207275, 9.70218563079834, -0.3345080614089966, 6.977722644805908, 7.248909950256348, 1.4326343536376953, 2.892277479171753, 2.247408628463745, 4.2615065574646, 5.647939682006836, -9.293673515319824, -11.09507942199707, 5.5156121253967285, 5.882348537445068, 3.0489721298217773, 3.202467203140259, 2.771683931350708, -3.9967610836029053, 3.187859535217285, 3.559006452560425, 0.7755355834960938, -10.41394329071045, 1.6120390892028809, 2.675306558609009, -7.321293830871582, -5.146061420440674, 2.6243793964385986, 2.421098470687866, 2.925008535385132, 2.8312463760375977, -11.047356605529785, 3.4608287811279297, 3.0755321979522705, -2.107046365737915, 4.4171881675720215, 2.8489441871643066, 3.4603118896484375, 6.060824394226074, -11.623440742492676, 2.8199641704559326, 2.101975679397583, 7.897498607635498, -7.292230129241943, 3.7945733070373535, 6.995009899139404, 2.455264091491699, 2.2449371814727783, -8.176034927368164, 2.2317731380462646, 2.511101007461548, 2.4293298721313477, 3.4629204273223877, 3.6238505840301514, 2.5800211429595947, -7.6980204582214355, 1.6387537717819214, -6.6641459465026855, -9.830974578857422, -7.300806522369385, 3.205150842666626, 2.2341325283050537, 2.6266963481903076, -10.12708854675293, 6.143063545227051, 1.8180978298187256, 1.0408018827438354, 2.781463861465454, 11.143381118774414, 0.8641767501831055, 2.9283018112182617, 5.728691577911377, 3.5094411373138428, 6.744771480560303, -4.564387321472168, -5.779495716094971, 4.147232532501221, 1.3907922506332397, -5.0215630531311035, -10.07332706451416, 3.4464995861053467, 2.5270771980285645, 5.255765914916992, 1.7644438743591309, 7.794009685516357, 3.009348154067993, -2.6586251258850098, 2.297734260559082, 7.60944128036499, 3.4645884037017822, 3.7272982597351074, 2.737680196762085, 2.7122671604156494, 3.0676796436309814, -7.0060200691223145, 1.122037649154663, 2.54769229888916, 2.666330575942993, -5.890502452850342, -11.324896812438965, 4.935654640197754, 3.4323267936706543, 8.478440284729004, 4.835140705108643, -11.225525856018066, 2.522442579269409, -2.550081491470337, 4.804144382476807, 3.2058308124542236, 0.19410398602485657, 2.7009003162384033, -2.0400025844573975, -8.055561065673828, 2.6113169193267822, 3.764493465423584, 2.88596248626709, 3.924325466156006, -5.3553667068481445, 1.0451956987380981, 2.543853521347046, 2.4287755489349365, 1.1153526306152344, 2.077782392501831, 2.613743305206299, -8.60934066772461, 3.2345938682556152, 1.852890968322754, 2.1148838996887207, 5.146683216094971, 2.054980993270874, 4.866447925567627, -12.756571769714355, 2.921879291534424, -10.754264831542969, 2.5680952072143555, -9.555747985839844, -8.958065032958984, -10.302858352661133, 4.7409539222717285, 0.5882749557495117, 5.7208099365234375, -11.364798545837402, -10.056459426879883, 1.6642951965332031, -0.6254490613937378, -3.241212844848633, -10.005306243896484, -11.536343574523926, 0.26242825388908386, 4.480959415435791, 14.445473670959473, 5.9861884117126465, 1.6955451965332031, 3.6408653259277344, 7.219656944274902, 2.1188905239105225, 2.371100902557373, 3.463580369949341, 2.025280237197876, -7.620298385620117, -7.082137107849121, 1.008936882019043, -8.74970817565918, -0.05296710133552551, 2.4155073165893555, 0.8106545209884644, -13.22343921661377, 4.973076343536377, -6.499372959136963, 3.8148787021636963, 5.717854022979736, -3.2377521991729736, 4.107809543609619, -12.2844820022583, 5.876258850097656, 1.3860044479370117, 5.575398921966553, 4.7115397453308105, 5.7043914794921875, 16.31329917907715, -4.744691371917725, 3.234586477279663, 9.469862937927246, 3.1906051635742188, -6.131067752838135, -10.870969772338867, 0.10164740681648254, 2.1761136054992676, 3.101022958755493, 3.325470209121704, 3.0629730224609375, -1.8717844486236572, -9.082643508911133, -6.409831523895264, 3.5205094814300537, 2.3066961765289307, -5.150965213775635, -13.314887046813965, -9.842497825622559, -3.8347983360290527, 2.9108362197875977, 3.3829562664031982, 5.255410671234131, 0.8376542329788208, -9.552652359008789, -15.469573020935059, 0.6779346466064453, 2.910933017730713, 2.67753267288208, 2.669147491455078, -8.088326454162598, 2.15852952003479, -0.9108316898345947, 4.543164253234863, 4.326844692230225, 2.0423901081085205, 2.565737009048462, 3.7459418773651123, 2.033733367919922, 1.952807903289795, 5.037168502807617, -10.648740768432617, -12.966689109802246, 2.4502580165863037, 1.8486660718917847, -11.829334259033203, 5.504570007324219, 3.1214728355407715, -7.667304515838623, -10.308834075927734, -2.311349630355835, 14.597371101379395, -8.713369369506836, 4.789459228515625, 2.28055739402771, 7.097114562988281, 4.539202690124512, 5.937983512878418, 4.026350021362305, 7.334194660186768, 3.1102101802825928, -10.57820987701416, 5.862623691558838, 5.152337551116943, 2.515134334564209, -14.990352630615234, -9.573392868041992, 5.73986291885376, -6.772622585296631, -6.301449775695801, 2.21836256980896, 0.9542008638381958, -7.106133460998535, -6.58194637298584, 21.76276969909668, -2.8426244258880615, 2.8677732944488525, -8.895639419555664, 4.565760135650635, 2.868530750274658, -6.319857120513916, -2.0881221294403076, 14.265176773071289, 2.4825599193573, 4.383821964263916, 1.6675090789794922, -8.031495094299316, 3.05796480178833, 12.369561195373535, 4.31659460067749, 5.811999320983887, 2.4651060104370117, -8.270835876464844, -10.306892395019531, 5.814213752746582, -9.495265007019043, -9.103238105773926, 3.6808276176452637, -12.040008544921875, 3.832001209259033, 4.017604351043701, 1.7199232578277588, 2.376447916030884, 5.217774391174316, -6.342173099517822, 2.381490468978882, -5.816734790802002, 2.046396493911743, -11.100031852722168, 2.5074474811553955, -5.606217384338379, 1.9454700946807861, 1.6829087734222412, 2.9780967235565186, 6.286948204040527, -6.677900791168213, 4.4534220695495605, 4.467292308807373, 5.30235481262207, 2.7202463150024414, -12.768905639648438, 5.1728196144104, -13.81582260131836, -6.469587802886963, -1.8493061065673828, 2.0428993701934814, 3.9158143997192383, 2.7891435623168945, -8.832429885864258, 3.2237565517425537, -6.068729877471924, 5.045823574066162, 6.7317376136779785, 3.005857467651367, 1.6670613288879395, 1.0921895503997803, 1.342326045036316, 16.166013717651367, 2.6707539558410645, 11.250840187072754, 2.702986001968384, 1.6801490783691406, -9.072322845458984, 4.644026279449463, 4.453505992889404, 2.640131711959839, -5.2803635597229, 6.347728252410889, -6.667595863342285, 7.112589359283447, -8.891674041748047, 1.708502173423767, -6.151080131530762, 2.2879860401153564, -7.3737592697143555, 6.259159088134766, 3.8999552726745605, 3.9077322483062744, 3.879852533340454, -5.66806697845459, 5.502716541290283, -9.743322372436523, 0.9932727813720703, 4.496810436248779, 5.166287899017334, 2.6966257095336914, -15.851652145385742, -10.220433235168457, 5.964415550231934, 6.744248867034912, 0.7871781587600708, -8.693487167358398, -10.281136512756348, -9.3702974319458, 3.318732976913452, 6.296778678894043, -5.248907566070557, 2.7065601348876953, 1.9442846775054932, 3.0737829208374023, -11.058347702026367, 3.243643045425415, 3.1987788677215576, 5.788498401641846, -0.42992332577705383, 2.4143307209014893, 3.1012721061706543, 3.1421523094177246, 3.3789424896240234, 2.5346641540527344, 4.603196144104004, 2.348140001296997, 3.014894723892212], \"yaxis\": \"y\"}, {\"hoverlabel\": {\"namelength\": 0}, \"hovertemplate\": \"color=I<br>Enc. Variable 0=%{x}<br>Enc. Variable 1=%{y}\", \"legendgroup\": \"color=I\", \"marker\": {\"color\": \"#19d3f3\", \"opacity\": 0.7, \"symbol\": \"circle\"}, \"mode\": \"markers\", \"name\": \"color=I\", \"showlegend\": true, \"type\": \"scattergl\", \"x\": [4.526496887207031, 4.9200897216796875, -6.41230583190918, 1.8995033502578735, 4.543193817138672, 1.9131736755371094, 3.9671378135681152, 2.4072413444519043, 2.123847007751465, 5.378853797912598, 2.112515449523926, -11.32404899597168, 2.6441731452941895, 12.313376426696777, 12.831277847290039, 14.539222717285156, 3.101691722869873, 6.117378234863281, 9.296550750732422, 2.0488500595092773, -0.8248852491378784, 2.0939345359802246, 2.7558252811431885, 2.0488500595092773, 2.03084397315979, 5.676104545593262, 4.710300922393799, 12.223834037780762, -3.055419683456421, 6.567400932312012, 11.427888870239258, 1.8179551362991333, 11.581541061401367, 2.0488500595092773, -12.125850677490234, 1.2327289581298828, -1.7206591367721558, 1.1063735485076904, 1.4292715787887573, 1.8301688432693481, 2.7730278968811035, 6.655498504638672, 12.877151489257812, 8.793798446655273, 6.654660224914551, -0.6312979459762573, 2.0488500595092773, 9.098682403564453, 2.0488500595092773, 2.0070066452026367, 2.0488500595092773, -5.585232257843018, 5.097621440887451, 1.8624536991119385, 1.9988633394241333, 11.075461387634277, 6.769420146942139, -1.715145468711853, 2.0488500595092773, 15.051508903503418, 7.419076919555664, 7.529904365539551, -6.020577430725098, 2.0488500595092773, 15.532259941101074, 12.297614097595215, 11.486832618713379, 7.285422325134277, 8.971256256103516, 5.441098213195801, 7.856637001037598, 3.9833269119262695, 1.2826764583587646, -7.226089000701904, 2.0488500595092773, -1.3233559131622314, 5.534829616546631, 2.0488500595092773, 1.6419613361358643, 14.717544555664062, 13.187828063964844, 16.635412216186523, 2.0488500595092773, 2.2537689208984375, -12.187780380249023, -7.948695182800293, -0.8246363997459412, 10.706249237060547, 11.833516120910645, -4.510875701904297, 8.167116165161133, 2.0488500595092773, 9.99910831451416, -0.17070236802101135, 6.34762716293335, -4.364714622497559, 2.0488500595092773, 15.260169982910156, -0.07018794864416122, 0.6351436376571655, 5.2160964012146, 0.1890002191066742, 1.4184256792068481, 2.0488500595092773, 1.979876160621643, 18.697851181030273, -4.607349872589111, 8.783944129943848, 0.5706510543823242, 7.34672737121582, 2.8177430629730225, 2.0488500595092773, 1.368809461593628, -0.21287360787391663, -8.279329299926758, 5.5062456130981445, -5.932641983032227, 5.027118682861328, 0.7890963554382324, -5.492364406585693, -0.8193022608757019, 5.793243885040283, 2.0488500595092773, 14.37370777130127, 2.712275505065918, 5.103107452392578, 2.589434862136841, -0.9079222679138184, 2.0488500595092773, 0.8921077251434326, -4.848821640014648, 16.567502975463867, 1.0922714471817017, -6.938703536987305, 2.2743167877197266, 17.772348403930664, 17.414451599121094, -0.4648851454257965, 2.0488500595092773, 2.0488500595092773, 2.7894911766052246, -5.404789447784424, 1.8798823356628418, 2.0888681411743164, -0.7698248624801636, 9.62468147277832, 6.447427749633789, -9.056767463684082, 6.830720901489258, 0.6044598817825317, 2.0488500595092773, 8.986983299255371, 2.6211915016174316, 0.8576469421386719, 0.29284045100212097, 10.37807559967041, 3.0409557819366455, 20.504131317138672, 9.819304466247559, 2.0488500595092773, -9.200946807861328, 5.957248210906982, -1.7355797290802002, 4.3040571212768555, 0.9195632934570312, 2.0488500595092773, 2.757793426513672, 7.637829780578613, 13.2119140625, -2.1378657817840576, -10.201382637023926, 3.0751848220825195, 4.938532829284668, 4.700067043304443, 1.832504391670227, 4.1573686599731445, -2.119187593460083, 10.649920463562012, 2.0488500595092773, 18.747697830200195, 1.7468479871749878, 8.5785493850708, 2.0488500595092773, 2.0488500595092773, 12.745088577270508, 1.0928571224212646, 6.1388702392578125, -1.5747870206832886, -3.2908854484558105, 1.8746631145477295, 12.746917724609375, 6.340611457824707, 18.042865753173828, -0.17426636815071106, 17.93334197998047, 8.949906349182129, 6.079782962799072, -0.9112370610237122, 7.237959861755371, -10.009221076965332, -6.154695987701416, 0.5171931982040405, 11.853245735168457, 3.8376693725585938, 4.053016662597656, 1.7708524465560913, -3.1474194526672363, 0.03156159073114395, 12.864768028259277, 16.2215633392334, -1.702245831489563, -6.782211780548096, -1.6178908348083496, 5.980049133300781, 2.5050673484802246, -3.268782615661621, 2.0488500595092773, -10.252592086791992, -8.83455753326416, 1.7909375429153442, -3.1707184314727783, -13.044957160949707, 4.633236408233643, 7.197295665740967, 2.436105251312256, -11.027371406555176, 4.604253768920898, 2.0488500595092773, 9.22492790222168, 4.537078380584717, 1.9448680877685547, 2.3718833923339844, 1.9498711824417114, 10.679057121276855, 10.61828327178955, 18.562551498413086, 2.0488500595092773, 5.753390312194824, -5.486354827880859, 9.551519393920898, 8.67577838897705, -9.232928276062012, -12.900490760803223, -3.422276496887207, 14.34948444366455, 3.877579927444458, -2.2544944286346436, 6.330413818359375, 2.229783535003662, 2.0488500595092773, 15.187578201293945, 12.69773006439209, 6.270884990692139, 12.555800437927246, -10.338767051696777, 6.123619079589844, 10.72785758972168, 3.123906135559082, -3.827730655670166, -9.77890396118164, -8.166410446166992, 2.0488500595092773, 4.2397565841674805, 5.828040599822998, 10.845686912536621, 6.159607887268066, -6.967698097229004, 0.9718890190124512, 2.0488500595092773, 2.1301469802856445, 11.024755477905273, 7.128754138946533, 1.7667406797409058, -4.366180419921875, 15.303122520446777, 13.869930267333984, 2.0488500595092773, -9.677721977233887, 2.0488500595092773, 1.8618359565734863, 8.518905639648438, -4.0140862464904785, 2.7365338802337646, 1.846522331237793, 2.0488500595092773, 1.7708524465560913, 14.101051330566406, 2.0488500595092773, 0.6123486757278442, 1.7850154638290405, 3.2013254165649414, 2.0488500595092773, 7.130130767822266, -0.35841628909111023, 1.1964880228042603, 1.8100353479385376, -7.485795021057129, 11.01172161102295, -10.06618881225586, -5.3464813232421875, 12.3936185836792, 2.8256444931030273, 10.84514331817627, 2.633946418762207, 3.4919161796569824, -0.23711469769477844, 1.8332433700561523, 16.94837188720703, -3.40242862701416, 7.1392130851745605, 14.867905616760254, 8.829689025878906, 6.925609111785889, 1.8707515001296997, -2.870805263519287, 7.11627197265625, 2.5501155853271484, 3.564602851867676, 11.6981201171875, 5.202093601226807, 1.8890948295593262, 18.346471786499023, 2.0488500595092773, 5.558387279510498, 2.0488500595092773, 4.578824043273926, 7.0832014083862305, 17.11497688293457, 2.837836265563965, 3.276765823364258, 4.277632713317871, 0.7348242998123169, -0.1543213427066803, 2.0488500595092773, 5.668560981750488, 15.198175430297852, 2.0488500595092773, 6.790022850036621, 2.0488500595092773, 2.0488500595092773, 5.205051422119141, 10.334979057312012, 2.0488500595092773, -10.691198348999023, -9.092619895935059, 7.0395965576171875, 0.9191843271255493, 2.0488500595092773, -4.686142444610596, 3.9397006034851074, 14.747661590576172, 2.0488500595092773, 8.350675582885742, 4.840610504150391, 7.516283988952637, 2.4852962493896484, 6.11531925201416, 13.558174133300781, -10.911227226257324, 5.749820232391357, 1.4552922248840332, 8.801136016845703, 2.0488500595092773, 13.371816635131836, 8.352450370788574, 2.3995628356933594, 6.976997375488281, 19.293598175048828, 12.842803001403809, 0.4325105845928192, -8.3859281539917, 2.0488500595092773, 9.18722915649414, -9.256402015686035, 1.9425392150878906, -1.7767601013183594, 0.773878812789917, 1.1939276456832886, 2.0488500595092773], \"xaxis\": \"x\", \"y\": [2.2472243309020996, 7.054608345031738, 19.343769073486328, -5.466936111450195, 4.873310089111328, 3.8323323726654053, 11.107247352600098, 3.233677387237549, 12.172645568847656, 5.285590171813965, 16.365880966186523, 16.127126693725586, 2.699382781982422, 11.691826820373535, 11.693647384643555, 14.050749778747559, 18.5009822845459, 11.968802452087402, 7.962331295013428, -6.548284530639648, -6.255522727966309, 22.143836975097656, -5.099295139312744, -6.548284530639648, 2.183176040649414, 26.784936904907227, 2.9277262687683105, 25.456012725830078, 1.3554410934448242, 4.383662223815918, 9.407212257385254, 9.968474388122559, 25.279268264770508, -6.548284530639648, 1.302588701248169, -5.934868335723877, -9.556916236877441, -3.595041036605835, -5.327150821685791, 10.938310623168945, 25.881664276123047, 5.92280387878418, 24.61918830871582, 7.546595096588135, 7.27442741394043, -1.4220784902572632, -6.548284530639648, 7.709751605987549, -6.548284530639648, -6.507185459136963, -6.548284530639648, 10.493511199951172, 25.90910530090332, 2.2136056423187256, -6.451418399810791, 10.147461891174316, 24.25328254699707, 1.113355278968811, -6.548284530639648, 19.495960235595703, 6.413114070892334, 28.577228546142578, 19.605724334716797, -6.548284530639648, 26.778772354125977, 12.332220077514648, 26.626680374145508, 6.123176574707031, 6.780594348907471, 26.953350067138672, 9.502758979797363, 3.740687847137451, 8.683499336242676, 9.593894004821777, -6.548284530639648, 9.349148750305176, 1.3954041004180908, -6.548284530639648, 9.625718116760254, 20.534753799438477, 10.22657585144043, 18.172285079956055, -6.548284530639648, 12.0048246383667, 3.3899378776550293, 3.3011128902435303, 2.234966993331909, 7.2640275955200195, 11.927387237548828, 4.428732395172119, 6.543216228485107, -6.548284530639648, 12.179986000061035, 3.4543304443359375, 20.98953628540039, 17.086597442626953, -6.548284530639648, 15.754151344299316, -5.575313568115234, 0.9073383808135986, 19.002836227416992, 12.09662914276123, -6.977766036987305, -6.548284530639648, -6.324121952056885, 19.032699584960938, 14.776558876037598, 7.778637409210205, -1.0706003904342651, 7.329977035522461, 6.3563761711120605, -6.548284530639648, 1.9203410148620605, -0.3403707444667816, 13.863676071166992, 20.941181182861328, 9.48283863067627, 18.87592887878418, 0.7552880048751831, 6.797493934631348, -7.210777759552002, 5.422791481018066, -6.548284530639648, 15.1668119430542, 3.0232667922973633, 22.798002243041992, 15.175097465515137, 21.642196655273438, -6.548284530639648, 23.460350036621094, 11.684104919433594, 17.61739730834961, 6.035735607147217, 18.448938369750977, 6.518637180328369, 25.79556655883789, 23.355792999267578, -3.2374749183654785, -6.548284530639648, -6.548284530639648, 14.239767074584961, 16.078643798828125, 9.87850284576416, 18.392297744750977, 19.824237823486328, 6.800756454467773, 23.985445022583008, 1.789720892906189, 21.59898567199707, -7.0507097244262695, -6.548284530639648, 28.756752014160156, 18.523494720458984, 7.137417316436768, 14.124503135681152, 8.723297119140625, 16.57789421081543, 24.02750015258789, 8.749597549438477, -6.548284530639648, 5.334654808044434, 26.75147819519043, 13.747488975524902, 25.575334548950195, 1.829411268234253, -6.548284530639648, 18.825298309326172, 10.778971672058105, 13.29885482788086, -6.118373394012451, -18.399887084960938, 16.40024185180664, 24.407947540283203, 8.65068244934082, -6.699484348297119, 13.989757537841797, 0.561037540435791, 8.78563117980957, -6.548284530639648, 25.867284774780273, -6.756558895111084, 3.432366132736206, -6.548284530639648, -6.548284530639648, 13.00627613067627, 22.908235549926758, 5.8243937492370605, 9.713339805603027, 21.43444061279297, 10.909563064575195, 12.052946090698242, 24.298904418945312, 21.67628288269043, 3.7006287574768066, 17.211275100708008, 7.188929080963135, 17.391845703125, 2.3291733264923096, 23.78219985961914, 12.024908065795898, 10.941556930541992, -3.1051101684570312, 10.24436092376709, 18.36454200744629, 3.398021697998047, -6.740993499755859, 7.140517234802246, -2.1199822425842285, 10.650819778442383, 21.796951293945312, 10.426158905029297, 22.94251251220703, 17.772537231445312, 24.582487106323242, -6.08808708190918, 16.774452209472656, -6.548284530639648, 3.2025623321533203, 15.482479095458984, 11.393889427185059, 1.4890183210372925, 12.820700645446777, 27.270421981811523, 7.571794509887695, 9.518598556518555, 5.75079870223999, 17.518463134765625, -6.548284530639648, 7.517956733703613, 15.403027534484863, 19.789688110351562, 11.91278076171875, -6.588906288146973, 8.809407234191895, 8.555488586425781, 25.54076385498047, -6.548284530639648, 25.307838439941406, 8.049290657043457, 10.864213943481445, 7.406595230102539, 6.6008734703063965, -3.4012997150421143, 16.197948455810547, 13.366340637207031, 12.15327262878418, -7.769528865814209, 29.334218978881836, 2.813755750656128, -6.548284530639648, 14.355469703674316, 14.276453018188477, 21.41771125793457, 11.586501121520996, 14.518506050109863, 22.374671936035156, 9.836275100708008, 2.939222812652588, 25.259366989135742, -18.355924606323242, 3.427311658859253, -6.548284530639648, 16.22639274597168, 15.051706314086914, 10.812662124633789, 25.163175582885742, 7.17619514465332, -3.546142816543579, -6.548284530639648, 18.983230590820312, 10.050829887390137, 23.231534957885742, 5.273869037628174, 16.022851943969727, 15.360332489013672, 16.483491897583008, -6.548284530639648, 15.491520881652832, -6.548284530639648, 5.107507228851318, 5.895777225494385, 19.909042358398438, 2.598996877670288, 21.223623275756836, -6.548284530639648, -6.740993499755859, 21.014429092407227, -6.548284530639648, -7.017824172973633, 10.126423835754395, 3.3687870502471924, -6.548284530639648, 5.933152675628662, 1.8484725952148438, -3.5950536727905273, 3.6786983013153076, 3.923347234725952, 7.774961948394775, -21.059085845947266, 13.841679573059082, 11.571441650390625, 2.7307238578796387, 26.490840911865234, 2.714766025543213, 2.925955295562744, 24.87799644470215, -6.490138053894043, 17.574474334716797, 1.567944049835205, 8.17999267578125, 14.720250129699707, 7.110004425048828, 27.063650131225586, 10.341591835021973, 17.876279830932617, 6.474582195281982, 17.542354583740234, 3.0387237071990967, 9.582716941833496, 26.921545028686523, 20.887163162231445, 25.882015228271484, -6.548284530639648, 14.604104995727539, -6.548284530639648, 17.79652976989746, 24.908000946044922, 18.202184677124023, 4.022385597229004, 2.8170552253723145, 21.734195709228516, -3.497352361679077, 14.337821006774902, -6.548284530639648, 14.585001945495605, 16.952220916748047, -6.548284530639648, 24.466562271118164, -6.548284530639648, -6.548284530639648, 21.752744674682617, 22.412485122680664, -6.548284530639648, 15.257028579711914, 3.90391206741333, 5.334750652313232, 8.275772094726562, -6.548284530639648, 24.843914031982422, 2.686973810195923, 15.693169593811035, -6.548284530639648, 16.356901168823242, 24.754459381103516, 27.49828338623047, 14.786893844604492, 19.33521270751953, 15.035611152648926, 14.82894515991211, 18.900611877441406, 23.258426666259766, 6.651151180267334, -6.548284530639648, 12.731328964233398, 11.466102600097656, 2.3651201725006104, 5.899397373199463, 23.81644630432129, 10.839097023010254, 0.02391698956489563, 7.6967549324035645, -6.548284530639648, 6.446712017059326, 14.392258644104004, 19.223739624023438, 1.847291111946106, 1.3050183057785034, 23.110023498535156, -6.548284530639648], \"yaxis\": \"y\"}, {\"hoverlabel\": {\"namelength\": 0}, \"hovertemplate\": \"color=J<br>Enc. Variable 0=%{x}<br>Enc. Variable 1=%{y}\", \"legendgroup\": \"color=J\", \"marker\": {\"color\": \"#FF6692\", \"opacity\": 0.7, \"symbol\": \"circle\"}, \"mode\": \"markers\", \"name\": \"color=J\", \"showlegend\": true, \"type\": \"scattergl\", \"x\": [-2.843069553375244, 6.841838836669922, -4.713846683502197, -2.479461193084717, -2.0043911933898926, -3.132781982421875, -3.421398639678955, -9.259173393249512, -1.1475144624710083, -2.3938164710998535, -2.7198891639709473, -1.1550946235656738, -0.41927334666252136, -3.598290205001831, 6.354677200317383, -3.810629367828369, -8.563178062438965, -3.900841236114502, -1.8393369913101196, -2.778505325317383, -2.827989101409912, -5.399442672729492, -3.767176628112793, -5.306607723236084, 9.350358963012695, -7.30903959274292, -2.0170528888702393, 0.26223644614219666, -6.961139678955078, -2.835062026977539, -2.03287410736084, -4.398750305175781, 1.1636426448822021, -8.910847663879395, -4.441634178161621, -1.9863394498825073, -0.27617958188056946, -8.31879997253418, -8.946657180786133, -7.692694187164307, -8.483614921569824, -1.292400598526001, -7.417425155639648, -2.0964365005493164, -10.539917945861816, -4.828113555908203, -2.0088958740234375, -5.494339942932129, -1.5187820196151733, 5.183362007141113, -2.2198233604431152, -1.249741554260254, 10.262280464172363, -5.971567153930664, -1.5502116680145264, -0.7202574014663696, -6.619790554046631, -5.591054916381836, -5.981629371643066, 4.627789497375488, -5.106061935424805, -1.5696667432785034, -11.78807544708252, 1.5147900581359863, -7.414356231689453, -3.9315567016601562, -5.7339348793029785, -0.430210143327713, -4.714584827423096, 1.9521406888961792, -1.8035743236541748, -2.095452308654785, -2.8809075355529785, -1.8164310455322266, -3.1322813034057617, 9.604376792907715, 3.57741117477417, -5.514708518981934, -3.3682456016540527, -2.699918746948242, -5.900136947631836, -2.3689982891082764, -2.6406891345977783, -3.3387246131896973, -1.8891440629959106, -5.716894149780273, -2.3983893394470215, -2.300010919570923, 7.881939888000488, -7.774367809295654, -2.2187867164611816, -10.575535774230957, -1.884242296218872, -2.277632236480713, -1.7314738035202026, -6.5485920906066895, -3.1249680519104004, -5.351326942443848, -3.9208569526672363, 0.17128118872642517, -1.9785903692245483, -1.9981797933578491, -4.664952278137207, -3.0464653968811035, 1.9666759967803955, -3.6761951446533203, -2.142746925354004, -0.08143486827611923, -2.3304717540740967, -2.0715224742889404, -6.999653339385986, -4.444911956787109, -0.6577486991882324, -2.2614707946777344, -2.083876609802246, -3.2914376258850098, -1.6102691888809204, -2.3691964149475098, 2.113588809967041, -3.9651408195495605, -1.2702933549880981, -3.702193021774292, -12.720223426818848, -3.2490134239196777, -2.2890005111694336, -8.551815032958984, -2.596341371536255, -3.0514938831329346, -5.265786170959473, -11.9559326171875, -7.527595520019531, -8.821025848388672, -6.040389537811279, -7.349465847015381, -3.1056575775146484, -2.1730518341064453, -7.734157085418701, 3.225797653198242, -3.7123899459838867, -6.371464729309082, -6.2508015632629395, -4.624452114105225, -3.69053053855896, -1.7651482820510864, 3.3413498401641846, -1.3416993618011475, -4.882786273956299, -6.346604347229004, -2.7604949474334717, -3.453193187713623, -0.9955074787139893, -2.405928611755371, 2.7647616863250732, -2.7971560955047607, -5.459275245666504, -2.539337396621704, -4.754076957702637, -5.353109359741211, -1.2660578489303589, -3.221952438354492, -5.833031177520752, -2.057427167892456, -0.5532101988792419, 5.239388465881348, -7.706376075744629, -3.870109796524048, -5.674755096435547, -1.986268401145935, -2.6696982383728027, -9.943641662597656, -5.543332099914551, -5.126122951507568, -4.640233039855957, -2.6949262619018555, -2.4225549697875977, -3.6645731925964355, -2.19461727142334, 0.14234504103660583, 3.9043474197387695, -2.9709956645965576, -2.8094849586486816, -2.5675668716430664, 0.5168951749801636, -2.446743965148926, -2.7591261863708496, -6.291177272796631, -3.1230010986328125, -3.0594964027404785, -2.5192418098449707, -1.783603310585022, -1.9261616468429565, 0.02350793033838272, 2.8292713165283203, -7.6486101150512695, -1.5497355461120605, -1.798169732093811, -3.6306731700897217, -2.6966519355773926, -2.1152305603027344, -3.886930465698242, -0.8282873630523682, -9.777464866638184, -4.724321365356445, -3.835388660430908, -4.48209285736084, -3.8243796825408936, -1.7421116828918457, 6.600499153137207, -2.120579242706299, -4.0730390548706055, -1.5229111909866333, -2.3455934524536133, -0.39052465558052063, -2.8972606658935547, -0.06572069972753525, -1.3114473819732666, -1.3314043283462524, -3.5210342407226562, -3.399567127227783, -4.061655044555664, -6.853262901306152, -7.413367748260498, -3.8398308753967285, -1.8918761014938354, 6.764774799346924, -1.0660631656646729, -2.154618978500366, -2.035090684890747, -0.8615633249282837, 5.502776622772217, -2.5932796001434326, -1.9687870740890503, -2.0741024017333984, 8.152753829956055, -2.742187261581421, -3.302257537841797, 1.5096491575241089, -6.539997577667236, -4.375577449798584, 1.374161958694458, -3.1105682849884033, 2.3111939430236816, -2.4570438861846924, 2.0773186683654785, -3.284943103790283, 3.632974147796631, -2.472443103790283, -9.24822998046875, -10.028423309326172, 0.02350793033838272, -1.5685667991638184, -2.5740530490875244, -9.774332046508789, -2.409458637237549, -4.0255022048950195, -1.9945813417434692, -5.942772388458252, -8.01809310913086, -4.842541694641113, -2.3225350379943848, 4.874009132385254, -2.4061224460601807, 9.330182075500488, -2.067781925201416, -3.835388660430908, -3.1836953163146973, -1.900452971458435, 3.793205738067627, -3.2768301963806152, -4.615451335906982, -6.395096778869629, -7.080976963043213, -2.255791187286377, -4.446895599365234, -2.911830425262451, -3.007645845413208, -2.0915722846984863, -2.5885753631591797, -2.3853402137756348, -3.283527374267578, -1.2007664442062378, -3.8328514099121094, -1.9296795129776, -3.13948917388916, -4.140396595001221, -3.899939775466919, -3.988239288330078, -0.38421085476875305, -3.2172608375549316, 2.3764092922210693, -2.8833675384521484, -2.3246169090270996, -1.7600517272949219, -5.640866756439209, -1.711283564567566, -2.8960118293762207, -1.3099251985549927, 8.618817329406738, -4.422056198120117, -4.422008991241455, -2.4384872913360596, -4.072145938873291, 0.008071757853031158, -4.848405361175537, -3.6519603729248047, -4.0891642570495605, 10.426405906677246, 0.17499861121177673, -3.746041774749756, -2.6695878505706787, -1.4668787717819214, -2.2967753410339355, 3.4307355880737305, -4.239209175109863, -4.8888139724731445, -3.5881848335266113, -3.219492197036743, -4.801534652709961, -5.615703582763672, -1.9815541505813599, -1.7766759395599365, -1.6821191310882568, -4.313425064086914, -3.2077503204345703, -8.21580696105957, -9.055923461914062, -11.175596237182617, 1.1781128644943237, -4.468799591064453, -3.33657169342041, -0.5047045946121216, -4.606626033782959, -7.76865816116333, -1.831215739250183, -7.527595520019531, 3.9750728607177734, -2.234743118286133, 5.061002731323242, -3.344536066055298, -8.475831031799316, -1.151181697845459, -0.9271402955055237, -2.994068145751953, -11.628233909606934, 0.5938557386398315, -5.437451362609863, -2.0732223987579346, -7.653947830200195, -6.190194129943848, -2.7571797370910645, -8.950469017028809, -2.5021109580993652, -4.272890090942383, -3.4838247299194336, -3.548776149749756, -3.4225709438323975, -7.933710098266602, -2.4164841175079346, -2.3594248294830322, 0.38030561804771423, -1.8054026365280151, -6.706271171569824, -2.11712908744812, -8.251703262329102, -9.619399070739746, -4.599604606628418, -5.9510955810546875, -8.356425285339355, -3.684673309326172], \"xaxis\": \"x\", \"y\": [19.167665481567383, 13.940692901611328, 16.825265884399414, 18.487634658813477, 12.054474830627441, 22.6649112701416, 17.893505096435547, 20.40961265563965, 26.410724639892578, 17.365571975708008, 10.786514282226562, 20.041519165039062, 22.687393188476562, 15.69906234741211, 21.172218322753906, 23.029632568359375, 21.285690307617188, 17.33999252319336, 12.172393798828125, 24.851234436035156, 23.135665893554688, 10.972315788269043, -1.040982961654663, 17.105573654174805, 15.750968933105469, 10.865442276000977, 14.544027328491211, 2.4466700553894043, 13.901594161987305, 23.180307388305664, 13.466327667236328, 15.967886924743652, 27.356657028198242, 7.502621650695801, 17.784198760986328, 10.706433296203613, 20.20016860961914, 16.545236587524414, 20.196449279785156, 21.39804458618164, 17.76375389099121, 21.999300003051758, 7.209439754486084, 15.59809684753418, 16.220102310180664, 16.707124710083008, 11.471957206726074, 18.94600486755371, 20.289960861206055, 24.767127990722656, 15.124863624572754, 18.868824005126953, 18.551231384277344, 20.001691818237305, 15.290863990783691, 19.995935440063477, 23.063003540039062, 18.574012756347656, 19.27561378479004, 27.249204635620117, 10.094359397888184, 8.722105026245117, 15.329834938049316, 27.858301162719727, 18.132888793945312, 18.31458282470703, 21.76861000061035, 25.57697868347168, 12.46882438659668, 28.11793327331543, 8.867180824279785, 14.134838104248047, 22.906387329101562, 10.30212688446045, 17.51362419128418, 20.411386489868164, 25.896507263183594, 14.783430099487305, 19.36492156982422, 21.62912940979004, 18.449525833129883, 21.19646453857422, 12.790903091430664, 23.15021514892578, 19.25815200805664, 18.902042388916016, 14.84079360961914, 19.30336570739746, 13.817496299743652, 12.898056030273438, 12.157061576843262, 16.33075523376465, 4.856223106384277, 19.67118263244629, 10.197428703308105, 17.105133056640625, 15.871978759765625, 18.893054962158203, 17.42104721069336, 12.59680461883545, 19.55890655517578, 10.796270370483398, 16.961544036865234, 13.522231101989746, 5.88823938369751, 17.053985595703125, 10.922879219055176, 22.306962966918945, 17.29900360107422, 13.893816947937012, 12.16154956817627, 15.59881591796875, 19.83003807067871, 22.523574829101562, 15.742948532104492, 15.132813453674316, 20.771392822265625, 19.7330265045166, 18.608226776123047, 23.06318473815918, 13.021583557128906, 12.583638191223145, 14.881573677062988, 14.174703598022461, 21.53495216369629, 19.360944747924805, 11.175429344177246, 20.30684471130371, 17.3625545501709, 15.955921173095703, 13.731995582580566, 18.310514450073242, 3.853382110595703, 19.7408447265625, 16.36039161682129, 11.045843124389648, 20.066606521606445, 16.200960159301758, 13.12192153930664, 21.346466064453125, 22.16156768798828, 16.620201110839844, 9.710332870483398, 10.391992568969727, 20.639638900756836, 17.60782814025879, 15.334961891174316, 9.809642791748047, 19.081615447998047, 12.914316177368164, 23.05088996887207, 24.784944534301758, 28.44769859313965, 16.83358383178711, 18.11627769470215, 15.229909896850586, 23.984127044677734, 17.565505981445312, 26.494626998901367, 14.181364059448242, 4.739981174468994, 17.473892211914062, 21.7619571685791, 26.966655731201172, 6.711365699768066, 19.902881622314453, 17.421323776245117, 9.690231323242188, -7.188668251037598, 16.642473220825195, 20.247570037841797, 19.22463035583496, 21.166101455688477, 20.54408073425293, 19.580251693725586, 15.058648109436035, 19.58131217956543, -6.34832239151001, 28.166017532348633, 16.891677856445312, 11.715033531188965, 25.192123413085938, 27.895923614501953, 21.683382034301758, 12.376677513122559, 15.551383972167969, 5.791800498962402, 17.436254501342773, 19.187253952026367, 21.718055725097656, 20.065370559692383, 18.280447006225586, 10.017854690551758, 18.944746017456055, 9.733607292175293, 21.535099029541016, 19.717002868652344, 11.413307189941406, 12.45647144317627, 13.933274269104004, 21.57342529296875, 19.583932876586914, 16.42784309387207, 12.46477222442627, 17.681909561157227, 14.114177703857422, 16.934717178344727, 12.117974281311035, 28.509679794311523, 19.300458908081055, 15.840638160705566, 13.449939727783203, 22.27039909362793, 14.214892387390137, 20.853879928588867, 24.34198760986328, 25.796493530273438, 15.167489051818848, 22.656082153320312, 15.560149192810059, 14.555583953857422, 20.02372932434082, 21.02669906616211, 11.519105911254883, 11.898273468017578, 17.473133087158203, 16.95924949645996, 27.196252822875977, 26.622007369995117, 5.244340896606445, 12.371938705444336, 13.328041076660156, 12.141969680786133, 22.523452758789062, 11.60227108001709, 14.592373847961426, 18.934051513671875, 17.576990127563477, 19.171051025390625, 27.153532028198242, 18.51708984375, 5.396600246429443, 10.140436172485352, 4.548762321472168, 18.446205139160156, 5.751119613647461, 21.157047271728516, 18.891782760620117, 16.379789352416992, 18.280447006225586, 23.86919593811035, 21.31622886657715, 2.513963460922241, 12.260260581970215, 15.57766056060791, 17.519283294677734, 17.56266975402832, 9.204615592956543, 16.608909606933594, 11.834940910339355, 9.560171127319336, 19.642553329467773, 17.56894302368164, 14.930028915405273, 12.46477222442627, 16.722511291503906, 19.993553161621094, 25.532136917114258, 22.16390609741211, 16.607900619506836, 21.84805679321289, 24.1287841796875, 28.045547485351562, 18.213390350341797, 21.718082427978516, 12.299351692199707, 19.631019592285156, 14.756741523742676, 18.654478073120117, 11.41349983215332, 19.034809112548828, 24.316205978393555, 10.695237159729004, 22.063241958618164, 16.73166275024414, 13.771984100341797, 15.345608711242676, 11.109176635742188, 16.262187957763672, 4.552303791046143, 16.196029663085938, 24.321317672729492, 10.535783767700195, 22.29882049560547, 16.955467224121094, 11.43492603302002, 28.519399642944336, 24.15560531616211, 18.821060180664062, 12.779980659484863, 17.644765853881836, 23.35253143310547, 26.812271118164062, 17.39935874938965, 20.25840950012207, 14.065095901489258, 20.222856521606445, 24.41087532043457, 13.085144996643066, 21.524137496948242, 8.595091819763184, 9.497288703918457, 21.399993896484375, 14.850187301635742, 16.264562606811523, 11.87997817993164, 13.847847938537598, 18.21139907836914, 18.158084869384766, 11.737957954406738, 16.599748611450195, 17.80950164794922, 19.296058654785156, 16.43999481201172, -17.3052978515625, 8.320951461791992, 13.863510131835938, 22.19935417175293, 15.507857322692871, 15.126500129699707, 16.810083389282227, 7.95188045501709, 21.088520050048828, -6.596380233764648, 13.731995582580566, 24.057546615600586, 16.424423217773438, 7.279930114746094, 15.085430145263672, 21.864015579223633, 26.345874786376953, 18.866397857666016, 23.223148345947266, 14.279284477233887, 26.411094665527344, 4.020749568939209, 18.448444366455078, 3.6789166927337646, 23.438203811645508, 22.763010025024414, 18.511615753173828, 22.893550872802734, 23.276071548461914, 13.521500587463379, 13.238409996032715, 13.33566665649414, 16.77408790588379, 21.290855407714844, 12.70073127746582, 21.939165115356445, 16.835058212280273, 18.109371185302734, 11.980965614318848, 17.189607620239258, 3.8747594356536865, 18.837926864624023, 14.822224617004395, 17.196645736694336, 26.629974365234375], \"yaxis\": \"y\"}, {\"hoverlabel\": {\"namelength\": 0}, \"hovertemplate\": \"color=C<br>Enc. Variable 0=%{x}<br>Enc. Variable 1=%{y}\", \"legendgroup\": \"color=C\", \"marker\": {\"color\": \"#B6E880\", \"opacity\": 0.7, \"symbol\": \"circle\"}, \"mode\": \"markers\", \"name\": \"color=C\", \"showlegend\": true, \"type\": \"scattergl\", \"x\": [-13.20493221282959, -11.209488868713379, -11.483094215393066, -10.787805557250977, -8.090755462646484, -11.833395004272461, -7.46498966217041, -6.811064720153809, -9.604389190673828, -13.586812019348145, -10.748024940490723, -7.75515079498291, -10.482189178466797, -12.455863952636719, -9.519562721252441, -8.915587425231934, -6.829468250274658, -9.45667552947998, -6.733633518218994, -14.841586112976074, -11.719186782836914, -8.144993782043457, -11.690739631652832, -4.869811534881592, -10.192505836486816, -2.4942080974578857, -14.299839973449707, -7.525038242340088, -13.05926513671875, -8.236250877380371, -9.32311725616455, -12.324080467224121, -12.325926780700684, -12.90684986114502, -4.93684196472168, -8.958624839782715, -13.252500534057617, -9.015082359313965, -12.096071243286133, -12.180914878845215, -0.5948789119720459, -8.628460884094238, -12.271920204162598, -4.709036827087402, -12.482880592346191, -8.999329566955566, -7.959810256958008, -11.644257545471191, -8.542954444885254, -6.437430381774902, -6.856980323791504, -13.049070358276367, -8.318852424621582, -13.630574226379395, -7.751195430755615, -11.446329116821289, -7.148008346557617, -7.940247535705566, -9.268630027770996, -11.355425834655762, -5.64131498336792, -10.919227600097656, -10.620169639587402, -6.357524871826172, -4.434190273284912, -5.064891815185547, -11.034934043884277, -5.35992431640625, -12.356471061706543, -11.0382661819458, -6.252403259277344, -14.22681713104248, -9.810400009155273, -7.241684913635254, -8.59989070892334, -9.698811531066895, -9.150805473327637, -9.664020538330078, -8.305631637573242, -9.985057830810547, -6.216550827026367, -13.93828296661377, -7.335544586181641, -14.575850486755371, -4.122096061706543, -12.745579719543457, -8.989727020263672, -7.376000881195068, -8.859720230102539, -6.888062000274658, -10.20476245880127, -13.511134147644043, -6.250763416290283, -8.096778869628906, -8.250162124633789, -9.5713529586792, -7.731950283050537, -9.386290550231934, -8.923333168029785, -10.21492862701416, -11.948569297790527, -8.490639686584473, -10.633857727050781, -7.205348968505859, -8.6859769821167, -8.384886741638184, -9.16619873046875, -8.858539581298828, -8.018488883972168, -14.748217582702637, -9.856602668762207, -14.450957298278809, -3.354480743408203, -6.729457378387451, -8.97498893737793, -10.449573516845703, -10.654169082641602, -10.04127025604248, -10.424321174621582, -4.447018623352051, -15.615739822387695, -0.9938489198684692, -10.268428802490234, -8.12466812133789, -9.011963844299316, -12.524520874023438, -8.009405136108398, -6.845376968383789, -6.969045639038086, -12.49611759185791, -14.4133939743042, -13.599853515625, -6.78579568862915, -7.58696174621582, -10.45646858215332, -7.86212682723999, -13.361023902893066, -11.589313507080078, -13.21541976928711, -11.333271026611328, -10.140233039855957, -8.118448257446289, -7.932278633117676, -11.46645450592041, -11.827651023864746, -2.455522060394287, -5.086239814758301, -9.527695655822754, -10.702641487121582, -13.945629119873047, -9.792911529541016, -7.753798007965088, -11.721858978271484, -5.773993492126465, -7.152366638183594, -9.029420852661133, -10.658470153808594, -5.235445976257324, -11.912917137145996, -13.36607837677002, -10.47067642211914, -8.386906623840332, -4.160825729370117, -9.088593482971191, -10.319518089294434, -12.717106819152832, -7.241397380828857, -7.996059417724609, -7.951123237609863, -10.0165433883667, -8.522492408752441, -6.629190444946289, -8.746026992797852, -12.513212203979492, -12.220266342163086, -11.347861289978027, -12.844615936279297, -9.800191879272461, -10.300841331481934, -12.939945220947266, -13.931126594543457, -7.726800918579102, -9.072732925415039, -10.454198837280273, -12.380859375, -7.8061981201171875, -5.090590476989746, -14.071677207946777, -7.698126316070557, -12.550950050354004, -13.280060768127441, -10.971460342407227, -7.514638900756836, -11.060271263122559, -11.029927253723145, -6.959725856781006, -8.059619903564453, -11.188203811645508, -9.847461700439453, -9.002166748046875, -9.847461700439453, -8.582698822021484, -8.045763969421387, -13.084203720092773, -11.169988632202148, -6.224828720092773, -9.996262550354004, -12.79616641998291, -9.937932014465332, -8.356578826904297, -6.051891803741455, -9.69107723236084, -12.95950698852539, -10.745625495910645, -13.986482620239258, -8.702778816223145, -6.946969032287598, -9.186441421508789, -9.417267799377441, -8.031242370605469, -11.15408992767334, -6.668202877044678, -6.390839099884033, -8.179581642150879, -2.682493209838867, -10.190683364868164, -9.308318138122559, -6.469140529632568, -4.290530204772949, -8.165003776550293, -13.281928062438965, -9.090522766113281, -9.348898887634277, -9.20267391204834, -7.924210071563721, -8.321877479553223, -3.722419261932373, -5.951503276824951, -7.141901969909668, -8.36948299407959, -11.603260040283203, -7.871725082397461, -7.599558353424072, -4.744728088378906, -8.424639701843262, -12.705477714538574, -11.442831993103027, -8.661303520202637, -12.466238021850586, -9.591395378112793, -12.666092872619629, -6.877449989318848, -9.67940902709961, -8.799551010131836, -6.898617267608643, -10.527396202087402, -14.99316120147705, -11.621207237243652, -7.018404006958008, -11.983793258666992, -9.093250274658203, -4.57644510269165, -8.311030387878418, -11.52242374420166, -6.638640880584717, -10.712162971496582, -7.812665939331055, -12.386958122253418, -9.652088165283203, -9.212285041809082, -9.366747856140137, -12.215373992919922, -11.195267677307129, -13.041614532470703, -5.680365085601807, -13.982257843017578, -4.883835315704346, -6.848269939422607, -13.9528226852417, -6.513554096221924, -9.538178443908691, -8.456583023071289, -9.070780754089355, -10.300427436828613, -11.308932304382324, -8.958036422729492, -9.063879013061523, -12.603161811828613, -8.734946250915527, -5.561176300048828, -12.399724960327148, -8.13664722442627, -12.490608215332031, -8.043307304382324, -4.22119140625, -6.192700386047363, -7.557149410247803, -8.30812931060791, -5.912177085876465, -13.293606758117676, -5.7141571044921875, -4.798153877258301, -11.910155296325684, -14.954506874084473, -9.40601921081543, -8.555277824401855, -9.075981140136719, -11.493727684020996, -9.594009399414062, -7.113007545471191, -10.271738052368164, -5.463993549346924, -13.918593406677246, -5.6641082763671875, -9.737892150878906, -10.8921480178833, -7.154446601867676, -5.7265801429748535, -10.391005516052246, -8.681673049926758, -5.341342449188232, -10.403901100158691, -1.5128041505813599, -9.795295715332031, -8.711883544921875, -7.730712413787842, -9.277215003967285, -8.744881629943848, -8.293256759643555, -5.377690315246582, -6.271634578704834, -11.956124305725098, -8.962583541870117, -10.55339241027832, -7.557991027832031, -5.941412925720215, -15.165443420410156, -8.881945610046387, -7.175508499145508, -11.848356246948242, -9.757050514221191, -5.890561580657959, -6.3494553565979, -12.15870475769043, -11.100693702697754, -10.009174346923828, -10.751678466796875, -4.791408538818359, -8.383393287658691, -8.336525917053223, -5.7464399337768555, -6.477086544036865, -8.108940124511719, -6.013788223266602, -11.714146614074707, -7.951964378356934, -12.637471199035645, -2.0568671226501465, -7.995181083679199, -8.839162826538086, -8.872917175292969, -9.2069730758667, -8.425121307373047, -8.720475196838379, -8.589665412902832, -9.572516441345215, -8.608161926269531, -8.867748260498047, -14.022502899169922, -6.555614471435547, -7.532944679260254, -13.841578483581543, -13.5946683883667, -6.925477981567383, -5.345041275024414, -7.720061302185059, -8.35888671875, -8.790369987487793, -12.644599914550781, -7.6067705154418945, -11.742727279663086, -12.212676048278809, -9.171228408813477, -6.912591934204102], \"xaxis\": \"x\", \"y\": [-4.306852340698242, -2.660334825515747, -1.675227165222168, -1.6272790431976318, -3.139237880706787, -1.6356652975082397, -0.5404689311981201, -1.5825233459472656, -8.958279609680176, -4.6190080642700195, -1.4908634424209595, -0.6109640598297119, -1.7023416757583618, -1.7904658317565918, -2.110582113265991, -3.0131468772888184, -1.9868593215942383, -2.851198434829712, -4.992569446563721, -5.1590352058410645, -3.5964691638946533, -2.866589307785034, -0.43922409415245056, -2.0014636516571045, -3.021280527114868, -1.4538681507110596, 1.8596875667572021, -2.4755423069000244, 1.0245311260223389, 3.0441694259643555, -2.497197389602661, -4.365324974060059, -4.204208850860596, -1.7747020721435547, -0.6283326148986816, -2.449956178665161, -4.103598117828369, -2.224534749984741, -4.044992923736572, -4.271819591522217, -1.0178135633468628, -1.2748850584030151, 4.786125183105469, -1.00382661819458, -4.886204242706299, -1.0402582883834839, -1.653989553451538, -3.552311897277832, -0.40513625741004944, -1.5474469661712646, -0.5437796115875244, -4.16461181640625, -0.8283109664916992, -4.28553581237793, -1.8668725490570068, -4.186870098114014, 2.1991333961486816, -1.8339749574661255, -1.6973395347595215, -1.731270432472229, 4.60764217376709, -2.516674518585205, -1.6736177206039429, -7.013098239898682, -1.825207233428955, -0.8165924549102783, -4.3188910484313965, -1.8504109382629395, 2.4163758754730225, -3.365699052810669, 3.285853624343872, -4.542746543884277, 1.1230204105377197, -2.6187098026275635, -1.4345252513885498, -2.840772867202759, -2.7504799365997314, -2.3976380825042725, 3.0021746158599854, -2.8787124156951904, 0.6241867542266846, -1.273305058479309, -0.18735668063163757, -2.5788981914520264, -2.6584842205047607, -2.9736168384552, 3.2458384037017822, 7.439525127410889, -2.3478643894195557, -4.730827331542969, -4.081255912780762, -4.227969169616699, 5.318993091583252, -1.0378586053848267, -2.6639974117279053, -3.895001173019409, -2.5779001712799072, -2.6768999099731445, -1.9612360000610352, -3.1038706302642822, -3.4438159465789795, -2.686049222946167, 5.2586259841918945, -5.083646297454834, -2.102243423461914, -3.578962564468384, -1.5022746324539185, -1.6068220138549805, -2.3101847171783447, -5.0441365242004395, -3.0108625888824463, -0.09084650874137878, -0.7749642133712769, -1.5201430320739746, -5.271463394165039, -6.488502025604248, -3.742360830307007, 0.5938006639480591, -2.4701249599456787, -2.663804769515991, -3.8870532512664795, -7.01521110534668, -3.7454822063446045, 1.8926458358764648, -2.2194554805755615, -2.127746343612671, -2.9370296001434326, -1.8042168617248535, -3.295827627182007, -1.4990593194961548, -0.896796703338623, -4.762479782104492, -0.7396500110626221, -1.5411932468414307, 4.531662464141846, -2.8131906986236572, 1.9988627433776855, -0.3350425660610199, -4.944764614105225, 1.3333230018615723, -0.5870845317840576, -1.892845869064331, 2.7347497940063477, -4.07268762588501, -0.36486563086509705, -0.5455591678619385, -1.944528579711914, -2.187530755996704, -1.4289758205413818, -4.092805862426758, 0.5061240196228027, -1.9256131649017334, -3.4069182872772217, -1.695569634437561, -1.2023353576660156, -0.9106440544128418, -1.0534945726394653, -2.0355374813079834, -1.6196578741073608, 7.221559047698975, -4.030875205993652, -2.4335696697235107, -1.991393804550171, -3.0470597743988037, -1.7904764413833618, -3.191838026046753, -2.9135332107543945, -1.9683399200439453, -1.6294752359390259, -3.0037434101104736, -1.91542387008667, -0.7996090650558472, 5.971731662750244, -0.6085597276687622, -2.562159776687622, 6.5545501708984375, -4.620474815368652, 7.632586479187012, -1.5909308195114136, -1.7041971683502197, -3.9929702281951904, 1.4055306911468506, -2.527669668197632, -3.0685813426971436, -3.8554277420043945, -2.579698324203491, -2.7773830890655518, 6.763362407684326, -1.527134656906128, -2.026853322982788, -4.357512474060059, -1.3108173608779907, -4.130995273590088, -3.3584659099578857, -2.2659013271331787, 2.618016481399536, -1.4050391912460327, -3.7690765857696533, -1.403810739517212, -1.6340727806091309, -1.403810739517212, -0.49717214703559875, -1.56748628616333, 9.033051490783691, -4.456033229827881, 0.054099828004837036, 0.6011435985565186, -1.3062372207641602, -0.8181250095367432, -2.100637197494507, 4.563934803009033, -1.5794284343719482, -4.0473856925964355, -2.118907928466797, 0.9020794630050659, 7.797389030456543, -0.854717493057251, -3.010134696960449, -2.4400241374969482, -1.9853706359863281, -4.361498832702637, -2.7048399448394775, 4.165975093841553, -0.19412043690681458, 0.1248408854007721, 4.068583965301514, -1.7705979347229004, -1.9465222358703613, 1.8191512823104858, -1.6510403156280518, -13.770207405090332, -2.537698745727539, -2.2035391330718994, -2.550734281539917, -1.7659050226211548, -1.5354481935501099, -2.9671518802642822, -2.309011697769165, -2.1422481536865234, -1.1774407625198364, 10.627800941467285, -2.6975820064544678, -3.922136068344116, -2.345367670059204, -2.536761999130249, -2.3955070972442627, -3.5402088165283203, -1.6834114789962769, -0.981691837310791, 9.260544776916504, -4.5374555587768555, -1.177912712097168, -0.8721898794174194, -9.681150436401367, -1.426788091659546, 6.813726902008057, -10.866025924682617, -3.6882007122039795, -3.5206010341644287, 8.325430870056152, -0.9796172380447388, 2.756378412246704, -0.22948291897773743, 0.6535831689834595, -1.8569303750991821, -3.271496295928955, -1.074720859527588, -4.183677673339844, 3.1501450538635254, -2.29577898979187, -2.4724247455596924, 9.806987762451172, -3.6268036365509033, -3.3607490062713623, -1.6835265159606934, -4.6646552085876465, 7.853607177734375, -2.607856035232544, -1.8132660388946533, -3.5072638988494873, -0.3875410258769989, -0.13276556134223938, -2.344252824783325, -2.0415732860565186, -1.7010616064071655, -2.559321165084839, -1.896735429763794, -3.087197780609131, -1.0606343746185303, -1.6944483518600464, -4.75748348236084, -0.5057528018951416, -3.1717419624328613, -2.228867769241333, 1.2007801532745361, 0.9721894264221191, -1.233600378036499, -0.17549297213554382, -1.923708200454712, -4.643706798553467, -7.2641706466674805, -0.6107341051101685, -0.10208186507225037, -4.0317769050598145, -1.208235263824463, -0.8706499338150024, -4.637315273284912, -4.311561107635498, -1.8711801767349243, -1.0299487113952637, -3.102482557296753, 1.0973141193389893, -1.596116304397583, -8.091917037963867, -3.3816192150115967, -4.316374778747559, -1.7266535758972168, -1.3492817878723145, -1.3245606422424316, -2.4565041065216064, -1.789780855178833, 5.833579063415527, -3.962266206741333, -0.9478065967559814, -2.1231484413146973, 3.0975019931793213, -2.2637760639190674, -1.6786812543869019, -2.4346649646759033, -0.1510755717754364, -1.0405815839767456, 1.6465167999267578, -7.32618522644043, -2.065469980239868, -1.294121265411377, -1.5858523845672607, -4.3711161613464355, -2.4022843837738037, -2.4197850227355957, 16.247390747070312, -2.5557219982147217, -6.065025806427002, -1.7419536113739014, -4.592280864715576, -1.1159777641296387, -0.8420401811599731, -3.3753645420074463, 5.983764171600342, -2.58313250541687, 7.494101524353027, -1.8264656066894531, -2.125169038772583, -1.548187017440796, -2.0745794773101807, 2.943856954574585, -2.0022926330566406, -0.8658101558685303, 1.5105364322662354, -1.827288031578064, -1.404422402381897, -1.4679210186004639, -2.202801465988159, -2.262284278869629, 6.919391632080078, -1.1004598140716553, -2.0397017002105713, -2.2178006172180176, -2.1979105472564697, -5.11075496673584, 1.6937527656555176, -1.6114686727523804, -4.969573497772217, -3.306262493133545, -2.46866774559021, -1.2115010023117065, -2.572462320327759, -2.4148595333099365, -0.5629751682281494, -1.831113338470459, -1.6143063306808472, 0.9138062000274658, 8.510818481445312, -1.7604765892028809, -1.9974310398101807], \"yaxis\": \"y\"}, {\"hoverlabel\": {\"namelength\": 0}, \"hovertemplate\": \"color=E<br>Enc. Variable 0=%{x}<br>Enc. Variable 1=%{y}\", \"legendgroup\": \"color=E\", \"marker\": {\"color\": \"#FF97FF\", \"opacity\": 0.7, \"symbol\": \"circle\"}, \"mode\": \"markers\", \"name\": \"color=E\", \"showlegend\": true, \"type\": \"scattergl\", \"x\": [-6.209402084350586, -7.409438133239746, -10.494584083557129, -8.448564529418945, -8.015341758728027, -4.836609363555908, -7.837316989898682, -9.604660987854004, -0.34808269143104553, -6.121784687042236, 2.9023966789245605, -5.782955169677734, -4.4605937004089355, -11.979453086853027, -7.546577453613281, -11.40384292602539, -8.893999099731445, -4.598134517669678, -6.265342712402344, -9.68126106262207, -7.850012302398682, -6.506875991821289, -6.6956586837768555, -6.494997024536133, -9.193413734436035, -6.46809196472168, -5.008467674255371, -10.389872550964355, -6.008459091186523, -9.406228065490723, -0.3638503849506378, -3.599271297454834, -7.3891425132751465, -6.530277729034424, -5.0121049880981445, -5.930215835571289, -7.13622522354126, -6.513710975646973, -10.057968139648438, -7.920401573181152, -6.328015327453613, -7.506719589233398, -7.4840521812438965, -8.945902824401855, -9.934768676757812, -8.305908203125, -12.271037101745605, -8.862741470336914, -5.712958812713623, -5.971248149871826, -6.780240535736084, -6.208244323730469, -7.522501468658447, -9.361466407775879, -9.065999031066895, -7.1070098876953125, -4.130980968475342, -7.765164375305176, -6.833375453948975, -7.6102190017700195, -9.16794490814209, -6.658204078674316, -2.46163272857666, -4.654324054718018, -7.225284576416016, -8.196137428283691, -6.552455425262451, -5.38884162902832, -6.683161735534668, -5.136590003967285, -5.249141693115234, -6.972647190093994, -9.201255798339844, -5.899519920349121, -7.04724645614624, -6.154173851013184, -11.767073631286621, -7.513750076293945, -7.39772891998291, -8.210448265075684, -7.246042251586914, -8.894798278808594, -3.018975257873535, -2.117802143096924, -6.751132965087891, -6.76765251159668, -5.228559494018555, -10.886777877807617, -4.739087104797363, -0.5906254053115845, -11.357453346252441, -8.107925415039062, 0.40728387236595154, -11.997748374938965, -12.173054695129395, -4.0257463455200195, -6.1283674240112305, -7.768380641937256, -8.291516304016113, -6.606935501098633, -6.505405426025391, -5.815657615661621, 0.36306604743003845, -4.837447166442871, -3.3230268955230713, -7.721129894256592, -7.342881202697754, -4.682387351989746, -5.560676097869873, -9.590222358703613, -7.572736740112305, -6.199690341949463, -6.48322868347168, -6.0506768226623535, -7.0370025634765625, -4.394906044006348, -8.278501510620117, -9.253265380859375, -4.890903949737549, -3.38619327545166, -6.371222019195557, -7.2272186279296875, -8.666970252990723, -8.007741928100586, -10.08052921295166, -6.300113677978516, -7.664885520935059, -5.50579833984375, -6.4314799308776855, -6.095645427703857, -10.126818656921387, -6.404261589050293, -5.644159317016602, -4.570313453674316, -6.061130523681641, -8.53274154663086, -8.68653392791748, -6.976606369018555, -7.681175231933594, -3.361105442047119, -4.877231597900391, -8.069732666015625, -6.184538841247559, -7.373075485229492, -3.7931766510009766, -6.021753787994385, -9.244205474853516, -7.070129871368408, -4.848984241485596, -6.292150020599365, -5.621448516845703, -14.56861400604248, -6.287718772888184, -7.175989151000977, -6.969275951385498, -5.965162754058838, -8.498760223388672, -6.075035095214844, -8.410567283630371, -6.535366058349609, -4.922399520874023, -5.268944263458252, -6.535366058349609, -7.811374664306641, -5.564134120941162, -6.977952480316162, -5.036011695861816, -9.382781982421875, -7.997668266296387, -6.294438362121582, -8.602030754089355, -0.931014895439148, -8.971114158630371, -6.166656017303467, -5.902121067047119, -8.03256607055664, -13.6835355758667, -4.249173164367676, -7.377427577972412, -7.5496344566345215, -8.841251373291016, -11.04535961151123, -11.388833045959473, -5.618913650512695, -9.348930358886719, -8.633382797241211, -7.043132781982422, -7.355565071105957, -9.971153259277344, -4.336783409118652, -8.276663780212402, -5.407035827636719, -6.807073593139648, -5.80000638961792, -6.319121837615967, -3.953397750854492, -6.299341678619385, -6.16279935836792, -6.126598834991455, -4.6095499992370605, -5.988620281219482, -7.212636947631836, -5.8078813552856445, -5.9861955642700195, -9.528294563293457, -7.292967319488525, -9.302143096923828, -6.825399875640869, -4.208013534545898, -9.512517929077148, -7.311580657958984, -6.074240207672119, -7.6405558586120605, -5.683661460876465, -4.493292331695557, -8.41999626159668, -6.044318675994873, -11.666903495788574, -7.785035610198975, -6.36068868637085, -6.8647871017456055, -6.73969841003418, -5.6348748207092285, -5.447955131530762, -6.297911167144775, -4.187305450439453, -5.6851372718811035, -6.631308555603027, -7.375596523284912, -7.690699100494385, -6.52833366394043, -11.477604866027832, -6.937232971191406, -4.306193828582764, -8.194446563720703, -0.6337100267410278, -11.133732795715332, -6.559098243713379, -2.962153911590576, -7.577985763549805, -7.850512504577637, -5.207150459289551, -6.037171840667725, -5.891057014465332, -8.566915512084961, -4.658378601074219, -9.614768028259277, -6.217347145080566, -6.475371360778809, -4.8684468269348145, -6.936097145080566, -6.3474650382995605, -4.953193664550781, -4.051941394805908, -5.510925769805908, -9.436197280883789, -6.944232940673828, -7.419853210449219, -1.2711772918701172, -6.844269752502441, -6.983059406280518, -7.022485733032227, -8.059958457946777, -6.275300025939941, -3.9486804008483887, -4.7872395515441895, -3.8488245010375977, -11.033162117004395, -8.276739120483398, -11.313849449157715, -7.8829755783081055, -6.213020324707031, -7.758469104766846, -13.3109130859375, -7.310730934143066, -6.805131435394287, -5.424741744995117, -6.5186920166015625, -9.685830116271973, -6.542938232421875, -8.181540489196777, -4.630729675292969, -9.67879867553711, -3.7284603118896484, -7.659336090087891, -7.332087516784668, -8.057950973510742, -5.398349285125732, -7.251631259918213, -5.579713344573975, -12.96890640258789, -6.281501770019531, -5.368626117706299, -7.687185287475586, -8.626815795898438, -4.241877555847168, -5.267175674438477, -4.311606407165527, -5.789888381958008, -7.361114978790283, -11.306876182556152, -7.157354831695557, -6.495187759399414, -5.344366073608398, -12.414689064025879, -7.779838562011719, -1.1899583339691162, -5.065979957580566, -7.1449408531188965, -3.5274477005004883, -11.505623817443848, -7.962884902954102, -10.401352882385254, -9.190485000610352, -5.932068347930908, -7.871315956115723, -6.713244915008545, -7.7853684425354, -11.409704208374023, -8.617260932922363, -9.023945808410645, -7.30122184753418, -2.6422533988952637, -7.025728225708008, -6.691205024719238, -6.153039932250977, -5.208619594573975, -7.290006637573242, -5.971259593963623, -9.96082878112793, -7.502624988555908, -6.146109104156494, -6.2023024559021, -6.527885437011719, -4.8696699142456055, -6.049251556396484, -7.280946731567383, -6.862560272216797, -7.437084197998047, -7.974825859069824, -7.204957008361816, -6.496993064880371, -8.694509506225586, -11.45822525024414, -5.818212985992432, -8.981993675231934, -6.698164939880371, -9.879897117614746, -8.537376403808594, -5.94023323059082, -6.435291290283203, -7.762696266174316, -7.352877616882324, -4.91335916519165, -7.305373191833496, -10.8754301071167, -7.02569580078125, -11.691097259521484, -5.955571174621582, -10.04903507232666, -7.426531791687012, -6.215183734893799, -10.39827823638916], \"xaxis\": \"x\", \"y\": [5.803186893463135, 4.605216026306152, 10.777586936950684, -6.470160484313965, 4.6163411140441895, 3.778935670852661, 3.9414103031158447, 10.072352409362793, -2.4194037914276123, -6.1873459815979, 14.092212677001953, -6.366946220397949, -1.3285380601882935, 5.403923034667969, 7.00623083114624, 5.886281490325928, 5.065853595733643, 3.8394429683685303, 4.237445831298828, -10.363725662231445, 6.276726722717285, 4.319598197937012, 4.1387739181518555, 3.435529947280884, 5.362473011016846, 6.3671112060546875, 3.4630331993103027, -11.33605670928955, 4.485361576080322, 5.605732440948486, -2.699387311935425, -3.8687636852264404, 1.1875892877578735, 3.8887674808502197, 1.7494080066680908, 4.3900556564331055, 4.570428371429443, 1.3914246559143066, -11.01510238647461, 2.661971092224121, 0.5130927562713623, 4.482243537902832, 4.026047229766846, -8.450565338134766, 5.449942111968994, 5.6615753173828125, 10.45146656036377, -1.507021188735962, -5.998111248016357, 3.9615352153778076, 3.9776148796081543, 2.1440577507019043, 3.3150548934936523, -9.763792037963867, 6.3737030029296875, -5.943265914916992, 2.2988595962524414, 4.206637382507324, -7.184637069702148, 4.256313323974609, 4.685998439788818, -6.289746284484863, 2.6730620861053467, 4.649145603179932, -7.322494983673096, 4.077105522155762, -6.473483562469482, -5.845266342163086, 6.679477214813232, 3.116851329803467, 2.8621490001678467, 5.54856538772583, 14.73511028289795, 5.456900119781494, 4.153418064117432, 4.138057231903076, 0.21741488575935364, 4.23677921295166, 7.680338382720947, 1.2907700538635254, 4.146927356719971, 13.430530548095703, 4.484945297241211, -3.3179171085357666, 5.777866840362549, 6.337125778198242, 3.0779688358306885, 1.3214762210845947, -5.196013450622559, 2.133334159851074, 7.676699638366699, 3.3722145557403564, -2.983041763305664, 4.325640678405762, 5.197544574737549, -4.433054447174072, 3.7424590587615967, 7.370821952819824, 3.953324556350708, 4.111677646636963, 4.181337356567383, 3.5846915245056152, 1.8747047185897827, -0.1294558346271515, 1.2561101913452148, 7.548978805541992, 2.292945623397827, -5.172671794891357, 4.349609375, 6.686176776885986, 6.734257221221924, -7.1204657554626465, 6.092048168182373, 3.7112207412719727, 6.54187536239624, -5.013930797576904, 3.990293264389038, 3.7685458660125732, 2.828385829925537, 0.09354475140571594, 6.134498119354248, 3.888807773590088, -9.843405723571777, 4.846733570098877, 2.348219633102417, -6.67730712890625, 3.3159115314483643, -6.2744269371032715, -7.259933948516846, 3.6589882373809814, -11.296092987060547, 4.098852157592773, 4.162688732147217, -5.184639930725098, 5.309250354766846, 5.378083229064941, -1.2406797409057617, -7.731362342834473, 10.31872844696045, 2.44559645652771, 4.561092376708984, 4.755277633666992, 0.42185142636299133, 4.0880913734436035, 2.023996591567993, 3.513957977294922, 2.8798651695251465, 4.514580726623535, -3.9391510486602783, -6.733394622802734, -6.239711761474609, -1.8210389614105225, 3.776142120361328, 3.628396987915039, 5.846662998199463, 4.855475902557373, 4.470620632171631, 3.657831907272339, -9.533493041992188, 4.259162425994873, 1.4436427354812622, -5.696657657623291, 4.259162425994873, 4.835891246795654, 4.79461669921875, 4.2406439781188965, -1.5292060375213623, -10.353858947753906, 7.843484401702881, 5.102052688598633, -0.18439289927482605, 6.1451544761657715, 4.195276737213135, -7.005798816680908, 3.8915343284606934, 4.47870397567749, 9.375405311584473, -4.707564830780029, 3.624274492263794, 3.826432228088379, 5.029322624206543, -1.5620090961456299, -0.4286019504070282, -5.791475772857666, 4.020292282104492, -7.946827411651611, -1.2232789993286133, 3.944439649581909, 5.145281791687012, 3.785118818283081, -8.715208053588867, 4.956756114959717, 6.041457176208496, 3.901874542236328, -6.182188034057617, 2.942631483078003, 4.489522457122803, 4.227564811706543, -3.2251932621002197, -3.2411248683929443, 5.058544635772705, 4.712447166442871, -5.934237480163574, 3.0619709491729736, -10.36320686340332, -7.556911468505859, -7.819889068603516, 2.8338236808776855, 1.3812775611877441, 5.71139669418335, 3.6629066467285156, 4.104225158691406, 3.2721447944641113, 4.219182968139648, 3.3539907932281494, -9.833410263061523, 5.935802936553955, 4.672025203704834, 5.6548357009887695, -5.9891252517700195, 4.643815517425537, 4.278294086456299, -6.163163661956787, -7.642133712768555, 4.685196876525879, 1.7570090293884277, -5.994380474090576, 4.154842376708984, 4.46397066116333, 0.1933031976222992, 6.561709403991699, 5.217649459838867, 2.518650770187378, -4.06815767288208, 4.451773166656494, -2.271075963973999, -0.07043209671974182, -7.034378528594971, -3.3258306980133057, 2.1929924488067627, 5.947072505950928, 5.338301181793213, 5.344446182250977, -6.635078430175781, 8.112900733947754, -4.871913909912109, 8.82563591003418, -7.451901912689209, 6.382998466491699, 3.9454596042633057, -5.676075458526611, -6.9199395179748535, 4.733867168426514, 2.713515043258667, 2.976961135864258, 4.197432041168213, 4.757315158843994, -7.963717937469482, 1.1402416229248047, 2.842118501663208, 6.9297285079956055, 5.157323360443115, -2.510632038116455, 4.360410213470459, -3.1959002017974854, 3.5193750858306885, -4.948090553283691, 9.677520751953125, -2.3748586177825928, -1.3577556610107422, 5.3400115966796875, 4.1523590087890625, 8.142961502075195, -4.700286388397217, -8.021440505981445, -7.064188480377197, 2.880681276321411, 5.342142105102539, -0.16901960968971252, -7.988297939300537, 4.906976222991943, -4.892708778381348, 2.688987970352173, -0.4733075201511383, -7.129038333892822, 4.082168102264404, 9.223788261413574, -5.994316577911377, 7.208977699279785, -6.3538289070129395, 2.789156913757324, -4.760406494140625, 4.855633735656738, 3.5369622707366943, 6.942275047302246, 3.6843950748443604, -5.978076457977295, -4.546648979187012, -6.352777004241943, 4.603945732116699, 0.6768589019775391, 7.381247043609619, 1.0551635026931763, 4.982244491577148, -12.466890335083008, 0.0955914556980133, -2.8685340881347656, -5.653549671173096, 6.212759017944336, 1.9798243045806885, -12.175198554992676, -2.8984038829803467, -2.1055896282196045, 7.963557720184326, 4.286627292633057, 3.9692671298980713, 5.68292236328125, 7.360318183898926, 4.419790744781494, -3.6216413974761963, 3.5327579975128174, 4.6113481521606445, 2.139259099960327, 5.462350368499756, 3.408069133758545, 5.9836931228637695, 3.8862743377685547, 3.678255558013916, 4.0202507972717285, 4.390798568725586, 4.057413578033447, 4.427270412445068, -7.094619274139404, 4.271618366241455, -0.30476275086402893, 3.9862966537475586, 5.169631004333496, 4.462662220001221, 5.463458061218262, 4.133844375610352, 4.51192045211792, 5.289390563964844, -8.645505905151367, 0.852405309677124, 4.48355770111084, 4.435704708099365, 3.8743510246276855, -11.006410598754883, 4.281439304351807, 6.230907917022705, 6.380741596221924, 7.138617992401123, 4.791635513305664, 3.4597160816192627, 5.638697147369385, 5.883433818817139, 4.590672016143799, 8.03879451751709, 3.130030870437622, 10.4896240234375, -0.7162694931030273, 4.234045505523682, 1.7482796907424927], \"yaxis\": \"y\"}, {\"hoverlabel\": {\"namelength\": 0}, \"hovertemplate\": \"color=A<br>Enc. Variable 0=%{x}<br>Enc. Variable 1=%{y}\", \"legendgroup\": \"color=A\", \"marker\": {\"color\": \"#FECB52\", \"opacity\": 0.7, \"symbol\": \"circle\"}, \"mode\": \"markers\", \"name\": \"color=A\", \"showlegend\": true, \"type\": \"scattergl\", \"x\": [-6.310763835906982, -7.4745025634765625, -7.030937194824219, -9.042940139770508, -4.927424430847168, -11.3341703414917, -2.0760278701782227, -7.830868721008301, -5.812685966491699, -5.394565582275391, -2.874971866607666, -3.3060479164123535, -8.279549598693848, -6.674402236938477, -5.266345500946045, -5.362506866455078, -3.6578686237335205, -7.6802496910095215, -4.1745219230651855, -6.236815452575684, -4.83176326751709, -5.953540802001953, -7.416092872619629, -9.240802764892578, -5.817523002624512, -5.788183689117432, -5.666881084442139, -6.222707271575928, -6.898664951324463, -7.223026275634766, -8.952797889709473, -5.306283473968506, -3.9974007606506348, -6.527932167053223, -6.119030952453613, -5.932605743408203, -8.132617950439453, -3.439037799835205, -6.408945083618164, -6.214000701904297, -6.253025054931641, -7.196908950805664, -6.137367248535156, -5.9246439933776855, -5.150067329406738, -14.354214668273926, -6.692939281463623, -6.136972427368164, -5.812529563903809, -7.652430057525635, -5.394565582275391, -6.63944673538208, -8.335700988769531, -7.0241618156433105, -8.769174575805664, -10.289793014526367, -6.751621723175049, -4.685488700866699, -5.877505302429199, -6.353531837463379, -6.085216522216797, -6.539833068847656, -3.7806382179260254, -6.039687633514404, -4.965370178222656, -6.792719841003418, -5.206519603729248, -5.97259521484375, -3.498868465423584, -3.991544723510742, -5.907118797302246, -4.49295711517334, -7.109764575958252, -6.173468589782715, -4.7868242263793945, -2.725405216217041, -3.6329689025878906, -2.6296534538269043, -7.011931419372559, -3.3747053146362305, -6.040643692016602, -3.725950241088867, -6.4108381271362305, -5.91904354095459, -3.599231481552124, -5.911931037902832, -7.328629016876221, -5.845616817474365, -6.023825645446777, -5.873759746551514, -7.3179779052734375, -5.090173244476318, -4.056668758392334, -9.894113540649414, -6.967588424682617, -2.5072197914123535, -6.24934196472168, -6.327141761779785, -8.704744338989258, -6.595174789428711, -7.194402694702148, -7.670988082885742, -4.923880100250244, -4.877669334411621, -2.9466845989227295, -13.360981941223145, -3.7899131774902344, -4.437223434448242, -3.95900821685791, -6.128233432769775, -3.8728127479553223, -3.6851112842559814, -5.898134231567383, -7.884202480316162, -6.682499408721924, -3.6795167922973633, -5.381014823913574, -1.4612963199615479, -4.383999824523926, -4.290682792663574, -6.580586910247803, -6.870034217834473, -7.065587997436523, -5.778877258300781, -4.91030740737915, -6.279193878173828, -3.993569850921631, -6.698970794677734, -6.165224552154541, -3.374943494796753, -6.908577919006348, -3.7100157737731934, -4.351142883300781, -4.671466827392578, -1.9470943212509155, -4.612847805023193, -5.307448387145996, -0.3964187800884247, -5.2351531982421875, -6.970915794372559, -6.568384647369385, -6.560345649719238, -8.243764877319336, -5.505444526672363, -5.099103927612305, -5.111695766448975, -7.509250640869141, -5.079127788543701, -2.406024932861328, -6.361356735229492, -5.77970027923584, -6.7517619132995605, -6.198969841003418, -4.157378196716309, -6.455765247344971, -2.9104909896850586, -7.155552864074707, -5.330694675445557, -6.548027038574219, -7.872732162475586, -7.515102863311768, -3.3897786140441895, -6.765753269195557, -7.364850997924805, -5.381444931030273, -4.964542388916016, -6.196829795837402, -5.587360858917236, -3.704559803009033, -6.356168270111084, -6.919166564941406, -4.782595634460449, -6.171263217926025, -7.122129440307617, -8.062546730041504, -5.724832534790039, -1.9581769704818726, -4.8544816970825195, -10.70119571685791, -7.779475688934326, -7.079074859619141, -5.188427448272705, -7.053004741668701, -5.04865837097168, -6.566880702972412, -5.1638712882995605, -9.844400405883789, -7.0742597579956055, -3.4162182807922363, -1.5199092626571655, -5.602136611938477, -6.860421180725098, -6.106230735778809, -5.847927093505859, -5.841978549957275, -8.996853828430176, -3.667393207550049, -5.617247581481934, -4.731429576873779, -5.575324058532715, -3.438685655593872, -7.948480606079102, -7.4205098152160645, -9.558191299438477, -7.129662036895752, -6.8573198318481445, -6.677846431732178, -4.587312698364258, -6.677677154541016, -3.9050111770629883, -1.932623267173767, -6.09824275970459, -6.196533679962158, -4.091742992401123, -5.515810966491699, -6.7003889083862305, -6.314610481262207, -3.4075722694396973, -5.364598274230957, -10.347460746765137, -5.1675705909729, -3.889801025390625, -3.902991771697998, -6.33709716796875, -8.859931945800781, -5.858382225036621, -3.3821024894714355, -3.668276309967041, -8.765862464904785, -6.098543167114258, -7.775058746337891, -3.4416608810424805, -4.681358337402344, -4.017243385314941, -7.818873882293701, -7.73930025100708, -5.096132755279541, -8.095141410827637, -6.66575813293457, -14.680741310119629, -8.007964134216309, -14.89671802520752, -6.5270891189575195, -4.6381659507751465, -4.65678071975708, -6.326237678527832, -5.589313507080078, -4.865427017211914, -6.824002742767334, -5.350722789764404, -3.9274661540985107, -6.107260704040527, -6.085626125335693, -5.633184909820557, -7.778066158294678, -5.63978385925293, -5.948347568511963, -8.22216796875, -4.54320764541626, -4.227428436279297, -3.209197759628296, -3.464999198913574, -10.723515510559082, -6.065761566162109, -7.232333183288574, -6.042638301849365, -9.310861587524414, -9.520971298217773, -7.421717166900635, -12.06692886352539, -6.99594783782959, -6.160832405090332, -4.629490375518799, -6.710336208343506, -9.052184104919434, -9.432364463806152, -6.295083999633789, -5.076910018920898, -7.197197914123535, -8.329642295837402, -4.736343860626221, -10.403304100036621, -6.116582870483398, -5.869245529174805, -9.115466117858887, -6.5212531089782715, -4.120579242706299, -7.200994968414307, -4.328104019165039, -3.221182346343994, -1.1767717599868774, -6.915706634521484, -4.956185340881348, -3.9145987033843994, -7.267270088195801, -5.982743263244629, -4.365988254547119, -2.551173686981201, -3.38474702835083, -5.05805778503418, -6.638956069946289, -3.5186526775360107, -9.939120292663574, -8.030887603759766, -10.404229164123535, -2.1856260299682617, -0.8960952162742615, -5.197530269622803, -6.105947017669678, -1.8142127990722656, -6.663523197174072, -5.351478576660156, -6.873155117034912, -10.770729064941406, -7.186065673828125, -5.892858505249023, -5.122623443603516, -2.2793173789978027, -5.031052112579346, -6.850222110748291, -5.780087471008301, -5.276164531707764, -11.598854064941406, -2.5676028728485107, -6.641807556152344, -6.1832075119018555, -5.241640567779541, -6.836892127990723, -4.6782965660095215, -5.881561279296875, -4.713565349578857, -6.9034857749938965, -7.504045486450195, -11.2925386428833, -6.024439334869385, -6.215158462524414, -6.888274669647217, -6.100131034851074, -3.724398136138916, -4.305269241333008, -12.31207275390625, -5.972922325134277, -6.277862071990967, -1.9355794191360474, -6.079087734222412, -6.326342582702637, -5.892220497131348, -5.184318542480469, -5.691593647003174, -9.961673736572266, -4.3788652420043945, -5.834468364715576, -4.598260402679443, -5.469022750854492, -6.487251281738281, -6.340089797973633], \"xaxis\": \"x\", \"y\": [16.239015579223633, 9.87883186340332, 9.293283462524414, 10.264334678649902, 13.6129732131958, 8.92809009552002, -3.3015365600585938, 9.022782325744629, 15.87668514251709, 9.225118637084961, 5.076290130615234, 6.417822360992432, -4.482445240020752, 9.466054916381836, 9.959183692932129, 10.013479232788086, 5.722354412078857, 9.563802719116211, 6.816890239715576, 8.434381484985352, -2.024831533432007, 8.343816757202148, 10.292388916015625, 6.397624492645264, 8.896745681762695, 13.4236478805542, -14.28905200958252, 8.649782180786133, 18.382108688354492, 15.910490036010742, 16.323593139648438, 7.44288969039917, 4.172372341156006, 8.724742889404297, 7.168178558349609, 8.342662811279297, 6.638066291809082, 10.12809944152832, 12.229475975036621, 9.043416023254395, 12.730978012084961, 11.03464412689209, 9.57242488861084, 9.064929008483887, 9.919097900390625, -6.189799785614014, 9.186156272888184, 10.334769248962402, -5.998222351074219, 10.294971466064453, 9.225118637084961, 9.479764938354492, 21.26404571533203, 9.829224586486816, 9.238590240478516, 16.019685745239258, 8.78865909576416, 13.013419151306152, 12.413020133972168, 9.181660652160645, 15.365126609802246, 20.583585739135742, 5.845853328704834, 9.15849494934082, 6.307183265686035, 9.789847373962402, 8.060813903808594, 6.8458333015441895, 12.06108570098877, 4.373469352722168, 12.148893356323242, 5.9777960777282715, 18.33001136779785, 21.023616790771484, 6.666728973388672, 3.900254249572754, 7.943745136260986, 4.369582176208496, 9.840158462524414, 8.442392349243164, 4.433029651641846, 6.139792442321777, 9.473155975341797, 8.457263946533203, 8.948503494262695, 12.621792793273926, 5.198528289794922, 9.320965766906738, 10.168084144592285, 12.579439163208008, 10.59423542022705, 7.889585018157959, 6.383988380432129, 7.402956485748291, 12.099350929260254, 6.754001140594482, 8.375459671020508, 10.386113166809082, 14.635683059692383, 8.78084945678711, 9.561927795410156, 8.31882095336914, 7.0706024169921875, 7.545596122741699, 1.3326799869537354, 4.439743518829346, 6.086792469024658, -2.001756429672241, 9.333488464355469, 10.553299903869629, 6.05690336227417, 8.777409553527832, 8.164777755737305, 12.693754196166992, 9.23939323425293, 5.017022132873535, 11.095670700073242, -13.148374557495117, -11.88614273071289, 6.265042781829834, 14.310396194458008, 11.727073669433594, 9.667458534240723, 12.949819564819336, 7.203037261962891, 8.84060287475586, 6.0462470054626465, 11.56237506866455, 16.764625549316406, 6.44003438949585, 9.071309089660645, 8.264452934265137, 10.131433486938477, 11.947243690490723, 6.235983371734619, 3.5980751514434814, 6.475002288818359, -9.734807014465332, 6.720171928405762, 9.357840538024902, -14.805140495300293, 8.97314739227295, 10.236838340759277, 7.906766414642334, 14.17579460144043, 6.828493595123291, -17.026870727539062, 8.005861282348633, 4.2589802742004395, 9.858840942382812, 11.154115676879883, 18.62483787536621, 12.942010879516602, 9.053746223449707, 7.921640396118164, 4.946756839752197, 8.742110252380371, 7.69606351852417, -0.41959866881370544, 14.038552284240723, 16.30198097229004, 4.701094150543213, 9.621297836303711, 10.805150032043457, 7.654545783996582, 6.7101054191589355, 9.971597671508789, 7.736996650695801, 7.017632007598877, 7.6906514167785645, 9.204334259033203, 11.440723419189453, 10.601483345031738, 10.481789588928223, 9.62207317352295, 8.174371719360352, 9.707371711730957, 7.344621658325195, 6.6360883712768555, 20.361360549926758, 9.470720291137695, 7.024521827697754, 10.851259231567383, 8.596080780029297, 8.354707717895508, 7.036303520202637, 3.4234085083007812, 8.990559577941895, 5.735283851623535, 2.97773814201355, 6.779953479766846, -13.430882453918457, 10.435193061828613, 11.05788803100586, -15.056988716125488, 17.92131996154785, 6.660876274108887, 14.808172225952148, 6.625958442687988, 8.159159660339355, 5.5272393226623535, 8.306714057922363, -14.853253364562988, 10.004863739013672, 15.576144218444824, 9.030228614807129, 9.778274536132812, 14.788750648498535, 9.899056434631348, 6.266420841217041, 1.6647003889083862, 7.65909481048584, 9.857329368591309, 12.108451843261719, 7.918731689453125, 16.34935760498047, 8.184219360351562, 0.7928987741470337, 7.9237871170043945, 2.7647292613983154, 7.196480751037598, 5.820666790008545, 4.7430419921875, 9.191009521484375, -1.4254560470581055, 9.629314422607422, 5.169511318206787, 5.606250286102295, 10.051399230957031, 1.3372474908828735, 9.178301811218262, 6.442184925079346, 6.372224807739258, 9.894572257995605, -0.45099303126335144, 12.860397338867188, 7.309098720550537, 9.889357566833496, 9.221240997314453, -3.00981068611145, 7.213091850280762, 2.5120620727539062, 9.104303359985352, 5.553502082824707, 3.720583438873291, 16.767658233642578, 11.691391944885254, 7.504466533660889, -15.318485260009766, 10.103314399719238, 6.056787967681885, 11.169646263122559, 2.26979398727417, 10.875870704650879, 1.905498743057251, 7.534046173095703, 8.645058631896973, -14.5329008102417, 9.900106430053711, 6.097955226898193, 4.968489646911621, 5.643939971923828, 10.803627967834473, 16.63246726989746, 8.85295295715332, 22.252193450927734, 9.951858520507812, -0.816288948059082, 3.0126876831054688, 6.0296454429626465, 10.525700569152832, 15.980423927307129, 11.010136604309082, 9.82774543762207, 15.775116920471191, 9.876418113708496, 3.2185146808624268, 14.799668312072754, 9.17592716217041, 10.226404190063477, 10.003486633300781, 9.515323638916016, 17.244314193725586, 10.696354866027832, 12.651843070983887, 9.075078010559082, 6.32908296585083, 8.837040901184082, 10.076160430908203, 14.89986515045166, -10.825115203857422, 9.373128890991211, 7.273970603942871, 5.80289888381958, 9.357229232788086, 8.908615112304688, 6.7742204666137695, 6.519322395324707, 7.586106777191162, 11.633827209472656, 7.985642433166504, 8.903901100158691, 8.736526489257812, 9.46205997467041, 8.258499145507812, 3.4106037616729736, -10.561955451965332, 8.189861297607422, 2.268037796020508, -9.874858856201172, 8.928597450256348, 15.92687702178955, 8.391008377075195, 1.932103157043457, 11.279869079589844, 14.418456077575684, 7.635709285736084, 3.6467385292053223, 10.07794189453125, 9.800247192382812, 7.996946811676025, 7.551168918609619, 11.176351547241211, 3.5798003673553467, 12.735589027404785, 8.21435546875, 8.253419876098633, 9.510111808776855, 8.145698547363281, 8.49530029296875, 11.368691444396973, 9.439382553100586, 12.821303367614746, 10.63906192779541, 11.891336441040039, 9.264620780944824, 9.49379825592041, 7.042843341827393, 6.143839359283447, 6.092485427856445, 3.0654990673065186, 8.276905059814453, 9.061990737915039, -12.105345726013184, 11.028794288635254, 9.144237518310547, 8.223029136657715, 7.274144172668457, 16.71571922302246, 17.90129852294922, 9.384581565856934, -1.6557915210723877, 6.676053047180176, 13.096162796020508, 16.67489242553711, 10.38107681274414], \"yaxis\": \"y\"}],\n",
              "                        {\"legend\": {\"tracegroupgap\": 0}, \"margin\": {\"t\": 60}, \"template\": {\"data\": {\"bar\": [{\"error_x\": {\"color\": \"#2a3f5f\"}, \"error_y\": {\"color\": \"#2a3f5f\"}, \"marker\": {\"line\": {\"color\": \"#E5ECF6\", \"width\": 0.5}}, \"type\": \"bar\"}], \"barpolar\": [{\"marker\": {\"line\": {\"color\": \"#E5ECF6\", \"width\": 0.5}}, \"type\": \"barpolar\"}], \"carpet\": [{\"aaxis\": {\"endlinecolor\": \"#2a3f5f\", \"gridcolor\": \"white\", \"linecolor\": \"white\", \"minorgridcolor\": \"white\", \"startlinecolor\": \"#2a3f5f\"}, \"baxis\": {\"endlinecolor\": \"#2a3f5f\", \"gridcolor\": \"white\", \"linecolor\": \"white\", \"minorgridcolor\": \"white\", \"startlinecolor\": \"#2a3f5f\"}, \"type\": \"carpet\"}], \"choropleth\": [{\"colorbar\": {\"outlinewidth\": 0, \"ticks\": \"\"}, \"type\": \"choropleth\"}], \"contour\": [{\"colorbar\": {\"outlinewidth\": 0, \"ticks\": \"\"}, \"colorscale\": [[0.0, \"#0d0887\"], [0.1111111111111111, \"#46039f\"], [0.2222222222222222, \"#7201a8\"], [0.3333333333333333, \"#9c179e\"], [0.4444444444444444, \"#bd3786\"], [0.5555555555555556, \"#d8576b\"], [0.6666666666666666, \"#ed7953\"], [0.7777777777777778, \"#fb9f3a\"], [0.8888888888888888, \"#fdca26\"], [1.0, \"#f0f921\"]], \"type\": \"contour\"}], \"contourcarpet\": [{\"colorbar\": {\"outlinewidth\": 0, \"ticks\": \"\"}, \"type\": \"contourcarpet\"}], \"heatmap\": [{\"colorbar\": {\"outlinewidth\": 0, \"ticks\": \"\"}, \"colorscale\": [[0.0, \"#0d0887\"], [0.1111111111111111, \"#46039f\"], [0.2222222222222222, \"#7201a8\"], [0.3333333333333333, \"#9c179e\"], [0.4444444444444444, \"#bd3786\"], [0.5555555555555556, \"#d8576b\"], [0.6666666666666666, \"#ed7953\"], [0.7777777777777778, \"#fb9f3a\"], [0.8888888888888888, \"#fdca26\"], [1.0, \"#f0f921\"]], \"type\": \"heatmap\"}], \"heatmapgl\": [{\"colorbar\": {\"outlinewidth\": 0, \"ticks\": \"\"}, \"colorscale\": [[0.0, \"#0d0887\"], [0.1111111111111111, \"#46039f\"], [0.2222222222222222, \"#7201a8\"], [0.3333333333333333, \"#9c179e\"], [0.4444444444444444, \"#bd3786\"], [0.5555555555555556, \"#d8576b\"], [0.6666666666666666, \"#ed7953\"], [0.7777777777777778, \"#fb9f3a\"], [0.8888888888888888, \"#fdca26\"], [1.0, \"#f0f921\"]], \"type\": \"heatmapgl\"}], \"histogram\": [{\"marker\": {\"colorbar\": {\"outlinewidth\": 0, \"ticks\": \"\"}}, \"type\": \"histogram\"}], \"histogram2d\": [{\"colorbar\": {\"outlinewidth\": 0, \"ticks\": \"\"}, \"colorscale\": [[0.0, \"#0d0887\"], [0.1111111111111111, \"#46039f\"], [0.2222222222222222, \"#7201a8\"], [0.3333333333333333, \"#9c179e\"], [0.4444444444444444, \"#bd3786\"], [0.5555555555555556, \"#d8576b\"], [0.6666666666666666, \"#ed7953\"], [0.7777777777777778, \"#fb9f3a\"], [0.8888888888888888, \"#fdca26\"], [1.0, \"#f0f921\"]], \"type\": \"histogram2d\"}], \"histogram2dcontour\": [{\"colorbar\": {\"outlinewidth\": 0, \"ticks\": \"\"}, \"colorscale\": [[0.0, \"#0d0887\"], [0.1111111111111111, \"#46039f\"], [0.2222222222222222, \"#7201a8\"], [0.3333333333333333, \"#9c179e\"], [0.4444444444444444, \"#bd3786\"], [0.5555555555555556, \"#d8576b\"], [0.6666666666666666, \"#ed7953\"], [0.7777777777777778, \"#fb9f3a\"], [0.8888888888888888, \"#fdca26\"], [1.0, \"#f0f921\"]], \"type\": \"histogram2dcontour\"}], \"mesh3d\": [{\"colorbar\": {\"outlinewidth\": 0, \"ticks\": \"\"}, \"type\": \"mesh3d\"}], \"parcoords\": [{\"line\": {\"colorbar\": {\"outlinewidth\": 0, \"ticks\": \"\"}}, \"type\": \"parcoords\"}], \"pie\": [{\"automargin\": true, \"type\": \"pie\"}], \"scatter\": [{\"marker\": {\"colorbar\": {\"outlinewidth\": 0, \"ticks\": \"\"}}, \"type\": \"scatter\"}], \"scatter3d\": [{\"line\": {\"colorbar\": {\"outlinewidth\": 0, \"ticks\": \"\"}}, \"marker\": {\"colorbar\": {\"outlinewidth\": 0, \"ticks\": \"\"}}, \"type\": \"scatter3d\"}], \"scattercarpet\": [{\"marker\": {\"colorbar\": {\"outlinewidth\": 0, \"ticks\": \"\"}}, \"type\": \"scattercarpet\"}], \"scattergeo\": [{\"marker\": {\"colorbar\": {\"outlinewidth\": 0, \"ticks\": \"\"}}, \"type\": \"scattergeo\"}], \"scattergl\": [{\"marker\": {\"colorbar\": {\"outlinewidth\": 0, \"ticks\": \"\"}}, \"type\": \"scattergl\"}], \"scattermapbox\": [{\"marker\": {\"colorbar\": {\"outlinewidth\": 0, \"ticks\": \"\"}}, \"type\": \"scattermapbox\"}], \"scatterpolar\": [{\"marker\": {\"colorbar\": {\"outlinewidth\": 0, \"ticks\": \"\"}}, \"type\": \"scatterpolar\"}], \"scatterpolargl\": [{\"marker\": {\"colorbar\": {\"outlinewidth\": 0, \"ticks\": \"\"}}, \"type\": \"scatterpolargl\"}], \"scatterternary\": [{\"marker\": {\"colorbar\": {\"outlinewidth\": 0, \"ticks\": \"\"}}, \"type\": \"scatterternary\"}], \"surface\": [{\"colorbar\": {\"outlinewidth\": 0, \"ticks\": \"\"}, \"colorscale\": [[0.0, \"#0d0887\"], [0.1111111111111111, \"#46039f\"], [0.2222222222222222, \"#7201a8\"], [0.3333333333333333, \"#9c179e\"], [0.4444444444444444, \"#bd3786\"], [0.5555555555555556, \"#d8576b\"], [0.6666666666666666, \"#ed7953\"], [0.7777777777777778, \"#fb9f3a\"], [0.8888888888888888, \"#fdca26\"], [1.0, \"#f0f921\"]], \"type\": \"surface\"}], \"table\": [{\"cells\": {\"fill\": {\"color\": \"#EBF0F8\"}, \"line\": {\"color\": \"white\"}}, \"header\": {\"fill\": {\"color\": \"#C8D4E3\"}, \"line\": {\"color\": \"white\"}}, \"type\": \"table\"}]}, \"layout\": {\"annotationdefaults\": {\"arrowcolor\": \"#2a3f5f\", \"arrowhead\": 0, \"arrowwidth\": 1}, \"coloraxis\": {\"colorbar\": {\"outlinewidth\": 0, \"ticks\": \"\"}}, \"colorscale\": {\"diverging\": [[0, \"#8e0152\"], [0.1, \"#c51b7d\"], [0.2, \"#de77ae\"], [0.3, \"#f1b6da\"], [0.4, \"#fde0ef\"], [0.5, \"#f7f7f7\"], [0.6, \"#e6f5d0\"], [0.7, \"#b8e186\"], [0.8, \"#7fbc41\"], [0.9, \"#4d9221\"], [1, \"#276419\"]], \"sequential\": [[0.0, \"#0d0887\"], [0.1111111111111111, \"#46039f\"], [0.2222222222222222, \"#7201a8\"], [0.3333333333333333, \"#9c179e\"], [0.4444444444444444, \"#bd3786\"], [0.5555555555555556, \"#d8576b\"], [0.6666666666666666, \"#ed7953\"], [0.7777777777777778, \"#fb9f3a\"], [0.8888888888888888, \"#fdca26\"], [1.0, \"#f0f921\"]], \"sequentialminus\": [[0.0, \"#0d0887\"], [0.1111111111111111, \"#46039f\"], [0.2222222222222222, \"#7201a8\"], [0.3333333333333333, \"#9c179e\"], [0.4444444444444444, \"#bd3786\"], [0.5555555555555556, \"#d8576b\"], [0.6666666666666666, \"#ed7953\"], [0.7777777777777778, \"#fb9f3a\"], [0.8888888888888888, \"#fdca26\"], [1.0, \"#f0f921\"]]}, \"colorway\": [\"#636efa\", \"#EF553B\", \"#00cc96\", \"#ab63fa\", \"#FFA15A\", \"#19d3f3\", \"#FF6692\", \"#B6E880\", \"#FF97FF\", \"#FECB52\"], \"font\": {\"color\": \"#2a3f5f\"}, \"geo\": {\"bgcolor\": \"white\", \"lakecolor\": \"white\", \"landcolor\": \"#E5ECF6\", \"showlakes\": true, \"showland\": true, \"subunitcolor\": \"white\"}, \"hoverlabel\": {\"align\": \"left\"}, \"hovermode\": \"closest\", \"mapbox\": {\"style\": \"light\"}, \"paper_bgcolor\": \"white\", \"plot_bgcolor\": \"#E5ECF6\", \"polar\": {\"angularaxis\": {\"gridcolor\": \"white\", \"linecolor\": \"white\", \"ticks\": \"\"}, \"bgcolor\": \"#E5ECF6\", \"radialaxis\": {\"gridcolor\": \"white\", \"linecolor\": \"white\", \"ticks\": \"\"}}, \"scene\": {\"xaxis\": {\"backgroundcolor\": \"#E5ECF6\", \"gridcolor\": \"white\", \"gridwidth\": 2, \"linecolor\": \"white\", \"showbackground\": true, \"ticks\": \"\", \"zerolinecolor\": \"white\"}, \"yaxis\": {\"backgroundcolor\": \"#E5ECF6\", \"gridcolor\": \"white\", \"gridwidth\": 2, \"linecolor\": \"white\", \"showbackground\": true, \"ticks\": \"\", \"zerolinecolor\": \"white\"}, \"zaxis\": {\"backgroundcolor\": \"#E5ECF6\", \"gridcolor\": \"white\", \"gridwidth\": 2, \"linecolor\": \"white\", \"showbackground\": true, \"ticks\": \"\", \"zerolinecolor\": \"white\"}}, \"shapedefaults\": {\"line\": {\"color\": \"#2a3f5f\"}}, \"ternary\": {\"aaxis\": {\"gridcolor\": \"white\", \"linecolor\": \"white\", \"ticks\": \"\"}, \"baxis\": {\"gridcolor\": \"white\", \"linecolor\": \"white\", \"ticks\": \"\"}, \"bgcolor\": \"#E5ECF6\", \"caxis\": {\"gridcolor\": \"white\", \"linecolor\": \"white\", \"ticks\": \"\"}}, \"title\": {\"x\": 0.05}, \"xaxis\": {\"automargin\": true, \"gridcolor\": \"white\", \"linecolor\": \"white\", \"ticks\": \"\", \"title\": {\"standoff\": 15}, \"zerolinecolor\": \"white\", \"zerolinewidth\": 2}, \"yaxis\": {\"automargin\": true, \"gridcolor\": \"white\", \"linecolor\": \"white\", \"ticks\": \"\", \"title\": {\"standoff\": 15}, \"zerolinecolor\": \"white\", \"zerolinewidth\": 2}}}, \"xaxis\": {\"anchor\": \"y\", \"domain\": [0.0, 1.0], \"title\": {\"text\": \"Enc. Variable 0\"}}, \"yaxis\": {\"anchor\": \"x\", \"domain\": [0.0, 1.0], \"title\": {\"text\": \"Enc. Variable 1\"}}},\n",
              "                        {\"responsive\": true}\n",
              "                    ).then(function(){\n",
              "                            \n",
              "var gd = document.getElementById('fa899fa0-048c-4baf-ab70-d87a6881d57a');\n",
              "var x = new MutationObserver(function (mutations, observer) {{\n",
              "        var display = window.getComputedStyle(gd).display;\n",
              "        if (!display || display === 'none') {{\n",
              "            console.log([gd, 'removed!']);\n",
              "            Plotly.purge(gd);\n",
              "            observer.disconnect();\n",
              "        }}\n",
              "}});\n",
              "\n",
              "// Listen for the removal of the full notebook cells\n",
              "var notebookContainer = gd.closest('#notebook-container');\n",
              "if (notebookContainer) {{\n",
              "    x.observe(notebookContainer, {childList: true});\n",
              "}}\n",
              "\n",
              "// Listen for the clearing of the current output cell\n",
              "var outputEl = gd.closest('.output');\n",
              "if (outputEl) {{\n",
              "    x.observe(outputEl, {childList: true});\n",
              "}}\n",
              "\n",
              "                        })\n",
              "                };\n",
              "                \n",
              "            </script>\n",
              "        </div>\n",
              "</body>\n",
              "</html>"
            ]
          },
          "metadata": {
            "tags": []
          }
        }
      ]
    },
    {
      "cell_type": "markdown",
      "metadata": {
        "id": "5xPkgdtztqOo"
      },
      "source": [
        "As you can see from the graph, even if we never used the labels (i.e. the actual digit written in the image) during the training, the network has been able to clusterize quite well the different classes."
      ]
    },
    {
      "cell_type": "markdown",
      "metadata": {
        "id": "aDe6oDMNqgRZ"
      },
      "source": [
        "> **NOTE**\n",
        "> \n",
        "> The encoded space may have many more variables. In this case you can still have a visual representation of the encoded space by applying a dimensionality reduction method, such as:\n",
        "- [Princiapal Component Analysis (PCA)](https://scikit-learn.org/stable/modules/generated/sklearn.decomposition.PCA.html)\n",
        "- [t-distributed Stochastic Neighbor Embedding (t-SNE)](https://scikit-learn.org/stable/modules/generated/sklearn.manifold.TSNE.html)\n",
        "\n",
        "\n"
      ]
    },
    {
      "cell_type": "markdown",
      "metadata": {
        "id": "Jg5OgDTPtmWQ"
      },
      "source": [
        "While the encoder is able to map the image to the encoded space, the decoder can do the opposite, generating an image given the corresponding latent space values.\n",
        "\n",
        "The latent space can also be manually customized, like in the following example, where we generate images with the decoder by providing custom latent space variables."
      ]
    },
    {
      "cell_type": "code",
      "metadata": {
        "id": "uHxpafEzg01Q",
        "colab": {
          "base_uri": "https://localhost:8080/",
          "height": 320
        },
        "outputId": "2a176dba-7839-4965-bdd0-2c8bb2a00f18"
      },
      "source": [
        "if encoded_space_dim >0:\n",
        "    # Generate a custom sample\n",
        "    custom_encoded_sample = [-5, -10.0, 0]\n",
        "    encoded_value = torch.tensor(custom_encoded_sample).float().unsqueeze(0).to(device)\n",
        "\n",
        "    # Decode sample\n",
        "    decoder.eval()\n",
        "    with torch.no_grad():\n",
        "        generated_img  = decoder(encoded_value)\n",
        "\n",
        "    plt.figure(figsize=(6,5))\n",
        "    plt.imshow(generated_img.squeeze().cpu().numpy(), cmap='gray_r')\n",
        "    plt.show()"
      ],
      "execution_count": null,
      "outputs": [
        {
          "output_type": "display_data",
          "data": {
            "image/png": "[encoded data removed]",
            "text/plain": [
              "<Figure size 432x360 with 1 Axes>"
            ]
          },
          "metadata": {
            "tags": [],
            "needs_background": "light"
          }
        }
      ]
    },
    {
      "cell_type": "code",
      "metadata": {
        "id": "KQbcChRbVRlt"
      },
      "source": [
        ""
      ],
      "execution_count": null,
      "outputs": []
    }
  ]
}